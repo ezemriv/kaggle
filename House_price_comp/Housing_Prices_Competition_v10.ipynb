{
 "cells": [
  {
   "cell_type": "markdown",
   "id": "f0c374c7",
   "metadata": {
    "_cell_guid": "452a2b7e-9f6a-4958-9c21-f9f394952c65",
    "_uuid": "490962e1-ef2f-4117-b2ea-fb003ce69da3",
    "papermill": {
     "duration": 0.019176,
     "end_time": "2024-05-15T12:38:52.000355",
     "exception": false,
     "start_time": "2024-05-15T12:38:51.981179",
     "status": "completed"
    },
    "tags": []
   },
   "source": [
    "**This notebook is an exercise in the [Introduction to Machine Learning](https://www.kaggle.com/learn/intro-to-machine-learning) course.  You can reference the tutorial at [this link](https://www.kaggle.com/alexisbcook/machine-learning-competitions).**\n",
    "\n",
    "---"
   ]
  },
  {
   "cell_type": "markdown",
   "id": "3ccfcf86",
   "metadata": {
    "_cell_guid": "1d99db85-360c-4a8c-bafa-ee31dd01e923",
    "_uuid": "08bc1a9f-bbc8-4850-a553-61f906cc3da5",
    "papermill": {
     "duration": 0.018937,
     "end_time": "2024-05-15T12:38:52.037749",
     "exception": false,
     "start_time": "2024-05-15T12:38:52.018812",
     "status": "completed"
    },
    "tags": []
   },
   "source": [
    "# Introduction\n",
    "\n",
    "In this exercise, you will create and submit predictions for a Kaggle competition. You can then improve your model (e.g. by adding features) to apply what you've learned and move up the leaderboard.\n",
    "\n",
    "Begin by running the code cell below to set up code checking and the filepaths for the dataset."
   ]
  },
  {
   "cell_type": "code",
   "execution_count": 1,
   "id": "b78ba836",
   "metadata": {
    "_cell_guid": "2963a32b-b930-476a-9c35-71b7504315fe",
    "_uuid": "fb03e0d3-d5dd-49a4-86b7-6825222d3bed",
    "collapsed": false,
    "execution": {
     "iopub.execute_input": "2024-05-15T12:38:52.078284Z",
     "iopub.status.busy": "2024-05-15T12:38:52.077762Z",
     "iopub.status.idle": "2024-05-15T12:38:53.059757Z",
     "shell.execute_reply": "2024-05-15T12:38:53.058484Z"
    },
    "jupyter": {
     "outputs_hidden": false
    },
    "papermill": {
     "duration": 1.00616,
     "end_time": "2024-05-15T12:38:53.062679",
     "exception": false,
     "start_time": "2024-05-15T12:38:52.056519",
     "status": "completed"
    },
    "tags": []
   },
   "outputs": [],
   "source": [
    "# Set up code checking\n",
    "from learntools.core import binder\n",
    "binder.bind(globals())\n",
    "from learntools.machine_learning.ex7 import *\n",
    "\n",
    "# Set up filepaths\n",
    "import os\n",
    "if not os.path.exists(\"../input/train.csv\"):\n",
    "    os.symlink(\"../input/home-data-for-ml-course/train.csv\", \"../input/train.csv\")  \n",
    "    os.symlink(\"../input/home-data-for-ml-course/test.csv\", \"../input/test.csv\")"
   ]
  },
  {
   "cell_type": "markdown",
   "id": "9ac0c353",
   "metadata": {
    "_cell_guid": "17f01118-6cf2-4ee0-a0e7-4808452d897c",
    "_uuid": "a970dd95-a1af-4129-a89d-cd9f6c2faf74",
    "papermill": {
     "duration": 0.018008,
     "end_time": "2024-05-15T12:38:53.099363",
     "exception": false,
     "start_time": "2024-05-15T12:38:53.081355",
     "status": "completed"
    },
    "tags": []
   },
   "source": [
    "Here's some of the code you've written so far. Start by running it again."
   ]
  },
  {
   "cell_type": "code",
   "execution_count": 2,
   "id": "a69e2aad",
   "metadata": {
    "_cell_guid": "0995f08d-9225-4418-ba75-7268260942bd",
    "_uuid": "c6e97329-59b3-44d3-8ad6-30c26e587731",
    "collapsed": false,
    "execution": {
     "iopub.execute_input": "2024-05-15T12:38:53.137993Z",
     "iopub.status.busy": "2024-05-15T12:38:53.137407Z",
     "iopub.status.idle": "2024-05-15T12:38:55.431317Z",
     "shell.execute_reply": "2024-05-15T12:38:55.430215Z"
    },
    "jupyter": {
     "outputs_hidden": false
    },
    "papermill": {
     "duration": 2.316447,
     "end_time": "2024-05-15T12:38:55.434087",
     "exception": false,
     "start_time": "2024-05-15T12:38:53.117640",
     "status": "completed"
    },
    "tags": []
   },
   "outputs": [],
   "source": [
    "# Import helpful libraries\n",
    "import pandas as pd\n",
    "from sklearn.ensemble import RandomForestRegressor\n",
    "from sklearn.metrics import mean_absolute_error\n",
    "from sklearn.model_selection import train_test_split\n",
    "from category_encoders import TargetEncoder\n",
    "\n",
    "\n",
    "# Load the data, and separate the target\n",
    "iowa_file_path = '../input/train.csv'\n",
    "home_data = pd.read_csv(iowa_file_path)"
   ]
  },
  {
   "cell_type": "code",
   "execution_count": 3,
   "id": "83e7834f",
   "metadata": {
    "execution": {
     "iopub.execute_input": "2024-05-15T12:38:55.472595Z",
     "iopub.status.busy": "2024-05-15T12:38:55.472186Z",
     "iopub.status.idle": "2024-05-15T12:38:55.512794Z",
     "shell.execute_reply": "2024-05-15T12:38:55.511820Z"
    },
    "papermill": {
     "duration": 0.063151,
     "end_time": "2024-05-15T12:38:55.515482",
     "exception": false,
     "start_time": "2024-05-15T12:38:55.452331",
     "status": "completed"
    },
    "tags": []
   },
   "outputs": [],
   "source": [
    "# path to file you will use for predictions\n",
    "test_data_path = '../input/test.csv'\n",
    "\n",
    "# read test data file using pandas\n",
    "test_data = pd.read_csv(test_data_path)"
   ]
  },
  {
   "cell_type": "markdown",
   "id": "400aadee",
   "metadata": {
    "papermill": {
     "duration": 0.017729,
     "end_time": "2024-05-15T12:38:55.551558",
     "exception": false,
     "start_time": "2024-05-15T12:38:55.533829",
     "status": "completed"
    },
    "tags": []
   },
   "source": [
    "# Results default model\n",
    "\n",
    "First 15 predictions:\n",
    "\n",
    "[122657.0,\n",
    " 156789.0,\n",
    " 182959.0,\n",
    " 178102.0,\n",
    " 189049.0,\n",
    " 180979.0,\n",
    " 172797.0,\n",
    " 173717.0,\n",
    " 187535.0,\n",
    " 116172.0,\n",
    " 190798.0,\n",
    " 93823.0,\n",
    " 89249.0,\n",
    " 145111.0,\n",
    " 124696.0]\n",
    " \n",
    "Validation MAE for DEFAULT Random Forest Model: **21,857**\n",
    "\n"
   ]
  },
  {
   "cell_type": "markdown",
   "id": "13438fba",
   "metadata": {
    "_cell_guid": "64e474bc-2841-4727-b74c-68433c750bb9",
    "_uuid": "a37f24e8-3ac5-470c-abc1-ebf0db8c2a86",
    "papermill": {
     "duration": 0.017776,
     "end_time": "2024-05-15T12:38:55.587375",
     "exception": false,
     "start_time": "2024-05-15T12:38:55.569599",
     "status": "completed"
    },
    "tags": []
   },
   "source": [
    "# Model optimization\n",
    "\n",
    "· Will clean the dataset, hot-code categorical features, scale numerical features, and train a new model"
   ]
  },
  {
   "cell_type": "markdown",
   "id": "138c7f2e",
   "metadata": {
    "papermill": {
     "duration": 0.017761,
     "end_time": "2024-05-15T12:38:55.623294",
     "exception": false,
     "start_time": "2024-05-15T12:38:55.605533",
     "status": "completed"
    },
    "tags": []
   },
   "source": [
    "## Cleaning dataset"
   ]
  },
  {
   "cell_type": "code",
   "execution_count": 4,
   "id": "345c2d28",
   "metadata": {
    "execution": {
     "iopub.execute_input": "2024-05-15T12:38:55.662113Z",
     "iopub.status.busy": "2024-05-15T12:38:55.660867Z",
     "iopub.status.idle": "2024-05-15T12:38:55.666528Z",
     "shell.execute_reply": "2024-05-15T12:38:55.665313Z"
    },
    "papermill": {
     "duration": 0.027498,
     "end_time": "2024-05-15T12:38:55.668970",
     "exception": false,
     "start_time": "2024-05-15T12:38:55.641472",
     "status": "completed"
    },
    "tags": []
   },
   "outputs": [],
   "source": [
    "import pandas as pd\n",
    "import numpy as np"
   ]
  },
  {
   "cell_type": "code",
   "execution_count": 5,
   "id": "90a674e0",
   "metadata": {
    "execution": {
     "iopub.execute_input": "2024-05-15T12:38:55.706484Z",
     "iopub.status.busy": "2024-05-15T12:38:55.706074Z",
     "iopub.status.idle": "2024-05-15T12:38:55.711462Z",
     "shell.execute_reply": "2024-05-15T12:38:55.710397Z"
    },
    "papermill": {
     "duration": 0.02694,
     "end_time": "2024-05-15T12:38:55.713901",
     "exception": false,
     "start_time": "2024-05-15T12:38:55.686961",
     "status": "completed"
    },
    "tags": []
   },
   "outputs": [],
   "source": [
    "pd.set_option('display.max_rows', None)"
   ]
  },
  {
   "cell_type": "code",
   "execution_count": 6,
   "id": "8509e80d",
   "metadata": {
    "execution": {
     "iopub.execute_input": "2024-05-15T12:38:55.752902Z",
     "iopub.status.busy": "2024-05-15T12:38:55.752471Z",
     "iopub.status.idle": "2024-05-15T12:38:55.768102Z",
     "shell.execute_reply": "2024-05-15T12:38:55.767139Z"
    },
    "papermill": {
     "duration": 0.038159,
     "end_time": "2024-05-15T12:38:55.770813",
     "exception": false,
     "start_time": "2024-05-15T12:38:55.732654",
     "status": "completed"
    },
    "scrolled": true,
    "tags": []
   },
   "outputs": [],
   "source": [
    "home_data2 = home_data.copy()\n",
    "home_data2.set_index('Id', inplace=True)"
   ]
  },
  {
   "cell_type": "code",
   "execution_count": 7,
   "id": "9e502f26",
   "metadata": {
    "execution": {
     "iopub.execute_input": "2024-05-15T12:38:55.808895Z",
     "iopub.status.busy": "2024-05-15T12:38:55.808481Z",
     "iopub.status.idle": "2024-05-15T12:38:55.840088Z",
     "shell.execute_reply": "2024-05-15T12:38:55.838891Z"
    },
    "papermill": {
     "duration": 0.054069,
     "end_time": "2024-05-15T12:38:55.842879",
     "exception": false,
     "start_time": "2024-05-15T12:38:55.788810",
     "status": "completed"
    },
    "tags": []
   },
   "outputs": [],
   "source": [
    "#Drop columns\n",
    "threshold = 200\n",
    "\n",
    "for col in home_data2.columns:\n",
    "    if home_data2[col].isnull().sum() >= threshold:\n",
    "        del(home_data2[col])"
   ]
  },
  {
   "cell_type": "code",
   "execution_count": 8,
   "id": "640548c7",
   "metadata": {
    "execution": {
     "iopub.execute_input": "2024-05-15T12:38:55.881085Z",
     "iopub.status.busy": "2024-05-15T12:38:55.880105Z",
     "iopub.status.idle": "2024-05-15T12:38:55.927831Z",
     "shell.execute_reply": "2024-05-15T12:38:55.926718Z"
    },
    "papermill": {
     "duration": 0.069742,
     "end_time": "2024-05-15T12:38:55.930530",
     "exception": false,
     "start_time": "2024-05-15T12:38:55.860788",
     "status": "completed"
    },
    "tags": []
   },
   "outputs": [
    {
     "data": {
      "text/html": [
       "<div>\n",
       "<style scoped>\n",
       "    .dataframe tbody tr th:only-of-type {\n",
       "        vertical-align: middle;\n",
       "    }\n",
       "\n",
       "    .dataframe tbody tr th {\n",
       "        vertical-align: top;\n",
       "    }\n",
       "\n",
       "    .dataframe thead th {\n",
       "        text-align: right;\n",
       "    }\n",
       "</style>\n",
       "<table border=\"1\" class=\"dataframe\">\n",
       "  <thead>\n",
       "    <tr style=\"text-align: right;\">\n",
       "      <th></th>\n",
       "      <th>MasVnrArea</th>\n",
       "      <th>BsmtQual</th>\n",
       "      <th>BsmtCond</th>\n",
       "      <th>BsmtExposure</th>\n",
       "      <th>BsmtFinType1</th>\n",
       "      <th>BsmtFinType2</th>\n",
       "      <th>Electrical</th>\n",
       "      <th>GarageType</th>\n",
       "      <th>GarageYrBlt</th>\n",
       "      <th>GarageFinish</th>\n",
       "      <th>GarageQual</th>\n",
       "      <th>GarageCond</th>\n",
       "    </tr>\n",
       "    <tr>\n",
       "      <th>Id</th>\n",
       "      <th></th>\n",
       "      <th></th>\n",
       "      <th></th>\n",
       "      <th></th>\n",
       "      <th></th>\n",
       "      <th></th>\n",
       "      <th></th>\n",
       "      <th></th>\n",
       "      <th></th>\n",
       "      <th></th>\n",
       "      <th></th>\n",
       "      <th></th>\n",
       "    </tr>\n",
       "  </thead>\n",
       "  <tbody>\n",
       "    <tr>\n",
       "      <th>1</th>\n",
       "      <td>196.0</td>\n",
       "      <td>Gd</td>\n",
       "      <td>TA</td>\n",
       "      <td>No</td>\n",
       "      <td>GLQ</td>\n",
       "      <td>Unf</td>\n",
       "      <td>SBrkr</td>\n",
       "      <td>Attchd</td>\n",
       "      <td>2003.0</td>\n",
       "      <td>RFn</td>\n",
       "      <td>TA</td>\n",
       "      <td>TA</td>\n",
       "    </tr>\n",
       "    <tr>\n",
       "      <th>2</th>\n",
       "      <td>0.0</td>\n",
       "      <td>Gd</td>\n",
       "      <td>TA</td>\n",
       "      <td>Gd</td>\n",
       "      <td>ALQ</td>\n",
       "      <td>Unf</td>\n",
       "      <td>SBrkr</td>\n",
       "      <td>Attchd</td>\n",
       "      <td>1976.0</td>\n",
       "      <td>RFn</td>\n",
       "      <td>TA</td>\n",
       "      <td>TA</td>\n",
       "    </tr>\n",
       "    <tr>\n",
       "      <th>3</th>\n",
       "      <td>162.0</td>\n",
       "      <td>Gd</td>\n",
       "      <td>TA</td>\n",
       "      <td>Mn</td>\n",
       "      <td>GLQ</td>\n",
       "      <td>Unf</td>\n",
       "      <td>SBrkr</td>\n",
       "      <td>Attchd</td>\n",
       "      <td>2001.0</td>\n",
       "      <td>RFn</td>\n",
       "      <td>TA</td>\n",
       "      <td>TA</td>\n",
       "    </tr>\n",
       "    <tr>\n",
       "      <th>4</th>\n",
       "      <td>0.0</td>\n",
       "      <td>TA</td>\n",
       "      <td>Gd</td>\n",
       "      <td>No</td>\n",
       "      <td>ALQ</td>\n",
       "      <td>Unf</td>\n",
       "      <td>SBrkr</td>\n",
       "      <td>Detchd</td>\n",
       "      <td>1998.0</td>\n",
       "      <td>Unf</td>\n",
       "      <td>TA</td>\n",
       "      <td>TA</td>\n",
       "    </tr>\n",
       "    <tr>\n",
       "      <th>5</th>\n",
       "      <td>350.0</td>\n",
       "      <td>Gd</td>\n",
       "      <td>TA</td>\n",
       "      <td>Av</td>\n",
       "      <td>GLQ</td>\n",
       "      <td>Unf</td>\n",
       "      <td>SBrkr</td>\n",
       "      <td>Attchd</td>\n",
       "      <td>2000.0</td>\n",
       "      <td>RFn</td>\n",
       "      <td>TA</td>\n",
       "      <td>TA</td>\n",
       "    </tr>\n",
       "    <tr>\n",
       "      <th>6</th>\n",
       "      <td>0.0</td>\n",
       "      <td>Gd</td>\n",
       "      <td>TA</td>\n",
       "      <td>No</td>\n",
       "      <td>GLQ</td>\n",
       "      <td>Unf</td>\n",
       "      <td>SBrkr</td>\n",
       "      <td>Attchd</td>\n",
       "      <td>1993.0</td>\n",
       "      <td>Unf</td>\n",
       "      <td>TA</td>\n",
       "      <td>TA</td>\n",
       "    </tr>\n",
       "    <tr>\n",
       "      <th>7</th>\n",
       "      <td>186.0</td>\n",
       "      <td>Ex</td>\n",
       "      <td>TA</td>\n",
       "      <td>Av</td>\n",
       "      <td>GLQ</td>\n",
       "      <td>Unf</td>\n",
       "      <td>SBrkr</td>\n",
       "      <td>Attchd</td>\n",
       "      <td>2004.0</td>\n",
       "      <td>RFn</td>\n",
       "      <td>TA</td>\n",
       "      <td>TA</td>\n",
       "    </tr>\n",
       "    <tr>\n",
       "      <th>8</th>\n",
       "      <td>240.0</td>\n",
       "      <td>Gd</td>\n",
       "      <td>TA</td>\n",
       "      <td>Mn</td>\n",
       "      <td>ALQ</td>\n",
       "      <td>BLQ</td>\n",
       "      <td>SBrkr</td>\n",
       "      <td>Attchd</td>\n",
       "      <td>1973.0</td>\n",
       "      <td>RFn</td>\n",
       "      <td>TA</td>\n",
       "      <td>TA</td>\n",
       "    </tr>\n",
       "    <tr>\n",
       "      <th>9</th>\n",
       "      <td>0.0</td>\n",
       "      <td>TA</td>\n",
       "      <td>TA</td>\n",
       "      <td>No</td>\n",
       "      <td>Unf</td>\n",
       "      <td>Unf</td>\n",
       "      <td>FuseF</td>\n",
       "      <td>Detchd</td>\n",
       "      <td>1931.0</td>\n",
       "      <td>Unf</td>\n",
       "      <td>Fa</td>\n",
       "      <td>TA</td>\n",
       "    </tr>\n",
       "    <tr>\n",
       "      <th>10</th>\n",
       "      <td>0.0</td>\n",
       "      <td>TA</td>\n",
       "      <td>TA</td>\n",
       "      <td>No</td>\n",
       "      <td>GLQ</td>\n",
       "      <td>Unf</td>\n",
       "      <td>SBrkr</td>\n",
       "      <td>Attchd</td>\n",
       "      <td>1939.0</td>\n",
       "      <td>RFn</td>\n",
       "      <td>Gd</td>\n",
       "      <td>TA</td>\n",
       "    </tr>\n",
       "  </tbody>\n",
       "</table>\n",
       "</div>"
      ],
      "text/plain": [
       "    MasVnrArea BsmtQual BsmtCond BsmtExposure BsmtFinType1 BsmtFinType2  \\\n",
       "Id                                                                        \n",
       "1        196.0       Gd       TA           No          GLQ          Unf   \n",
       "2          0.0       Gd       TA           Gd          ALQ          Unf   \n",
       "3        162.0       Gd       TA           Mn          GLQ          Unf   \n",
       "4          0.0       TA       Gd           No          ALQ          Unf   \n",
       "5        350.0       Gd       TA           Av          GLQ          Unf   \n",
       "6          0.0       Gd       TA           No          GLQ          Unf   \n",
       "7        186.0       Ex       TA           Av          GLQ          Unf   \n",
       "8        240.0       Gd       TA           Mn          ALQ          BLQ   \n",
       "9          0.0       TA       TA           No          Unf          Unf   \n",
       "10         0.0       TA       TA           No          GLQ          Unf   \n",
       "\n",
       "   Electrical GarageType  GarageYrBlt GarageFinish GarageQual GarageCond  \n",
       "Id                                                                        \n",
       "1       SBrkr     Attchd       2003.0          RFn         TA         TA  \n",
       "2       SBrkr     Attchd       1976.0          RFn         TA         TA  \n",
       "3       SBrkr     Attchd       2001.0          RFn         TA         TA  \n",
       "4       SBrkr     Detchd       1998.0          Unf         TA         TA  \n",
       "5       SBrkr     Attchd       2000.0          RFn         TA         TA  \n",
       "6       SBrkr     Attchd       1993.0          Unf         TA         TA  \n",
       "7       SBrkr     Attchd       2004.0          RFn         TA         TA  \n",
       "8       SBrkr     Attchd       1973.0          RFn         TA         TA  \n",
       "9       FuseF     Detchd       1931.0          Unf         Fa         TA  \n",
       "10      SBrkr     Attchd       1939.0          RFn         Gd         TA  "
      ]
     },
     "execution_count": 8,
     "metadata": {},
     "output_type": "execute_result"
    }
   ],
   "source": [
    "#Inspect remaining columns with NaNs\n",
    "columns_with_nan = []\n",
    "\n",
    "for col in home_data2.columns:\n",
    "    if home_data2[col].isnull().sum() > 0:\n",
    "        columns_with_nan.append(col)\n",
    "\n",
    "home_data2[columns_with_nan].head(10)  \n",
    "        "
   ]
  },
  {
   "cell_type": "code",
   "execution_count": 9,
   "id": "7f9a19a0",
   "metadata": {
    "execution": {
     "iopub.execute_input": "2024-05-15T12:38:55.969257Z",
     "iopub.status.busy": "2024-05-15T12:38:55.968834Z",
     "iopub.status.idle": "2024-05-15T12:38:56.015348Z",
     "shell.execute_reply": "2024-05-15T12:38:56.014322Z"
    },
    "papermill": {
     "duration": 0.069049,
     "end_time": "2024-05-15T12:38:56.018046",
     "exception": false,
     "start_time": "2024-05-15T12:38:55.948997",
     "status": "completed"
    },
    "tags": []
   },
   "outputs": [],
   "source": [
    "home_data3 = home_data2.copy()\n",
    "\n",
    "#Fill NaNs with mean for numerical and mode for rest\n",
    "columns_with_nan = []\n",
    "\n",
    "for col in home_data3.columns:\n",
    "    if home_data3[col].isnull().sum() > 0 and home_data3[col].dtype == 'float64':\n",
    "        home_data3[col] = home_data3[col].fillna(value = home_data3[col].mean())\n",
    "    elif home_data3[col].isnull().sum() > 0 and home_data3[col].dtype == 'object':\n",
    "        home_data3[col] = home_data3[col].fillna(value = \"non-existent\")\n",
    "        "
   ]
  },
  {
   "cell_type": "code",
   "execution_count": 10,
   "id": "fbeb8464",
   "metadata": {
    "execution": {
     "iopub.execute_input": "2024-05-15T12:38:56.059661Z",
     "iopub.status.busy": "2024-05-15T12:38:56.059266Z",
     "iopub.status.idle": "2024-05-15T12:38:56.092709Z",
     "shell.execute_reply": "2024-05-15T12:38:56.091601Z"
    },
    "papermill": {
     "duration": 0.057493,
     "end_time": "2024-05-15T12:38:56.095818",
     "exception": false,
     "start_time": "2024-05-15T12:38:56.038325",
     "status": "completed"
    },
    "tags": []
   },
   "outputs": [
    {
     "name": "stdout",
     "output_type": "stream",
     "text": [
      "<class 'pandas.core.frame.DataFrame'>\n",
      "Index: 1460 entries, 1 to 1460\n",
      "Data columns (total 73 columns):\n",
      " #   Column         Non-Null Count  Dtype  \n",
      "---  ------         --------------  -----  \n",
      " 0   MSSubClass     1460 non-null   int64  \n",
      " 1   MSZoning       1460 non-null   object \n",
      " 2   LotArea        1460 non-null   int64  \n",
      " 3   Street         1460 non-null   object \n",
      " 4   LotShape       1460 non-null   object \n",
      " 5   LandContour    1460 non-null   object \n",
      " 6   Utilities      1460 non-null   object \n",
      " 7   LotConfig      1460 non-null   object \n",
      " 8   LandSlope      1460 non-null   object \n",
      " 9   Neighborhood   1460 non-null   object \n",
      " 10  Condition1     1460 non-null   object \n",
      " 11  Condition2     1460 non-null   object \n",
      " 12  BldgType       1460 non-null   object \n",
      " 13  HouseStyle     1460 non-null   object \n",
      " 14  OverallQual    1460 non-null   int64  \n",
      " 15  OverallCond    1460 non-null   int64  \n",
      " 16  YearBuilt      1460 non-null   int64  \n",
      " 17  YearRemodAdd   1460 non-null   int64  \n",
      " 18  RoofStyle      1460 non-null   object \n",
      " 19  RoofMatl       1460 non-null   object \n",
      " 20  Exterior1st    1460 non-null   object \n",
      " 21  Exterior2nd    1460 non-null   object \n",
      " 22  MasVnrArea     1460 non-null   float64\n",
      " 23  ExterQual      1460 non-null   object \n",
      " 24  ExterCond      1460 non-null   object \n",
      " 25  Foundation     1460 non-null   object \n",
      " 26  BsmtQual       1460 non-null   object \n",
      " 27  BsmtCond       1460 non-null   object \n",
      " 28  BsmtExposure   1460 non-null   object \n",
      " 29  BsmtFinType1   1460 non-null   object \n",
      " 30  BsmtFinSF1     1460 non-null   int64  \n",
      " 31  BsmtFinType2   1460 non-null   object \n",
      " 32  BsmtFinSF2     1460 non-null   int64  \n",
      " 33  BsmtUnfSF      1460 non-null   int64  \n",
      " 34  TotalBsmtSF    1460 non-null   int64  \n",
      " 35  Heating        1460 non-null   object \n",
      " 36  HeatingQC      1460 non-null   object \n",
      " 37  CentralAir     1460 non-null   object \n",
      " 38  Electrical     1460 non-null   object \n",
      " 39  1stFlrSF       1460 non-null   int64  \n",
      " 40  2ndFlrSF       1460 non-null   int64  \n",
      " 41  LowQualFinSF   1460 non-null   int64  \n",
      " 42  GrLivArea      1460 non-null   int64  \n",
      " 43  BsmtFullBath   1460 non-null   int64  \n",
      " 44  BsmtHalfBath   1460 non-null   int64  \n",
      " 45  FullBath       1460 non-null   int64  \n",
      " 46  HalfBath       1460 non-null   int64  \n",
      " 47  BedroomAbvGr   1460 non-null   int64  \n",
      " 48  KitchenAbvGr   1460 non-null   int64  \n",
      " 49  KitchenQual    1460 non-null   object \n",
      " 50  TotRmsAbvGrd   1460 non-null   int64  \n",
      " 51  Functional     1460 non-null   object \n",
      " 52  Fireplaces     1460 non-null   int64  \n",
      " 53  GarageType     1460 non-null   object \n",
      " 54  GarageYrBlt    1460 non-null   float64\n",
      " 55  GarageFinish   1460 non-null   object \n",
      " 56  GarageCars     1460 non-null   int64  \n",
      " 57  GarageArea     1460 non-null   int64  \n",
      " 58  GarageQual     1460 non-null   object \n",
      " 59  GarageCond     1460 non-null   object \n",
      " 60  PavedDrive     1460 non-null   object \n",
      " 61  WoodDeckSF     1460 non-null   int64  \n",
      " 62  OpenPorchSF    1460 non-null   int64  \n",
      " 63  EnclosedPorch  1460 non-null   int64  \n",
      " 64  3SsnPorch      1460 non-null   int64  \n",
      " 65  ScreenPorch    1460 non-null   int64  \n",
      " 66  PoolArea       1460 non-null   int64  \n",
      " 67  MiscVal        1460 non-null   int64  \n",
      " 68  MoSold         1460 non-null   int64  \n",
      " 69  YrSold         1460 non-null   int64  \n",
      " 70  SaleType       1460 non-null   object \n",
      " 71  SaleCondition  1460 non-null   object \n",
      " 72  SalePrice      1460 non-null   int64  \n",
      "dtypes: float64(2), int64(34), object(37)\n",
      "memory usage: 844.1+ KB\n"
     ]
    }
   ],
   "source": [
    "home_data3.info()"
   ]
  },
  {
   "cell_type": "markdown",
   "id": "aac36baa",
   "metadata": {
    "papermill": {
     "duration": 0.019638,
     "end_time": "2024-05-15T12:38:56.134920",
     "exception": false,
     "start_time": "2024-05-15T12:38:56.115282",
     "status": "completed"
    },
    "tags": []
   },
   "source": [
    "# Group low frequent categories into 'other' category"
   ]
  },
  {
   "cell_type": "code",
   "execution_count": 11,
   "id": "05a4de0d",
   "metadata": {
    "execution": {
     "iopub.execute_input": "2024-05-15T12:38:56.174633Z",
     "iopub.status.busy": "2024-05-15T12:38:56.174239Z",
     "iopub.status.idle": "2024-05-15T12:38:56.182887Z",
     "shell.execute_reply": "2024-05-15T12:38:56.181777Z"
    },
    "papermill": {
     "duration": 0.031421,
     "end_time": "2024-05-15T12:38:56.185293",
     "exception": false,
     "start_time": "2024-05-15T12:38:56.153872",
     "status": "completed"
    },
    "tags": []
   },
   "outputs": [],
   "source": [
    "def replace_less_frequent(df, list_col, threshold=0.02, new_value='other'):\n",
    "    vals_to_change = []\n",
    "\n",
    "    # Iterate over each column in the list\n",
    "    for col in list_col:\n",
    "        # Get values with frequency less than the threshold\n",
    "        filtered_values = df[col].value_counts(normalize=True)\n",
    "        filtered_values = filtered_values[filtered_values < threshold].index.tolist()\n",
    "        vals_to_change.extend(filtered_values)  # Extend instead of append\n",
    "    \n",
    "    # Replace less frequent values with new_value\n",
    "    for col in list_col:\n",
    "        df[col] = np.where(df[col].isin(vals_to_change), new_value, df[col])\n",
    "    \n",
    "    # Print value counts for each modified column\n",
    "    for col in list_col:\n",
    "        print(\"\\n\", df[col].value_counts(normalize=True, dropna=False))\n",
    "        print(\"\\n\",f'** NEW {col} created correctly**')"
   ]
  },
  {
   "cell_type": "code",
   "execution_count": 12,
   "id": "83e74238",
   "metadata": {
    "execution": {
     "iopub.execute_input": "2024-05-15T12:38:56.224924Z",
     "iopub.status.busy": "2024-05-15T12:38:56.224499Z",
     "iopub.status.idle": "2024-05-15T12:38:56.231358Z",
     "shell.execute_reply": "2024-05-15T12:38:56.230219Z"
    },
    "papermill": {
     "duration": 0.029323,
     "end_time": "2024-05-15T12:38:56.233678",
     "exception": false,
     "start_time": "2024-05-15T12:38:56.204355",
     "status": "completed"
    },
    "tags": []
   },
   "outputs": [],
   "source": [
    "# create list of categorical variables\n",
    "l_cat = []\n",
    "for col in home_data3.columns:\n",
    "    if home_data3[col].dtype.kind == 'O':\n",
    "        l_cat.append(col)"
   ]
  },
  {
   "cell_type": "code",
   "execution_count": 13,
   "id": "f62f5dbf",
   "metadata": {
    "execution": {
     "iopub.execute_input": "2024-05-15T12:38:56.275509Z",
     "iopub.status.busy": "2024-05-15T12:38:56.274141Z",
     "iopub.status.idle": "2024-05-15T12:38:56.384255Z",
     "shell.execute_reply": "2024-05-15T12:38:56.383077Z"
    },
    "papermill": {
     "duration": 0.136114,
     "end_time": "2024-05-15T12:38:56.388479",
     "exception": false,
     "start_time": "2024-05-15T12:38:56.252365",
     "status": "completed"
    },
    "tags": []
   },
   "outputs": [
    {
     "name": "stdout",
     "output_type": "stream",
     "text": [
      "\n",
      " MSZoning\n",
      "RL       0.788356\n",
      "RM       0.149315\n",
      "FV       0.044521\n",
      "other    0.017808\n",
      "Name: proportion, dtype: float64\n",
      "\n",
      " ** NEW MSZoning created correctly**\n",
      "\n",
      " Street\n",
      "Pave     0.99589\n",
      "other    0.00411\n",
      "Name: proportion, dtype: float64\n",
      "\n",
      " ** NEW Street created correctly**\n",
      "\n",
      " LotShape\n",
      "Reg      0.633562\n",
      "IR1      0.331507\n",
      "other    0.034932\n",
      "Name: proportion, dtype: float64\n",
      "\n",
      " ** NEW LotShape created correctly**\n",
      "\n",
      " LandContour\n",
      "Lvl      0.897945\n",
      "other    0.058904\n",
      "Bnk      0.043151\n",
      "Name: proportion, dtype: float64\n",
      "\n",
      " ** NEW LandContour created correctly**\n",
      "\n",
      " Utilities\n",
      "AllPub    0.999315\n",
      "other     0.000685\n",
      "Name: proportion, dtype: float64\n",
      "\n",
      " ** NEW Utilities created correctly**\n",
      "\n",
      " LotConfig\n",
      "Inside     0.720548\n",
      "Corner     0.180137\n",
      "CulDSac    0.064384\n",
      "other      0.034932\n",
      "Name: proportion, dtype: float64\n",
      "\n",
      " ** NEW LotConfig created correctly**\n",
      "\n",
      " LandSlope\n",
      "Gtl      0.946575\n",
      "other    0.053425\n",
      "Name: proportion, dtype: float64\n",
      "\n",
      " ** NEW LandSlope created correctly**\n",
      "\n",
      " Neighborhood\n",
      "other      0.290411\n",
      "NAmes      0.154110\n",
      "CollgCr    0.102740\n",
      "OldTown    0.077397\n",
      "Edwards    0.068493\n",
      "Somerst    0.058904\n",
      "Gilbert    0.054110\n",
      "NridgHt    0.052740\n",
      "Sawyer     0.050685\n",
      "NWAmes     0.050000\n",
      "SawyerW    0.040411\n",
      "Name: proportion, dtype: float64\n",
      "\n",
      " ** NEW Neighborhood created correctly**\n",
      "\n",
      " Condition1\n",
      "Norm     0.863014\n",
      "other    0.136986\n",
      "Name: proportion, dtype: float64\n",
      "\n",
      " ** NEW Condition1 created correctly**\n",
      "\n",
      " Condition2\n",
      "Norm     0.989726\n",
      "other    0.010274\n",
      "Name: proportion, dtype: float64\n",
      "\n",
      " ** NEW Condition2 created correctly**\n",
      "\n",
      " BldgType\n",
      "1Fam      0.835616\n",
      "other     0.086301\n",
      "TwnhsE    0.078082\n",
      "Name: proportion, dtype: float64\n",
      "\n",
      " ** NEW BldgType created correctly**\n",
      "\n",
      " HouseStyle\n",
      "1Story    0.497260\n",
      "2Story    0.304795\n",
      "1.5Fin    0.105479\n",
      "other     0.047945\n",
      "SLvl      0.044521\n",
      "Name: proportion, dtype: float64\n",
      "\n",
      " ** NEW HouseStyle created correctly**\n",
      "\n",
      " RoofStyle\n",
      "Gable    0.781507\n",
      "Hip      0.195890\n",
      "other    0.022603\n",
      "Name: proportion, dtype: float64\n",
      "\n",
      " ** NEW RoofStyle created correctly**\n",
      "\n",
      " RoofMatl\n",
      "CompShg    0.982192\n",
      "other      0.017808\n",
      "Name: proportion, dtype: float64\n",
      "\n",
      " ** NEW RoofMatl created correctly**\n",
      "\n",
      " Exterior1st\n",
      "VinylSd    0.352740\n",
      "HdBoard    0.152055\n",
      "MetalSd    0.150685\n",
      "Wd Sdng    0.141096\n",
      "other      0.087671\n",
      "Plywood    0.073973\n",
      "CemntBd    0.041781\n",
      "Name: proportion, dtype: float64\n",
      "\n",
      " ** NEW Exterior1st created correctly**\n",
      "\n",
      " Exterior2nd\n",
      "VinylSd    0.345205\n",
      "MetalSd    0.146575\n",
      "HdBoard    0.141781\n",
      "Wd Sdng    0.134932\n",
      "Plywood    0.097260\n",
      "other      0.093151\n",
      "CmentBd    0.041096\n",
      "Name: proportion, dtype: float64\n",
      "\n",
      " ** NEW Exterior2nd created correctly**\n",
      "\n",
      " ExterQual\n",
      "TA       0.620548\n",
      "other    0.379452\n",
      "Name: proportion, dtype: float64\n",
      "\n",
      " ** NEW ExterQual created correctly**\n",
      "\n",
      " ExterCond\n",
      "TA       0.878082\n",
      "other    0.121918\n",
      "Name: proportion, dtype: float64\n",
      "\n",
      " ** NEW ExterCond created correctly**\n",
      "\n",
      " Foundation\n",
      "other     0.456849\n",
      "PConc     0.443151\n",
      "BrkTil    0.100000\n",
      "Name: proportion, dtype: float64\n",
      "\n",
      " ** NEW Foundation created correctly**\n",
      "\n",
      " BsmtQual\n",
      "other    0.555479\n",
      "TA       0.444521\n",
      "Name: proportion, dtype: float64\n",
      "\n",
      " ** NEW BsmtQual created correctly**\n",
      "\n",
      " BsmtCond\n",
      "TA       0.897945\n",
      "other    0.102055\n",
      "Name: proportion, dtype: float64\n",
      "\n",
      " ** NEW BsmtCond created correctly**\n",
      "\n",
      " BsmtExposure\n",
      "No       0.652740\n",
      "Av       0.151370\n",
      "other    0.117808\n",
      "Mn       0.078082\n",
      "Name: proportion, dtype: float64\n",
      "\n",
      " ** NEW BsmtExposure created correctly**\n",
      "\n",
      " BsmtFinType1\n",
      "other    0.705479\n",
      "Unf      0.294521\n",
      "Name: proportion, dtype: float64\n",
      "\n",
      " ** NEW BsmtFinType1 created correctly**\n",
      "\n",
      " BsmtFinType2\n",
      "Unf      0.860274\n",
      "other    0.139726\n",
      "Name: proportion, dtype: float64\n",
      "\n",
      " ** NEW BsmtFinType2 created correctly**\n",
      "\n",
      " Heating\n",
      "GasA     0.978082\n",
      "other    0.021918\n",
      "Name: proportion, dtype: float64\n",
      "\n",
      " ** NEW Heating created correctly**\n",
      "\n",
      " HeatingQC\n",
      "other    0.706849\n",
      "TA       0.293151\n",
      "Name: proportion, dtype: float64\n",
      "\n",
      " ** NEW HeatingQC created correctly**\n",
      "\n",
      " CentralAir\n",
      "Y    0.934932\n",
      "N    0.065068\n",
      "Name: proportion, dtype: float64\n",
      "\n",
      " ** NEW CentralAir created correctly**\n",
      "\n",
      " Electrical\n",
      "SBrkr    0.913699\n",
      "FuseA    0.064384\n",
      "other    0.021918\n",
      "Name: proportion, dtype: float64\n",
      "\n",
      " ** NEW Electrical created correctly**\n",
      "\n",
      " KitchenQual\n",
      "TA       0.503425\n",
      "other    0.496575\n",
      "Name: proportion, dtype: float64\n",
      "\n",
      " ** NEW KitchenQual created correctly**\n",
      "\n",
      " Functional\n",
      "Typ      0.931507\n",
      "other    0.068493\n",
      "Name: proportion, dtype: float64\n",
      "\n",
      " ** NEW Functional created correctly**\n",
      "\n",
      " GarageType\n",
      "Attchd     0.595890\n",
      "Detchd     0.265068\n",
      "other      0.078767\n",
      "BuiltIn    0.060274\n",
      "Name: proportion, dtype: float64\n",
      "\n",
      " ** NEW GarageType created correctly**\n",
      "\n",
      " GarageFinish\n",
      "Unf      0.414384\n",
      "RFn      0.289041\n",
      "Fin      0.241096\n",
      "other    0.055479\n",
      "Name: proportion, dtype: float64\n",
      "\n",
      " ** NEW GarageFinish created correctly**\n",
      "\n",
      " GarageQual\n",
      "TA       0.897945\n",
      "other    0.102055\n",
      "Name: proportion, dtype: float64\n",
      "\n",
      " ** NEW GarageQual created correctly**\n",
      "\n",
      " GarageCond\n",
      "TA       0.908219\n",
      "other    0.091781\n",
      "Name: proportion, dtype: float64\n",
      "\n",
      " ** NEW GarageCond created correctly**\n",
      "\n",
      " PavedDrive\n",
      "Y        0.917808\n",
      "N        0.061644\n",
      "other    0.020548\n",
      "Name: proportion, dtype: float64\n",
      "\n",
      " ** NEW PavedDrive created correctly**\n",
      "\n",
      " SaleType\n",
      "WD       0.867808\n",
      "New      0.083562\n",
      "other    0.048630\n",
      "Name: proportion, dtype: float64\n",
      "\n",
      " ** NEW SaleType created correctly**\n",
      "\n",
      " SaleCondition\n",
      "Normal     0.820548\n",
      "Partial    0.085616\n",
      "Abnorml    0.069178\n",
      "other      0.024658\n",
      "Name: proportion, dtype: float64\n",
      "\n",
      " ** NEW SaleCondition created correctly**\n"
     ]
    }
   ],
   "source": [
    "# replace low frequent (<6%) values with \"others\"\n",
    "replace_less_frequent(df=home_data3, list_col=l_cat, threshold=0.04)"
   ]
  },
  {
   "cell_type": "markdown",
   "id": "b43337be",
   "metadata": {
    "papermill": {
     "duration": 0.019664,
     "end_time": "2024-05-15T12:38:56.427515",
     "exception": false,
     "start_time": "2024-05-15T12:38:56.407851",
     "status": "completed"
    },
    "tags": []
   },
   "source": [
    "## Hot-code categorical features and scale numerical features"
   ]
  },
  {
   "cell_type": "code",
   "execution_count": 14,
   "id": "ebc8f36c",
   "metadata": {
    "execution": {
     "iopub.execute_input": "2024-05-15T12:38:56.531549Z",
     "iopub.status.busy": "2024-05-15T12:38:56.531127Z",
     "iopub.status.idle": "2024-05-15T12:38:56.540453Z",
     "shell.execute_reply": "2024-05-15T12:38:56.539293Z"
    },
    "papermill": {
     "duration": 0.033357,
     "end_time": "2024-05-15T12:38:56.543252",
     "exception": false,
     "start_time": "2024-05-15T12:38:56.509895",
     "status": "completed"
    },
    "tags": []
   },
   "outputs": [],
   "source": [
    "home_data4 = home_data3.copy()"
   ]
  },
  {
   "cell_type": "code",
   "execution_count": 15,
   "id": "4916384f",
   "metadata": {
    "execution": {
     "iopub.execute_input": "2024-05-15T12:38:56.584903Z",
     "iopub.status.busy": "2024-05-15T12:38:56.584507Z",
     "iopub.status.idle": "2024-05-15T12:38:56.599683Z",
     "shell.execute_reply": "2024-05-15T12:38:56.598618Z"
    },
    "papermill": {
     "duration": 0.038923,
     "end_time": "2024-05-15T12:38:56.602431",
     "exception": false,
     "start_time": "2024-05-15T12:38:56.563508",
     "status": "completed"
    },
    "tags": []
   },
   "outputs": [],
   "source": [
    "l_num = []\n",
    "for col in home_data4.columns:\n",
    "    if 'Year' not in col and 'Yr' not in col:  # Exclude columns with 'Year' or 'Yr'\n",
    "        if home_data4[col].dtype.kind in ['i', 'f']:  # Check if column is numeric (integer or float)\n",
    "            if len(home_data4[col].unique()) > 10:  # Check if numeric column has 4 or fewer unique values\n",
    "                if col != 'SalePrice':\n",
    "                    l_num.append(col)"
   ]
  },
  {
   "cell_type": "code",
   "execution_count": 16,
   "id": "9c5a6b8e",
   "metadata": {
    "execution": {
     "iopub.execute_input": "2024-05-15T12:38:56.643871Z",
     "iopub.status.busy": "2024-05-15T12:38:56.643464Z",
     "iopub.status.idle": "2024-05-15T12:38:56.659541Z",
     "shell.execute_reply": "2024-05-15T12:38:56.658222Z"
    },
    "papermill": {
     "duration": 0.040522,
     "end_time": "2024-05-15T12:38:56.662429",
     "exception": false,
     "start_time": "2024-05-15T12:38:56.621907",
     "status": "completed"
    },
    "tags": []
   },
   "outputs": [],
   "source": [
    "#Minmax scale of numeric variables\n",
    "from sklearn.preprocessing import MinMaxScaler\n",
    "scaler = MinMaxScaler()\n",
    "      \n",
    "# scale numerical variables\n",
    "home_data4[l_num] = scaler.fit_transform(home_data4[l_num])"
   ]
  },
  {
   "cell_type": "markdown",
   "id": "fdbc7149",
   "metadata": {
    "papermill": {
     "duration": 0.019263,
     "end_time": "2024-05-15T12:38:56.701889",
     "exception": false,
     "start_time": "2024-05-15T12:38:56.682626",
     "status": "completed"
    },
    "tags": []
   },
   "source": [
    "# Target encoding of categorical variables with more than 4 categories"
   ]
  },
  {
   "cell_type": "code",
   "execution_count": 17,
   "id": "6acc57ca",
   "metadata": {
    "execution": {
     "iopub.execute_input": "2024-05-15T12:38:56.742453Z",
     "iopub.status.busy": "2024-05-15T12:38:56.742025Z",
     "iopub.status.idle": "2024-05-15T12:38:56.749652Z",
     "shell.execute_reply": "2024-05-15T12:38:56.748512Z"
    },
    "papermill": {
     "duration": 0.030981,
     "end_time": "2024-05-15T12:38:56.752261",
     "exception": false,
     "start_time": "2024-05-15T12:38:56.721280",
     "status": "completed"
    },
    "tags": []
   },
   "outputs": [],
   "source": [
    "home_data5 = home_data4.copy()"
   ]
  },
  {
   "cell_type": "code",
   "execution_count": 18,
   "id": "57d66f9c",
   "metadata": {
    "execution": {
     "iopub.execute_input": "2024-05-15T12:38:56.794178Z",
     "iopub.status.busy": "2024-05-15T12:38:56.793757Z",
     "iopub.status.idle": "2024-05-15T12:38:56.922729Z",
     "shell.execute_reply": "2024-05-15T12:38:56.921515Z"
    },
    "papermill": {
     "duration": 0.152908,
     "end_time": "2024-05-15T12:38:56.925396",
     "exception": false,
     "start_time": "2024-05-15T12:38:56.772488",
     "status": "completed"
    },
    "tags": []
   },
   "outputs": [],
   "source": [
    "# Drop the target variable from X\n",
    "X = home_data5.drop('SalePrice', axis=1)\n",
    "y = home_data5['SalePrice']\n",
    "\n",
    "# Initialize an empty dictionary to store encoders for later use\n",
    "encoders = {}\n",
    "\n",
    "# Target encode categorical variables with more than 3 unique values\n",
    "for col in X.select_dtypes(include=['object']).columns:\n",
    "    if len(X[col].unique()) > 3:\n",
    "        # Initialize the encoder\n",
    "        encoder = TargetEncoder()\n",
    "        # Fit the encoder\n",
    "        encoder.fit(X[col], y)\n",
    "        # Store the trained encoder\n",
    "        encoders[col] = encoder"
   ]
  },
  {
   "cell_type": "code",
   "execution_count": 19,
   "id": "662f4fb6",
   "metadata": {
    "execution": {
     "iopub.execute_input": "2024-05-15T12:38:56.965698Z",
     "iopub.status.busy": "2024-05-15T12:38:56.965272Z",
     "iopub.status.idle": "2024-05-15T12:38:57.002237Z",
     "shell.execute_reply": "2024-05-15T12:38:57.001109Z"
    },
    "papermill": {
     "duration": 0.060604,
     "end_time": "2024-05-15T12:38:57.005176",
     "exception": false,
     "start_time": "2024-05-15T12:38:56.944572",
     "status": "completed"
    },
    "tags": []
   },
   "outputs": [],
   "source": [
    "# Apply the trained encoders from 'home_data5' to 'home_data5'\n",
    "for col, encoder in encoders.items():\n",
    "    if col in home_data5.columns:\n",
    "        home_data5[col] = encoder.transform(home_data5[col])"
   ]
  },
  {
   "cell_type": "code",
   "execution_count": 20,
   "id": "e2a60a00",
   "metadata": {
    "execution": {
     "iopub.execute_input": "2024-05-15T12:38:57.051031Z",
     "iopub.status.busy": "2024-05-15T12:38:57.049844Z",
     "iopub.status.idle": "2024-05-15T12:38:57.088759Z",
     "shell.execute_reply": "2024-05-15T12:38:57.087728Z"
    },
    "papermill": {
     "duration": 0.064934,
     "end_time": "2024-05-15T12:38:57.091771",
     "exception": false,
     "start_time": "2024-05-15T12:38:57.026837",
     "status": "completed"
    },
    "tags": []
   },
   "outputs": [],
   "source": [
    "l_cat = []\n",
    "for col in home_data5.columns:\n",
    "    if home_data5[col].dtype == 'object':\n",
    "        l_cat.append(col)\n",
    "        \n",
    "# create dummy variables\n",
    "home_data_dummies = pd.get_dummies(home_data5, columns=l_cat, dtype='int32')"
   ]
  },
  {
   "cell_type": "markdown",
   "id": "c2d9d5da",
   "metadata": {
    "papermill": {
     "duration": 0.019149,
     "end_time": "2024-05-15T12:38:57.130505",
     "exception": false,
     "start_time": "2024-05-15T12:38:57.111356",
     "status": "completed"
    },
    "tags": []
   },
   "source": [
    "## Correlation and elimination of features"
   ]
  },
  {
   "cell_type": "code",
   "execution_count": 21,
   "id": "761fe532",
   "metadata": {
    "execution": {
     "iopub.execute_input": "2024-05-15T12:38:57.170826Z",
     "iopub.status.busy": "2024-05-15T12:38:57.170408Z",
     "iopub.status.idle": "2024-05-15T12:38:57.290364Z",
     "shell.execute_reply": "2024-05-15T12:38:57.289340Z"
    },
    "papermill": {
     "duration": 0.143523,
     "end_time": "2024-05-15T12:38:57.293187",
     "exception": false,
     "start_time": "2024-05-15T12:38:57.149664",
     "status": "completed"
    },
    "tags": []
   },
   "outputs": [],
   "source": [
    "corr_matrix = home_data_dummies.corr()\n",
    "\n",
    "# Transform the upper-right triangle to zeros\n",
    "upper_triangle_mask = np.triu(np.ones(corr_matrix.shape), k=1).astype(bool)\n",
    "corr_matrix_upper_zero = corr_matrix.mask(upper_triangle_mask)\n",
    "\n",
    "# Print the pairs of correlated variables to SalePrice\n",
    "corr_result = corr_matrix_upper_zero.unstack().sort_values(ascending=False)\n",
    "corr_result_df = corr_result.reset_index()"
   ]
  },
  {
   "cell_type": "code",
   "execution_count": 22,
   "id": "b0c66174",
   "metadata": {
    "execution": {
     "iopub.execute_input": "2024-05-15T12:38:57.334197Z",
     "iopub.status.busy": "2024-05-15T12:38:57.333756Z",
     "iopub.status.idle": "2024-05-15T12:38:57.348351Z",
     "shell.execute_reply": "2024-05-15T12:38:57.347286Z"
    },
    "papermill": {
     "duration": 0.038391,
     "end_time": "2024-05-15T12:38:57.351205",
     "exception": false,
     "start_time": "2024-05-15T12:38:57.312814",
     "status": "completed"
    },
    "tags": []
   },
   "outputs": [
    {
     "name": "stdout",
     "output_type": "stream",
     "text": [
      "         level_0            level_1        0\n",
      "     Exterior1st        Exterior2nd 0.966388\n",
      "   SaleCondition       SaleType_New 0.951084\n",
      "      GarageCars         GarageArea 0.882475\n",
      "       GrLivArea       TotRmsAbvGrd 0.825489\n",
      "     TotalBsmtSF           1stFlrSF 0.819530\n",
      "     OverallQual          SalePrice 0.790982\n",
      "GarageQual_other   GarageCond_other 0.786216\n",
      "   GarageQual_TA      GarageCond_TA 0.786216\n",
      "       YearBuilt        GarageYrBlt 0.780555\n",
      "      BsmtFinSF2 BsmtFinType2_other 0.716235\n",
      "       GrLivArea          SalePrice 0.708624\n",
      "        2ndFlrSF          GrLivArea 0.687501\n",
      "    BedroomAbvGr       TotRmsAbvGrd 0.676620\n",
      " ExterQual_other  KitchenQual_other 0.671600\n",
      "    ExterQual_TA     KitchenQual_TA 0.671600\n",
      "      GarageType       GarageFinish 0.651273\n",
      "       YearBuilt   Foundation_PConc 0.651199\n",
      "      BsmtFinSF1       BsmtFullBath 0.649212\n",
      "     OverallQual    ExterQual_other 0.646247\n",
      "     GarageYrBlt   Foundation_PConc 0.645394\n",
      "      GarageCars          SalePrice 0.640409\n",
      "       YearBuilt     BsmtQual_other 0.631734\n",
      "       GrLivArea           FullBath 0.630012\n",
      "      BsmtFinSF1 BsmtFinType1_other 0.628690\n",
      "      GarageArea          SalePrice 0.623431\n",
      " ExterQual_other   Foundation_PConc 0.620836\n",
      "    YearRemodAdd        GarageYrBlt 0.618130\n",
      "        2ndFlrSF       TotRmsAbvGrd 0.616423\n",
      "       YearBuilt       GarageFinish 0.616022\n",
      "     TotalBsmtSF          SalePrice 0.613581\n",
      "    KitchenAbvGr     BldgType_other 0.610514\n",
      "        2ndFlrSF           HalfBath 0.609707\n",
      "        1stFlrSF          SalePrice 0.605852\n",
      "Foundation_PConc     BsmtQual_other 0.603797\n",
      "       BsmtUnfSF   BsmtFinType1_Unf 0.602707\n",
      "     OverallQual         GarageCars 0.600671\n",
      "     OverallQual          GrLivArea 0.593007\n",
      "       YearBuilt       YearRemodAdd 0.592855\n",
      "       YearBuilt    ExterQual_other 0.589126\n",
      "       SalePrice    ExterQual_other 0.589044\n",
      "       YearBuilt         GarageType 0.585564\n",
      "     GarageYrBlt    ExterQual_other 0.584260\n",
      "     GarageYrBlt     BsmtQual_other 0.581325\n",
      "       YearBuilt        Exterior2nd 0.580967\n",
      "       YearBuilt        Exterior1st 0.580950\n",
      "      MSSubClass     BldgType_other 0.577450\n",
      "    YearRemodAdd  KitchenQual_other 0.576964\n",
      "     OverallQual          YearBuilt 0.572323\n",
      "    GarageFinish         GarageCars 0.569776\n",
      "    YearRemodAdd   Foundation_PConc 0.569728\n"
     ]
    }
   ],
   "source": [
    "print(corr_result_df[corr_result_df['level_0'] != corr_result_df['level_1']].head(50).to_string(index=False))"
   ]
  },
  {
   "cell_type": "code",
   "execution_count": 23,
   "id": "637cd710",
   "metadata": {
    "execution": {
     "iopub.execute_input": "2024-05-15T12:38:57.392084Z",
     "iopub.status.busy": "2024-05-15T12:38:57.391599Z",
     "iopub.status.idle": "2024-05-15T12:38:57.405488Z",
     "shell.execute_reply": "2024-05-15T12:38:57.404287Z"
    },
    "papermill": {
     "duration": 0.037234,
     "end_time": "2024-05-15T12:38:57.407904",
     "exception": false,
     "start_time": "2024-05-15T12:38:57.370670",
     "status": "completed"
    },
    "tags": []
   },
   "outputs": [
    {
     "data": {
      "text/html": [
       "<div>\n",
       "<style scoped>\n",
       "    .dataframe tbody tr th:only-of-type {\n",
       "        vertical-align: middle;\n",
       "    }\n",
       "\n",
       "    .dataframe tbody tr th {\n",
       "        vertical-align: top;\n",
       "    }\n",
       "\n",
       "    .dataframe thead th {\n",
       "        text-align: right;\n",
       "    }\n",
       "</style>\n",
       "<table border=\"1\" class=\"dataframe\">\n",
       "  <thead>\n",
       "    <tr style=\"text-align: right;\">\n",
       "      <th></th>\n",
       "      <th>level_0</th>\n",
       "      <th>level_1</th>\n",
       "      <th>0</th>\n",
       "    </tr>\n",
       "  </thead>\n",
       "  <tbody>\n",
       "    <tr>\n",
       "      <th>3126</th>\n",
       "      <td>KitchenAbvGr</td>\n",
       "      <td>LandContour_other</td>\n",
       "      <td>-0.000072</td>\n",
       "    </tr>\n",
       "    <tr>\n",
       "      <th>3127</th>\n",
       "      <td>RoofStyle_Gable</td>\n",
       "      <td>Heating_other</td>\n",
       "      <td>-0.000093</td>\n",
       "    </tr>\n",
       "    <tr>\n",
       "      <th>3128</th>\n",
       "      <td>BsmtFullBath</td>\n",
       "      <td>3SsnPorch</td>\n",
       "      <td>-0.000106</td>\n",
       "    </tr>\n",
       "    <tr>\n",
       "      <th>3129</th>\n",
       "      <td>TotalBsmtSF</td>\n",
       "      <td>BsmtHalfBath</td>\n",
       "      <td>-0.000315</td>\n",
       "    </tr>\n",
       "    <tr>\n",
       "      <th>3130</th>\n",
       "      <td>LandSlope_Gtl</td>\n",
       "      <td>BsmtCond_other</td>\n",
       "      <td>-0.000400</td>\n",
       "    </tr>\n",
       "  </tbody>\n",
       "</table>\n",
       "</div>"
      ],
      "text/plain": [
       "              level_0            level_1         0\n",
       "3126     KitchenAbvGr  LandContour_other -0.000072\n",
       "3127  RoofStyle_Gable      Heating_other -0.000093\n",
       "3128     BsmtFullBath          3SsnPorch -0.000106\n",
       "3129      TotalBsmtSF       BsmtHalfBath -0.000315\n",
       "3130    LandSlope_Gtl     BsmtCond_other -0.000400"
      ]
     },
     "execution_count": 23,
     "metadata": {},
     "output_type": "execute_result"
    }
   ],
   "source": [
    "corr_result_df[corr_result_df[0] < 0].head()"
   ]
  },
  {
   "cell_type": "code",
   "execution_count": 24,
   "id": "96f56859",
   "metadata": {
    "execution": {
     "iopub.execute_input": "2024-05-15T12:38:57.449343Z",
     "iopub.status.busy": "2024-05-15T12:38:57.448896Z",
     "iopub.status.idle": "2024-05-15T12:38:57.458119Z",
     "shell.execute_reply": "2024-05-15T12:38:57.456935Z"
    },
    "papermill": {
     "duration": 0.032727,
     "end_time": "2024-05-15T12:38:57.460644",
     "exception": false,
     "start_time": "2024-05-15T12:38:57.427917",
     "status": "completed"
    },
    "tags": []
   },
   "outputs": [],
   "source": [
    "# Get features with np.abs(corr to price) > 0.4\n",
    "\n",
    "corr_result_df.columns = ['feature_1', 'feature_2', 'corr']\n",
    "high_corr_features = corr_result_df[(np.abs(corr_result_df['corr']) > 0.2) & (np.abs(corr_result_df['corr']) < 0.8)]\n",
    "\n",
    "high_corr_features_unique = set(high_corr_features['feature_1'].tolist() + high_corr_features['feature_2'].tolist())"
   ]
  },
  {
   "cell_type": "code",
   "execution_count": 25,
   "id": "ee4a140c",
   "metadata": {
    "execution": {
     "iopub.execute_input": "2024-05-15T12:38:57.501920Z",
     "iopub.status.busy": "2024-05-15T12:38:57.501454Z",
     "iopub.status.idle": "2024-05-15T12:38:57.508861Z",
     "shell.execute_reply": "2024-05-15T12:38:57.507756Z"
    },
    "papermill": {
     "duration": 0.031108,
     "end_time": "2024-05-15T12:38:57.511456",
     "exception": false,
     "start_time": "2024-05-15T12:38:57.480348",
     "status": "completed"
    },
    "tags": []
   },
   "outputs": [
    {
     "data": {
      "text/plain": [
       "94"
      ]
     },
     "execution_count": 25,
     "metadata": {},
     "output_type": "execute_result"
    }
   ],
   "source": [
    "len(high_corr_features_unique)"
   ]
  },
  {
   "cell_type": "code",
   "execution_count": 26,
   "id": "4417b050",
   "metadata": {
    "execution": {
     "iopub.execute_input": "2024-05-15T12:38:57.553859Z",
     "iopub.status.busy": "2024-05-15T12:38:57.553437Z",
     "iopub.status.idle": "2024-05-15T12:38:57.558343Z",
     "shell.execute_reply": "2024-05-15T12:38:57.557320Z"
    },
    "papermill": {
     "duration": 0.028923,
     "end_time": "2024-05-15T12:38:57.560775",
     "exception": false,
     "start_time": "2024-05-15T12:38:57.531852",
     "status": "completed"
    },
    "tags": []
   },
   "outputs": [],
   "source": [
    "high_corr_features_unique.remove('SalePrice')"
   ]
  },
  {
   "cell_type": "markdown",
   "id": "47e30cac",
   "metadata": {
    "papermill": {
     "duration": 0.019633,
     "end_time": "2024-05-15T12:38:57.600258",
     "exception": false,
     "start_time": "2024-05-15T12:38:57.580625",
     "status": "completed"
    },
    "tags": []
   },
   "source": [
    "## Optimizing model"
   ]
  },
  {
   "cell_type": "markdown",
   "id": "4ca4cb31",
   "metadata": {
    "papermill": {
     "duration": 0.019837,
     "end_time": "2024-05-15T12:38:57.641507",
     "exception": false,
     "start_time": "2024-05-15T12:38:57.621670",
     "status": "completed"
    },
    "tags": []
   },
   "source": [
    "### Cleaning test data "
   ]
  },
  {
   "cell_type": "code",
   "execution_count": 27,
   "id": "11d6477d",
   "metadata": {
    "execution": {
     "iopub.execute_input": "2024-05-15T12:38:57.683321Z",
     "iopub.status.busy": "2024-05-15T12:38:57.682880Z",
     "iopub.status.idle": "2024-05-15T12:38:57.718240Z",
     "shell.execute_reply": "2024-05-15T12:38:57.717026Z"
    },
    "papermill": {
     "duration": 0.0599,
     "end_time": "2024-05-15T12:38:57.721285",
     "exception": false,
     "start_time": "2024-05-15T12:38:57.661385",
     "status": "completed"
    },
    "tags": []
   },
   "outputs": [],
   "source": [
    "test_data = pd.read_csv(test_data_path)\n",
    "test_data.set_index('Id', inplace=True)"
   ]
  },
  {
   "cell_type": "code",
   "execution_count": 28,
   "id": "9b6a7ef9",
   "metadata": {
    "execution": {
     "iopub.execute_input": "2024-05-15T12:38:57.763518Z",
     "iopub.status.busy": "2024-05-15T12:38:57.763041Z",
     "iopub.status.idle": "2024-05-15T12:38:57.796614Z",
     "shell.execute_reply": "2024-05-15T12:38:57.795389Z"
    },
    "papermill": {
     "duration": 0.057375,
     "end_time": "2024-05-15T12:38:57.798998",
     "exception": false,
     "start_time": "2024-05-15T12:38:57.741623",
     "status": "completed"
    },
    "tags": []
   },
   "outputs": [],
   "source": [
    "#Drop columns\n",
    "threshold = 200\n",
    "\n",
    "for col in home_data.columns:\n",
    "    if home_data[col].isnull().sum() >= threshold:\n",
    "        del(test_data[col])"
   ]
  },
  {
   "cell_type": "code",
   "execution_count": 29,
   "id": "099fd333",
   "metadata": {
    "execution": {
     "iopub.execute_input": "2024-05-15T12:38:57.840966Z",
     "iopub.status.busy": "2024-05-15T12:38:57.840038Z",
     "iopub.status.idle": "2024-05-15T12:38:57.895148Z",
     "shell.execute_reply": "2024-05-15T12:38:57.893874Z"
    },
    "papermill": {
     "duration": 0.078863,
     "end_time": "2024-05-15T12:38:57.897760",
     "exception": false,
     "start_time": "2024-05-15T12:38:57.818897",
     "status": "completed"
    },
    "tags": []
   },
   "outputs": [
    {
     "data": {
      "text/html": [
       "<div>\n",
       "<style scoped>\n",
       "    .dataframe tbody tr th:only-of-type {\n",
       "        vertical-align: middle;\n",
       "    }\n",
       "\n",
       "    .dataframe tbody tr th {\n",
       "        vertical-align: top;\n",
       "    }\n",
       "\n",
       "    .dataframe thead th {\n",
       "        text-align: right;\n",
       "    }\n",
       "</style>\n",
       "<table border=\"1\" class=\"dataframe\">\n",
       "  <thead>\n",
       "    <tr style=\"text-align: right;\">\n",
       "      <th></th>\n",
       "      <th>MSZoning</th>\n",
       "      <th>Utilities</th>\n",
       "      <th>Exterior1st</th>\n",
       "      <th>Exterior2nd</th>\n",
       "      <th>MasVnrArea</th>\n",
       "      <th>BsmtQual</th>\n",
       "      <th>BsmtCond</th>\n",
       "      <th>BsmtExposure</th>\n",
       "      <th>BsmtFinType1</th>\n",
       "      <th>BsmtFinSF1</th>\n",
       "      <th>...</th>\n",
       "      <th>KitchenQual</th>\n",
       "      <th>Functional</th>\n",
       "      <th>GarageType</th>\n",
       "      <th>GarageYrBlt</th>\n",
       "      <th>GarageFinish</th>\n",
       "      <th>GarageCars</th>\n",
       "      <th>GarageArea</th>\n",
       "      <th>GarageQual</th>\n",
       "      <th>GarageCond</th>\n",
       "      <th>SaleType</th>\n",
       "    </tr>\n",
       "    <tr>\n",
       "      <th>Id</th>\n",
       "      <th></th>\n",
       "      <th></th>\n",
       "      <th></th>\n",
       "      <th></th>\n",
       "      <th></th>\n",
       "      <th></th>\n",
       "      <th></th>\n",
       "      <th></th>\n",
       "      <th></th>\n",
       "      <th></th>\n",
       "      <th></th>\n",
       "      <th></th>\n",
       "      <th></th>\n",
       "      <th></th>\n",
       "      <th></th>\n",
       "      <th></th>\n",
       "      <th></th>\n",
       "      <th></th>\n",
       "      <th></th>\n",
       "      <th></th>\n",
       "      <th></th>\n",
       "    </tr>\n",
       "  </thead>\n",
       "  <tbody>\n",
       "    <tr>\n",
       "      <th>1461</th>\n",
       "      <td>RH</td>\n",
       "      <td>AllPub</td>\n",
       "      <td>VinylSd</td>\n",
       "      <td>VinylSd</td>\n",
       "      <td>0.0</td>\n",
       "      <td>TA</td>\n",
       "      <td>TA</td>\n",
       "      <td>No</td>\n",
       "      <td>Rec</td>\n",
       "      <td>468.0</td>\n",
       "      <td>...</td>\n",
       "      <td>TA</td>\n",
       "      <td>Typ</td>\n",
       "      <td>Attchd</td>\n",
       "      <td>1961.0</td>\n",
       "      <td>Unf</td>\n",
       "      <td>1.0</td>\n",
       "      <td>730.0</td>\n",
       "      <td>TA</td>\n",
       "      <td>TA</td>\n",
       "      <td>WD</td>\n",
       "    </tr>\n",
       "    <tr>\n",
       "      <th>1462</th>\n",
       "      <td>RL</td>\n",
       "      <td>AllPub</td>\n",
       "      <td>Wd Sdng</td>\n",
       "      <td>Wd Sdng</td>\n",
       "      <td>108.0</td>\n",
       "      <td>TA</td>\n",
       "      <td>TA</td>\n",
       "      <td>No</td>\n",
       "      <td>ALQ</td>\n",
       "      <td>923.0</td>\n",
       "      <td>...</td>\n",
       "      <td>Gd</td>\n",
       "      <td>Typ</td>\n",
       "      <td>Attchd</td>\n",
       "      <td>1958.0</td>\n",
       "      <td>Unf</td>\n",
       "      <td>1.0</td>\n",
       "      <td>312.0</td>\n",
       "      <td>TA</td>\n",
       "      <td>TA</td>\n",
       "      <td>WD</td>\n",
       "    </tr>\n",
       "    <tr>\n",
       "      <th>1463</th>\n",
       "      <td>RL</td>\n",
       "      <td>AllPub</td>\n",
       "      <td>VinylSd</td>\n",
       "      <td>VinylSd</td>\n",
       "      <td>0.0</td>\n",
       "      <td>Gd</td>\n",
       "      <td>TA</td>\n",
       "      <td>No</td>\n",
       "      <td>GLQ</td>\n",
       "      <td>791.0</td>\n",
       "      <td>...</td>\n",
       "      <td>TA</td>\n",
       "      <td>Typ</td>\n",
       "      <td>Attchd</td>\n",
       "      <td>1997.0</td>\n",
       "      <td>Fin</td>\n",
       "      <td>2.0</td>\n",
       "      <td>482.0</td>\n",
       "      <td>TA</td>\n",
       "      <td>TA</td>\n",
       "      <td>WD</td>\n",
       "    </tr>\n",
       "    <tr>\n",
       "      <th>1464</th>\n",
       "      <td>RL</td>\n",
       "      <td>AllPub</td>\n",
       "      <td>VinylSd</td>\n",
       "      <td>VinylSd</td>\n",
       "      <td>20.0</td>\n",
       "      <td>TA</td>\n",
       "      <td>TA</td>\n",
       "      <td>No</td>\n",
       "      <td>GLQ</td>\n",
       "      <td>602.0</td>\n",
       "      <td>...</td>\n",
       "      <td>Gd</td>\n",
       "      <td>Typ</td>\n",
       "      <td>Attchd</td>\n",
       "      <td>1998.0</td>\n",
       "      <td>Fin</td>\n",
       "      <td>2.0</td>\n",
       "      <td>470.0</td>\n",
       "      <td>TA</td>\n",
       "      <td>TA</td>\n",
       "      <td>WD</td>\n",
       "    </tr>\n",
       "    <tr>\n",
       "      <th>1465</th>\n",
       "      <td>RL</td>\n",
       "      <td>AllPub</td>\n",
       "      <td>HdBoard</td>\n",
       "      <td>HdBoard</td>\n",
       "      <td>0.0</td>\n",
       "      <td>Gd</td>\n",
       "      <td>TA</td>\n",
       "      <td>No</td>\n",
       "      <td>ALQ</td>\n",
       "      <td>263.0</td>\n",
       "      <td>...</td>\n",
       "      <td>Gd</td>\n",
       "      <td>Typ</td>\n",
       "      <td>Attchd</td>\n",
       "      <td>1992.0</td>\n",
       "      <td>RFn</td>\n",
       "      <td>2.0</td>\n",
       "      <td>506.0</td>\n",
       "      <td>TA</td>\n",
       "      <td>TA</td>\n",
       "      <td>WD</td>\n",
       "    </tr>\n",
       "    <tr>\n",
       "      <th>1466</th>\n",
       "      <td>RL</td>\n",
       "      <td>AllPub</td>\n",
       "      <td>HdBoard</td>\n",
       "      <td>HdBoard</td>\n",
       "      <td>0.0</td>\n",
       "      <td>Gd</td>\n",
       "      <td>TA</td>\n",
       "      <td>No</td>\n",
       "      <td>Unf</td>\n",
       "      <td>0.0</td>\n",
       "      <td>...</td>\n",
       "      <td>TA</td>\n",
       "      <td>Typ</td>\n",
       "      <td>Attchd</td>\n",
       "      <td>1993.0</td>\n",
       "      <td>Fin</td>\n",
       "      <td>2.0</td>\n",
       "      <td>440.0</td>\n",
       "      <td>TA</td>\n",
       "      <td>TA</td>\n",
       "      <td>WD</td>\n",
       "    </tr>\n",
       "    <tr>\n",
       "      <th>1467</th>\n",
       "      <td>RL</td>\n",
       "      <td>AllPub</td>\n",
       "      <td>HdBoard</td>\n",
       "      <td>HdBoard</td>\n",
       "      <td>0.0</td>\n",
       "      <td>Gd</td>\n",
       "      <td>TA</td>\n",
       "      <td>No</td>\n",
       "      <td>ALQ</td>\n",
       "      <td>935.0</td>\n",
       "      <td>...</td>\n",
       "      <td>TA</td>\n",
       "      <td>Typ</td>\n",
       "      <td>Attchd</td>\n",
       "      <td>1992.0</td>\n",
       "      <td>Fin</td>\n",
       "      <td>2.0</td>\n",
       "      <td>420.0</td>\n",
       "      <td>TA</td>\n",
       "      <td>TA</td>\n",
       "      <td>WD</td>\n",
       "    </tr>\n",
       "    <tr>\n",
       "      <th>1468</th>\n",
       "      <td>RL</td>\n",
       "      <td>AllPub</td>\n",
       "      <td>VinylSd</td>\n",
       "      <td>VinylSd</td>\n",
       "      <td>0.0</td>\n",
       "      <td>Gd</td>\n",
       "      <td>TA</td>\n",
       "      <td>No</td>\n",
       "      <td>Unf</td>\n",
       "      <td>0.0</td>\n",
       "      <td>...</td>\n",
       "      <td>TA</td>\n",
       "      <td>Typ</td>\n",
       "      <td>Attchd</td>\n",
       "      <td>1998.0</td>\n",
       "      <td>Fin</td>\n",
       "      <td>2.0</td>\n",
       "      <td>393.0</td>\n",
       "      <td>TA</td>\n",
       "      <td>TA</td>\n",
       "      <td>WD</td>\n",
       "    </tr>\n",
       "    <tr>\n",
       "      <th>1469</th>\n",
       "      <td>RL</td>\n",
       "      <td>AllPub</td>\n",
       "      <td>HdBoard</td>\n",
       "      <td>HdBoard</td>\n",
       "      <td>0.0</td>\n",
       "      <td>Gd</td>\n",
       "      <td>TA</td>\n",
       "      <td>Gd</td>\n",
       "      <td>GLQ</td>\n",
       "      <td>637.0</td>\n",
       "      <td>...</td>\n",
       "      <td>Gd</td>\n",
       "      <td>Typ</td>\n",
       "      <td>Attchd</td>\n",
       "      <td>1990.0</td>\n",
       "      <td>Unf</td>\n",
       "      <td>2.0</td>\n",
       "      <td>506.0</td>\n",
       "      <td>TA</td>\n",
       "      <td>TA</td>\n",
       "      <td>WD</td>\n",
       "    </tr>\n",
       "    <tr>\n",
       "      <th>1470</th>\n",
       "      <td>RL</td>\n",
       "      <td>AllPub</td>\n",
       "      <td>Plywood</td>\n",
       "      <td>Plywood</td>\n",
       "      <td>0.0</td>\n",
       "      <td>TA</td>\n",
       "      <td>TA</td>\n",
       "      <td>No</td>\n",
       "      <td>ALQ</td>\n",
       "      <td>804.0</td>\n",
       "      <td>...</td>\n",
       "      <td>TA</td>\n",
       "      <td>Typ</td>\n",
       "      <td>Attchd</td>\n",
       "      <td>1970.0</td>\n",
       "      <td>Fin</td>\n",
       "      <td>2.0</td>\n",
       "      <td>525.0</td>\n",
       "      <td>TA</td>\n",
       "      <td>TA</td>\n",
       "      <td>WD</td>\n",
       "    </tr>\n",
       "  </tbody>\n",
       "</table>\n",
       "<p>10 rows × 26 columns</p>\n",
       "</div>"
      ],
      "text/plain": [
       "     MSZoning Utilities Exterior1st Exterior2nd  MasVnrArea BsmtQual BsmtCond  \\\n",
       "Id                                                                              \n",
       "1461       RH    AllPub     VinylSd     VinylSd         0.0       TA       TA   \n",
       "1462       RL    AllPub     Wd Sdng     Wd Sdng       108.0       TA       TA   \n",
       "1463       RL    AllPub     VinylSd     VinylSd         0.0       Gd       TA   \n",
       "1464       RL    AllPub     VinylSd     VinylSd        20.0       TA       TA   \n",
       "1465       RL    AllPub     HdBoard     HdBoard         0.0       Gd       TA   \n",
       "1466       RL    AllPub     HdBoard     HdBoard         0.0       Gd       TA   \n",
       "1467       RL    AllPub     HdBoard     HdBoard         0.0       Gd       TA   \n",
       "1468       RL    AllPub     VinylSd     VinylSd         0.0       Gd       TA   \n",
       "1469       RL    AllPub     HdBoard     HdBoard         0.0       Gd       TA   \n",
       "1470       RL    AllPub     Plywood     Plywood         0.0       TA       TA   \n",
       "\n",
       "     BsmtExposure BsmtFinType1  BsmtFinSF1  ... KitchenQual  Functional  \\\n",
       "Id                                          ...                           \n",
       "1461           No          Rec       468.0  ...          TA         Typ   \n",
       "1462           No          ALQ       923.0  ...          Gd         Typ   \n",
       "1463           No          GLQ       791.0  ...          TA         Typ   \n",
       "1464           No          GLQ       602.0  ...          Gd         Typ   \n",
       "1465           No          ALQ       263.0  ...          Gd         Typ   \n",
       "1466           No          Unf         0.0  ...          TA         Typ   \n",
       "1467           No          ALQ       935.0  ...          TA         Typ   \n",
       "1468           No          Unf         0.0  ...          TA         Typ   \n",
       "1469           Gd          GLQ       637.0  ...          Gd         Typ   \n",
       "1470           No          ALQ       804.0  ...          TA         Typ   \n",
       "\n",
       "      GarageType  GarageYrBlt  GarageFinish  GarageCars GarageArea GarageQual  \\\n",
       "Id                                                                              \n",
       "1461      Attchd       1961.0           Unf         1.0      730.0         TA   \n",
       "1462      Attchd       1958.0           Unf         1.0      312.0         TA   \n",
       "1463      Attchd       1997.0           Fin         2.0      482.0         TA   \n",
       "1464      Attchd       1998.0           Fin         2.0      470.0         TA   \n",
       "1465      Attchd       1992.0           RFn         2.0      506.0         TA   \n",
       "1466      Attchd       1993.0           Fin         2.0      440.0         TA   \n",
       "1467      Attchd       1992.0           Fin         2.0      420.0         TA   \n",
       "1468      Attchd       1998.0           Fin         2.0      393.0         TA   \n",
       "1469      Attchd       1990.0           Unf         2.0      506.0         TA   \n",
       "1470      Attchd       1970.0           Fin         2.0      525.0         TA   \n",
       "\n",
       "     GarageCond  SaleType  \n",
       "Id                         \n",
       "1461         TA        WD  \n",
       "1462         TA        WD  \n",
       "1463         TA        WD  \n",
       "1464         TA        WD  \n",
       "1465         TA        WD  \n",
       "1466         TA        WD  \n",
       "1467         TA        WD  \n",
       "1468         TA        WD  \n",
       "1469         TA        WD  \n",
       "1470         TA        WD  \n",
       "\n",
       "[10 rows x 26 columns]"
      ]
     },
     "execution_count": 29,
     "metadata": {},
     "output_type": "execute_result"
    }
   ],
   "source": [
    "test_data2 = test_data.copy()\n",
    "\n",
    "#Inspect remaining columns with NaNs\n",
    "columns_with_nan = []\n",
    "\n",
    "for col in test_data2.columns:\n",
    "    if test_data2[col].isnull().sum() > 0:\n",
    "        columns_with_nan.append(col)\n",
    "\n",
    "test_data2[columns_with_nan].head(10)  "
   ]
  },
  {
   "cell_type": "code",
   "execution_count": 30,
   "id": "4aceae24",
   "metadata": {
    "execution": {
     "iopub.execute_input": "2024-05-15T12:38:57.941052Z",
     "iopub.status.busy": "2024-05-15T12:38:57.940601Z",
     "iopub.status.idle": "2024-05-15T12:38:57.996362Z",
     "shell.execute_reply": "2024-05-15T12:38:57.995141Z"
    },
    "papermill": {
     "duration": 0.080764,
     "end_time": "2024-05-15T12:38:57.999131",
     "exception": false,
     "start_time": "2024-05-15T12:38:57.918367",
     "status": "completed"
    },
    "tags": []
   },
   "outputs": [],
   "source": [
    "test_data3 = test_data2.copy()\n",
    "\n",
    "#Fill NaNs with mean for numerical and mode for rest\n",
    "columns_with_nan = []\n",
    "\n",
    "for col in test_data3.columns:\n",
    "    if test_data3[col].isnull().sum() > 0 and test_data3[col].dtype == 'float64':\n",
    "        test_data3[col] = test_data3[col].fillna(value = test_data3[col].mean())\n",
    "    elif test_data3[col].isnull().sum() > 0 and test_data3[col].dtype == 'object':\n",
    "        test_data3[col] = test_data3[col].fillna(value = \"non-existent\")"
   ]
  },
  {
   "cell_type": "code",
   "execution_count": 31,
   "id": "1ba8f97e",
   "metadata": {
    "execution": {
     "iopub.execute_input": "2024-05-15T12:38:58.042988Z",
     "iopub.status.busy": "2024-05-15T12:38:58.041912Z",
     "iopub.status.idle": "2024-05-15T12:38:58.050120Z",
     "shell.execute_reply": "2024-05-15T12:38:58.048997Z"
    },
    "papermill": {
     "duration": 0.033193,
     "end_time": "2024-05-15T12:38:58.052855",
     "exception": false,
     "start_time": "2024-05-15T12:38:58.019662",
     "status": "completed"
    },
    "tags": []
   },
   "outputs": [],
   "source": [
    "test_data4 = test_data3.copy()"
   ]
  },
  {
   "cell_type": "code",
   "execution_count": 32,
   "id": "5b4888e0",
   "metadata": {
    "execution": {
     "iopub.execute_input": "2024-05-15T12:38:58.096736Z",
     "iopub.status.busy": "2024-05-15T12:38:58.096342Z",
     "iopub.status.idle": "2024-05-15T12:38:58.118115Z",
     "shell.execute_reply": "2024-05-15T12:38:58.116915Z"
    },
    "papermill": {
     "duration": 0.04754,
     "end_time": "2024-05-15T12:38:58.121036",
     "exception": false,
     "start_time": "2024-05-15T12:38:58.073496",
     "status": "completed"
    },
    "tags": []
   },
   "outputs": [],
   "source": [
    "l_num = []\n",
    "for col in test_data4.columns:\n",
    "    if 'Year' not in col and 'Yr' not in col:  # Exclude columns with 'Year' or 'Yr'\n",
    "        if test_data4[col].dtype.kind in ['i', 'f']:  # Check if column is numeric (integer or float)\n",
    "            if len(test_data4[col].unique()) > 10:  # Check if numeric column has 4 or fewer unique values\n",
    "                if col != 'SalePrice':\n",
    "                    l_num.append(col)\n",
    "\n",
    "# scale numerical variables\n",
    "test_data4[l_num] = scaler.fit_transform(test_data4[l_num])"
   ]
  },
  {
   "cell_type": "code",
   "execution_count": 33,
   "id": "f3febf5b",
   "metadata": {
    "collapsed": true,
    "execution": {
     "iopub.execute_input": "2024-05-15T12:38:58.166186Z",
     "iopub.status.busy": "2024-05-15T12:38:58.165797Z",
     "iopub.status.idle": "2024-05-15T12:38:58.289158Z",
     "shell.execute_reply": "2024-05-15T12:38:58.287686Z"
    },
    "jupyter": {
     "outputs_hidden": true
    },
    "papermill": {
     "duration": 0.154209,
     "end_time": "2024-05-15T12:38:58.296083",
     "exception": false,
     "start_time": "2024-05-15T12:38:58.141874",
     "status": "completed"
    },
    "tags": []
   },
   "outputs": [
    {
     "name": "stdout",
     "output_type": "stream",
     "text": [
      "\n",
      " MSZoning\n",
      "RL       0.763537\n",
      "RM       0.165867\n",
      "FV       0.050720\n",
      "other    0.019877\n",
      "Name: proportion, dtype: float64\n",
      "\n",
      " ** NEW MSZoning created correctly**\n",
      "\n",
      " Street\n",
      "Pave     0.995888\n",
      "other    0.004112\n",
      "Name: proportion, dtype: float64\n",
      "\n",
      " ** NEW Street created correctly**\n",
      "\n",
      " LotShape\n",
      "Reg      0.640164\n",
      "IR1      0.331734\n",
      "other    0.028101\n",
      "Name: proportion, dtype: float64\n",
      "\n",
      " ** NEW LotShape created correctly**\n",
      "\n",
      " LandContour\n",
      "Lvl      0.898561\n",
      "other    0.053461\n",
      "HLS      0.047978\n",
      "Name: proportion, dtype: float64\n",
      "\n",
      " ** NEW LandContour created correctly**\n",
      "\n",
      " Utilities\n",
      "AllPub    0.998629\n",
      "other     0.001371\n",
      "Name: proportion, dtype: float64\n",
      "\n",
      " ** NEW Utilities created correctly**\n",
      "\n",
      " LotConfig\n",
      "Inside     0.740918\n",
      "Corner     0.169979\n",
      "CulDSac    0.056203\n",
      "other      0.032899\n",
      "Name: proportion, dtype: float64\n",
      "\n",
      " ** NEW LotConfig created correctly**\n",
      "\n",
      " LandSlope\n",
      "Gtl      0.95682\n",
      "other    0.04318\n",
      "Name: proportion, dtype: float64\n",
      "\n",
      " ** NEW LandSlope created correctly**\n",
      "\n",
      " Neighborhood\n",
      "other      0.291295\n",
      "NAmes      0.149417\n",
      "OldTown    0.086361\n",
      "CollgCr    0.080192\n",
      "Somerst    0.065798\n",
      "Edwards    0.064428\n",
      "NridgHt    0.061001\n",
      "Gilbert    0.058944\n",
      "Sawyer     0.052776\n",
      "SawyerW    0.045236\n",
      "Mitchel    0.044551\n",
      "Name: proportion, dtype: float64\n",
      "\n",
      " ** NEW Neighborhood created correctly**\n",
      "\n",
      " Condition1\n",
      "Norm     0.857437\n",
      "other    0.142563\n",
      "Name: proportion, dtype: float64\n",
      "\n",
      " ** NEW Condition1 created correctly**\n",
      "\n",
      " Condition2\n",
      "Norm     0.989719\n",
      "other    0.010281\n",
      "Name: proportion, dtype: float64\n",
      "\n",
      " ** NEW Condition2 created correctly**\n",
      "\n",
      " BldgType\n",
      "1Fam      0.825908\n",
      "other     0.096642\n",
      "TwnhsE    0.077450\n",
      "Name: proportion, dtype: float64\n",
      "\n",
      " ** NEW BldgType created correctly**\n",
      "\n",
      " HouseStyle\n",
      "1Story    0.510624\n",
      "2Story    0.292666\n",
      "1.5Fin    0.109664\n",
      "other     0.043866\n",
      "SLvl      0.043180\n",
      "Name: proportion, dtype: float64\n",
      "\n",
      " ** NEW HouseStyle created correctly**\n",
      "\n",
      " RoofStyle\n",
      "Gable    0.801234\n",
      "Hip      0.181631\n",
      "other    0.017135\n",
      "Name: proportion, dtype: float64\n",
      "\n",
      " ** NEW RoofStyle created correctly**\n",
      "\n",
      " RoofMatl\n",
      "CompShg    0.988348\n",
      "other      0.011652\n",
      "Name: proportion, dtype: float64\n",
      "\n",
      " ** NEW RoofMatl created correctly**\n",
      "\n",
      " Exterior1st\n",
      "VinylSd    0.349554\n",
      "MetalSd    0.157642\n",
      "HdBoard    0.150788\n",
      "Wd Sdng    0.140507\n",
      "other      0.079507\n",
      "Plywood    0.077450\n",
      "CemntBd    0.044551\n",
      "Name: proportion, dtype: float64\n",
      "\n",
      " ** NEW Exterior1st created correctly**\n",
      "\n",
      " Exterior2nd\n",
      "VinylSd    0.349554\n",
      "MetalSd    0.159698\n",
      "HdBoard    0.136395\n",
      "Wd Sdng    0.132968\n",
      "other      0.088417\n",
      "Plywood    0.087731\n",
      "CmentBd    0.045236\n",
      "Name: proportion, dtype: float64\n",
      "\n",
      " ** NEW Exterior2nd created correctly**\n",
      "\n",
      " ExterQual\n",
      "TA       0.611378\n",
      "other    0.388622\n",
      "Name: proportion, dtype: float64\n",
      "\n",
      " ** NEW ExterQual created correctly**\n",
      "\n",
      " ExterCond\n",
      "TA       0.860864\n",
      "other    0.139136\n",
      "Name: proportion, dtype: float64\n",
      "\n",
      " ** NEW ExterCond created correctly**\n",
      "\n",
      " Foundation\n",
      "PConc     0.453050\n",
      "other     0.433859\n",
      "BrkTil    0.113091\n",
      "Name: proportion, dtype: float64\n",
      "\n",
      " ** NEW Foundation created correctly**\n",
      "\n",
      " BsmtQual\n",
      "other    0.565456\n",
      "TA       0.434544\n",
      "Name: proportion, dtype: float64\n",
      "\n",
      " ** NEW BsmtQual created correctly**\n",
      "\n",
      " BsmtCond\n",
      "TA       0.887594\n",
      "other    0.112406\n",
      "Name: proportion, dtype: float64\n",
      "\n",
      " ** NEW BsmtCond created correctly**\n",
      "\n",
      " BsmtExposure\n",
      "No       0.651816\n",
      "Av       0.135024\n",
      "other    0.127485\n",
      "Mn       0.085675\n",
      "Name: proportion, dtype: float64\n",
      "\n",
      " ** NEW BsmtExposure created correctly**\n",
      "\n",
      " BsmtFinType1\n",
      "other    0.711446\n",
      "Unf      0.288554\n",
      "Name: proportion, dtype: float64\n",
      "\n",
      " ** NEW BsmtFinType1 created correctly**\n",
      "\n",
      " BsmtFinType2\n",
      "Unf      0.847841\n",
      "other    0.152159\n",
      "Name: proportion, dtype: float64\n",
      "\n",
      " ** NEW BsmtFinType2 created correctly**\n",
      "\n",
      " Heating\n",
      "GasA     0.99109\n",
      "other    0.00891\n",
      "Name: proportion, dtype: float64\n",
      "\n",
      " ** NEW Heating created correctly**\n",
      "\n",
      " HeatingQC\n",
      "other    0.705963\n",
      "TA       0.294037\n",
      "Name: proportion, dtype: float64\n",
      "\n",
      " ** NEW HeatingQC created correctly**\n",
      "\n",
      " CentralAir\n",
      "Y    0.930775\n",
      "N    0.069225\n",
      "Name: proportion, dtype: float64\n",
      "\n",
      " ** NEW CentralAir created correctly**\n",
      "\n",
      " Electrical\n",
      "SBrkr    0.916381\n",
      "FuseA    0.064428\n",
      "other    0.019191\n",
      "Name: proportion, dtype: float64\n",
      "\n",
      " ** NEW Electrical created correctly**\n",
      "\n",
      " KitchenQual\n",
      "TA       0.518849\n",
      "other    0.481151\n",
      "Name: proportion, dtype: float64\n",
      "\n",
      " ** NEW KitchenQual created correctly**\n",
      "\n",
      " Functional\n",
      "Typ      0.930089\n",
      "other    0.069911\n",
      "Name: proportion, dtype: float64\n",
      "\n",
      " ** NEW Functional created correctly**\n",
      "\n",
      " GarageType\n",
      "Attchd     0.584647\n",
      "Detchd     0.268677\n",
      "other      0.079507\n",
      "BuiltIn    0.067169\n",
      "Name: proportion, dtype: float64\n",
      "\n",
      " ** NEW GarageType created correctly**\n",
      "\n",
      " GarageFinish\n",
      "Unf      0.428376\n",
      "RFn      0.266621\n",
      "Fin      0.251542\n",
      "other    0.053461\n",
      "Name: proportion, dtype: float64\n",
      "\n",
      " ** NEW GarageFinish created correctly**\n",
      "\n",
      " GarageQual\n",
      "TA       0.886223\n",
      "other    0.113777\n",
      "Name: proportion, dtype: float64\n",
      "\n",
      " ** NEW GarageQual created correctly**\n",
      "\n",
      " GarageCond\n",
      "TA       0.910212\n",
      "other    0.089788\n",
      "Name: proportion, dtype: float64\n",
      "\n",
      " ** NEW GarageCond created correctly**\n",
      "\n",
      " PavedDrive\n",
      "Y        0.891707\n",
      "N        0.086361\n",
      "other    0.021933\n",
      "Name: proportion, dtype: float64\n",
      "\n",
      " ** NEW PavedDrive created correctly**\n",
      "\n",
      " SaleType\n",
      "WD       0.862234\n",
      "New      0.080192\n",
      "other    0.057574\n",
      "Name: proportion, dtype: float64\n",
      "\n",
      " ** NEW SaleType created correctly**\n",
      "\n",
      " SaleCondition\n",
      "Normal     0.825223\n",
      "Partial    0.082248\n",
      "Abnorml    0.061001\n",
      "other      0.031528\n",
      "Name: proportion, dtype: float64\n",
      "\n",
      " ** NEW SaleCondition created correctly**\n"
     ]
    }
   ],
   "source": [
    "# create list of categorical variables\n",
    "l_cat = []\n",
    "for col in test_data4.columns:\n",
    "    if test_data4[col].dtype.kind == 'O':\n",
    "        l_cat.append(col)\n",
    "\n",
    "# replace low frequent (<6%) values with \"others\"\n",
    "replace_less_frequent(df=test_data4, list_col=l_cat, threshold=0.04)"
   ]
  },
  {
   "cell_type": "code",
   "execution_count": 34,
   "id": "e935b016",
   "metadata": {
    "execution": {
     "iopub.execute_input": "2024-05-15T12:38:58.345007Z",
     "iopub.status.busy": "2024-05-15T12:38:58.344539Z",
     "iopub.status.idle": "2024-05-15T12:38:58.382284Z",
     "shell.execute_reply": "2024-05-15T12:38:58.381267Z"
    },
    "papermill": {
     "duration": 0.063338,
     "end_time": "2024-05-15T12:38:58.385064",
     "exception": false,
     "start_time": "2024-05-15T12:38:58.321726",
     "status": "completed"
    },
    "tags": []
   },
   "outputs": [],
   "source": [
    "# Apply the trained encoders from 'home_data5' to 'home_data5'\n",
    "for col, encoder in encoders.items():\n",
    "    if col in test_data4.columns:\n",
    "        test_data4[col] = encoder.transform(test_data4[col])"
   ]
  },
  {
   "cell_type": "code",
   "execution_count": 35,
   "id": "dfcb78a1",
   "metadata": {
    "execution": {
     "iopub.execute_input": "2024-05-15T12:38:58.429851Z",
     "iopub.status.busy": "2024-05-15T12:38:58.429382Z",
     "iopub.status.idle": "2024-05-15T12:38:58.487575Z",
     "shell.execute_reply": "2024-05-15T12:38:58.485734Z"
    },
    "papermill": {
     "duration": 0.085227,
     "end_time": "2024-05-15T12:38:58.492013",
     "exception": false,
     "start_time": "2024-05-15T12:38:58.406786",
     "status": "completed"
    },
    "tags": []
   },
   "outputs": [],
   "source": [
    "l_cat = []\n",
    "for col in test_data4.columns:\n",
    "    if test_data4[col].dtype == 'object':\n",
    "        l_cat.append(col)\n",
    "        \n",
    "# create dummy variables\n",
    "test_data_dummies = pd.get_dummies(test_data4, columns=l_cat, dtype='int32')"
   ]
  },
  {
   "cell_type": "code",
   "execution_count": 36,
   "id": "6a4affac",
   "metadata": {
    "execution": {
     "iopub.execute_input": "2024-05-15T12:38:58.547172Z",
     "iopub.status.busy": "2024-05-15T12:38:58.546109Z",
     "iopub.status.idle": "2024-05-15T12:38:58.570869Z",
     "shell.execute_reply": "2024-05-15T12:38:58.569686Z"
    },
    "papermill": {
     "duration": 0.052248,
     "end_time": "2024-05-15T12:38:58.573916",
     "exception": false,
     "start_time": "2024-05-15T12:38:58.521668",
     "status": "completed"
    },
    "tags": []
   },
   "outputs": [
    {
     "data": {
      "text/html": [
       "<div>\n",
       "<style scoped>\n",
       "    .dataframe tbody tr th:only-of-type {\n",
       "        vertical-align: middle;\n",
       "    }\n",
       "\n",
       "    .dataframe tbody tr th {\n",
       "        vertical-align: top;\n",
       "    }\n",
       "\n",
       "    .dataframe thead th {\n",
       "        text-align: right;\n",
       "    }\n",
       "</style>\n",
       "<table border=\"1\" class=\"dataframe\">\n",
       "  <thead>\n",
       "    <tr style=\"text-align: right;\">\n",
       "      <th></th>\n",
       "      <th>MSSubClass</th>\n",
       "      <th>MSZoning</th>\n",
       "      <th>LotArea</th>\n",
       "      <th>LotConfig</th>\n",
       "      <th>Neighborhood</th>\n",
       "      <th>HouseStyle</th>\n",
       "      <th>OverallQual</th>\n",
       "      <th>OverallCond</th>\n",
       "      <th>YearBuilt</th>\n",
       "      <th>YearRemodAdd</th>\n",
       "      <th>...</th>\n",
       "      <th>GarageQual_TA</th>\n",
       "      <th>GarageQual_other</th>\n",
       "      <th>GarageCond_TA</th>\n",
       "      <th>GarageCond_other</th>\n",
       "      <th>PavedDrive_N</th>\n",
       "      <th>PavedDrive_Y</th>\n",
       "      <th>PavedDrive_other</th>\n",
       "      <th>SaleType_New</th>\n",
       "      <th>SaleType_WD</th>\n",
       "      <th>SaleType_other</th>\n",
       "    </tr>\n",
       "    <tr>\n",
       "      <th>Id</th>\n",
       "      <th></th>\n",
       "      <th></th>\n",
       "      <th></th>\n",
       "      <th></th>\n",
       "      <th></th>\n",
       "      <th></th>\n",
       "      <th></th>\n",
       "      <th></th>\n",
       "      <th></th>\n",
       "      <th></th>\n",
       "      <th></th>\n",
       "      <th></th>\n",
       "      <th></th>\n",
       "      <th></th>\n",
       "      <th></th>\n",
       "      <th></th>\n",
       "      <th></th>\n",
       "      <th></th>\n",
       "      <th></th>\n",
       "      <th></th>\n",
       "      <th></th>\n",
       "    </tr>\n",
       "  </thead>\n",
       "  <tbody>\n",
       "    <tr>\n",
       "      <th>1461</th>\n",
       "      <td>0.000000</td>\n",
       "      <td>134887.463418</td>\n",
       "      <td>0.184147</td>\n",
       "      <td>176938.047529</td>\n",
       "      <td>145847.080044</td>\n",
       "      <td>175985.477961</td>\n",
       "      <td>5</td>\n",
       "      <td>6</td>\n",
       "      <td>1961</td>\n",
       "      <td>1961</td>\n",
       "      <td>...</td>\n",
       "      <td>1</td>\n",
       "      <td>0</td>\n",
       "      <td>1</td>\n",
       "      <td>0</td>\n",
       "      <td>0</td>\n",
       "      <td>1</td>\n",
       "      <td>0</td>\n",
       "      <td>0</td>\n",
       "      <td>1</td>\n",
       "      <td>0</td>\n",
       "    </tr>\n",
       "    <tr>\n",
       "      <th>1462</th>\n",
       "      <td>0.000000</td>\n",
       "      <td>191004.994787</td>\n",
       "      <td>0.232124</td>\n",
       "      <td>181623.425855</td>\n",
       "      <td>145847.080044</td>\n",
       "      <td>175985.477961</td>\n",
       "      <td>6</td>\n",
       "      <td>6</td>\n",
       "      <td>1958</td>\n",
       "      <td>1958</td>\n",
       "      <td>...</td>\n",
       "      <td>1</td>\n",
       "      <td>0</td>\n",
       "      <td>1</td>\n",
       "      <td>0</td>\n",
       "      <td>0</td>\n",
       "      <td>1</td>\n",
       "      <td>0</td>\n",
       "      <td>0</td>\n",
       "      <td>1</td>\n",
       "      <td>0</td>\n",
       "    </tr>\n",
       "    <tr>\n",
       "      <th>1463</th>\n",
       "      <td>0.235294</td>\n",
       "      <td>191004.994787</td>\n",
       "      <td>0.224197</td>\n",
       "      <td>176938.047529</td>\n",
       "      <td>192821.904993</td>\n",
       "      <td>210051.764045</td>\n",
       "      <td>5</td>\n",
       "      <td>5</td>\n",
       "      <td>1997</td>\n",
       "      <td>1998</td>\n",
       "      <td>...</td>\n",
       "      <td>1</td>\n",
       "      <td>0</td>\n",
       "      <td>1</td>\n",
       "      <td>0</td>\n",
       "      <td>0</td>\n",
       "      <td>1</td>\n",
       "      <td>0</td>\n",
       "      <td>0</td>\n",
       "      <td>1</td>\n",
       "      <td>0</td>\n",
       "    </tr>\n",
       "    <tr>\n",
       "      <th>1464</th>\n",
       "      <td>0.235294</td>\n",
       "      <td>191004.994787</td>\n",
       "      <td>0.154326</td>\n",
       "      <td>176938.047529</td>\n",
       "      <td>192821.904993</td>\n",
       "      <td>210051.764045</td>\n",
       "      <td>6</td>\n",
       "      <td>6</td>\n",
       "      <td>1998</td>\n",
       "      <td>1998</td>\n",
       "      <td>...</td>\n",
       "      <td>1</td>\n",
       "      <td>0</td>\n",
       "      <td>1</td>\n",
       "      <td>0</td>\n",
       "      <td>0</td>\n",
       "      <td>1</td>\n",
       "      <td>0</td>\n",
       "      <td>0</td>\n",
       "      <td>1</td>\n",
       "      <td>0</td>\n",
       "    </tr>\n",
       "    <tr>\n",
       "      <th>1465</th>\n",
       "      <td>0.588235</td>\n",
       "      <td>191004.994787</td>\n",
       "      <td>0.064121</td>\n",
       "      <td>176938.047529</td>\n",
       "      <td>189674.313679</td>\n",
       "      <td>175985.477961</td>\n",
       "      <td>8</td>\n",
       "      <td>5</td>\n",
       "      <td>1992</td>\n",
       "      <td>1992</td>\n",
       "      <td>...</td>\n",
       "      <td>1</td>\n",
       "      <td>0</td>\n",
       "      <td>1</td>\n",
       "      <td>0</td>\n",
       "      <td>0</td>\n",
       "      <td>1</td>\n",
       "      <td>0</td>\n",
       "      <td>0</td>\n",
       "      <td>1</td>\n",
       "      <td>0</td>\n",
       "    </tr>\n",
       "  </tbody>\n",
       "</table>\n",
       "<p>5 rows × 107 columns</p>\n",
       "</div>"
      ],
      "text/plain": [
       "      MSSubClass       MSZoning   LotArea      LotConfig   Neighborhood  \\\n",
       "Id                                                                        \n",
       "1461    0.000000  134887.463418  0.184147  176938.047529  145847.080044   \n",
       "1462    0.000000  191004.994787  0.232124  181623.425855  145847.080044   \n",
       "1463    0.235294  191004.994787  0.224197  176938.047529  192821.904993   \n",
       "1464    0.235294  191004.994787  0.154326  176938.047529  192821.904993   \n",
       "1465    0.588235  191004.994787  0.064121  176938.047529  189674.313679   \n",
       "\n",
       "         HouseStyle  OverallQual  OverallCond  YearBuilt  YearRemodAdd  ...  \\\n",
       "Id                                                                      ...   \n",
       "1461  175985.477961            5            6       1961          1961  ...   \n",
       "1462  175985.477961            6            6       1958          1958  ...   \n",
       "1463  210051.764045            5            5       1997          1998  ...   \n",
       "1464  210051.764045            6            6       1998          1998  ...   \n",
       "1465  175985.477961            8            5       1992          1992  ...   \n",
       "\n",
       "      GarageQual_TA  GarageQual_other  GarageCond_TA  GarageCond_other  \\\n",
       "Id                                                                       \n",
       "1461              1                 0              1                 0   \n",
       "1462              1                 0              1                 0   \n",
       "1463              1                 0              1                 0   \n",
       "1464              1                 0              1                 0   \n",
       "1465              1                 0              1                 0   \n",
       "\n",
       "      PavedDrive_N  PavedDrive_Y  PavedDrive_other  SaleType_New  SaleType_WD  \\\n",
       "Id                                                                              \n",
       "1461             0             1                 0             0            1   \n",
       "1462             0             1                 0             0            1   \n",
       "1463             0             1                 0             0            1   \n",
       "1464             0             1                 0             0            1   \n",
       "1465             0             1                 0             0            1   \n",
       "\n",
       "      SaleType_other  \n",
       "Id                    \n",
       "1461               0  \n",
       "1462               0  \n",
       "1463               0  \n",
       "1464               0  \n",
       "1465               0  \n",
       "\n",
       "[5 rows x 107 columns]"
      ]
     },
     "execution_count": 36,
     "metadata": {},
     "output_type": "execute_result"
    }
   ],
   "source": [
    "test_data_dummies.head()"
   ]
  },
  {
   "cell_type": "markdown",
   "id": "99c203c2",
   "metadata": {
    "papermill": {
     "duration": 0.021638,
     "end_time": "2024-05-15T12:38:58.617261",
     "exception": false,
     "start_time": "2024-05-15T12:38:58.595623",
     "status": "completed"
    },
    "tags": []
   },
   "source": [
    "# Train a new model"
   ]
  },
  {
   "cell_type": "code",
   "execution_count": 37,
   "id": "32df24ad",
   "metadata": {
    "execution": {
     "iopub.execute_input": "2024-05-15T12:38:58.662355Z",
     "iopub.status.busy": "2024-05-15T12:38:58.661904Z",
     "iopub.status.idle": "2024-05-15T12:38:58.667412Z",
     "shell.execute_reply": "2024-05-15T12:38:58.666214Z"
    },
    "papermill": {
     "duration": 0.031273,
     "end_time": "2024-05-15T12:38:58.669992",
     "exception": false,
     "start_time": "2024-05-15T12:38:58.638719",
     "status": "completed"
    },
    "tags": []
   },
   "outputs": [],
   "source": [
    "import random\n",
    "from sklearn.model_selection import train_test_split\n",
    "from sklearn.ensemble import RandomForestRegressor\n",
    "from sklearn.metrics import mean_absolute_error"
   ]
  },
  {
   "cell_type": "code",
   "execution_count": 38,
   "id": "8a3a84a6",
   "metadata": {
    "execution": {
     "iopub.execute_input": "2024-05-15T12:38:58.723218Z",
     "iopub.status.busy": "2024-05-15T12:38:58.722718Z",
     "iopub.status.idle": "2024-05-15T12:38:58.730512Z",
     "shell.execute_reply": "2024-05-15T12:38:58.729362Z"
    },
    "papermill": {
     "duration": 0.03785,
     "end_time": "2024-05-15T12:38:58.733192",
     "exception": false,
     "start_time": "2024-05-15T12:38:58.695342",
     "status": "completed"
    },
    "tags": []
   },
   "outputs": [],
   "source": [
    "# Function to optimize max_leaf_nodes\n",
    "def get_mae(max_leaf_nodes, train_X, val_X, train_y, val_y):\n",
    "    model = DecisionTreeRegressor(max_leaf_nodes=max_leaf_nodes, random_state=0)\n",
    "    model.fit(train_X, train_y)\n",
    "    preds_val = model.predict(val_X)\n",
    "    mae = mean_absolute_error(val_y, preds_val)\n",
    "    return(mae)"
   ]
  },
  {
   "cell_type": "code",
   "execution_count": 39,
   "id": "c775e53d",
   "metadata": {
    "collapsed": true,
    "execution": {
     "iopub.execute_input": "2024-05-15T12:38:58.781320Z",
     "iopub.status.busy": "2024-05-15T12:38:58.780720Z",
     "iopub.status.idle": "2024-05-15T12:38:58.791005Z",
     "shell.execute_reply": "2024-05-15T12:38:58.789741Z"
    },
    "jupyter": {
     "outputs_hidden": true
    },
    "papermill": {
     "duration": 0.037119,
     "end_time": "2024-05-15T12:38:58.793456",
     "exception": false,
     "start_time": "2024-05-15T12:38:58.756337",
     "status": "completed"
    },
    "tags": []
   },
   "outputs": [
    {
     "data": {
      "text/plain": [
       "'\\nX = home_data_dummies[list(high_corr_features_unique)]\\ny = home_data_dummies.SalePrice\\n\\ntrain_X, val_X, train_y, val_y = train_test_split(X, y, random_state=1)\\n\\nfor max_leaf_nodes in range(10, 10000, 50):\\n    rf_model = RandomForestRegressor(random_state=1, max_leaf_nodes=max_leaf_nodes)\\n    rf_model.fit(train_X, train_y)\\n    rf_val_predictions = rf_model.predict(val_X)\\n    rf_val_mae = mean_absolute_error(rf_val_predictions, val_y)\\n    \\n    print(\"Max leaf nodes: %d \\t\\t Mean Absolute Error: %d\" %(max_leaf_nodes, rf_val_mae))\\n    \\n    if rf_val_mae < 15000:\\n        print(\"Stopping criteria reached.\")\\n        break\\n'"
      ]
     },
     "execution_count": 39,
     "metadata": {},
     "output_type": "execute_result"
    }
   ],
   "source": [
    "\"\"\"\n",
    "X = home_data_dummies[list(high_corr_features_unique)]\n",
    "y = home_data_dummies.SalePrice\n",
    "\n",
    "train_X, val_X, train_y, val_y = train_test_split(X, y, random_state=1)\n",
    "\n",
    "for max_leaf_nodes in range(10, 10000, 50):\n",
    "    rf_model = RandomForestRegressor(random_state=1, max_leaf_nodes=max_leaf_nodes)\n",
    "    rf_model.fit(train_X, train_y)\n",
    "    rf_val_predictions = rf_model.predict(val_X)\n",
    "    rf_val_mae = mean_absolute_error(rf_val_predictions, val_y)\n",
    "    \n",
    "    print(\"Max leaf nodes: %d \\t\\t Mean Absolute Error: %d\" %(max_leaf_nodes, rf_val_mae))\n",
    "    \n",
    "    if rf_val_mae < 15000:\n",
    "        print(\"Stopping criteria reached.\")\n",
    "        break\n",
    "\"\"\""
   ]
  },
  {
   "cell_type": "code",
   "execution_count": 40,
   "id": "e5e1e0ac",
   "metadata": {
    "execution": {
     "iopub.execute_input": "2024-05-15T12:38:58.839433Z",
     "iopub.status.busy": "2024-05-15T12:38:58.838991Z",
     "iopub.status.idle": "2024-05-15T12:38:58.848138Z",
     "shell.execute_reply": "2024-05-15T12:38:58.846999Z"
    },
    "papermill": {
     "duration": 0.035108,
     "end_time": "2024-05-15T12:38:58.850580",
     "exception": false,
     "start_time": "2024-05-15T12:38:58.815472",
     "status": "completed"
    },
    "tags": []
   },
   "outputs": [
    {
     "data": {
      "text/plain": [
       "'X = home_data_dummies[list(high_corr_features_unique)]\\n#X = home_data_dummies.drop([\\'SalePrice\\'], axis=1)\\ny = home_data_dummies.SalePrice\\n\\ntrain_X, val_X, train_y, val_y = train_test_split(X, y, random_state=1)\\n\\n# Define hyperparameters to explore\\nn_estimators_list = [50, 100, 150, 200]  # Add more values\\nmax_depth_list = [None, 10, 20, 30]  # Add more values\\nmin_samples_split_list = [2, 5, 10, 15]  # Add more values\\n\\nbest_mae = float(\\'inf\\')\\nbest_hyperparameters = {}\\n\\nfor n_estimators in n_estimators_list:\\n    for max_depth in max_depth_list:\\n        for min_samples_split in min_samples_split_list:\\n            rf_model = RandomForestRegressor(n_estimators=n_estimators, max_depth=max_depth, min_samples_split=min_samples_split, random_state=1, max_leaf_nodes=600)\\n            rf_model.fit(train_X, train_y)\\n            rf_val_predictions = rf_model.predict(val_X)\\n            rf_val_mae = mean_absolute_error(rf_val_predictions, val_y)\\n            \\n            print(\"n_estimators: {}, max_depth: {}, min_samples_split: {} \\t\\t Mean Absolute Error: {}\".format(n_estimators, max_depth, min_samples_split, rf_val_mae))\\n            \\n            if rf_val_mae < best_mae:\\n                best_mae = rf_val_mae\\n                best_hyperparameters = {\\'n_estimators\\': n_estimators, \\'max_depth\\': max_depth, \\'min_samples_split\\': min_samples_split}\\n\\nprint(\"\\nBest Hyperparameters:\")\\nprint(best_hyperparameters)\\nprint(\"Best Mean Absolute Error:\", best_mae)'"
      ]
     },
     "execution_count": 40,
     "metadata": {},
     "output_type": "execute_result"
    }
   ],
   "source": [
    "\"\"\"X = home_data_dummies[list(high_corr_features_unique)]\n",
    "#X = home_data_dummies.drop(['SalePrice'], axis=1)\n",
    "y = home_data_dummies.SalePrice\n",
    "\n",
    "train_X, val_X, train_y, val_y = train_test_split(X, y, random_state=1)\n",
    "\n",
    "# Define hyperparameters to explore\n",
    "n_estimators_list = [50, 100, 150, 200]  # Add more values\n",
    "max_depth_list = [None, 10, 20, 30]  # Add more values\n",
    "min_samples_split_list = [2, 5, 10, 15]  # Add more values\n",
    "\n",
    "best_mae = float('inf')\n",
    "best_hyperparameters = {}\n",
    "\n",
    "for n_estimators in n_estimators_list:\n",
    "    for max_depth in max_depth_list:\n",
    "        for min_samples_split in min_samples_split_list:\n",
    "            rf_model = RandomForestRegressor(n_estimators=n_estimators, max_depth=max_depth, min_samples_split=min_samples_split, random_state=1, max_leaf_nodes=600)\n",
    "            rf_model.fit(train_X, train_y)\n",
    "            rf_val_predictions = rf_model.predict(val_X)\n",
    "            rf_val_mae = mean_absolute_error(rf_val_predictions, val_y)\n",
    "            \n",
    "            print(\"n_estimators: {}, max_depth: {}, min_samples_split: {} \\t\\t Mean Absolute Error: {}\".format(n_estimators, max_depth, min_samples_split, rf_val_mae))\n",
    "            \n",
    "            if rf_val_mae < best_mae:\n",
    "                best_mae = rf_val_mae\n",
    "                best_hyperparameters = {'n_estimators': n_estimators, 'max_depth': max_depth, 'min_samples_split': min_samples_split}\n",
    "\n",
    "print(\"\\nBest Hyperparameters:\")\n",
    "print(best_hyperparameters)\n",
    "print(\"Best Mean Absolute Error:\", best_mae)\"\"\""
   ]
  },
  {
   "cell_type": "markdown",
   "id": "b6bf1e1e",
   "metadata": {
    "papermill": {
     "duration": 0.02172,
     "end_time": "2024-05-15T12:38:58.894177",
     "exception": false,
     "start_time": "2024-05-15T12:38:58.872457",
     "status": "completed"
    },
    "tags": []
   },
   "source": [
    "# Train in all data with best hyperparameters"
   ]
  },
  {
   "cell_type": "code",
   "execution_count": 41,
   "id": "792c7f1d",
   "metadata": {
    "execution": {
     "iopub.execute_input": "2024-05-15T12:38:58.939699Z",
     "iopub.status.busy": "2024-05-15T12:38:58.939287Z",
     "iopub.status.idle": "2024-05-15T12:38:58.944899Z",
     "shell.execute_reply": "2024-05-15T12:38:58.943710Z"
    },
    "papermill": {
     "duration": 0.031529,
     "end_time": "2024-05-15T12:38:58.947573",
     "exception": false,
     "start_time": "2024-05-15T12:38:58.916044",
     "status": "completed"
    },
    "tags": []
   },
   "outputs": [],
   "source": [
    "high_corr_features_unique_test = set(test_data_dummies.columns).intersection(high_corr_features_unique)"
   ]
  },
  {
   "cell_type": "code",
   "execution_count": 42,
   "id": "cbc7273b",
   "metadata": {
    "execution": {
     "iopub.execute_input": "2024-05-15T12:38:58.992798Z",
     "iopub.status.busy": "2024-05-15T12:38:58.992350Z",
     "iopub.status.idle": "2024-05-15T12:38:59.002534Z",
     "shell.execute_reply": "2024-05-15T12:38:59.001528Z"
    },
    "papermill": {
     "duration": 0.035681,
     "end_time": "2024-05-15T12:38:59.005129",
     "exception": false,
     "start_time": "2024-05-15T12:38:58.969448",
     "status": "completed"
    },
    "tags": []
   },
   "outputs": [],
   "source": [
    "common_columns = list(set(home_data_dummies[list(high_corr_features_unique)].columns).intersection(test_data_dummies[list(high_corr_features_unique_test)].columns))"
   ]
  },
  {
   "cell_type": "code",
   "execution_count": 43,
   "id": "42bd8a3a",
   "metadata": {
    "execution": {
     "iopub.execute_input": "2024-05-15T12:38:59.051840Z",
     "iopub.status.busy": "2024-05-15T12:38:59.050838Z",
     "iopub.status.idle": "2024-05-15T12:39:04.002249Z",
     "shell.execute_reply": "2024-05-15T12:39:04.001142Z"
    },
    "papermill": {
     "duration": 4.977557,
     "end_time": "2024-05-15T12:39:04.004837",
     "exception": false,
     "start_time": "2024-05-15T12:38:59.027280",
     "status": "completed"
    },
    "tags": []
   },
   "outputs": [
    {
     "data": {
      "text/html": [
       "<style>#sk-container-id-1 {color: black;background-color: white;}#sk-container-id-1 pre{padding: 0;}#sk-container-id-1 div.sk-toggleable {background-color: white;}#sk-container-id-1 label.sk-toggleable__label {cursor: pointer;display: block;width: 100%;margin-bottom: 0;padding: 0.3em;box-sizing: border-box;text-align: center;}#sk-container-id-1 label.sk-toggleable__label-arrow:before {content: \"▸\";float: left;margin-right: 0.25em;color: #696969;}#sk-container-id-1 label.sk-toggleable__label-arrow:hover:before {color: black;}#sk-container-id-1 div.sk-estimator:hover label.sk-toggleable__label-arrow:before {color: black;}#sk-container-id-1 div.sk-toggleable__content {max-height: 0;max-width: 0;overflow: hidden;text-align: left;background-color: #f0f8ff;}#sk-container-id-1 div.sk-toggleable__content pre {margin: 0.2em;color: black;border-radius: 0.25em;background-color: #f0f8ff;}#sk-container-id-1 input.sk-toggleable__control:checked~div.sk-toggleable__content {max-height: 200px;max-width: 100%;overflow: auto;}#sk-container-id-1 input.sk-toggleable__control:checked~label.sk-toggleable__label-arrow:before {content: \"▾\";}#sk-container-id-1 div.sk-estimator input.sk-toggleable__control:checked~label.sk-toggleable__label {background-color: #d4ebff;}#sk-container-id-1 div.sk-label input.sk-toggleable__control:checked~label.sk-toggleable__label {background-color: #d4ebff;}#sk-container-id-1 input.sk-hidden--visually {border: 0;clip: rect(1px 1px 1px 1px);clip: rect(1px, 1px, 1px, 1px);height: 1px;margin: -1px;overflow: hidden;padding: 0;position: absolute;width: 1px;}#sk-container-id-1 div.sk-estimator {font-family: monospace;background-color: #f0f8ff;border: 1px dotted black;border-radius: 0.25em;box-sizing: border-box;margin-bottom: 0.5em;}#sk-container-id-1 div.sk-estimator:hover {background-color: #d4ebff;}#sk-container-id-1 div.sk-parallel-item::after {content: \"\";width: 100%;border-bottom: 1px solid gray;flex-grow: 1;}#sk-container-id-1 div.sk-label:hover label.sk-toggleable__label {background-color: #d4ebff;}#sk-container-id-1 div.sk-serial::before {content: \"\";position: absolute;border-left: 1px solid gray;box-sizing: border-box;top: 0;bottom: 0;left: 50%;z-index: 0;}#sk-container-id-1 div.sk-serial {display: flex;flex-direction: column;align-items: center;background-color: white;padding-right: 0.2em;padding-left: 0.2em;position: relative;}#sk-container-id-1 div.sk-item {position: relative;z-index: 1;}#sk-container-id-1 div.sk-parallel {display: flex;align-items: stretch;justify-content: center;background-color: white;position: relative;}#sk-container-id-1 div.sk-item::before, #sk-container-id-1 div.sk-parallel-item::before {content: \"\";position: absolute;border-left: 1px solid gray;box-sizing: border-box;top: 0;bottom: 0;left: 50%;z-index: -1;}#sk-container-id-1 div.sk-parallel-item {display: flex;flex-direction: column;z-index: 1;position: relative;background-color: white;}#sk-container-id-1 div.sk-parallel-item:first-child::after {align-self: flex-end;width: 50%;}#sk-container-id-1 div.sk-parallel-item:last-child::after {align-self: flex-start;width: 50%;}#sk-container-id-1 div.sk-parallel-item:only-child::after {width: 0;}#sk-container-id-1 div.sk-dashed-wrapped {border: 1px dashed gray;margin: 0 0.4em 0.5em 0.4em;box-sizing: border-box;padding-bottom: 0.4em;background-color: white;}#sk-container-id-1 div.sk-label label {font-family: monospace;font-weight: bold;display: inline-block;line-height: 1.2em;}#sk-container-id-1 div.sk-label-container {text-align: center;}#sk-container-id-1 div.sk-container {/* jupyter's `normalize.less` sets `[hidden] { display: none; }` but bootstrap.min.css set `[hidden] { display: none !important; }` so we also need the `!important` here to be able to override the default hidden behavior on the sphinx rendered scikit-learn.org. See: https://github.com/scikit-learn/scikit-learn/issues/21755 */display: inline-block !important;position: relative;}#sk-container-id-1 div.sk-text-repr-fallback {display: none;}</style><div id=\"sk-container-id-1\" class=\"sk-top-container\"><div class=\"sk-text-repr-fallback\"><pre>RandomForestRegressor(max_leaf_nodes=600, n_estimators=200, random_state=1)</pre><b>In a Jupyter environment, please rerun this cell to show the HTML representation or trust the notebook. <br />On GitHub, the HTML representation is unable to render, please try loading this page with nbviewer.org.</b></div><div class=\"sk-container\" hidden><div class=\"sk-item\"><div class=\"sk-estimator sk-toggleable\"><input class=\"sk-toggleable__control sk-hidden--visually\" id=\"sk-estimator-id-1\" type=\"checkbox\" checked><label for=\"sk-estimator-id-1\" class=\"sk-toggleable__label sk-toggleable__label-arrow\">RandomForestRegressor</label><div class=\"sk-toggleable__content\"><pre>RandomForestRegressor(max_leaf_nodes=600, n_estimators=200, random_state=1)</pre></div></div></div></div></div>"
      ],
      "text/plain": [
       "RandomForestRegressor(max_leaf_nodes=600, n_estimators=200, random_state=1)"
      ]
     },
     "execution_count": 43,
     "metadata": {},
     "output_type": "execute_result"
    }
   ],
   "source": [
    "X = home_data_dummies[common_columns] #already without SalePrice\n",
    "y = home_data_dummies.SalePrice\n",
    "\n",
    "# To improve accuracy, train on all training data\n",
    "rf_model_on_full_data = RandomForestRegressor(random_state=1, max_leaf_nodes=600, n_estimators= 200, max_depth= None, min_samples_split= 2)\n",
    "rf_model_on_full_data.fit(X, y)"
   ]
  },
  {
   "cell_type": "code",
   "execution_count": 44,
   "id": "cbb45fcb",
   "metadata": {
    "execution": {
     "iopub.execute_input": "2024-05-15T12:39:04.051681Z",
     "iopub.status.busy": "2024-05-15T12:39:04.051127Z",
     "iopub.status.idle": "2024-05-15T12:39:04.118141Z",
     "shell.execute_reply": "2024-05-15T12:39:04.116933Z"
    },
    "papermill": {
     "duration": 0.093827,
     "end_time": "2024-05-15T12:39:04.120681",
     "exception": false,
     "start_time": "2024-05-15T12:39:04.026854",
     "status": "completed"
    },
    "tags": []
   },
   "outputs": [
    {
     "data": {
      "text/plain": [
       "[135352.0,\n",
       " 160086.0,\n",
       " 195178.0,\n",
       " 204484.0,\n",
       " 216965.0,\n",
       " 192208.0,\n",
       " 168005.0,\n",
       " 178850.0,\n",
       " 218543.0,\n",
       " 137296.0,\n",
       " 222418.0,\n",
       " 95906.0,\n",
       " 108419.0,\n",
       " 162114.0,\n",
       " 144056.0]"
      ]
     },
     "execution_count": 44,
     "metadata": {},
     "output_type": "execute_result"
    }
   ],
   "source": [
    "# make predictions which we will submit. \n",
    "test_preds_modelV2 = rf_model_on_full_data.predict(test_data_dummies[common_columns])\n",
    "\n",
    "test_preds_modelV2[0:15].round(0).tolist()"
   ]
  },
  {
   "cell_type": "markdown",
   "id": "3aa1210f",
   "metadata": {
    "_cell_guid": "9e89cda8-0d34-4937-b71a-0a4f1bf19339",
    "_uuid": "8d18dd34-4140-431a-96fd-7e3b831203f8",
    "papermill": {
     "duration": 0.022229,
     "end_time": "2024-05-15T12:39:04.166127",
     "exception": false,
     "start_time": "2024-05-15T12:39:04.143898",
     "status": "completed"
    },
    "tags": []
   },
   "source": [
    "# Generate a submission\n",
    "\n",
    "Run the code cell below to generate a CSV file with your predictions that you can use to submit to the competition."
   ]
  },
  {
   "cell_type": "code",
   "execution_count": 45,
   "id": "fe90ed40",
   "metadata": {
    "_cell_guid": "215c912f-3de8-43f7-aaae-8aebe5116ece",
    "_uuid": "7e23d00a-daa0-40d3-bbe4-a3935b3e566b",
    "collapsed": false,
    "execution": {
     "iopub.execute_input": "2024-05-15T12:39:04.212303Z",
     "iopub.status.busy": "2024-05-15T12:39:04.211864Z",
     "iopub.status.idle": "2024-05-15T12:39:04.226465Z",
     "shell.execute_reply": "2024-05-15T12:39:04.225176Z"
    },
    "jupyter": {
     "outputs_hidden": false
    },
    "papermill": {
     "duration": 0.041124,
     "end_time": "2024-05-15T12:39:04.229350",
     "exception": false,
     "start_time": "2024-05-15T12:39:04.188226",
     "status": "completed"
    },
    "tags": []
   },
   "outputs": [],
   "source": [
    "# Run the code to save predictions in the format used for competition scoring\n",
    "\n",
    "output = pd.DataFrame({'Id': test_data.index,\n",
    "                       'SalePrice': test_preds_modelV2})\n",
    "output.to_csv('submission_v7.csv', index=False)"
   ]
  },
  {
   "cell_type": "markdown",
   "id": "6baf845d",
   "metadata": {
    "_cell_guid": "21de60e7-b99a-425b-9f24-2329def57a09",
    "_uuid": "404a9aa3-cfd6-4fa3-9808-7d6e1ebc4315",
    "papermill": {
     "duration": 0.022026,
     "end_time": "2024-05-15T12:39:04.273818",
     "exception": false,
     "start_time": "2024-05-15T12:39:04.251792",
     "status": "completed"
    },
    "tags": []
   },
   "source": [
    "# Submit to the competition\n",
    "\n",
    "To test your results, you'll need to join the competition (if you haven't already).  So open a new window by clicking on **[this link](https://www.kaggle.com/c/home-data-for-ml-course)**.  Then click on the **Join Competition** button.\n",
    "\n",
    "![join competition image](https://storage.googleapis.com/kaggle-media/learn/images/axBzctl.png)\n",
    "\n",
    "Next, follow the instructions below:\n",
    "1. Begin by clicking on the **Save Version** button in the top right corner of the window.  This will generate a pop-up window.  \n",
    "2. Ensure that the **Save and Run All** option is selected, and then click on the **Save** button.\n",
    "3. This generates a window in the bottom left corner of the notebook.  After it has finished running, click on the number to the right of the **Save Version** button.  This pulls up a list of versions on the right of the screen.  Click on the ellipsis **(...)** to the right of the most recent version, and select **Open in Viewer**.  This brings you into view mode of the same page. You will need to scroll down to get back to these instructions.\n",
    "4. Click on the **Data** tab near the top of the screen.  Then, click on the file you would like to submit, and click on the **Submit** button to submit your results to the leaderboard.\n",
    "\n",
    "You have now successfully submitted to the competition!\n",
    "\n",
    "If you want to keep working to improve your performance, select the **Edit** button in the top right of the screen. Then you can change your code and repeat the process. There's a lot of room to improve, and you will climb up the leaderboard as you work.\n",
    "\n",
    "\n",
    "# Continue Your Progress\n",
    "There are many ways to improve your model, and **experimenting is a great way to learn at this point.**\n",
    "\n",
    "The best way to improve your model is to add features.  To add more features to the data, revisit the first code cell, and change this line of code to include more column names:\n",
    "```python\n",
    "features = ['LotArea', 'YearBuilt', '1stFlrSF', '2ndFlrSF', 'FullBath', 'BedroomAbvGr', 'TotRmsAbvGrd']\n",
    "```\n",
    "\n",
    "Some features will cause errors because of issues like missing values or non-numeric data types.  Here is a complete list of potential columns that you might like to use, and that won't throw errors:\n",
    "- 'MSSubClass'\n",
    "- 'LotArea'\n",
    "- 'OverallQual' \n",
    "- 'OverallCond' \n",
    "- 'YearBuilt'\n",
    "- 'YearRemodAdd' \n",
    "- '1stFlrSF'\n",
    "- '2ndFlrSF' \n",
    "- 'LowQualFinSF' \n",
    "- 'GrLivArea'\n",
    "- 'FullBath'\n",
    "- 'HalfBath'\n",
    "- 'BedroomAbvGr' \n",
    "- 'KitchenAbvGr' \n",
    "- 'TotRmsAbvGrd' \n",
    "- 'Fireplaces' \n",
    "- 'WoodDeckSF' \n",
    "- 'OpenPorchSF'\n",
    "- 'EnclosedPorch' \n",
    "- '3SsnPorch' \n",
    "- 'ScreenPorch' \n",
    "- 'PoolArea' \n",
    "- 'MiscVal' \n",
    "- 'MoSold' \n",
    "- 'YrSold'\n",
    "\n",
    "Look at the list of columns and think about what might affect home prices.  To learn more about each of these features, take a look at the data description on the **[competition page](https://www.kaggle.com/c/home-data-for-ml-course/data)**.\n",
    "\n",
    "After updating the code cell above that defines the features, re-run all of the code cells to evaluate the model and generate a new submission file.  \n",
    "\n",
    "\n",
    "# What's next?\n",
    "\n",
    "As mentioned above, some of the features will throw an error if you try to use them to train your model.  The **[Intermediate Machine Learning](https://www.kaggle.com/learn/intermediate-machine-learning)** course will teach you how to handle these types of features. You will also learn to use **xgboost**, a technique giving even better accuracy than Random Forest.\n",
    "\n",
    "The **[Pandas](https://kaggle.com/Learn/Pandas)** course will give you the data manipulation skills to quickly go from conceptual idea to implementation in your data science projects. \n",
    "\n",
    "You are also ready for the **[Deep Learning](https://kaggle.com/Learn/intro-to-Deep-Learning)** course, where you will build models with better-than-human level performance at computer vision tasks."
   ]
  },
  {
   "cell_type": "markdown",
   "id": "077eeb9e",
   "metadata": {
    "_cell_guid": "77517d66-fa44-4b8e-a422-c52971e8587e",
    "_uuid": "0d1f017d-4bca-463d-8090-9afc5291a1f7",
    "papermill": {
     "duration": 0.02479,
     "end_time": "2024-05-15T12:39:04.320977",
     "exception": false,
     "start_time": "2024-05-15T12:39:04.296187",
     "status": "completed"
    },
    "tags": []
   },
   "source": [
    "---\n",
    "\n",
    "\n",
    "\n",
    "\n",
    "*Have questions or comments? Visit the [course discussion forum](https://www.kaggle.com/learn/intro-to-machine-learning/discussion) to chat with other learners.*"
   ]
  }
 ],
 "metadata": {
  "kaggle": {
   "accelerator": "none",
   "dataSources": [
    {
     "databundleVersionId": 111096,
     "sourceId": 10211,
     "sourceType": "competition"
    }
   ],
   "isGpuEnabled": false,
   "isInternetEnabled": false,
   "language": "python",
   "sourceType": "notebook"
  },
  "kernelspec": {
   "display_name": "Python 3",
   "language": "python",
   "name": "python3"
  },
  "language_info": {
   "codemirror_mode": {
    "name": "ipython",
    "version": 3
   },
   "file_extension": ".py",
   "mimetype": "text/x-python",
   "name": "python",
   "nbconvert_exporter": "python",
   "pygments_lexer": "ipython3",
   "version": "3.10.13"
  },
  "papermill": {
   "default_parameters": {},
   "duration": 16.231742,
   "end_time": "2024-05-15T12:39:05.066513",
   "environment_variables": {},
   "exception": null,
   "input_path": "__notebook__.ipynb",
   "output_path": "__notebook__.ipynb",
   "parameters": {},
   "start_time": "2024-05-15T12:38:48.834771",
   "version": "2.5.0"
  }
 },
 "nbformat": 4,
 "nbformat_minor": 5
}
