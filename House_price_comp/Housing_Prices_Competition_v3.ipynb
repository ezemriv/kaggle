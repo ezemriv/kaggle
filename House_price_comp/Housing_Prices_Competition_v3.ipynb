{
 "cells": [
  {
   "cell_type": "markdown",
   "id": "ec6d811c",
   "metadata": {
    "_cell_guid": "452a2b7e-9f6a-4958-9c21-f9f394952c65",
    "_uuid": "490962e1-ef2f-4117-b2ea-fb003ce69da3",
    "papermill": {
     "duration": 0.011837,
     "end_time": "2024-05-15T10:11:15.293961",
     "exception": false,
     "start_time": "2024-05-15T10:11:15.282124",
     "status": "completed"
    },
    "tags": []
   },
   "source": [
    "**This notebook is an exercise in the [Introduction to Machine Learning](https://www.kaggle.com/learn/intro-to-machine-learning) course.  You can reference the tutorial at [this link](https://www.kaggle.com/alexisbcook/machine-learning-competitions).**\n",
    "\n",
    "---"
   ]
  },
  {
   "cell_type": "markdown",
   "id": "b512945a",
   "metadata": {
    "_cell_guid": "1d99db85-360c-4a8c-bafa-ee31dd01e923",
    "_uuid": "08bc1a9f-bbc8-4850-a553-61f906cc3da5",
    "papermill": {
     "duration": 0.010828,
     "end_time": "2024-05-15T10:11:15.316638",
     "exception": false,
     "start_time": "2024-05-15T10:11:15.305810",
     "status": "completed"
    },
    "tags": []
   },
   "source": [
    "# Introduction\n",
    "\n",
    "In this exercise, you will create and submit predictions for a Kaggle competition. You can then improve your model (e.g. by adding features) to apply what you've learned and move up the leaderboard.\n",
    "\n",
    "Begin by running the code cell below to set up code checking and the filepaths for the dataset."
   ]
  },
  {
   "cell_type": "code",
   "execution_count": 1,
   "id": "b171e2e2",
   "metadata": {
    "_cell_guid": "2963a32b-b930-476a-9c35-71b7504315fe",
    "_uuid": "fb03e0d3-d5dd-49a4-86b7-6825222d3bed",
    "collapsed": false,
    "execution": {
     "iopub.execute_input": "2024-05-15T10:11:15.340657Z",
     "iopub.status.busy": "2024-05-15T10:11:15.340299Z",
     "iopub.status.idle": "2024-05-15T10:11:16.189391Z",
     "shell.execute_reply": "2024-05-15T10:11:16.188300Z"
    },
    "jupyter": {
     "outputs_hidden": false
    },
    "papermill": {
     "duration": 0.864047,
     "end_time": "2024-05-15T10:11:16.191968",
     "exception": false,
     "start_time": "2024-05-15T10:11:15.327921",
     "status": "completed"
    },
    "tags": []
   },
   "outputs": [],
   "source": [
    "# Set up code checking\n",
    "from learntools.core import binder\n",
    "binder.bind(globals())\n",
    "from learntools.machine_learning.ex7 import *\n",
    "\n",
    "# Set up filepaths\n",
    "import os\n",
    "if not os.path.exists(\"../input/train.csv\"):\n",
    "    os.symlink(\"../input/home-data-for-ml-course/train.csv\", \"../input/train.csv\")  \n",
    "    os.symlink(\"../input/home-data-for-ml-course/test.csv\", \"../input/test.csv\")"
   ]
  },
  {
   "cell_type": "markdown",
   "id": "5e21819b",
   "metadata": {
    "_cell_guid": "17f01118-6cf2-4ee0-a0e7-4808452d897c",
    "_uuid": "a970dd95-a1af-4129-a89d-cd9f6c2faf74",
    "papermill": {
     "duration": 0.010969,
     "end_time": "2024-05-15T10:11:16.217019",
     "exception": false,
     "start_time": "2024-05-15T10:11:16.206050",
     "status": "completed"
    },
    "tags": []
   },
   "source": [
    "Here's some of the code you've written so far. Start by running it again."
   ]
  },
  {
   "cell_type": "code",
   "execution_count": 2,
   "id": "121e6b7e",
   "metadata": {
    "_cell_guid": "0995f08d-9225-4418-ba75-7268260942bd",
    "_uuid": "c6e97329-59b3-44d3-8ad6-30c26e587731",
    "collapsed": false,
    "execution": {
     "iopub.execute_input": "2024-05-15T10:11:16.241546Z",
     "iopub.status.busy": "2024-05-15T10:11:16.241093Z",
     "iopub.status.idle": "2024-05-15T10:11:18.363938Z",
     "shell.execute_reply": "2024-05-15T10:11:18.362828Z"
    },
    "jupyter": {
     "outputs_hidden": false
    },
    "papermill": {
     "duration": 2.137995,
     "end_time": "2024-05-15T10:11:18.366463",
     "exception": false,
     "start_time": "2024-05-15T10:11:16.228468",
     "status": "completed"
    },
    "tags": []
   },
   "outputs": [
    {
     "name": "stdout",
     "output_type": "stream",
     "text": [
      "Validation MAE for DEFAULT Random Forest Model: 21,857\n"
     ]
    }
   ],
   "source": [
    "# Import helpful libraries\n",
    "import pandas as pd\n",
    "from sklearn.ensemble import RandomForestRegressor\n",
    "from sklearn.metrics import mean_absolute_error\n",
    "from sklearn.model_selection import train_test_split\n",
    "\n",
    "# Load the data, and separate the target\n",
    "iowa_file_path = '../input/train.csv'\n",
    "home_data = pd.read_csv(iowa_file_path)\n",
    "y = home_data.SalePrice\n",
    "\n",
    "# Create X (After completing the exercise, you can return to modify this line!)\n",
    "features = ['LotArea', 'YearBuilt', '1stFlrSF', '2ndFlrSF', 'FullBath', 'BedroomAbvGr', 'TotRmsAbvGrd']\n",
    "\n",
    "# Select columns corresponding to features, and preview the data\n",
    "X = home_data[features]\n",
    "X.head()\n",
    "\n",
    "# Split into validation and training data\n",
    "train_X, val_X, train_y, val_y = train_test_split(X, y, random_state=1)\n",
    "\n",
    "# Define a random forest model\n",
    "rf_model = RandomForestRegressor(random_state=1)\n",
    "rf_model.fit(train_X, train_y)\n",
    "rf_val_predictions = rf_model.predict(val_X)\n",
    "rf_val_mae = mean_absolute_error(rf_val_predictions, val_y)\n",
    "\n",
    "print(\"Validation MAE for DEFAULT Random Forest Model: {:,.0f}\".format(rf_val_mae))"
   ]
  },
  {
   "cell_type": "markdown",
   "id": "8139b93a",
   "metadata": {
    "_cell_guid": "017ceede-7914-4675-b43c-c47751cf15c9",
    "_uuid": "4d51deff-b52e-4c8b-b42f-170b5a7b5860",
    "papermill": {
     "duration": 0.011085,
     "end_time": "2024-05-15T10:11:18.389251",
     "exception": false,
     "start_time": "2024-05-15T10:11:18.378166",
     "status": "completed"
    },
    "tags": []
   },
   "source": [
    "# Train a model for the competition\n",
    "\n",
    "The code cell above trains a Random Forest model on **`train_X`** and **`train_y`**.  \n",
    "\n",
    "Use the code cell below to build a Random Forest model and train it on all of **`X`** and **`y`**."
   ]
  },
  {
   "cell_type": "code",
   "execution_count": 3,
   "id": "b620a721",
   "metadata": {
    "_cell_guid": "c4f85d87-b73f-48d4-b114-e24bd567cf8b",
    "_uuid": "1e5edd1a-e964-41a0-9523-72c96e784ac5",
    "collapsed": false,
    "execution": {
     "iopub.execute_input": "2024-05-15T10:11:18.413573Z",
     "iopub.status.busy": "2024-05-15T10:11:18.413185Z",
     "iopub.status.idle": "2024-05-15T10:11:19.036829Z",
     "shell.execute_reply": "2024-05-15T10:11:19.035621Z"
    },
    "jupyter": {
     "outputs_hidden": false
    },
    "papermill": {
     "duration": 0.638848,
     "end_time": "2024-05-15T10:11:19.039377",
     "exception": false,
     "start_time": "2024-05-15T10:11:18.400529",
     "status": "completed"
    },
    "tags": []
   },
   "outputs": [
    {
     "data": {
      "text/html": [
       "<style>#sk-container-id-1 {color: black;background-color: white;}#sk-container-id-1 pre{padding: 0;}#sk-container-id-1 div.sk-toggleable {background-color: white;}#sk-container-id-1 label.sk-toggleable__label {cursor: pointer;display: block;width: 100%;margin-bottom: 0;padding: 0.3em;box-sizing: border-box;text-align: center;}#sk-container-id-1 label.sk-toggleable__label-arrow:before {content: \"▸\";float: left;margin-right: 0.25em;color: #696969;}#sk-container-id-1 label.sk-toggleable__label-arrow:hover:before {color: black;}#sk-container-id-1 div.sk-estimator:hover label.sk-toggleable__label-arrow:before {color: black;}#sk-container-id-1 div.sk-toggleable__content {max-height: 0;max-width: 0;overflow: hidden;text-align: left;background-color: #f0f8ff;}#sk-container-id-1 div.sk-toggleable__content pre {margin: 0.2em;color: black;border-radius: 0.25em;background-color: #f0f8ff;}#sk-container-id-1 input.sk-toggleable__control:checked~div.sk-toggleable__content {max-height: 200px;max-width: 100%;overflow: auto;}#sk-container-id-1 input.sk-toggleable__control:checked~label.sk-toggleable__label-arrow:before {content: \"▾\";}#sk-container-id-1 div.sk-estimator input.sk-toggleable__control:checked~label.sk-toggleable__label {background-color: #d4ebff;}#sk-container-id-1 div.sk-label input.sk-toggleable__control:checked~label.sk-toggleable__label {background-color: #d4ebff;}#sk-container-id-1 input.sk-hidden--visually {border: 0;clip: rect(1px 1px 1px 1px);clip: rect(1px, 1px, 1px, 1px);height: 1px;margin: -1px;overflow: hidden;padding: 0;position: absolute;width: 1px;}#sk-container-id-1 div.sk-estimator {font-family: monospace;background-color: #f0f8ff;border: 1px dotted black;border-radius: 0.25em;box-sizing: border-box;margin-bottom: 0.5em;}#sk-container-id-1 div.sk-estimator:hover {background-color: #d4ebff;}#sk-container-id-1 div.sk-parallel-item::after {content: \"\";width: 100%;border-bottom: 1px solid gray;flex-grow: 1;}#sk-container-id-1 div.sk-label:hover label.sk-toggleable__label {background-color: #d4ebff;}#sk-container-id-1 div.sk-serial::before {content: \"\";position: absolute;border-left: 1px solid gray;box-sizing: border-box;top: 0;bottom: 0;left: 50%;z-index: 0;}#sk-container-id-1 div.sk-serial {display: flex;flex-direction: column;align-items: center;background-color: white;padding-right: 0.2em;padding-left: 0.2em;position: relative;}#sk-container-id-1 div.sk-item {position: relative;z-index: 1;}#sk-container-id-1 div.sk-parallel {display: flex;align-items: stretch;justify-content: center;background-color: white;position: relative;}#sk-container-id-1 div.sk-item::before, #sk-container-id-1 div.sk-parallel-item::before {content: \"\";position: absolute;border-left: 1px solid gray;box-sizing: border-box;top: 0;bottom: 0;left: 50%;z-index: -1;}#sk-container-id-1 div.sk-parallel-item {display: flex;flex-direction: column;z-index: 1;position: relative;background-color: white;}#sk-container-id-1 div.sk-parallel-item:first-child::after {align-self: flex-end;width: 50%;}#sk-container-id-1 div.sk-parallel-item:last-child::after {align-self: flex-start;width: 50%;}#sk-container-id-1 div.sk-parallel-item:only-child::after {width: 0;}#sk-container-id-1 div.sk-dashed-wrapped {border: 1px dashed gray;margin: 0 0.4em 0.5em 0.4em;box-sizing: border-box;padding-bottom: 0.4em;background-color: white;}#sk-container-id-1 div.sk-label label {font-family: monospace;font-weight: bold;display: inline-block;line-height: 1.2em;}#sk-container-id-1 div.sk-label-container {text-align: center;}#sk-container-id-1 div.sk-container {/* jupyter's `normalize.less` sets `[hidden] { display: none; }` but bootstrap.min.css set `[hidden] { display: none !important; }` so we also need the `!important` here to be able to override the default hidden behavior on the sphinx rendered scikit-learn.org. See: https://github.com/scikit-learn/scikit-learn/issues/21755 */display: inline-block !important;position: relative;}#sk-container-id-1 div.sk-text-repr-fallback {display: none;}</style><div id=\"sk-container-id-1\" class=\"sk-top-container\"><div class=\"sk-text-repr-fallback\"><pre>RandomForestRegressor(random_state=1)</pre><b>In a Jupyter environment, please rerun this cell to show the HTML representation or trust the notebook. <br />On GitHub, the HTML representation is unable to render, please try loading this page with nbviewer.org.</b></div><div class=\"sk-container\" hidden><div class=\"sk-item\"><div class=\"sk-estimator sk-toggleable\"><input class=\"sk-toggleable__control sk-hidden--visually\" id=\"sk-estimator-id-1\" type=\"checkbox\" checked><label for=\"sk-estimator-id-1\" class=\"sk-toggleable__label sk-toggleable__label-arrow\">RandomForestRegressor</label><div class=\"sk-toggleable__content\"><pre>RandomForestRegressor(random_state=1)</pre></div></div></div></div></div>"
      ],
      "text/plain": [
       "RandomForestRegressor(random_state=1)"
      ]
     },
     "execution_count": 3,
     "metadata": {},
     "output_type": "execute_result"
    }
   ],
   "source": [
    "# To improve accuracy, create a new Random Forest model which you will train on all training data\n",
    "rf_model_on_full_data = RandomForestRegressor(random_state=1)\n",
    "\n",
    "# fit rf_model_on_full_data on all data from the training data\n",
    "rf_model_on_full_data.fit(X, y)"
   ]
  },
  {
   "cell_type": "markdown",
   "id": "cd623e8b",
   "metadata": {
    "_cell_guid": "f0d65533-1464-4012-a03c-c9c3bd884dd2",
    "_uuid": "5064aac7-0fe5-43a8-8f46-fc7d5dd677d4",
    "papermill": {
     "duration": 0.011706,
     "end_time": "2024-05-15T10:11:19.062926",
     "exception": false,
     "start_time": "2024-05-15T10:11:19.051220",
     "status": "completed"
    },
    "tags": []
   },
   "source": [
    "Now, read the file of \"test\" data, and apply your model to make predictions."
   ]
  },
  {
   "cell_type": "code",
   "execution_count": 4,
   "id": "53da4899",
   "metadata": {
    "_cell_guid": "936e9f9c-05e0-461c-9f43-000728050242",
    "_uuid": "280c40ac-cc4d-4909-8ba7-2167c425ff54",
    "collapsed": false,
    "execution": {
     "iopub.execute_input": "2024-05-15T10:11:19.088336Z",
     "iopub.status.busy": "2024-05-15T10:11:19.087905Z",
     "iopub.status.idle": "2024-05-15T10:11:19.157327Z",
     "shell.execute_reply": "2024-05-15T10:11:19.156119Z"
    },
    "jupyter": {
     "outputs_hidden": false
    },
    "papermill": {
     "duration": 0.085215,
     "end_time": "2024-05-15T10:11:19.159897",
     "exception": false,
     "start_time": "2024-05-15T10:11:19.074682",
     "status": "completed"
    },
    "tags": []
   },
   "outputs": [
    {
     "data": {
      "text/plain": [
       "[122657.0,\n",
       " 156789.0,\n",
       " 182959.0,\n",
       " 178102.0,\n",
       " 189049.0,\n",
       " 180979.0,\n",
       " 172797.0,\n",
       " 173717.0,\n",
       " 187535.0,\n",
       " 116172.0,\n",
       " 190798.0,\n",
       " 93823.0,\n",
       " 89249.0,\n",
       " 145111.0,\n",
       " 124696.0]"
      ]
     },
     "execution_count": 4,
     "metadata": {},
     "output_type": "execute_result"
    }
   ],
   "source": [
    "# path to file you will use for predictions\n",
    "test_data_path = '../input/test.csv'\n",
    "\n",
    "# read test data file using pandas\n",
    "test_data = pd.read_csv(test_data_path)\n",
    "\n",
    "# create test_X which comes from test_data but includes only the columns you used for prediction.\n",
    "# The list of columns is stored in a variable called features\n",
    "test_X = test_data[features]\n",
    "\n",
    "# make predictions which we will submit. \n",
    "test_preds_defaultmodel = rf_model_on_full_data.predict(test_X)\n",
    "\n",
    "test_preds_defaultmodel[0:15].round(0).tolist()"
   ]
  },
  {
   "cell_type": "markdown",
   "id": "b4d06717",
   "metadata": {
    "_cell_guid": "a752d73b-b7fb-4574-aaaf-1a6d3ef5a1f1",
    "_uuid": "79352143-21a4-48dc-94ee-b8977c9df511",
    "papermill": {
     "duration": 0.011456,
     "end_time": "2024-05-15T10:11:19.183432",
     "exception": false,
     "start_time": "2024-05-15T10:11:19.171976",
     "status": "completed"
    },
    "tags": []
   },
   "source": [
    "Before submitting, run a check to make sure your `test_preds` have the right format."
   ]
  },
  {
   "cell_type": "markdown",
   "id": "d61fb87c",
   "metadata": {
    "papermill": {
     "duration": 0.011265,
     "end_time": "2024-05-15T10:11:19.206441",
     "exception": false,
     "start_time": "2024-05-15T10:11:19.195176",
     "status": "completed"
    },
    "tags": []
   },
   "source": [
    "# Results default model\n",
    "\n",
    "First 15 predictions:\n",
    "\n",
    "[122657.0,\n",
    " 156789.0,\n",
    " 182959.0,\n",
    " 178102.0,\n",
    " 189049.0,\n",
    " 180979.0,\n",
    " 172797.0,\n",
    " 173717.0,\n",
    " 187535.0,\n",
    " 116172.0,\n",
    " 190798.0,\n",
    " 93823.0,\n",
    " 89249.0,\n",
    " 145111.0,\n",
    " 124696.0]\n",
    " \n",
    "Validation MAE for DEFAULT Random Forest Model: **21,857**\n",
    "\n"
   ]
  },
  {
   "cell_type": "markdown",
   "id": "0555436a",
   "metadata": {
    "_cell_guid": "64e474bc-2841-4727-b74c-68433c750bb9",
    "_uuid": "a37f24e8-3ac5-470c-abc1-ebf0db8c2a86",
    "papermill": {
     "duration": 0.011933,
     "end_time": "2024-05-15T10:11:19.232297",
     "exception": false,
     "start_time": "2024-05-15T10:11:19.220364",
     "status": "completed"
    },
    "tags": []
   },
   "source": [
    "# Model optimization\n",
    "\n",
    "· Will clean the dataset, hot-code categorical features, scale numerical features, and train a new model"
   ]
  },
  {
   "cell_type": "markdown",
   "id": "df2c153e",
   "metadata": {
    "papermill": {
     "duration": 0.011802,
     "end_time": "2024-05-15T10:11:19.256411",
     "exception": false,
     "start_time": "2024-05-15T10:11:19.244609",
     "status": "completed"
    },
    "tags": []
   },
   "source": [
    "## Cleaning dataset"
   ]
  },
  {
   "cell_type": "code",
   "execution_count": 5,
   "id": "665d61e6",
   "metadata": {
    "execution": {
     "iopub.execute_input": "2024-05-15T10:11:19.281337Z",
     "iopub.status.busy": "2024-05-15T10:11:19.280943Z",
     "iopub.status.idle": "2024-05-15T10:11:19.285942Z",
     "shell.execute_reply": "2024-05-15T10:11:19.284822Z"
    },
    "papermill": {
     "duration": 0.020017,
     "end_time": "2024-05-15T10:11:19.288126",
     "exception": false,
     "start_time": "2024-05-15T10:11:19.268109",
     "status": "completed"
    },
    "tags": []
   },
   "outputs": [],
   "source": [
    "import pandas as pd\n",
    "import numpy as np"
   ]
  },
  {
   "cell_type": "code",
   "execution_count": 6,
   "id": "ebe1848c",
   "metadata": {
    "execution": {
     "iopub.execute_input": "2024-05-15T10:11:19.313609Z",
     "iopub.status.busy": "2024-05-15T10:11:19.313255Z",
     "iopub.status.idle": "2024-05-15T10:11:19.318168Z",
     "shell.execute_reply": "2024-05-15T10:11:19.316949Z"
    },
    "papermill": {
     "duration": 0.02046,
     "end_time": "2024-05-15T10:11:19.320614",
     "exception": false,
     "start_time": "2024-05-15T10:11:19.300154",
     "status": "completed"
    },
    "tags": []
   },
   "outputs": [],
   "source": [
    "pd.set_option('display.max_rows', None)"
   ]
  },
  {
   "cell_type": "code",
   "execution_count": 7,
   "id": "aa0563cf",
   "metadata": {
    "execution": {
     "iopub.execute_input": "2024-05-15T10:11:19.346761Z",
     "iopub.status.busy": "2024-05-15T10:11:19.346367Z",
     "iopub.status.idle": "2024-05-15T10:11:19.353000Z",
     "shell.execute_reply": "2024-05-15T10:11:19.352015Z"
    },
    "papermill": {
     "duration": 0.022028,
     "end_time": "2024-05-15T10:11:19.355229",
     "exception": false,
     "start_time": "2024-05-15T10:11:19.333201",
     "status": "completed"
    },
    "scrolled": true,
    "tags": []
   },
   "outputs": [],
   "source": [
    "home_data2 = home_data.copy()\n",
    "home_data2.set_index('Id', inplace=True)"
   ]
  },
  {
   "cell_type": "code",
   "execution_count": 8,
   "id": "c8494f16",
   "metadata": {
    "execution": {
     "iopub.execute_input": "2024-05-15T10:11:19.380944Z",
     "iopub.status.busy": "2024-05-15T10:11:19.380131Z",
     "iopub.status.idle": "2024-05-15T10:11:19.403884Z",
     "shell.execute_reply": "2024-05-15T10:11:19.402617Z"
    },
    "papermill": {
     "duration": 0.038903,
     "end_time": "2024-05-15T10:11:19.406018",
     "exception": false,
     "start_time": "2024-05-15T10:11:19.367115",
     "status": "completed"
    },
    "tags": []
   },
   "outputs": [],
   "source": [
    "#Drop columns\n",
    "threshold = 200\n",
    "\n",
    "for col in home_data2.columns:\n",
    "    if home_data2[col].isnull().sum() >= threshold:\n",
    "        del(home_data2[col])"
   ]
  },
  {
   "cell_type": "code",
   "execution_count": 9,
   "id": "8ae4cede",
   "metadata": {
    "execution": {
     "iopub.execute_input": "2024-05-15T10:11:19.431859Z",
     "iopub.status.busy": "2024-05-15T10:11:19.431474Z",
     "iopub.status.idle": "2024-05-15T10:11:19.471840Z",
     "shell.execute_reply": "2024-05-15T10:11:19.470795Z"
    },
    "papermill": {
     "duration": 0.055918,
     "end_time": "2024-05-15T10:11:19.474219",
     "exception": false,
     "start_time": "2024-05-15T10:11:19.418301",
     "status": "completed"
    },
    "tags": []
   },
   "outputs": [
    {
     "data": {
      "text/html": [
       "<div>\n",
       "<style scoped>\n",
       "    .dataframe tbody tr th:only-of-type {\n",
       "        vertical-align: middle;\n",
       "    }\n",
       "\n",
       "    .dataframe tbody tr th {\n",
       "        vertical-align: top;\n",
       "    }\n",
       "\n",
       "    .dataframe thead th {\n",
       "        text-align: right;\n",
       "    }\n",
       "</style>\n",
       "<table border=\"1\" class=\"dataframe\">\n",
       "  <thead>\n",
       "    <tr style=\"text-align: right;\">\n",
       "      <th></th>\n",
       "      <th>MasVnrArea</th>\n",
       "      <th>BsmtQual</th>\n",
       "      <th>BsmtCond</th>\n",
       "      <th>BsmtExposure</th>\n",
       "      <th>BsmtFinType1</th>\n",
       "      <th>BsmtFinType2</th>\n",
       "      <th>Electrical</th>\n",
       "      <th>GarageType</th>\n",
       "      <th>GarageYrBlt</th>\n",
       "      <th>GarageFinish</th>\n",
       "      <th>GarageQual</th>\n",
       "      <th>GarageCond</th>\n",
       "    </tr>\n",
       "    <tr>\n",
       "      <th>Id</th>\n",
       "      <th></th>\n",
       "      <th></th>\n",
       "      <th></th>\n",
       "      <th></th>\n",
       "      <th></th>\n",
       "      <th></th>\n",
       "      <th></th>\n",
       "      <th></th>\n",
       "      <th></th>\n",
       "      <th></th>\n",
       "      <th></th>\n",
       "      <th></th>\n",
       "    </tr>\n",
       "  </thead>\n",
       "  <tbody>\n",
       "    <tr>\n",
       "      <th>1</th>\n",
       "      <td>196.0</td>\n",
       "      <td>Gd</td>\n",
       "      <td>TA</td>\n",
       "      <td>No</td>\n",
       "      <td>GLQ</td>\n",
       "      <td>Unf</td>\n",
       "      <td>SBrkr</td>\n",
       "      <td>Attchd</td>\n",
       "      <td>2003.0</td>\n",
       "      <td>RFn</td>\n",
       "      <td>TA</td>\n",
       "      <td>TA</td>\n",
       "    </tr>\n",
       "    <tr>\n",
       "      <th>2</th>\n",
       "      <td>0.0</td>\n",
       "      <td>Gd</td>\n",
       "      <td>TA</td>\n",
       "      <td>Gd</td>\n",
       "      <td>ALQ</td>\n",
       "      <td>Unf</td>\n",
       "      <td>SBrkr</td>\n",
       "      <td>Attchd</td>\n",
       "      <td>1976.0</td>\n",
       "      <td>RFn</td>\n",
       "      <td>TA</td>\n",
       "      <td>TA</td>\n",
       "    </tr>\n",
       "    <tr>\n",
       "      <th>3</th>\n",
       "      <td>162.0</td>\n",
       "      <td>Gd</td>\n",
       "      <td>TA</td>\n",
       "      <td>Mn</td>\n",
       "      <td>GLQ</td>\n",
       "      <td>Unf</td>\n",
       "      <td>SBrkr</td>\n",
       "      <td>Attchd</td>\n",
       "      <td>2001.0</td>\n",
       "      <td>RFn</td>\n",
       "      <td>TA</td>\n",
       "      <td>TA</td>\n",
       "    </tr>\n",
       "    <tr>\n",
       "      <th>4</th>\n",
       "      <td>0.0</td>\n",
       "      <td>TA</td>\n",
       "      <td>Gd</td>\n",
       "      <td>No</td>\n",
       "      <td>ALQ</td>\n",
       "      <td>Unf</td>\n",
       "      <td>SBrkr</td>\n",
       "      <td>Detchd</td>\n",
       "      <td>1998.0</td>\n",
       "      <td>Unf</td>\n",
       "      <td>TA</td>\n",
       "      <td>TA</td>\n",
       "    </tr>\n",
       "    <tr>\n",
       "      <th>5</th>\n",
       "      <td>350.0</td>\n",
       "      <td>Gd</td>\n",
       "      <td>TA</td>\n",
       "      <td>Av</td>\n",
       "      <td>GLQ</td>\n",
       "      <td>Unf</td>\n",
       "      <td>SBrkr</td>\n",
       "      <td>Attchd</td>\n",
       "      <td>2000.0</td>\n",
       "      <td>RFn</td>\n",
       "      <td>TA</td>\n",
       "      <td>TA</td>\n",
       "    </tr>\n",
       "    <tr>\n",
       "      <th>6</th>\n",
       "      <td>0.0</td>\n",
       "      <td>Gd</td>\n",
       "      <td>TA</td>\n",
       "      <td>No</td>\n",
       "      <td>GLQ</td>\n",
       "      <td>Unf</td>\n",
       "      <td>SBrkr</td>\n",
       "      <td>Attchd</td>\n",
       "      <td>1993.0</td>\n",
       "      <td>Unf</td>\n",
       "      <td>TA</td>\n",
       "      <td>TA</td>\n",
       "    </tr>\n",
       "    <tr>\n",
       "      <th>7</th>\n",
       "      <td>186.0</td>\n",
       "      <td>Ex</td>\n",
       "      <td>TA</td>\n",
       "      <td>Av</td>\n",
       "      <td>GLQ</td>\n",
       "      <td>Unf</td>\n",
       "      <td>SBrkr</td>\n",
       "      <td>Attchd</td>\n",
       "      <td>2004.0</td>\n",
       "      <td>RFn</td>\n",
       "      <td>TA</td>\n",
       "      <td>TA</td>\n",
       "    </tr>\n",
       "    <tr>\n",
       "      <th>8</th>\n",
       "      <td>240.0</td>\n",
       "      <td>Gd</td>\n",
       "      <td>TA</td>\n",
       "      <td>Mn</td>\n",
       "      <td>ALQ</td>\n",
       "      <td>BLQ</td>\n",
       "      <td>SBrkr</td>\n",
       "      <td>Attchd</td>\n",
       "      <td>1973.0</td>\n",
       "      <td>RFn</td>\n",
       "      <td>TA</td>\n",
       "      <td>TA</td>\n",
       "    </tr>\n",
       "    <tr>\n",
       "      <th>9</th>\n",
       "      <td>0.0</td>\n",
       "      <td>TA</td>\n",
       "      <td>TA</td>\n",
       "      <td>No</td>\n",
       "      <td>Unf</td>\n",
       "      <td>Unf</td>\n",
       "      <td>FuseF</td>\n",
       "      <td>Detchd</td>\n",
       "      <td>1931.0</td>\n",
       "      <td>Unf</td>\n",
       "      <td>Fa</td>\n",
       "      <td>TA</td>\n",
       "    </tr>\n",
       "    <tr>\n",
       "      <th>10</th>\n",
       "      <td>0.0</td>\n",
       "      <td>TA</td>\n",
       "      <td>TA</td>\n",
       "      <td>No</td>\n",
       "      <td>GLQ</td>\n",
       "      <td>Unf</td>\n",
       "      <td>SBrkr</td>\n",
       "      <td>Attchd</td>\n",
       "      <td>1939.0</td>\n",
       "      <td>RFn</td>\n",
       "      <td>Gd</td>\n",
       "      <td>TA</td>\n",
       "    </tr>\n",
       "  </tbody>\n",
       "</table>\n",
       "</div>"
      ],
      "text/plain": [
       "    MasVnrArea BsmtQual BsmtCond BsmtExposure BsmtFinType1 BsmtFinType2  \\\n",
       "Id                                                                        \n",
       "1        196.0       Gd       TA           No          GLQ          Unf   \n",
       "2          0.0       Gd       TA           Gd          ALQ          Unf   \n",
       "3        162.0       Gd       TA           Mn          GLQ          Unf   \n",
       "4          0.0       TA       Gd           No          ALQ          Unf   \n",
       "5        350.0       Gd       TA           Av          GLQ          Unf   \n",
       "6          0.0       Gd       TA           No          GLQ          Unf   \n",
       "7        186.0       Ex       TA           Av          GLQ          Unf   \n",
       "8        240.0       Gd       TA           Mn          ALQ          BLQ   \n",
       "9          0.0       TA       TA           No          Unf          Unf   \n",
       "10         0.0       TA       TA           No          GLQ          Unf   \n",
       "\n",
       "   Electrical GarageType  GarageYrBlt GarageFinish GarageQual GarageCond  \n",
       "Id                                                                        \n",
       "1       SBrkr     Attchd       2003.0          RFn         TA         TA  \n",
       "2       SBrkr     Attchd       1976.0          RFn         TA         TA  \n",
       "3       SBrkr     Attchd       2001.0          RFn         TA         TA  \n",
       "4       SBrkr     Detchd       1998.0          Unf         TA         TA  \n",
       "5       SBrkr     Attchd       2000.0          RFn         TA         TA  \n",
       "6       SBrkr     Attchd       1993.0          Unf         TA         TA  \n",
       "7       SBrkr     Attchd       2004.0          RFn         TA         TA  \n",
       "8       SBrkr     Attchd       1973.0          RFn         TA         TA  \n",
       "9       FuseF     Detchd       1931.0          Unf         Fa         TA  \n",
       "10      SBrkr     Attchd       1939.0          RFn         Gd         TA  "
      ]
     },
     "execution_count": 9,
     "metadata": {},
     "output_type": "execute_result"
    }
   ],
   "source": [
    "#Inspect remaining columns with NaNs\n",
    "columns_with_nan = []\n",
    "\n",
    "for col in home_data2.columns:\n",
    "    if home_data2[col].isnull().sum() > 0:\n",
    "        columns_with_nan.append(col)\n",
    "\n",
    "home_data2[columns_with_nan].head(10)  \n",
    "        "
   ]
  },
  {
   "cell_type": "code",
   "execution_count": 10,
   "id": "64dae585",
   "metadata": {
    "execution": {
     "iopub.execute_input": "2024-05-15T10:11:19.500528Z",
     "iopub.status.busy": "2024-05-15T10:11:19.500181Z",
     "iopub.status.idle": "2024-05-15T10:11:19.538258Z",
     "shell.execute_reply": "2024-05-15T10:11:19.537184Z"
    },
    "papermill": {
     "duration": 0.054016,
     "end_time": "2024-05-15T10:11:19.540703",
     "exception": false,
     "start_time": "2024-05-15T10:11:19.486687",
     "status": "completed"
    },
    "tags": []
   },
   "outputs": [],
   "source": [
    "home_data3 = home_data2.copy()\n",
    "\n",
    "#Fill NaNs with mean for numerical and mode for rest\n",
    "columns_with_nan = []\n",
    "\n",
    "for col in home_data3.columns:\n",
    "    if home_data3[col].isnull().sum() > 0 and home_data3[col].dtype == 'float64':\n",
    "        home_data3[col] = home_data3[col].fillna(value = home_data3[col].mean())\n",
    "    elif home_data3[col].isnull().sum() > 0 and home_data3[col].dtype == 'object':\n",
    "        home_data3[col] = home_data3[col].fillna(value = \"non-existent\")\n",
    "        "
   ]
  },
  {
   "cell_type": "code",
   "execution_count": 11,
   "id": "1a797b8e",
   "metadata": {
    "execution": {
     "iopub.execute_input": "2024-05-15T10:11:19.567436Z",
     "iopub.status.busy": "2024-05-15T10:11:19.567089Z",
     "iopub.status.idle": "2024-05-15T10:11:19.594230Z",
     "shell.execute_reply": "2024-05-15T10:11:19.593230Z"
    },
    "papermill": {
     "duration": 0.043378,
     "end_time": "2024-05-15T10:11:19.597053",
     "exception": false,
     "start_time": "2024-05-15T10:11:19.553675",
     "status": "completed"
    },
    "tags": []
   },
   "outputs": [
    {
     "name": "stdout",
     "output_type": "stream",
     "text": [
      "<class 'pandas.core.frame.DataFrame'>\n",
      "Index: 1460 entries, 1 to 1460\n",
      "Data columns (total 73 columns):\n",
      " #   Column         Non-Null Count  Dtype  \n",
      "---  ------         --------------  -----  \n",
      " 0   MSSubClass     1460 non-null   int64  \n",
      " 1   MSZoning       1460 non-null   object \n",
      " 2   LotArea        1460 non-null   int64  \n",
      " 3   Street         1460 non-null   object \n",
      " 4   LotShape       1460 non-null   object \n",
      " 5   LandContour    1460 non-null   object \n",
      " 6   Utilities      1460 non-null   object \n",
      " 7   LotConfig      1460 non-null   object \n",
      " 8   LandSlope      1460 non-null   object \n",
      " 9   Neighborhood   1460 non-null   object \n",
      " 10  Condition1     1460 non-null   object \n",
      " 11  Condition2     1460 non-null   object \n",
      " 12  BldgType       1460 non-null   object \n",
      " 13  HouseStyle     1460 non-null   object \n",
      " 14  OverallQual    1460 non-null   int64  \n",
      " 15  OverallCond    1460 non-null   int64  \n",
      " 16  YearBuilt      1460 non-null   int64  \n",
      " 17  YearRemodAdd   1460 non-null   int64  \n",
      " 18  RoofStyle      1460 non-null   object \n",
      " 19  RoofMatl       1460 non-null   object \n",
      " 20  Exterior1st    1460 non-null   object \n",
      " 21  Exterior2nd    1460 non-null   object \n",
      " 22  MasVnrArea     1460 non-null   float64\n",
      " 23  ExterQual      1460 non-null   object \n",
      " 24  ExterCond      1460 non-null   object \n",
      " 25  Foundation     1460 non-null   object \n",
      " 26  BsmtQual       1460 non-null   object \n",
      " 27  BsmtCond       1460 non-null   object \n",
      " 28  BsmtExposure   1460 non-null   object \n",
      " 29  BsmtFinType1   1460 non-null   object \n",
      " 30  BsmtFinSF1     1460 non-null   int64  \n",
      " 31  BsmtFinType2   1460 non-null   object \n",
      " 32  BsmtFinSF2     1460 non-null   int64  \n",
      " 33  BsmtUnfSF      1460 non-null   int64  \n",
      " 34  TotalBsmtSF    1460 non-null   int64  \n",
      " 35  Heating        1460 non-null   object \n",
      " 36  HeatingQC      1460 non-null   object \n",
      " 37  CentralAir     1460 non-null   object \n",
      " 38  Electrical     1460 non-null   object \n",
      " 39  1stFlrSF       1460 non-null   int64  \n",
      " 40  2ndFlrSF       1460 non-null   int64  \n",
      " 41  LowQualFinSF   1460 non-null   int64  \n",
      " 42  GrLivArea      1460 non-null   int64  \n",
      " 43  BsmtFullBath   1460 non-null   int64  \n",
      " 44  BsmtHalfBath   1460 non-null   int64  \n",
      " 45  FullBath       1460 non-null   int64  \n",
      " 46  HalfBath       1460 non-null   int64  \n",
      " 47  BedroomAbvGr   1460 non-null   int64  \n",
      " 48  KitchenAbvGr   1460 non-null   int64  \n",
      " 49  KitchenQual    1460 non-null   object \n",
      " 50  TotRmsAbvGrd   1460 non-null   int64  \n",
      " 51  Functional     1460 non-null   object \n",
      " 52  Fireplaces     1460 non-null   int64  \n",
      " 53  GarageType     1460 non-null   object \n",
      " 54  GarageYrBlt    1460 non-null   float64\n",
      " 55  GarageFinish   1460 non-null   object \n",
      " 56  GarageCars     1460 non-null   int64  \n",
      " 57  GarageArea     1460 non-null   int64  \n",
      " 58  GarageQual     1460 non-null   object \n",
      " 59  GarageCond     1460 non-null   object \n",
      " 60  PavedDrive     1460 non-null   object \n",
      " 61  WoodDeckSF     1460 non-null   int64  \n",
      " 62  OpenPorchSF    1460 non-null   int64  \n",
      " 63  EnclosedPorch  1460 non-null   int64  \n",
      " 64  3SsnPorch      1460 non-null   int64  \n",
      " 65  ScreenPorch    1460 non-null   int64  \n",
      " 66  PoolArea       1460 non-null   int64  \n",
      " 67  MiscVal        1460 non-null   int64  \n",
      " 68  MoSold         1460 non-null   int64  \n",
      " 69  YrSold         1460 non-null   int64  \n",
      " 70  SaleType       1460 non-null   object \n",
      " 71  SaleCondition  1460 non-null   object \n",
      " 72  SalePrice      1460 non-null   int64  \n",
      "dtypes: float64(2), int64(34), object(37)\n",
      "memory usage: 844.1+ KB\n"
     ]
    }
   ],
   "source": [
    "home_data3.info()"
   ]
  },
  {
   "cell_type": "markdown",
   "id": "e6df8548",
   "metadata": {
    "papermill": {
     "duration": 0.012169,
     "end_time": "2024-05-15T10:11:19.621988",
     "exception": false,
     "start_time": "2024-05-15T10:11:19.609819",
     "status": "completed"
    },
    "tags": []
   },
   "source": [
    "## Hot-code categorical features and scale numerical features"
   ]
  },
  {
   "cell_type": "code",
   "execution_count": 12,
   "id": "aed21b39",
   "metadata": {
    "execution": {
     "iopub.execute_input": "2024-05-15T10:11:19.706297Z",
     "iopub.status.busy": "2024-05-15T10:11:19.705275Z",
     "iopub.status.idle": "2024-05-15T10:11:19.713340Z",
     "shell.execute_reply": "2024-05-15T10:11:19.712265Z"
    },
    "papermill": {
     "duration": 0.081359,
     "end_time": "2024-05-15T10:11:19.715674",
     "exception": false,
     "start_time": "2024-05-15T10:11:19.634315",
     "status": "completed"
    },
    "tags": []
   },
   "outputs": [],
   "source": [
    "home_data4 = home_data3.copy()"
   ]
  },
  {
   "cell_type": "code",
   "execution_count": 13,
   "id": "4380253e",
   "metadata": {
    "execution": {
     "iopub.execute_input": "2024-05-15T10:11:19.742535Z",
     "iopub.status.busy": "2024-05-15T10:11:19.741646Z",
     "iopub.status.idle": "2024-05-15T10:11:19.760878Z",
     "shell.execute_reply": "2024-05-15T10:11:19.759895Z"
    },
    "papermill": {
     "duration": 0.035324,
     "end_time": "2024-05-15T10:11:19.763384",
     "exception": false,
     "start_time": "2024-05-15T10:11:19.728060",
     "status": "completed"
    },
    "tags": []
   },
   "outputs": [],
   "source": [
    "#Minmax scale of numeric variables\n",
    "from sklearn.preprocessing import MinMaxScaler\n",
    "scaler = MinMaxScaler()\n",
    "\n",
    "# create list of numerical variables\n",
    "l_num = []\n",
    "target = 'SalePrice'\n",
    "for col in home_data4.columns:\n",
    "    if col != target:\n",
    "        if home_data4[col].dtype.kind == 'i' or home_data4[col].dtype.kind == 'f':\n",
    "            l_num.append(col)\n",
    "        \n",
    "# scale numerical variables\n",
    "home_data4[l_num] = scaler.fit_transform(home_data4[l_num])"
   ]
  },
  {
   "cell_type": "code",
   "execution_count": 14,
   "id": "da7beaa0",
   "metadata": {
    "execution": {
     "iopub.execute_input": "2024-05-15T10:11:19.790625Z",
     "iopub.status.busy": "2024-05-15T10:11:19.789809Z",
     "iopub.status.idle": "2024-05-15T10:11:19.833997Z",
     "shell.execute_reply": "2024-05-15T10:11:19.832803Z"
    },
    "papermill": {
     "duration": 0.060505,
     "end_time": "2024-05-15T10:11:19.836700",
     "exception": false,
     "start_time": "2024-05-15T10:11:19.776195",
     "status": "completed"
    },
    "tags": []
   },
   "outputs": [],
   "source": [
    "# create list of categorical variables\n",
    "l_cat = []\n",
    "for col in home_data4.columns:\n",
    "    if home_data4[col].dtype.kind == 'O':\n",
    "        l_cat.append(col)\n",
    "\n",
    "# create dummy variables\n",
    "home_data_dummies = pd.get_dummies(home_data4, columns=l_cat, dtype='int32')"
   ]
  },
  {
   "cell_type": "markdown",
   "id": "8bd53fc4",
   "metadata": {
    "papermill": {
     "duration": 0.012189,
     "end_time": "2024-05-15T10:11:19.861893",
     "exception": false,
     "start_time": "2024-05-15T10:11:19.849704",
     "status": "completed"
    },
    "tags": []
   },
   "source": [
    "## Correlation and elimination of features"
   ]
  },
  {
   "cell_type": "code",
   "execution_count": 15,
   "id": "0165c153",
   "metadata": {
    "execution": {
     "iopub.execute_input": "2024-05-15T10:11:19.888345Z",
     "iopub.status.busy": "2024-05-15T10:11:19.887972Z",
     "iopub.status.idle": "2024-05-15T10:11:20.349441Z",
     "shell.execute_reply": "2024-05-15T10:11:20.348336Z"
    },
    "papermill": {
     "duration": 0.477667,
     "end_time": "2024-05-15T10:11:20.352035",
     "exception": false,
     "start_time": "2024-05-15T10:11:19.874368",
     "status": "completed"
    },
    "tags": []
   },
   "outputs": [],
   "source": [
    "corr_matrix = home_data_dummies.corr()\n",
    "\n",
    "# Transform the upper-right triangle to zeros\n",
    "upper_triangle_mask = np.triu(np.ones(corr_matrix.shape), k=1).astype(bool)\n",
    "corr_matrix_upper_zero = corr_matrix.mask(upper_triangle_mask)\n",
    "\n",
    "# Print the pairs of correlated variables to SalePrice\n",
    "corr_result = corr_matrix_upper_zero.unstack().sort_values(ascending=False)\n",
    "corr_result_df = corr_result.reset_index()"
   ]
  },
  {
   "cell_type": "code",
   "execution_count": 16,
   "id": "1dbecc1a",
   "metadata": {
    "execution": {
     "iopub.execute_input": "2024-05-15T10:11:20.379449Z",
     "iopub.status.busy": "2024-05-15T10:11:20.378525Z",
     "iopub.status.idle": "2024-05-15T10:11:20.401326Z",
     "shell.execute_reply": "2024-05-15T10:11:20.400139Z"
    },
    "papermill": {
     "duration": 0.039171,
     "end_time": "2024-05-15T10:11:20.403823",
     "exception": false,
     "start_time": "2024-05-15T10:11:20.364652",
     "status": "completed"
    },
    "tags": []
   },
   "outputs": [
    {
     "name": "stdout",
     "output_type": "stream",
     "text": [
      "                  level_0                   level_1        0\n",
      "       Exterior1st_CBlock        Exterior2nd_CBlock 1.000000\n",
      "  GarageType_non-existent GarageFinish_non-existent 1.000000\n",
      "  GarageType_non-existent   GarageQual_non-existent 1.000000\n",
      "  GarageType_non-existent   GarageCond_non-existent 1.000000\n",
      "GarageFinish_non-existent   GarageQual_non-existent 1.000000\n",
      "  GarageQual_non-existent   GarageCond_non-existent 1.000000\n",
      "GarageFinish_non-existent   GarageCond_non-existent 1.000000\n",
      "    BsmtQual_non-existent     BsmtCond_non-existent 1.000000\n",
      "    BsmtCond_non-existent BsmtFinType1_non-existent 1.000000\n",
      "    BsmtQual_non-existent BsmtFinType1_non-existent 1.000000\n",
      "             SaleType_New     SaleCondition_Partial 0.986819\n",
      "    BsmtCond_non-existent BsmtFinType2_non-existent 0.986408\n",
      "    BsmtQual_non-existent BsmtFinType2_non-existent 0.986408\n",
      "BsmtFinType1_non-existent BsmtFinType2_non-existent 0.986408\n",
      "BsmtExposure_non-existent BsmtFinType1_non-existent 0.986408\n",
      "    BsmtCond_non-existent BsmtExposure_non-existent 0.986408\n",
      "    BsmtQual_non-existent BsmtExposure_non-existent 0.986408\n",
      "      Exterior1st_VinylSd       Exterior2nd_VinylSd 0.977525\n",
      "      Exterior1st_CemntBd       Exterior2nd_CmentBd 0.974171\n",
      "      Exterior1st_MetalSd       Exterior2nd_MetalSd 0.973065\n",
      "BsmtExposure_non-existent BsmtFinType2_non-existent 0.972981\n",
      "      Exterior1st_HdBoard       Exterior2nd_HdBoard 0.883271\n",
      "               GarageCars                GarageArea 0.882475\n",
      "              MSZoning_FV      Neighborhood_Somerst 0.862807\n",
      "      Exterior1st_Wd Sdng       Exterior2nd_Wd Sdng 0.859244\n",
      "      Exterior1st_AsbShng       Exterior2nd_AsbShng 0.847917\n",
      "           RoofStyle_Flat          RoofMatl_Tar&Grv 0.834914\n",
      "                GrLivArea              TotRmsAbvGrd 0.825489\n",
      "              TotalBsmtSF                  1stFlrSF 0.819530\n",
      "            GarageQual_Ex             GarageCond_Ex 0.816217\n",
      "                 2ndFlrSF         HouseStyle_2Story 0.809150\n",
      "          Foundation_Slab BsmtFinType1_non-existent 0.801733\n",
      "          Foundation_Slab     BsmtQual_non-existent 0.801733\n",
      "          Foundation_Slab     BsmtCond_non-existent 0.801733\n",
      "              OverallQual                 SalePrice 0.790982\n",
      "          Foundation_Slab BsmtFinType2_non-existent 0.790836\n",
      "          Foundation_Slab BsmtExposure_non-existent 0.790836\n",
      "            GarageQual_TA             GarageCond_TA 0.786216\n",
      "       Exterior1st_Stucco        Exterior2nd_Stucco 0.780637\n",
      "                YearBuilt               GarageYrBlt 0.780555\n",
      "      Exterior1st_Plywood       Exterior2nd_Plywood 0.755085\n",
      "                GrLivArea                 SalePrice 0.708624\n",
      "          Condition2_RRAe            RoofStyle_Shed 0.706864\n",
      "              BsmtCond_Po            Electrical_Mix 0.706864\n",
      "                 2ndFlrSF                 GrLivArea 0.687501\n",
      "             KitchenAbvGr           BldgType_Duplex 0.680844\n",
      "             BedroomAbvGr              TotRmsAbvGrd 0.676620\n",
      "      Exterior1st_BrkFace       Exterior2nd_BrkFace 0.671889\n",
      "             ExterQual_TA            KitchenQual_TA 0.671600\n",
      "            GarageQual_Po             GarageCond_Po 0.653754\n"
     ]
    }
   ],
   "source": [
    "print(corr_result_df[corr_result_df['level_0'] != corr_result_df['level_1']].head(50).to_string(index=False))"
   ]
  },
  {
   "cell_type": "code",
   "execution_count": 17,
   "id": "b4a87ca5",
   "metadata": {
    "execution": {
     "iopub.execute_input": "2024-05-15T10:11:20.430141Z",
     "iopub.status.busy": "2024-05-15T10:11:20.429765Z",
     "iopub.status.idle": "2024-05-15T10:11:20.442744Z",
     "shell.execute_reply": "2024-05-15T10:11:20.441783Z"
    },
    "papermill": {
     "duration": 0.028791,
     "end_time": "2024-05-15T10:11:20.445093",
     "exception": false,
     "start_time": "2024-05-15T10:11:20.416302",
     "status": "completed"
    },
    "tags": []
   },
   "outputs": [
    {
     "data": {
      "text/html": [
       "<div>\n",
       "<style scoped>\n",
       "    .dataframe tbody tr th:only-of-type {\n",
       "        vertical-align: middle;\n",
       "    }\n",
       "\n",
       "    .dataframe tbody tr th {\n",
       "        vertical-align: top;\n",
       "    }\n",
       "\n",
       "    .dataframe thead th {\n",
       "        text-align: right;\n",
       "    }\n",
       "</style>\n",
       "<table border=\"1\" class=\"dataframe\">\n",
       "  <thead>\n",
       "    <tr style=\"text-align: right;\">\n",
       "      <th></th>\n",
       "      <th>level_0</th>\n",
       "      <th>level_1</th>\n",
       "      <th>0</th>\n",
       "    </tr>\n",
       "  </thead>\n",
       "  <tbody>\n",
       "    <tr>\n",
       "      <th>13878</th>\n",
       "      <td>MSZoning_C (all)</td>\n",
       "      <td>ExterCond_Gd</td>\n",
       "      <td>-3.520489e-18</td>\n",
       "    </tr>\n",
       "    <tr>\n",
       "      <th>13879</th>\n",
       "      <td>Neighborhood_Edwards</td>\n",
       "      <td>ExterCond_Gd</td>\n",
       "      <td>-1.580520e-17</td>\n",
       "    </tr>\n",
       "    <tr>\n",
       "      <th>13880</th>\n",
       "      <td>ExterCond_Gd</td>\n",
       "      <td>PavedDrive_N</td>\n",
       "      <td>-1.750494e-17</td>\n",
       "    </tr>\n",
       "    <tr>\n",
       "      <th>13881</th>\n",
       "      <td>GarageYrBlt</td>\n",
       "      <td>Exterior1st_AsphShn</td>\n",
       "      <td>-8.926082e-17</td>\n",
       "    </tr>\n",
       "    <tr>\n",
       "      <th>13882</th>\n",
       "      <td>GarageYrBlt</td>\n",
       "      <td>ExterCond_Po</td>\n",
       "      <td>-1.067313e-16</td>\n",
       "    </tr>\n",
       "  </tbody>\n",
       "</table>\n",
       "</div>"
      ],
      "text/plain": [
       "                    level_0              level_1             0\n",
       "13878      MSZoning_C (all)         ExterCond_Gd -3.520489e-18\n",
       "13879  Neighborhood_Edwards         ExterCond_Gd -1.580520e-17\n",
       "13880          ExterCond_Gd         PavedDrive_N -1.750494e-17\n",
       "13881           GarageYrBlt  Exterior1st_AsphShn -8.926082e-17\n",
       "13882           GarageYrBlt         ExterCond_Po -1.067313e-16"
      ]
     },
     "execution_count": 17,
     "metadata": {},
     "output_type": "execute_result"
    }
   ],
   "source": [
    "corr_result_df[corr_result_df[0] < 0].head()"
   ]
  },
  {
   "cell_type": "code",
   "execution_count": 18,
   "id": "600d03ec",
   "metadata": {
    "execution": {
     "iopub.execute_input": "2024-05-15T10:11:20.472063Z",
     "iopub.status.busy": "2024-05-15T10:11:20.471651Z",
     "iopub.status.idle": "2024-05-15T10:11:20.480604Z",
     "shell.execute_reply": "2024-05-15T10:11:20.479509Z"
    },
    "papermill": {
     "duration": 0.025298,
     "end_time": "2024-05-15T10:11:20.483106",
     "exception": false,
     "start_time": "2024-05-15T10:11:20.457808",
     "status": "completed"
    },
    "tags": []
   },
   "outputs": [],
   "source": [
    "# Get features with np.abs(corr to price) > 0.4\n",
    "\n",
    "corr_result_df.columns = ['feature_1', 'feature_2', 'corr']\n",
    "high_corr_features = corr_result_df[(np.abs(corr_result_df['corr']) > 0.4) & (np.abs(corr_result_df['corr']) < 0.8)]\n",
    "\n",
    "high_corr_features_unique = set(high_corr_features['feature_1'].tolist() + high_corr_features['feature_2'].tolist())"
   ]
  },
  {
   "cell_type": "code",
   "execution_count": 19,
   "id": "ab68b665",
   "metadata": {
    "execution": {
     "iopub.execute_input": "2024-05-15T10:11:20.510726Z",
     "iopub.status.busy": "2024-05-15T10:11:20.510350Z",
     "iopub.status.idle": "2024-05-15T10:11:20.516922Z",
     "shell.execute_reply": "2024-05-15T10:11:20.515815Z"
    },
    "papermill": {
     "duration": 0.02331,
     "end_time": "2024-05-15T10:11:20.519308",
     "exception": false,
     "start_time": "2024-05-15T10:11:20.495998",
     "status": "completed"
    },
    "tags": []
   },
   "outputs": [
    {
     "data": {
      "text/plain": [
       "156"
      ]
     },
     "execution_count": 19,
     "metadata": {},
     "output_type": "execute_result"
    }
   ],
   "source": [
    "len(high_corr_features_unique)"
   ]
  },
  {
   "cell_type": "code",
   "execution_count": 20,
   "id": "c49789a8",
   "metadata": {
    "execution": {
     "iopub.execute_input": "2024-05-15T10:11:20.546457Z",
     "iopub.status.busy": "2024-05-15T10:11:20.546086Z",
     "iopub.status.idle": "2024-05-15T10:11:20.551003Z",
     "shell.execute_reply": "2024-05-15T10:11:20.549861Z"
    },
    "papermill": {
     "duration": 0.020942,
     "end_time": "2024-05-15T10:11:20.553088",
     "exception": false,
     "start_time": "2024-05-15T10:11:20.532146",
     "status": "completed"
    },
    "tags": []
   },
   "outputs": [],
   "source": [
    "high_corr_features_unique.remove('SalePrice')"
   ]
  },
  {
   "cell_type": "markdown",
   "id": "85dbbcca",
   "metadata": {
    "papermill": {
     "duration": 0.012413,
     "end_time": "2024-05-15T10:11:20.578255",
     "exception": false,
     "start_time": "2024-05-15T10:11:20.565842",
     "status": "completed"
    },
    "tags": []
   },
   "source": [
    "## Optimizing model"
   ]
  },
  {
   "cell_type": "markdown",
   "id": "bafb53f2",
   "metadata": {
    "papermill": {
     "duration": 0.012308,
     "end_time": "2024-05-15T10:11:20.603645",
     "exception": false,
     "start_time": "2024-05-15T10:11:20.591337",
     "status": "completed"
    },
    "tags": []
   },
   "source": [
    "### Cleaning test data "
   ]
  },
  {
   "cell_type": "code",
   "execution_count": 21,
   "id": "d96066c1",
   "metadata": {
    "execution": {
     "iopub.execute_input": "2024-05-15T10:11:20.631184Z",
     "iopub.status.busy": "2024-05-15T10:11:20.630392Z",
     "iopub.status.idle": "2024-05-15T10:11:20.654186Z",
     "shell.execute_reply": "2024-05-15T10:11:20.653146Z"
    },
    "papermill": {
     "duration": 0.039883,
     "end_time": "2024-05-15T10:11:20.656661",
     "exception": false,
     "start_time": "2024-05-15T10:11:20.616778",
     "status": "completed"
    },
    "tags": []
   },
   "outputs": [],
   "source": [
    "test_data = pd.read_csv(test_data_path)\n",
    "test_data.set_index('Id', inplace=True)"
   ]
  },
  {
   "cell_type": "code",
   "execution_count": 22,
   "id": "d800b05f",
   "metadata": {
    "execution": {
     "iopub.execute_input": "2024-05-15T10:11:20.684152Z",
     "iopub.status.busy": "2024-05-15T10:11:20.683766Z",
     "iopub.status.idle": "2024-05-15T10:11:20.705422Z",
     "shell.execute_reply": "2024-05-15T10:11:20.703691Z"
    },
    "papermill": {
     "duration": 0.038064,
     "end_time": "2024-05-15T10:11:20.707773",
     "exception": false,
     "start_time": "2024-05-15T10:11:20.669709",
     "status": "completed"
    },
    "tags": []
   },
   "outputs": [
    {
     "name": "stdout",
     "output_type": "stream",
     "text": [
      "<class 'pandas.core.frame.DataFrame'>\n",
      "Index: 1459 entries, 1461 to 2919\n",
      "Data columns (total 79 columns):\n",
      " #   Column         Non-Null Count  Dtype  \n",
      "---  ------         --------------  -----  \n",
      " 0   MSSubClass     1459 non-null   int64  \n",
      " 1   MSZoning       1455 non-null   object \n",
      " 2   LotFrontage    1232 non-null   float64\n",
      " 3   LotArea        1459 non-null   int64  \n",
      " 4   Street         1459 non-null   object \n",
      " 5   Alley          107 non-null    object \n",
      " 6   LotShape       1459 non-null   object \n",
      " 7   LandContour    1459 non-null   object \n",
      " 8   Utilities      1457 non-null   object \n",
      " 9   LotConfig      1459 non-null   object \n",
      " 10  LandSlope      1459 non-null   object \n",
      " 11  Neighborhood   1459 non-null   object \n",
      " 12  Condition1     1459 non-null   object \n",
      " 13  Condition2     1459 non-null   object \n",
      " 14  BldgType       1459 non-null   object \n",
      " 15  HouseStyle     1459 non-null   object \n",
      " 16  OverallQual    1459 non-null   int64  \n",
      " 17  OverallCond    1459 non-null   int64  \n",
      " 18  YearBuilt      1459 non-null   int64  \n",
      " 19  YearRemodAdd   1459 non-null   int64  \n",
      " 20  RoofStyle      1459 non-null   object \n",
      " 21  RoofMatl       1459 non-null   object \n",
      " 22  Exterior1st    1458 non-null   object \n",
      " 23  Exterior2nd    1458 non-null   object \n",
      " 24  MasVnrType     565 non-null    object \n",
      " 25  MasVnrArea     1444 non-null   float64\n",
      " 26  ExterQual      1459 non-null   object \n",
      " 27  ExterCond      1459 non-null   object \n",
      " 28  Foundation     1459 non-null   object \n",
      " 29  BsmtQual       1415 non-null   object \n",
      " 30  BsmtCond       1414 non-null   object \n",
      " 31  BsmtExposure   1415 non-null   object \n",
      " 32  BsmtFinType1   1417 non-null   object \n",
      " 33  BsmtFinSF1     1458 non-null   float64\n",
      " 34  BsmtFinType2   1417 non-null   object \n",
      " 35  BsmtFinSF2     1458 non-null   float64\n",
      " 36  BsmtUnfSF      1458 non-null   float64\n",
      " 37  TotalBsmtSF    1458 non-null   float64\n",
      " 38  Heating        1459 non-null   object \n",
      " 39  HeatingQC      1459 non-null   object \n",
      " 40  CentralAir     1459 non-null   object \n",
      " 41  Electrical     1459 non-null   object \n",
      " 42  1stFlrSF       1459 non-null   int64  \n",
      " 43  2ndFlrSF       1459 non-null   int64  \n",
      " 44  LowQualFinSF   1459 non-null   int64  \n",
      " 45  GrLivArea      1459 non-null   int64  \n",
      " 46  BsmtFullBath   1457 non-null   float64\n",
      " 47  BsmtHalfBath   1457 non-null   float64\n",
      " 48  FullBath       1459 non-null   int64  \n",
      " 49  HalfBath       1459 non-null   int64  \n",
      " 50  BedroomAbvGr   1459 non-null   int64  \n",
      " 51  KitchenAbvGr   1459 non-null   int64  \n",
      " 52  KitchenQual    1458 non-null   object \n",
      " 53  TotRmsAbvGrd   1459 non-null   int64  \n",
      " 54  Functional     1457 non-null   object \n",
      " 55  Fireplaces     1459 non-null   int64  \n",
      " 56  FireplaceQu    729 non-null    object \n",
      " 57  GarageType     1383 non-null   object \n",
      " 58  GarageYrBlt    1381 non-null   float64\n",
      " 59  GarageFinish   1381 non-null   object \n",
      " 60  GarageCars     1458 non-null   float64\n",
      " 61  GarageArea     1458 non-null   float64\n",
      " 62  GarageQual     1381 non-null   object \n",
      " 63  GarageCond     1381 non-null   object \n",
      " 64  PavedDrive     1459 non-null   object \n",
      " 65  WoodDeckSF     1459 non-null   int64  \n",
      " 66  OpenPorchSF    1459 non-null   int64  \n",
      " 67  EnclosedPorch  1459 non-null   int64  \n",
      " 68  3SsnPorch      1459 non-null   int64  \n",
      " 69  ScreenPorch    1459 non-null   int64  \n",
      " 70  PoolArea       1459 non-null   int64  \n",
      " 71  PoolQC         3 non-null      object \n",
      " 72  Fence          290 non-null    object \n",
      " 73  MiscFeature    51 non-null     object \n",
      " 74  MiscVal        1459 non-null   int64  \n",
      " 75  MoSold         1459 non-null   int64  \n",
      " 76  YrSold         1459 non-null   int64  \n",
      " 77  SaleType       1458 non-null   object \n",
      " 78  SaleCondition  1459 non-null   object \n",
      "dtypes: float64(11), int64(25), object(43)\n",
      "memory usage: 911.9+ KB\n"
     ]
    }
   ],
   "source": [
    "test_data.info()"
   ]
  },
  {
   "cell_type": "code",
   "execution_count": 23,
   "id": "d4b756ab",
   "metadata": {
    "execution": {
     "iopub.execute_input": "2024-05-15T10:11:20.735577Z",
     "iopub.status.busy": "2024-05-15T10:11:20.735200Z",
     "iopub.status.idle": "2024-05-15T10:11:20.763749Z",
     "shell.execute_reply": "2024-05-15T10:11:20.762484Z"
    },
    "papermill": {
     "duration": 0.045181,
     "end_time": "2024-05-15T10:11:20.766167",
     "exception": false,
     "start_time": "2024-05-15T10:11:20.720986",
     "status": "completed"
    },
    "tags": []
   },
   "outputs": [],
   "source": [
    "#Drop columns\n",
    "threshold = 200\n",
    "\n",
    "for col in home_data.columns:\n",
    "    if home_data[col].isnull().sum() >= threshold:\n",
    "        del(test_data[col])"
   ]
  },
  {
   "cell_type": "code",
   "execution_count": 24,
   "id": "a365f319",
   "metadata": {
    "execution": {
     "iopub.execute_input": "2024-05-15T10:11:20.794747Z",
     "iopub.status.busy": "2024-05-15T10:11:20.793679Z",
     "iopub.status.idle": "2024-05-15T10:11:20.839136Z",
     "shell.execute_reply": "2024-05-15T10:11:20.837960Z"
    },
    "papermill": {
     "duration": 0.061836,
     "end_time": "2024-05-15T10:11:20.841313",
     "exception": false,
     "start_time": "2024-05-15T10:11:20.779477",
     "status": "completed"
    },
    "tags": []
   },
   "outputs": [
    {
     "data": {
      "text/html": [
       "<div>\n",
       "<style scoped>\n",
       "    .dataframe tbody tr th:only-of-type {\n",
       "        vertical-align: middle;\n",
       "    }\n",
       "\n",
       "    .dataframe tbody tr th {\n",
       "        vertical-align: top;\n",
       "    }\n",
       "\n",
       "    .dataframe thead th {\n",
       "        text-align: right;\n",
       "    }\n",
       "</style>\n",
       "<table border=\"1\" class=\"dataframe\">\n",
       "  <thead>\n",
       "    <tr style=\"text-align: right;\">\n",
       "      <th></th>\n",
       "      <th>MSZoning</th>\n",
       "      <th>Utilities</th>\n",
       "      <th>Exterior1st</th>\n",
       "      <th>Exterior2nd</th>\n",
       "      <th>MasVnrArea</th>\n",
       "      <th>BsmtQual</th>\n",
       "      <th>BsmtCond</th>\n",
       "      <th>BsmtExposure</th>\n",
       "      <th>BsmtFinType1</th>\n",
       "      <th>BsmtFinSF1</th>\n",
       "      <th>...</th>\n",
       "      <th>KitchenQual</th>\n",
       "      <th>Functional</th>\n",
       "      <th>GarageType</th>\n",
       "      <th>GarageYrBlt</th>\n",
       "      <th>GarageFinish</th>\n",
       "      <th>GarageCars</th>\n",
       "      <th>GarageArea</th>\n",
       "      <th>GarageQual</th>\n",
       "      <th>GarageCond</th>\n",
       "      <th>SaleType</th>\n",
       "    </tr>\n",
       "    <tr>\n",
       "      <th>Id</th>\n",
       "      <th></th>\n",
       "      <th></th>\n",
       "      <th></th>\n",
       "      <th></th>\n",
       "      <th></th>\n",
       "      <th></th>\n",
       "      <th></th>\n",
       "      <th></th>\n",
       "      <th></th>\n",
       "      <th></th>\n",
       "      <th></th>\n",
       "      <th></th>\n",
       "      <th></th>\n",
       "      <th></th>\n",
       "      <th></th>\n",
       "      <th></th>\n",
       "      <th></th>\n",
       "      <th></th>\n",
       "      <th></th>\n",
       "      <th></th>\n",
       "      <th></th>\n",
       "    </tr>\n",
       "  </thead>\n",
       "  <tbody>\n",
       "    <tr>\n",
       "      <th>1461</th>\n",
       "      <td>RH</td>\n",
       "      <td>AllPub</td>\n",
       "      <td>VinylSd</td>\n",
       "      <td>VinylSd</td>\n",
       "      <td>0.0</td>\n",
       "      <td>TA</td>\n",
       "      <td>TA</td>\n",
       "      <td>No</td>\n",
       "      <td>Rec</td>\n",
       "      <td>468.0</td>\n",
       "      <td>...</td>\n",
       "      <td>TA</td>\n",
       "      <td>Typ</td>\n",
       "      <td>Attchd</td>\n",
       "      <td>1961.0</td>\n",
       "      <td>Unf</td>\n",
       "      <td>1.0</td>\n",
       "      <td>730.0</td>\n",
       "      <td>TA</td>\n",
       "      <td>TA</td>\n",
       "      <td>WD</td>\n",
       "    </tr>\n",
       "    <tr>\n",
       "      <th>1462</th>\n",
       "      <td>RL</td>\n",
       "      <td>AllPub</td>\n",
       "      <td>Wd Sdng</td>\n",
       "      <td>Wd Sdng</td>\n",
       "      <td>108.0</td>\n",
       "      <td>TA</td>\n",
       "      <td>TA</td>\n",
       "      <td>No</td>\n",
       "      <td>ALQ</td>\n",
       "      <td>923.0</td>\n",
       "      <td>...</td>\n",
       "      <td>Gd</td>\n",
       "      <td>Typ</td>\n",
       "      <td>Attchd</td>\n",
       "      <td>1958.0</td>\n",
       "      <td>Unf</td>\n",
       "      <td>1.0</td>\n",
       "      <td>312.0</td>\n",
       "      <td>TA</td>\n",
       "      <td>TA</td>\n",
       "      <td>WD</td>\n",
       "    </tr>\n",
       "    <tr>\n",
       "      <th>1463</th>\n",
       "      <td>RL</td>\n",
       "      <td>AllPub</td>\n",
       "      <td>VinylSd</td>\n",
       "      <td>VinylSd</td>\n",
       "      <td>0.0</td>\n",
       "      <td>Gd</td>\n",
       "      <td>TA</td>\n",
       "      <td>No</td>\n",
       "      <td>GLQ</td>\n",
       "      <td>791.0</td>\n",
       "      <td>...</td>\n",
       "      <td>TA</td>\n",
       "      <td>Typ</td>\n",
       "      <td>Attchd</td>\n",
       "      <td>1997.0</td>\n",
       "      <td>Fin</td>\n",
       "      <td>2.0</td>\n",
       "      <td>482.0</td>\n",
       "      <td>TA</td>\n",
       "      <td>TA</td>\n",
       "      <td>WD</td>\n",
       "    </tr>\n",
       "    <tr>\n",
       "      <th>1464</th>\n",
       "      <td>RL</td>\n",
       "      <td>AllPub</td>\n",
       "      <td>VinylSd</td>\n",
       "      <td>VinylSd</td>\n",
       "      <td>20.0</td>\n",
       "      <td>TA</td>\n",
       "      <td>TA</td>\n",
       "      <td>No</td>\n",
       "      <td>GLQ</td>\n",
       "      <td>602.0</td>\n",
       "      <td>...</td>\n",
       "      <td>Gd</td>\n",
       "      <td>Typ</td>\n",
       "      <td>Attchd</td>\n",
       "      <td>1998.0</td>\n",
       "      <td>Fin</td>\n",
       "      <td>2.0</td>\n",
       "      <td>470.0</td>\n",
       "      <td>TA</td>\n",
       "      <td>TA</td>\n",
       "      <td>WD</td>\n",
       "    </tr>\n",
       "    <tr>\n",
       "      <th>1465</th>\n",
       "      <td>RL</td>\n",
       "      <td>AllPub</td>\n",
       "      <td>HdBoard</td>\n",
       "      <td>HdBoard</td>\n",
       "      <td>0.0</td>\n",
       "      <td>Gd</td>\n",
       "      <td>TA</td>\n",
       "      <td>No</td>\n",
       "      <td>ALQ</td>\n",
       "      <td>263.0</td>\n",
       "      <td>...</td>\n",
       "      <td>Gd</td>\n",
       "      <td>Typ</td>\n",
       "      <td>Attchd</td>\n",
       "      <td>1992.0</td>\n",
       "      <td>RFn</td>\n",
       "      <td>2.0</td>\n",
       "      <td>506.0</td>\n",
       "      <td>TA</td>\n",
       "      <td>TA</td>\n",
       "      <td>WD</td>\n",
       "    </tr>\n",
       "    <tr>\n",
       "      <th>1466</th>\n",
       "      <td>RL</td>\n",
       "      <td>AllPub</td>\n",
       "      <td>HdBoard</td>\n",
       "      <td>HdBoard</td>\n",
       "      <td>0.0</td>\n",
       "      <td>Gd</td>\n",
       "      <td>TA</td>\n",
       "      <td>No</td>\n",
       "      <td>Unf</td>\n",
       "      <td>0.0</td>\n",
       "      <td>...</td>\n",
       "      <td>TA</td>\n",
       "      <td>Typ</td>\n",
       "      <td>Attchd</td>\n",
       "      <td>1993.0</td>\n",
       "      <td>Fin</td>\n",
       "      <td>2.0</td>\n",
       "      <td>440.0</td>\n",
       "      <td>TA</td>\n",
       "      <td>TA</td>\n",
       "      <td>WD</td>\n",
       "    </tr>\n",
       "    <tr>\n",
       "      <th>1467</th>\n",
       "      <td>RL</td>\n",
       "      <td>AllPub</td>\n",
       "      <td>HdBoard</td>\n",
       "      <td>HdBoard</td>\n",
       "      <td>0.0</td>\n",
       "      <td>Gd</td>\n",
       "      <td>TA</td>\n",
       "      <td>No</td>\n",
       "      <td>ALQ</td>\n",
       "      <td>935.0</td>\n",
       "      <td>...</td>\n",
       "      <td>TA</td>\n",
       "      <td>Typ</td>\n",
       "      <td>Attchd</td>\n",
       "      <td>1992.0</td>\n",
       "      <td>Fin</td>\n",
       "      <td>2.0</td>\n",
       "      <td>420.0</td>\n",
       "      <td>TA</td>\n",
       "      <td>TA</td>\n",
       "      <td>WD</td>\n",
       "    </tr>\n",
       "    <tr>\n",
       "      <th>1468</th>\n",
       "      <td>RL</td>\n",
       "      <td>AllPub</td>\n",
       "      <td>VinylSd</td>\n",
       "      <td>VinylSd</td>\n",
       "      <td>0.0</td>\n",
       "      <td>Gd</td>\n",
       "      <td>TA</td>\n",
       "      <td>No</td>\n",
       "      <td>Unf</td>\n",
       "      <td>0.0</td>\n",
       "      <td>...</td>\n",
       "      <td>TA</td>\n",
       "      <td>Typ</td>\n",
       "      <td>Attchd</td>\n",
       "      <td>1998.0</td>\n",
       "      <td>Fin</td>\n",
       "      <td>2.0</td>\n",
       "      <td>393.0</td>\n",
       "      <td>TA</td>\n",
       "      <td>TA</td>\n",
       "      <td>WD</td>\n",
       "    </tr>\n",
       "    <tr>\n",
       "      <th>1469</th>\n",
       "      <td>RL</td>\n",
       "      <td>AllPub</td>\n",
       "      <td>HdBoard</td>\n",
       "      <td>HdBoard</td>\n",
       "      <td>0.0</td>\n",
       "      <td>Gd</td>\n",
       "      <td>TA</td>\n",
       "      <td>Gd</td>\n",
       "      <td>GLQ</td>\n",
       "      <td>637.0</td>\n",
       "      <td>...</td>\n",
       "      <td>Gd</td>\n",
       "      <td>Typ</td>\n",
       "      <td>Attchd</td>\n",
       "      <td>1990.0</td>\n",
       "      <td>Unf</td>\n",
       "      <td>2.0</td>\n",
       "      <td>506.0</td>\n",
       "      <td>TA</td>\n",
       "      <td>TA</td>\n",
       "      <td>WD</td>\n",
       "    </tr>\n",
       "    <tr>\n",
       "      <th>1470</th>\n",
       "      <td>RL</td>\n",
       "      <td>AllPub</td>\n",
       "      <td>Plywood</td>\n",
       "      <td>Plywood</td>\n",
       "      <td>0.0</td>\n",
       "      <td>TA</td>\n",
       "      <td>TA</td>\n",
       "      <td>No</td>\n",
       "      <td>ALQ</td>\n",
       "      <td>804.0</td>\n",
       "      <td>...</td>\n",
       "      <td>TA</td>\n",
       "      <td>Typ</td>\n",
       "      <td>Attchd</td>\n",
       "      <td>1970.0</td>\n",
       "      <td>Fin</td>\n",
       "      <td>2.0</td>\n",
       "      <td>525.0</td>\n",
       "      <td>TA</td>\n",
       "      <td>TA</td>\n",
       "      <td>WD</td>\n",
       "    </tr>\n",
       "  </tbody>\n",
       "</table>\n",
       "<p>10 rows × 26 columns</p>\n",
       "</div>"
      ],
      "text/plain": [
       "     MSZoning Utilities Exterior1st Exterior2nd  MasVnrArea BsmtQual BsmtCond  \\\n",
       "Id                                                                              \n",
       "1461       RH    AllPub     VinylSd     VinylSd         0.0       TA       TA   \n",
       "1462       RL    AllPub     Wd Sdng     Wd Sdng       108.0       TA       TA   \n",
       "1463       RL    AllPub     VinylSd     VinylSd         0.0       Gd       TA   \n",
       "1464       RL    AllPub     VinylSd     VinylSd        20.0       TA       TA   \n",
       "1465       RL    AllPub     HdBoard     HdBoard         0.0       Gd       TA   \n",
       "1466       RL    AllPub     HdBoard     HdBoard         0.0       Gd       TA   \n",
       "1467       RL    AllPub     HdBoard     HdBoard         0.0       Gd       TA   \n",
       "1468       RL    AllPub     VinylSd     VinylSd         0.0       Gd       TA   \n",
       "1469       RL    AllPub     HdBoard     HdBoard         0.0       Gd       TA   \n",
       "1470       RL    AllPub     Plywood     Plywood         0.0       TA       TA   \n",
       "\n",
       "     BsmtExposure BsmtFinType1  BsmtFinSF1  ... KitchenQual  Functional  \\\n",
       "Id                                          ...                           \n",
       "1461           No          Rec       468.0  ...          TA         Typ   \n",
       "1462           No          ALQ       923.0  ...          Gd         Typ   \n",
       "1463           No          GLQ       791.0  ...          TA         Typ   \n",
       "1464           No          GLQ       602.0  ...          Gd         Typ   \n",
       "1465           No          ALQ       263.0  ...          Gd         Typ   \n",
       "1466           No          Unf         0.0  ...          TA         Typ   \n",
       "1467           No          ALQ       935.0  ...          TA         Typ   \n",
       "1468           No          Unf         0.0  ...          TA         Typ   \n",
       "1469           Gd          GLQ       637.0  ...          Gd         Typ   \n",
       "1470           No          ALQ       804.0  ...          TA         Typ   \n",
       "\n",
       "      GarageType  GarageYrBlt  GarageFinish  GarageCars GarageArea GarageQual  \\\n",
       "Id                                                                              \n",
       "1461      Attchd       1961.0           Unf         1.0      730.0         TA   \n",
       "1462      Attchd       1958.0           Unf         1.0      312.0         TA   \n",
       "1463      Attchd       1997.0           Fin         2.0      482.0         TA   \n",
       "1464      Attchd       1998.0           Fin         2.0      470.0         TA   \n",
       "1465      Attchd       1992.0           RFn         2.0      506.0         TA   \n",
       "1466      Attchd       1993.0           Fin         2.0      440.0         TA   \n",
       "1467      Attchd       1992.0           Fin         2.0      420.0         TA   \n",
       "1468      Attchd       1998.0           Fin         2.0      393.0         TA   \n",
       "1469      Attchd       1990.0           Unf         2.0      506.0         TA   \n",
       "1470      Attchd       1970.0           Fin         2.0      525.0         TA   \n",
       "\n",
       "     GarageCond  SaleType  \n",
       "Id                         \n",
       "1461         TA        WD  \n",
       "1462         TA        WD  \n",
       "1463         TA        WD  \n",
       "1464         TA        WD  \n",
       "1465         TA        WD  \n",
       "1466         TA        WD  \n",
       "1467         TA        WD  \n",
       "1468         TA        WD  \n",
       "1469         TA        WD  \n",
       "1470         TA        WD  \n",
       "\n",
       "[10 rows x 26 columns]"
      ]
     },
     "execution_count": 24,
     "metadata": {},
     "output_type": "execute_result"
    }
   ],
   "source": [
    "test_data2 = test_data.copy()\n",
    "\n",
    "#Inspect remaining columns with NaNs\n",
    "columns_with_nan = []\n",
    "\n",
    "for col in test_data2.columns:\n",
    "    if test_data2[col].isnull().sum() > 0:\n",
    "        columns_with_nan.append(col)\n",
    "\n",
    "test_data2[columns_with_nan].head(10)  "
   ]
  },
  {
   "cell_type": "code",
   "execution_count": 25,
   "id": "b334ffab",
   "metadata": {
    "execution": {
     "iopub.execute_input": "2024-05-15T10:11:20.870193Z",
     "iopub.status.busy": "2024-05-15T10:11:20.869814Z",
     "iopub.status.idle": "2024-05-15T10:11:20.912579Z",
     "shell.execute_reply": "2024-05-15T10:11:20.911253Z"
    },
    "papermill": {
     "duration": 0.06057,
     "end_time": "2024-05-15T10:11:20.915350",
     "exception": false,
     "start_time": "2024-05-15T10:11:20.854780",
     "status": "completed"
    },
    "tags": []
   },
   "outputs": [],
   "source": [
    "test_data3 = test_data2.copy()\n",
    "\n",
    "#Fill NaNs with mean for numerical and mode for rest\n",
    "columns_with_nan = []\n",
    "\n",
    "for col in test_data3.columns:\n",
    "    if test_data3[col].isnull().sum() > 0 and test_data3[col].dtype == 'float64':\n",
    "        test_data3[col] = test_data3[col].fillna(value = test_data3[col].mean())\n",
    "    elif test_data3[col].isnull().sum() > 0 and test_data3[col].dtype == 'object':\n",
    "        test_data3[col] = test_data3[col].fillna(value = \"non-existent\")"
   ]
  },
  {
   "cell_type": "code",
   "execution_count": 26,
   "id": "1d08cdf8",
   "metadata": {
    "execution": {
     "iopub.execute_input": "2024-05-15T10:11:20.945425Z",
     "iopub.status.busy": "2024-05-15T10:11:20.944507Z",
     "iopub.status.idle": "2024-05-15T10:11:20.964658Z",
     "shell.execute_reply": "2024-05-15T10:11:20.963766Z"
    },
    "papermill": {
     "duration": 0.037466,
     "end_time": "2024-05-15T10:11:20.967056",
     "exception": false,
     "start_time": "2024-05-15T10:11:20.929590",
     "status": "completed"
    },
    "tags": []
   },
   "outputs": [],
   "source": [
    "test_data4 = test_data3.copy()\n",
    "#Minmax scale of numeric variables\n",
    "from sklearn.preprocessing import MinMaxScaler\n",
    "scaler = MinMaxScaler()\n",
    "\n",
    "l_num = []\n",
    "for col in test_data4.columns:\n",
    "    if test_data4[col].dtype.kind == 'i' or test_data4[col].dtype.kind == 'f':\n",
    "        l_num.append(col)\n",
    "        \n",
    "# scale numerical variables\n",
    "test_data4[l_num] = scaler.fit_transform(test_data4[l_num])\n"
   ]
  },
  {
   "cell_type": "code",
   "execution_count": 27,
   "id": "613473bc",
   "metadata": {
    "execution": {
     "iopub.execute_input": "2024-05-15T10:11:20.995677Z",
     "iopub.status.busy": "2024-05-15T10:11:20.995338Z",
     "iopub.status.idle": "2024-05-15T10:11:21.039999Z",
     "shell.execute_reply": "2024-05-15T10:11:21.039071Z"
    },
    "papermill": {
     "duration": 0.062016,
     "end_time": "2024-05-15T10:11:21.042523",
     "exception": false,
     "start_time": "2024-05-15T10:11:20.980507",
     "status": "completed"
    },
    "tags": []
   },
   "outputs": [],
   "source": [
    "# create list of categorical variables\n",
    "l_cat = []\n",
    "for col in test_data4.columns:\n",
    "    if test_data4[col].dtype.kind == 'O':\n",
    "        l_cat.append(col)\n",
    "\n",
    "# create dummy variables\n",
    "test_data_dummies = pd.get_dummies(test_data4, columns=l_cat, dtype='int32')\n"
   ]
  },
  {
   "cell_type": "code",
   "execution_count": 28,
   "id": "564a0913",
   "metadata": {
    "execution": {
     "iopub.execute_input": "2024-05-15T10:11:21.072262Z",
     "iopub.status.busy": "2024-05-15T10:11:21.071484Z",
     "iopub.status.idle": "2024-05-15T10:11:21.094689Z",
     "shell.execute_reply": "2024-05-15T10:11:21.093650Z"
    },
    "papermill": {
     "duration": 0.04034,
     "end_time": "2024-05-15T10:11:21.096888",
     "exception": false,
     "start_time": "2024-05-15T10:11:21.056548",
     "status": "completed"
    },
    "tags": []
   },
   "outputs": [
    {
     "data": {
      "text/html": [
       "<div>\n",
       "<style scoped>\n",
       "    .dataframe tbody tr th:only-of-type {\n",
       "        vertical-align: middle;\n",
       "    }\n",
       "\n",
       "    .dataframe tbody tr th {\n",
       "        vertical-align: top;\n",
       "    }\n",
       "\n",
       "    .dataframe thead th {\n",
       "        text-align: right;\n",
       "    }\n",
       "</style>\n",
       "<table border=\"1\" class=\"dataframe\">\n",
       "  <thead>\n",
       "    <tr style=\"text-align: right;\">\n",
       "      <th></th>\n",
       "      <th>MSSubClass</th>\n",
       "      <th>LotArea</th>\n",
       "      <th>OverallQual</th>\n",
       "      <th>OverallCond</th>\n",
       "      <th>YearBuilt</th>\n",
       "      <th>YearRemodAdd</th>\n",
       "      <th>MasVnrArea</th>\n",
       "      <th>BsmtFinSF1</th>\n",
       "      <th>BsmtFinSF2</th>\n",
       "      <th>BsmtUnfSF</th>\n",
       "      <th>...</th>\n",
       "      <th>SaleType_New</th>\n",
       "      <th>SaleType_Oth</th>\n",
       "      <th>SaleType_WD</th>\n",
       "      <th>SaleType_non-existent</th>\n",
       "      <th>SaleCondition_Abnorml</th>\n",
       "      <th>SaleCondition_AdjLand</th>\n",
       "      <th>SaleCondition_Alloca</th>\n",
       "      <th>SaleCondition_Family</th>\n",
       "      <th>SaleCondition_Normal</th>\n",
       "      <th>SaleCondition_Partial</th>\n",
       "    </tr>\n",
       "    <tr>\n",
       "      <th>Id</th>\n",
       "      <th></th>\n",
       "      <th></th>\n",
       "      <th></th>\n",
       "      <th></th>\n",
       "      <th></th>\n",
       "      <th></th>\n",
       "      <th></th>\n",
       "      <th></th>\n",
       "      <th></th>\n",
       "      <th></th>\n",
       "      <th></th>\n",
       "      <th></th>\n",
       "      <th></th>\n",
       "      <th></th>\n",
       "      <th></th>\n",
       "      <th></th>\n",
       "      <th></th>\n",
       "      <th></th>\n",
       "      <th></th>\n",
       "      <th></th>\n",
       "      <th></th>\n",
       "    </tr>\n",
       "  </thead>\n",
       "  <tbody>\n",
       "    <tr>\n",
       "      <th>1461</th>\n",
       "      <td>0.000000</td>\n",
       "      <td>0.184147</td>\n",
       "      <td>0.444444</td>\n",
       "      <td>0.625</td>\n",
       "      <td>0.625954</td>\n",
       "      <td>0.183333</td>\n",
       "      <td>0.000000</td>\n",
       "      <td>0.116708</td>\n",
       "      <td>0.094364</td>\n",
       "      <td>0.126168</td>\n",
       "      <td>...</td>\n",
       "      <td>0</td>\n",
       "      <td>0</td>\n",
       "      <td>1</td>\n",
       "      <td>0</td>\n",
       "      <td>0</td>\n",
       "      <td>0</td>\n",
       "      <td>0</td>\n",
       "      <td>0</td>\n",
       "      <td>1</td>\n",
       "      <td>0</td>\n",
       "    </tr>\n",
       "    <tr>\n",
       "      <th>1462</th>\n",
       "      <td>0.000000</td>\n",
       "      <td>0.232124</td>\n",
       "      <td>0.555556</td>\n",
       "      <td>0.625</td>\n",
       "      <td>0.603053</td>\n",
       "      <td>0.133333</td>\n",
       "      <td>0.083721</td>\n",
       "      <td>0.230175</td>\n",
       "      <td>0.000000</td>\n",
       "      <td>0.189720</td>\n",
       "      <td>...</td>\n",
       "      <td>0</td>\n",
       "      <td>0</td>\n",
       "      <td>1</td>\n",
       "      <td>0</td>\n",
       "      <td>0</td>\n",
       "      <td>0</td>\n",
       "      <td>0</td>\n",
       "      <td>0</td>\n",
       "      <td>1</td>\n",
       "      <td>0</td>\n",
       "    </tr>\n",
       "    <tr>\n",
       "      <th>1463</th>\n",
       "      <td>0.235294</td>\n",
       "      <td>0.224197</td>\n",
       "      <td>0.444444</td>\n",
       "      <td>0.500</td>\n",
       "      <td>0.900763</td>\n",
       "      <td>0.800000</td>\n",
       "      <td>0.000000</td>\n",
       "      <td>0.197257</td>\n",
       "      <td>0.000000</td>\n",
       "      <td>0.064019</td>\n",
       "      <td>...</td>\n",
       "      <td>0</td>\n",
       "      <td>0</td>\n",
       "      <td>1</td>\n",
       "      <td>0</td>\n",
       "      <td>0</td>\n",
       "      <td>0</td>\n",
       "      <td>0</td>\n",
       "      <td>0</td>\n",
       "      <td>1</td>\n",
       "      <td>0</td>\n",
       "    </tr>\n",
       "    <tr>\n",
       "      <th>1464</th>\n",
       "      <td>0.235294</td>\n",
       "      <td>0.154326</td>\n",
       "      <td>0.555556</td>\n",
       "      <td>0.625</td>\n",
       "      <td>0.908397</td>\n",
       "      <td>0.800000</td>\n",
       "      <td>0.015504</td>\n",
       "      <td>0.150125</td>\n",
       "      <td>0.000000</td>\n",
       "      <td>0.151402</td>\n",
       "      <td>...</td>\n",
       "      <td>0</td>\n",
       "      <td>0</td>\n",
       "      <td>1</td>\n",
       "      <td>0</td>\n",
       "      <td>0</td>\n",
       "      <td>0</td>\n",
       "      <td>0</td>\n",
       "      <td>0</td>\n",
       "      <td>1</td>\n",
       "      <td>0</td>\n",
       "    </tr>\n",
       "    <tr>\n",
       "      <th>1465</th>\n",
       "      <td>0.588235</td>\n",
       "      <td>0.064121</td>\n",
       "      <td>0.777778</td>\n",
       "      <td>0.500</td>\n",
       "      <td>0.862595</td>\n",
       "      <td>0.700000</td>\n",
       "      <td>0.000000</td>\n",
       "      <td>0.065586</td>\n",
       "      <td>0.000000</td>\n",
       "      <td>0.475234</td>\n",
       "      <td>...</td>\n",
       "      <td>0</td>\n",
       "      <td>0</td>\n",
       "      <td>1</td>\n",
       "      <td>0</td>\n",
       "      <td>0</td>\n",
       "      <td>0</td>\n",
       "      <td>0</td>\n",
       "      <td>0</td>\n",
       "      <td>1</td>\n",
       "      <td>0</td>\n",
       "    </tr>\n",
       "  </tbody>\n",
       "</table>\n",
       "<p>5 rows × 265 columns</p>\n",
       "</div>"
      ],
      "text/plain": [
       "      MSSubClass   LotArea  OverallQual  OverallCond  YearBuilt  YearRemodAdd  \\\n",
       "Id                                                                              \n",
       "1461    0.000000  0.184147     0.444444        0.625   0.625954      0.183333   \n",
       "1462    0.000000  0.232124     0.555556        0.625   0.603053      0.133333   \n",
       "1463    0.235294  0.224197     0.444444        0.500   0.900763      0.800000   \n",
       "1464    0.235294  0.154326     0.555556        0.625   0.908397      0.800000   \n",
       "1465    0.588235  0.064121     0.777778        0.500   0.862595      0.700000   \n",
       "\n",
       "      MasVnrArea  BsmtFinSF1  BsmtFinSF2  BsmtUnfSF  ...  SaleType_New  \\\n",
       "Id                                                   ...                 \n",
       "1461    0.000000    0.116708    0.094364   0.126168  ...             0   \n",
       "1462    0.083721    0.230175    0.000000   0.189720  ...             0   \n",
       "1463    0.000000    0.197257    0.000000   0.064019  ...             0   \n",
       "1464    0.015504    0.150125    0.000000   0.151402  ...             0   \n",
       "1465    0.000000    0.065586    0.000000   0.475234  ...             0   \n",
       "\n",
       "      SaleType_Oth  SaleType_WD  SaleType_non-existent  SaleCondition_Abnorml  \\\n",
       "Id                                                                              \n",
       "1461             0            1                      0                      0   \n",
       "1462             0            1                      0                      0   \n",
       "1463             0            1                      0                      0   \n",
       "1464             0            1                      0                      0   \n",
       "1465             0            1                      0                      0   \n",
       "\n",
       "      SaleCondition_AdjLand  SaleCondition_Alloca  SaleCondition_Family  \\\n",
       "Id                                                                        \n",
       "1461                      0                     0                     0   \n",
       "1462                      0                     0                     0   \n",
       "1463                      0                     0                     0   \n",
       "1464                      0                     0                     0   \n",
       "1465                      0                     0                     0   \n",
       "\n",
       "      SaleCondition_Normal  SaleCondition_Partial  \n",
       "Id                                                 \n",
       "1461                     1                      0  \n",
       "1462                     1                      0  \n",
       "1463                     1                      0  \n",
       "1464                     1                      0  \n",
       "1465                     1                      0  \n",
       "\n",
       "[5 rows x 265 columns]"
      ]
     },
     "execution_count": 28,
     "metadata": {},
     "output_type": "execute_result"
    }
   ],
   "source": [
    "test_data_dummies.head()"
   ]
  },
  {
   "cell_type": "markdown",
   "id": "3378ab5f",
   "metadata": {
    "papermill": {
     "duration": 0.013567,
     "end_time": "2024-05-15T10:11:21.124658",
     "exception": false,
     "start_time": "2024-05-15T10:11:21.111091",
     "status": "completed"
    },
    "tags": []
   },
   "source": [
    "# Train a new model"
   ]
  },
  {
   "cell_type": "code",
   "execution_count": 29,
   "id": "bdebeedc",
   "metadata": {
    "execution": {
     "iopub.execute_input": "2024-05-15T10:11:21.155469Z",
     "iopub.status.busy": "2024-05-15T10:11:21.155116Z",
     "iopub.status.idle": "2024-05-15T10:11:21.160320Z",
     "shell.execute_reply": "2024-05-15T10:11:21.159168Z"
    },
    "papermill": {
     "duration": 0.023188,
     "end_time": "2024-05-15T10:11:21.162542",
     "exception": false,
     "start_time": "2024-05-15T10:11:21.139354",
     "status": "completed"
    },
    "tags": []
   },
   "outputs": [],
   "source": [
    "import random\n",
    "from sklearn.model_selection import train_test_split\n",
    "from sklearn.ensemble import RandomForestRegressor\n",
    "from sklearn.metrics import mean_absolute_error"
   ]
  },
  {
   "cell_type": "code",
   "execution_count": 30,
   "id": "f818b546",
   "metadata": {
    "execution": {
     "iopub.execute_input": "2024-05-15T10:11:21.197322Z",
     "iopub.status.busy": "2024-05-15T10:11:21.196852Z",
     "iopub.status.idle": "2024-05-15T10:11:21.203868Z",
     "shell.execute_reply": "2024-05-15T10:11:21.202412Z"
    },
    "papermill": {
     "duration": 0.028001,
     "end_time": "2024-05-15T10:11:21.206300",
     "exception": false,
     "start_time": "2024-05-15T10:11:21.178299",
     "status": "completed"
    },
    "tags": []
   },
   "outputs": [],
   "source": [
    "# Function to optimize max_leaf_nodes\n",
    "def get_mae(max_leaf_nodes, train_X, val_X, train_y, val_y):\n",
    "    model = DecisionTreeRegressor(max_leaf_nodes=max_leaf_nodes, random_state=0)\n",
    "    model.fit(train_X, train_y)\n",
    "    preds_val = model.predict(val_X)\n",
    "    mae = mean_absolute_error(val_y, preds_val)\n",
    "    return(mae)"
   ]
  },
  {
   "cell_type": "code",
   "execution_count": 31,
   "id": "a088c42f",
   "metadata": {
    "collapsed": true,
    "execution": {
     "iopub.execute_input": "2024-05-15T10:11:21.243681Z",
     "iopub.status.busy": "2024-05-15T10:11:21.243002Z",
     "iopub.status.idle": "2024-05-15T10:11:21.250112Z",
     "shell.execute_reply": "2024-05-15T10:11:21.249145Z"
    },
    "jupyter": {
     "outputs_hidden": true
    },
    "papermill": {
     "duration": 0.027426,
     "end_time": "2024-05-15T10:11:21.252200",
     "exception": false,
     "start_time": "2024-05-15T10:11:21.224774",
     "status": "completed"
    },
    "tags": []
   },
   "outputs": [
    {
     "data": {
      "text/plain": [
       "'\\nX = home_data_dummies[list(high_corr_features_unique)]\\ny = home_data_dummies.SalePrice\\n\\ntrain_X, val_X, train_y, val_y = train_test_split(X, y, random_state=1)\\n\\nfor max_leaf_nodes in range(10, 10000, 50):\\n    rf_model = RandomForestRegressor(random_state=1, max_leaf_nodes=max_leaf_nodes)\\n    rf_model.fit(train_X, train_y)\\n    rf_val_predictions = rf_model.predict(val_X)\\n    rf_val_mae = mean_absolute_error(rf_val_predictions, val_y)\\n    \\n    print(\"Max leaf nodes: %d \\t\\t Mean Absolute Error: %d\" %(max_leaf_nodes, rf_val_mae))\\n    \\n    if rf_val_mae < 15000:\\n        print(\"Stopping criteria reached.\")\\n        break\\n'"
      ]
     },
     "execution_count": 31,
     "metadata": {},
     "output_type": "execute_result"
    }
   ],
   "source": [
    "\"\"\"\n",
    "X = home_data_dummies[list(high_corr_features_unique)]\n",
    "y = home_data_dummies.SalePrice\n",
    "\n",
    "train_X, val_X, train_y, val_y = train_test_split(X, y, random_state=1)\n",
    "\n",
    "for max_leaf_nodes in range(10, 10000, 50):\n",
    "    rf_model = RandomForestRegressor(random_state=1, max_leaf_nodes=max_leaf_nodes)\n",
    "    rf_model.fit(train_X, train_y)\n",
    "    rf_val_predictions = rf_model.predict(val_X)\n",
    "    rf_val_mae = mean_absolute_error(rf_val_predictions, val_y)\n",
    "    \n",
    "    print(\"Max leaf nodes: %d \\t\\t Mean Absolute Error: %d\" %(max_leaf_nodes, rf_val_mae))\n",
    "    \n",
    "    if rf_val_mae < 15000:\n",
    "        print(\"Stopping criteria reached.\")\n",
    "        break\n",
    "\"\"\""
   ]
  },
  {
   "cell_type": "code",
   "execution_count": 32,
   "id": "6cd883e7",
   "metadata": {
    "collapsed": true,
    "execution": {
     "iopub.execute_input": "2024-05-15T10:11:21.282371Z",
     "iopub.status.busy": "2024-05-15T10:11:21.282023Z",
     "iopub.status.idle": "2024-05-15T10:11:21.289238Z",
     "shell.execute_reply": "2024-05-15T10:11:21.288220Z"
    },
    "jupyter": {
     "outputs_hidden": true
    },
    "papermill": {
     "duration": 0.025462,
     "end_time": "2024-05-15T10:11:21.291528",
     "exception": false,
     "start_time": "2024-05-15T10:11:21.266066",
     "status": "completed"
    },
    "tags": []
   },
   "outputs": [
    {
     "data": {
      "text/plain": [
       "'X = home_data_dummies[list(high_corr_features_unique)]\\n#X = home_data_dummies.drop([\\'SalePrice\\'], axis=1)\\ny = home_data_dummies.SalePrice\\n\\ntrain_X, val_X, train_y, val_y = train_test_split(X, y, random_state=1)\\n\\n# Define hyperparameters to explore\\nn_estimators_list = [50, 100, 150]\\nmax_depth_list = [None, 10, 20]\\nmin_samples_split_list = [2, 5, 10]\\n\\nbest_mae = float(\\'inf\\')\\nbest_hyperparameters = {}\\n\\nfor n_estimators in n_estimators_list:\\n    for max_depth in max_depth_list:\\n        for min_samples_split in min_samples_split_list:\\n            rf_model = RandomForestRegressor(n_estimators=n_estimators, max_depth=max_depth, min_samples_split=min_samples_split, random_state=1, max_leaf_nodes=300)\\n            rf_model.fit(train_X, train_y)\\n            rf_val_predictions = rf_model.predict(val_X)\\n            rf_val_mae = mean_absolute_error(rf_val_predictions, val_y)\\n            \\n            print(\"n_estimators: {}, max_depth: {}, min_samples_split: {} \\t\\t Mean Absolute Error: {}\".format(n_estimators, max_depth, min_samples_split, rf_val_mae))\\n            \\n            if rf_val_mae < best_mae:\\n                best_mae = rf_val_mae\\n                best_hyperparameters = {\\'n_estimators\\': n_estimators, \\'max_depth\\': max_depth, \\'min_samples_split\\': min_samples_split}\\n\\nprint(\"\\nBest Hyperparameters:\")\\nprint(best_hyperparameters)\\nprint(\"Best Mean Absolute Error:\", best_mae)'"
      ]
     },
     "execution_count": 32,
     "metadata": {},
     "output_type": "execute_result"
    }
   ],
   "source": [
    "\"\"\"X = home_data_dummies[list(high_corr_features_unique)]\n",
    "#X = home_data_dummies.drop(['SalePrice'], axis=1)\n",
    "y = home_data_dummies.SalePrice\n",
    "\n",
    "train_X, val_X, train_y, val_y = train_test_split(X, y, random_state=1)\n",
    "\n",
    "# Define hyperparameters to explore\n",
    "n_estimators_list = [50, 100, 150]\n",
    "max_depth_list = [None, 10, 20]\n",
    "min_samples_split_list = [2, 5, 10]\n",
    "\n",
    "best_mae = float('inf')\n",
    "best_hyperparameters = {}\n",
    "\n",
    "for n_estimators in n_estimators_list:\n",
    "    for max_depth in max_depth_list:\n",
    "        for min_samples_split in min_samples_split_list:\n",
    "            rf_model = RandomForestRegressor(n_estimators=n_estimators, max_depth=max_depth, min_samples_split=min_samples_split, random_state=1, max_leaf_nodes=300)\n",
    "            rf_model.fit(train_X, train_y)\n",
    "            rf_val_predictions = rf_model.predict(val_X)\n",
    "            rf_val_mae = mean_absolute_error(rf_val_predictions, val_y)\n",
    "            \n",
    "            print(\"n_estimators: {}, max_depth: {}, min_samples_split: {} \\t\\t Mean Absolute Error: {}\".format(n_estimators, max_depth, min_samples_split, rf_val_mae))\n",
    "            \n",
    "            if rf_val_mae < best_mae:\n",
    "                best_mae = rf_val_mae\n",
    "                best_hyperparameters = {'n_estimators': n_estimators, 'max_depth': max_depth, 'min_samples_split': min_samples_split}\n",
    "\n",
    "print(\"\\nBest Hyperparameters:\")\n",
    "print(best_hyperparameters)\n",
    "print(\"Best Mean Absolute Error:\", best_mae)\"\"\""
   ]
  },
  {
   "cell_type": "markdown",
   "id": "e69eec8b",
   "metadata": {
    "papermill": {
     "duration": 0.013622,
     "end_time": "2024-05-15T10:11:21.319131",
     "exception": false,
     "start_time": "2024-05-15T10:11:21.305509",
     "status": "completed"
    },
    "tags": []
   },
   "source": [
    "# Train in all data with best hyperparameters"
   ]
  },
  {
   "cell_type": "code",
   "execution_count": 33,
   "id": "06af74c1",
   "metadata": {
    "execution": {
     "iopub.execute_input": "2024-05-15T10:11:21.354972Z",
     "iopub.status.busy": "2024-05-15T10:11:21.353943Z",
     "iopub.status.idle": "2024-05-15T10:11:21.359755Z",
     "shell.execute_reply": "2024-05-15T10:11:21.358708Z"
    },
    "papermill": {
     "duration": 0.028768,
     "end_time": "2024-05-15T10:11:21.362114",
     "exception": false,
     "start_time": "2024-05-15T10:11:21.333346",
     "status": "completed"
    },
    "tags": []
   },
   "outputs": [],
   "source": [
    "high_corr_features_unique_test = set(test_data_dummies.columns).intersection(high_corr_features_unique)"
   ]
  },
  {
   "cell_type": "code",
   "execution_count": 34,
   "id": "119cd188",
   "metadata": {
    "execution": {
     "iopub.execute_input": "2024-05-15T10:11:21.401404Z",
     "iopub.status.busy": "2024-05-15T10:11:21.400309Z",
     "iopub.status.idle": "2024-05-15T10:11:21.415126Z",
     "shell.execute_reply": "2024-05-15T10:11:21.413269Z"
    },
    "papermill": {
     "duration": 0.03545,
     "end_time": "2024-05-15T10:11:21.418542",
     "exception": false,
     "start_time": "2024-05-15T10:11:21.383092",
     "status": "completed"
    },
    "tags": []
   },
   "outputs": [],
   "source": [
    "common_columns = list(set(home_data_dummies[list(high_corr_features_unique)].columns).intersection(test_data_dummies[list(high_corr_features_unique_test)].columns))"
   ]
  },
  {
   "cell_type": "code",
   "execution_count": 35,
   "id": "6041298d",
   "metadata": {
    "execution": {
     "iopub.execute_input": "2024-05-15T10:11:21.457069Z",
     "iopub.status.busy": "2024-05-15T10:11:21.456296Z",
     "iopub.status.idle": "2024-05-15T10:11:24.888687Z",
     "shell.execute_reply": "2024-05-15T10:11:24.887625Z"
    },
    "papermill": {
     "duration": 3.454819,
     "end_time": "2024-05-15T10:11:24.891051",
     "exception": false,
     "start_time": "2024-05-15T10:11:21.436232",
     "status": "completed"
    },
    "tags": []
   },
   "outputs": [
    {
     "data": {
      "text/html": [
       "<style>#sk-container-id-2 {color: black;background-color: white;}#sk-container-id-2 pre{padding: 0;}#sk-container-id-2 div.sk-toggleable {background-color: white;}#sk-container-id-2 label.sk-toggleable__label {cursor: pointer;display: block;width: 100%;margin-bottom: 0;padding: 0.3em;box-sizing: border-box;text-align: center;}#sk-container-id-2 label.sk-toggleable__label-arrow:before {content: \"▸\";float: left;margin-right: 0.25em;color: #696969;}#sk-container-id-2 label.sk-toggleable__label-arrow:hover:before {color: black;}#sk-container-id-2 div.sk-estimator:hover label.sk-toggleable__label-arrow:before {color: black;}#sk-container-id-2 div.sk-toggleable__content {max-height: 0;max-width: 0;overflow: hidden;text-align: left;background-color: #f0f8ff;}#sk-container-id-2 div.sk-toggleable__content pre {margin: 0.2em;color: black;border-radius: 0.25em;background-color: #f0f8ff;}#sk-container-id-2 input.sk-toggleable__control:checked~div.sk-toggleable__content {max-height: 200px;max-width: 100%;overflow: auto;}#sk-container-id-2 input.sk-toggleable__control:checked~label.sk-toggleable__label-arrow:before {content: \"▾\";}#sk-container-id-2 div.sk-estimator input.sk-toggleable__control:checked~label.sk-toggleable__label {background-color: #d4ebff;}#sk-container-id-2 div.sk-label input.sk-toggleable__control:checked~label.sk-toggleable__label {background-color: #d4ebff;}#sk-container-id-2 input.sk-hidden--visually {border: 0;clip: rect(1px 1px 1px 1px);clip: rect(1px, 1px, 1px, 1px);height: 1px;margin: -1px;overflow: hidden;padding: 0;position: absolute;width: 1px;}#sk-container-id-2 div.sk-estimator {font-family: monospace;background-color: #f0f8ff;border: 1px dotted black;border-radius: 0.25em;box-sizing: border-box;margin-bottom: 0.5em;}#sk-container-id-2 div.sk-estimator:hover {background-color: #d4ebff;}#sk-container-id-2 div.sk-parallel-item::after {content: \"\";width: 100%;border-bottom: 1px solid gray;flex-grow: 1;}#sk-container-id-2 div.sk-label:hover label.sk-toggleable__label {background-color: #d4ebff;}#sk-container-id-2 div.sk-serial::before {content: \"\";position: absolute;border-left: 1px solid gray;box-sizing: border-box;top: 0;bottom: 0;left: 50%;z-index: 0;}#sk-container-id-2 div.sk-serial {display: flex;flex-direction: column;align-items: center;background-color: white;padding-right: 0.2em;padding-left: 0.2em;position: relative;}#sk-container-id-2 div.sk-item {position: relative;z-index: 1;}#sk-container-id-2 div.sk-parallel {display: flex;align-items: stretch;justify-content: center;background-color: white;position: relative;}#sk-container-id-2 div.sk-item::before, #sk-container-id-2 div.sk-parallel-item::before {content: \"\";position: absolute;border-left: 1px solid gray;box-sizing: border-box;top: 0;bottom: 0;left: 50%;z-index: -1;}#sk-container-id-2 div.sk-parallel-item {display: flex;flex-direction: column;z-index: 1;position: relative;background-color: white;}#sk-container-id-2 div.sk-parallel-item:first-child::after {align-self: flex-end;width: 50%;}#sk-container-id-2 div.sk-parallel-item:last-child::after {align-self: flex-start;width: 50%;}#sk-container-id-2 div.sk-parallel-item:only-child::after {width: 0;}#sk-container-id-2 div.sk-dashed-wrapped {border: 1px dashed gray;margin: 0 0.4em 0.5em 0.4em;box-sizing: border-box;padding-bottom: 0.4em;background-color: white;}#sk-container-id-2 div.sk-label label {font-family: monospace;font-weight: bold;display: inline-block;line-height: 1.2em;}#sk-container-id-2 div.sk-label-container {text-align: center;}#sk-container-id-2 div.sk-container {/* jupyter's `normalize.less` sets `[hidden] { display: none; }` but bootstrap.min.css set `[hidden] { display: none !important; }` so we also need the `!important` here to be able to override the default hidden behavior on the sphinx rendered scikit-learn.org. See: https://github.com/scikit-learn/scikit-learn/issues/21755 */display: inline-block !important;position: relative;}#sk-container-id-2 div.sk-text-repr-fallback {display: none;}</style><div id=\"sk-container-id-2\" class=\"sk-top-container\"><div class=\"sk-text-repr-fallback\"><pre>RandomForestRegressor(max_depth=20, max_leaf_nodes=300, n_estimators=150,\n",
       "                      random_state=1)</pre><b>In a Jupyter environment, please rerun this cell to show the HTML representation or trust the notebook. <br />On GitHub, the HTML representation is unable to render, please try loading this page with nbviewer.org.</b></div><div class=\"sk-container\" hidden><div class=\"sk-item\"><div class=\"sk-estimator sk-toggleable\"><input class=\"sk-toggleable__control sk-hidden--visually\" id=\"sk-estimator-id-2\" type=\"checkbox\" checked><label for=\"sk-estimator-id-2\" class=\"sk-toggleable__label sk-toggleable__label-arrow\">RandomForestRegressor</label><div class=\"sk-toggleable__content\"><pre>RandomForestRegressor(max_depth=20, max_leaf_nodes=300, n_estimators=150,\n",
       "                      random_state=1)</pre></div></div></div></div></div>"
      ],
      "text/plain": [
       "RandomForestRegressor(max_depth=20, max_leaf_nodes=300, n_estimators=150,\n",
       "                      random_state=1)"
      ]
     },
     "execution_count": 35,
     "metadata": {},
     "output_type": "execute_result"
    }
   ],
   "source": [
    "X = X = home_data_dummies[common_columns] #already without SalePrice\n",
    "y = home_data_dummies.SalePrice\n",
    "\n",
    "# To improve accuracy, train on all training data\n",
    "rf_model_on_full_data = RandomForestRegressor(random_state=1, max_leaf_nodes=300, n_estimators= 150, max_depth= 20, min_samples_split= 2)\n",
    "rf_model_on_full_data.fit(X, y)"
   ]
  },
  {
   "cell_type": "code",
   "execution_count": 36,
   "id": "8bc3f91b",
   "metadata": {
    "execution": {
     "iopub.execute_input": "2024-05-15T10:11:24.921336Z",
     "iopub.status.busy": "2024-05-15T10:11:24.920981Z",
     "iopub.status.idle": "2024-05-15T10:11:24.963933Z",
     "shell.execute_reply": "2024-05-15T10:11:24.962796Z"
    },
    "papermill": {
     "duration": 0.060648,
     "end_time": "2024-05-15T10:11:24.966156",
     "exception": false,
     "start_time": "2024-05-15T10:11:24.905508",
     "status": "completed"
    },
    "tags": []
   },
   "outputs": [
    {
     "data": {
      "text/plain": [
       "[137805.0,\n",
       " 157838.0,\n",
       " 192893.0,\n",
       " 206544.0,\n",
       " 218611.0,\n",
       " 187495.0,\n",
       " 161097.0,\n",
       " 178152.0,\n",
       " 225243.0,\n",
       " 136182.0,\n",
       " 226268.0,\n",
       " 97452.0,\n",
       " 109078.0,\n",
       " 165067.0,\n",
       " 139476.0]"
      ]
     },
     "execution_count": 36,
     "metadata": {},
     "output_type": "execute_result"
    }
   ],
   "source": [
    "# make predictions which we will submit. \n",
    "test_preds_modelV2 = rf_model_on_full_data.predict(test_data_dummies[common_columns])\n",
    "\n",
    "test_preds_modelV2[0:15].round(0).tolist()"
   ]
  },
  {
   "cell_type": "markdown",
   "id": "8d96b10a",
   "metadata": {
    "_cell_guid": "9e89cda8-0d34-4937-b71a-0a4f1bf19339",
    "_uuid": "8d18dd34-4140-431a-96fd-7e3b831203f8",
    "papermill": {
     "duration": 0.013899,
     "end_time": "2024-05-15T10:11:24.994241",
     "exception": false,
     "start_time": "2024-05-15T10:11:24.980342",
     "status": "completed"
    },
    "tags": []
   },
   "source": [
    "# Generate a submission\n",
    "\n",
    "Run the code cell below to generate a CSV file with your predictions that you can use to submit to the competition."
   ]
  },
  {
   "cell_type": "code",
   "execution_count": 37,
   "id": "aff195f7",
   "metadata": {
    "_cell_guid": "215c912f-3de8-43f7-aaae-8aebe5116ece",
    "_uuid": "7e23d00a-daa0-40d3-bbe4-a3935b3e566b",
    "collapsed": false,
    "execution": {
     "iopub.execute_input": "2024-05-15T10:11:25.024566Z",
     "iopub.status.busy": "2024-05-15T10:11:25.024207Z",
     "iopub.status.idle": "2024-05-15T10:11:25.035466Z",
     "shell.execute_reply": "2024-05-15T10:11:25.034394Z"
    },
    "jupyter": {
     "outputs_hidden": false
    },
    "papermill": {
     "duration": 0.029323,
     "end_time": "2024-05-15T10:11:25.037722",
     "exception": false,
     "start_time": "2024-05-15T10:11:25.008399",
     "status": "completed"
    },
    "tags": []
   },
   "outputs": [],
   "source": [
    "# Run the code to save predictions in the format used for competition scoring\n",
    "\n",
    "output = pd.DataFrame({'Id': test_data.index,\n",
    "                       'SalePrice': test_preds_modelV2})\n",
    "output.to_csv('submission_v3.csv', index=False)"
   ]
  },
  {
   "cell_type": "markdown",
   "id": "9001c419",
   "metadata": {
    "_cell_guid": "21de60e7-b99a-425b-9f24-2329def57a09",
    "_uuid": "404a9aa3-cfd6-4fa3-9808-7d6e1ebc4315",
    "papermill": {
     "duration": 0.014009,
     "end_time": "2024-05-15T10:11:25.066050",
     "exception": false,
     "start_time": "2024-05-15T10:11:25.052041",
     "status": "completed"
    },
    "tags": []
   },
   "source": [
    "# Submit to the competition\n",
    "\n",
    "To test your results, you'll need to join the competition (if you haven't already).  So open a new window by clicking on **[this link](https://www.kaggle.com/c/home-data-for-ml-course)**.  Then click on the **Join Competition** button.\n",
    "\n",
    "![join competition image](https://storage.googleapis.com/kaggle-media/learn/images/axBzctl.png)\n",
    "\n",
    "Next, follow the instructions below:\n",
    "1. Begin by clicking on the **Save Version** button in the top right corner of the window.  This will generate a pop-up window.  \n",
    "2. Ensure that the **Save and Run All** option is selected, and then click on the **Save** button.\n",
    "3. This generates a window in the bottom left corner of the notebook.  After it has finished running, click on the number to the right of the **Save Version** button.  This pulls up a list of versions on the right of the screen.  Click on the ellipsis **(...)** to the right of the most recent version, and select **Open in Viewer**.  This brings you into view mode of the same page. You will need to scroll down to get back to these instructions.\n",
    "4. Click on the **Data** tab near the top of the screen.  Then, click on the file you would like to submit, and click on the **Submit** button to submit your results to the leaderboard.\n",
    "\n",
    "You have now successfully submitted to the competition!\n",
    "\n",
    "If you want to keep working to improve your performance, select the **Edit** button in the top right of the screen. Then you can change your code and repeat the process. There's a lot of room to improve, and you will climb up the leaderboard as you work.\n",
    "\n",
    "\n",
    "# Continue Your Progress\n",
    "There are many ways to improve your model, and **experimenting is a great way to learn at this point.**\n",
    "\n",
    "The best way to improve your model is to add features.  To add more features to the data, revisit the first code cell, and change this line of code to include more column names:\n",
    "```python\n",
    "features = ['LotArea', 'YearBuilt', '1stFlrSF', '2ndFlrSF', 'FullBath', 'BedroomAbvGr', 'TotRmsAbvGrd']\n",
    "```\n",
    "\n",
    "Some features will cause errors because of issues like missing values or non-numeric data types.  Here is a complete list of potential columns that you might like to use, and that won't throw errors:\n",
    "- 'MSSubClass'\n",
    "- 'LotArea'\n",
    "- 'OverallQual' \n",
    "- 'OverallCond' \n",
    "- 'YearBuilt'\n",
    "- 'YearRemodAdd' \n",
    "- '1stFlrSF'\n",
    "- '2ndFlrSF' \n",
    "- 'LowQualFinSF' \n",
    "- 'GrLivArea'\n",
    "- 'FullBath'\n",
    "- 'HalfBath'\n",
    "- 'BedroomAbvGr' \n",
    "- 'KitchenAbvGr' \n",
    "- 'TotRmsAbvGrd' \n",
    "- 'Fireplaces' \n",
    "- 'WoodDeckSF' \n",
    "- 'OpenPorchSF'\n",
    "- 'EnclosedPorch' \n",
    "- '3SsnPorch' \n",
    "- 'ScreenPorch' \n",
    "- 'PoolArea' \n",
    "- 'MiscVal' \n",
    "- 'MoSold' \n",
    "- 'YrSold'\n",
    "\n",
    "Look at the list of columns and think about what might affect home prices.  To learn more about each of these features, take a look at the data description on the **[competition page](https://www.kaggle.com/c/home-data-for-ml-course/data)**.\n",
    "\n",
    "After updating the code cell above that defines the features, re-run all of the code cells to evaluate the model and generate a new submission file.  \n",
    "\n",
    "\n",
    "# What's next?\n",
    "\n",
    "As mentioned above, some of the features will throw an error if you try to use them to train your model.  The **[Intermediate Machine Learning](https://www.kaggle.com/learn/intermediate-machine-learning)** course will teach you how to handle these types of features. You will also learn to use **xgboost**, a technique giving even better accuracy than Random Forest.\n",
    "\n",
    "The **[Pandas](https://kaggle.com/Learn/Pandas)** course will give you the data manipulation skills to quickly go from conceptual idea to implementation in your data science projects. \n",
    "\n",
    "You are also ready for the **[Deep Learning](https://kaggle.com/Learn/intro-to-Deep-Learning)** course, where you will build models with better-than-human level performance at computer vision tasks."
   ]
  },
  {
   "cell_type": "markdown",
   "id": "7f42d65b",
   "metadata": {
    "_cell_guid": "77517d66-fa44-4b8e-a422-c52971e8587e",
    "_uuid": "0d1f017d-4bca-463d-8090-9afc5291a1f7",
    "papermill": {
     "duration": 0.014305,
     "end_time": "2024-05-15T10:11:25.095441",
     "exception": false,
     "start_time": "2024-05-15T10:11:25.081136",
     "status": "completed"
    },
    "tags": []
   },
   "source": [
    "---\n",
    "\n",
    "\n",
    "\n",
    "\n",
    "*Have questions or comments? Visit the [course discussion forum](https://www.kaggle.com/learn/intro-to-machine-learning/discussion) to chat with other learners.*"
   ]
  }
 ],
 "metadata": {
  "kaggle": {
   "accelerator": "none",
   "dataSources": [
    {
     "databundleVersionId": 111096,
     "sourceId": 10211,
     "sourceType": "competition"
    }
   ],
   "isGpuEnabled": false,
   "isInternetEnabled": false,
   "language": "python",
   "sourceType": "notebook"
  },
  "kernelspec": {
   "display_name": "Python 3",
   "language": "python",
   "name": "python3"
  },
  "language_info": {
   "codemirror_mode": {
    "name": "ipython",
    "version": 3
   },
   "file_extension": ".py",
   "mimetype": "text/x-python",
   "name": "python",
   "nbconvert_exporter": "python",
   "pygments_lexer": "ipython3",
   "version": "3.10.13"
  },
  "papermill": {
   "default_parameters": {},
   "duration": 13.152763,
   "end_time": "2024-05-15T10:11:25.730271",
   "environment_variables": {},
   "exception": null,
   "input_path": "__notebook__.ipynb",
   "output_path": "__notebook__.ipynb",
   "parameters": {},
   "start_time": "2024-05-15T10:11:12.577508",
   "version": "2.5.0"
  }
 },
 "nbformat": 4,
 "nbformat_minor": 5
}
