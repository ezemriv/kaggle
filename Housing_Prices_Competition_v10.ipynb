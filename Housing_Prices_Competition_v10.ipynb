{
 "cells": [
  {
   "cell_type": "markdown",
   "id": "343bd16a",
   "metadata": {
    "_cell_guid": "a6eff8f5-826d-4146-9e15-09eac0c36eef",
    "_uuid": "597d3ac8-b4ad-44d5-9c21-95048d495300",
    "papermill": {
     "duration": 0.020809,
     "end_time": "2024-05-15T22:55:11.796145",
     "exception": false,
     "start_time": "2024-05-15T22:55:11.775336",
     "status": "completed"
    },
    "tags": []
   },
   "source": [
    "**This notebook is an exercise in the [Introduction to Machine Learning](https://www.kaggle.com/learn/intro-to-machine-learning) course.  You can reference the tutorial at [this link](https://www.kaggle.com/alexisbcook/machine-learning-competitions).**\n",
    "\n",
    "---"
   ]
  },
  {
   "cell_type": "markdown",
   "id": "4f469851",
   "metadata": {
    "_cell_guid": "b487ad6e-5abf-4b70-ac98-9ad877733601",
    "_uuid": "cd265556-8400-4037-9a2f-e5d6fad76000",
    "papermill": {
     "duration": 0.019672,
     "end_time": "2024-05-15T22:55:11.837266",
     "exception": false,
     "start_time": "2024-05-15T22:55:11.817594",
     "status": "completed"
    },
    "tags": []
   },
   "source": [
    "# Introduction\n",
    "\n",
    "In this exercise, you will create and submit predictions for a Kaggle competition. You can then improve your model (e.g. by adding features) to apply what you've learned and move up the leaderboard.\n",
    "\n",
    "Begin by running the code cell below to set up code checking and the filepaths for the dataset."
   ]
  },
  {
   "cell_type": "code",
   "execution_count": 1,
   "id": "49e4ac2b",
   "metadata": {
    "_cell_guid": "88d6f3a8-d446-4818-934f-bc348e910a58",
    "_uuid": "b9ce496e-55cc-4dc1-a413-a34e988e4242",
    "collapsed": false,
    "execution": {
     "iopub.execute_input": "2024-05-15T22:55:11.883231Z",
     "iopub.status.busy": "2024-05-15T22:55:11.882460Z",
     "iopub.status.idle": "2024-05-15T22:55:13.106740Z",
     "shell.execute_reply": "2024-05-15T22:55:13.105205Z"
    },
    "jupyter": {
     "outputs_hidden": false
    },
    "papermill": {
     "duration": 1.251469,
     "end_time": "2024-05-15T22:55:13.110333",
     "exception": false,
     "start_time": "2024-05-15T22:55:11.858864",
     "status": "completed"
    },
    "tags": []
   },
   "outputs": [],
   "source": [
    "# Set up code checking\n",
    "from learntools.core import binder\n",
    "binder.bind(globals())\n",
    "from learntools.machine_learning.ex7 import *\n",
    "\n",
    "# Set up filepaths\n",
    "import os\n",
    "if not os.path.exists(\"../input/train.csv\"):\n",
    "    os.symlink(\"../input/home-data-for-ml-course/train.csv\", \"../input/train.csv\")  \n",
    "    os.symlink(\"../input/home-data-for-ml-course/test.csv\", \"../input/test.csv\")"
   ]
  },
  {
   "cell_type": "markdown",
   "id": "efb661c9",
   "metadata": {
    "_cell_guid": "05066aa2-4b0d-4d1a-99c1-67b576982061",
    "_uuid": "3be69d0b-5935-4853-93ef-9d0cc8c8e031",
    "papermill": {
     "duration": 0.019539,
     "end_time": "2024-05-15T22:55:13.150269",
     "exception": false,
     "start_time": "2024-05-15T22:55:13.130730",
     "status": "completed"
    },
    "tags": []
   },
   "source": [
    "Here's some of the code you've written so far. Start by running it again."
   ]
  },
  {
   "cell_type": "code",
   "execution_count": 2,
   "id": "4e0fc44c",
   "metadata": {
    "_cell_guid": "3c777cd9-d020-45d5-a08b-8a843df349e1",
    "_uuid": "083be1c4-b6ee-4de3-b362-9a60374261f0",
    "collapsed": false,
    "execution": {
     "iopub.execute_input": "2024-05-15T22:55:13.193221Z",
     "iopub.status.busy": "2024-05-15T22:55:13.192688Z",
     "iopub.status.idle": "2024-05-15T22:55:15.893376Z",
     "shell.execute_reply": "2024-05-15T22:55:15.891783Z"
    },
    "jupyter": {
     "outputs_hidden": false
    },
    "papermill": {
     "duration": 2.726612,
     "end_time": "2024-05-15T22:55:15.897218",
     "exception": false,
     "start_time": "2024-05-15T22:55:13.170606",
     "status": "completed"
    },
    "tags": []
   },
   "outputs": [],
   "source": [
    "# Import helpful libraries\n",
    "import pandas as pd\n",
    "from sklearn.ensemble import RandomForestRegressor\n",
    "from sklearn.metrics import mean_absolute_error\n",
    "from sklearn.model_selection import train_test_split\n",
    "from category_encoders import TargetEncoder\n",
    "\n",
    "\n",
    "# Load the data, and separate the target\n",
    "iowa_file_path = '../input/train.csv'\n",
    "home_data = pd.read_csv(iowa_file_path)"
   ]
  },
  {
   "cell_type": "code",
   "execution_count": 3,
   "id": "f17df22a",
   "metadata": {
    "_cell_guid": "162403d5-9e7e-42ce-bea6-9d4c821f1e63",
    "_uuid": "b22b668b-da11-49c6-969b-359713623b94",
    "collapsed": false,
    "execution": {
     "iopub.execute_input": "2024-05-15T22:55:15.942196Z",
     "iopub.status.busy": "2024-05-15T22:55:15.941788Z",
     "iopub.status.idle": "2024-05-15T22:55:15.983769Z",
     "shell.execute_reply": "2024-05-15T22:55:15.982395Z"
    },
    "jupyter": {
     "outputs_hidden": false
    },
    "papermill": {
     "duration": 0.068382,
     "end_time": "2024-05-15T22:55:15.987369",
     "exception": false,
     "start_time": "2024-05-15T22:55:15.918987",
     "status": "completed"
    },
    "tags": []
   },
   "outputs": [],
   "source": [
    "# path to file you will use for predictions\n",
    "test_data_path = '../input/test.csv'\n",
    "\n",
    "# read test data file using pandas\n",
    "test_data = pd.read_csv(test_data_path)"
   ]
  },
  {
   "cell_type": "markdown",
   "id": "f125124d",
   "metadata": {
    "_cell_guid": "6f97bfc4-c139-4eaf-8976-d8110debd219",
    "_uuid": "632a231c-ba3f-409c-8a9d-d0f1af9210af",
    "papermill": {
     "duration": 0.02172,
     "end_time": "2024-05-15T22:55:16.030630",
     "exception": false,
     "start_time": "2024-05-15T22:55:16.008910",
     "status": "completed"
    },
    "tags": []
   },
   "source": [
    "# Results default model\n",
    "\n",
    "First 15 predictions:\n",
    "\n",
    "[122657.0,\n",
    " 156789.0,\n",
    " 182959.0,\n",
    " 178102.0,\n",
    " 189049.0,\n",
    " 180979.0,\n",
    " 172797.0,\n",
    " 173717.0,\n",
    " 187535.0,\n",
    " 116172.0,\n",
    " 190798.0,\n",
    " 93823.0,\n",
    " 89249.0,\n",
    " 145111.0,\n",
    " 124696.0]\n",
    " \n",
    "Validation MAE for DEFAULT Random Forest Model: **21,857**"
   ]
  },
  {
   "cell_type": "markdown",
   "id": "75bffe79",
   "metadata": {
    "_cell_guid": "1bec7708-4d86-4494-aba8-f51e89fb8417",
    "_uuid": "7f7e1578-0cbe-4c6c-89c6-69b7cd8ebc2b",
    "papermill": {
     "duration": 0.020938,
     "end_time": "2024-05-15T22:55:16.074699",
     "exception": false,
     "start_time": "2024-05-15T22:55:16.053761",
     "status": "completed"
    },
    "tags": []
   },
   "source": [
    "# Model optimization\n",
    "\n",
    "· Will clean the dataset, hot-code categorical features, scale numerical features, and train a new model"
   ]
  },
  {
   "cell_type": "markdown",
   "id": "41ce0e37",
   "metadata": {
    "papermill": {
     "duration": 0.020968,
     "end_time": "2024-05-15T22:55:16.116201",
     "exception": false,
     "start_time": "2024-05-15T22:55:16.095233",
     "status": "completed"
    },
    "tags": []
   },
   "source": [
    "## Defining functions"
   ]
  },
  {
   "cell_type": "code",
   "execution_count": 4,
   "id": "a7854e4e",
   "metadata": {
    "execution": {
     "iopub.execute_input": "2024-05-15T22:55:16.158758Z",
     "iopub.status.busy": "2024-05-15T22:55:16.158331Z",
     "iopub.status.idle": "2024-05-15T22:55:16.188138Z",
     "shell.execute_reply": "2024-05-15T22:55:16.187072Z"
    },
    "papermill": {
     "duration": 0.054412,
     "end_time": "2024-05-15T22:55:16.191040",
     "exception": false,
     "start_time": "2024-05-15T22:55:16.136628",
     "status": "completed"
    },
    "tags": []
   },
   "outputs": [],
   "source": [
    "def drop_columns_nan(dataframe, threshold: int) -> pd.DataFrame:\n",
    "  \"\"\"Drops columns from a DataFrame that contain a certain amount of missing values (NaNs).\n",
    "\n",
    "  Args:\n",
    "      dataframe: The pandas DataFrame to process.\n",
    "      threshold: The minimum number of NaNs a column must have to be dropped.\n",
    "          A column will be dropped if the number of NaNs is greater than or equal to this threshold.\n",
    "\n",
    "  Returns:\n",
    "      The modified DataFrame with columns containing a high number of NaNs dropped.\n",
    "  \"\"\"\n",
    "  columns_to_drop = [col for col in dataframe.columns if dataframe[col].isnull().sum() >= threshold]\n",
    "  dataframe.drop(columns_to_drop, axis=1, inplace=True)\n",
    "\n",
    "####################################################################################################\n",
    "\n",
    "def drop_notinformative(df, threshold=0.95):\n",
    "    \"\"\"  drop columns with high percentage of ONE UNIQUE value\n",
    "    \"\"\"\n",
    "    \n",
    "    columns_to_drop = []\n",
    "    threshold = 0.9\n",
    "    for col in df.columns:\n",
    "        value_counts = df[col].value_counts(normalize=True)\n",
    "        if len(value_counts) == 1 or value_counts.iloc[0] > threshold:  # Check for single value or exceeding threshold\n",
    "            columns_to_drop.append(col)\n",
    "\n",
    "    df.drop(columns_to_drop, axis=1, inplace=True)\n",
    "  \n",
    "\n",
    "#################################################################################################\n",
    "\n",
    "def impute_nan_custom(df, method_numerical='mean', value_categorical='Non-existent', fill_categorical_with_mode=False):\n",
    "  \"\"\"\n",
    "  Imputes missing values in a DataFrame with user-defined options\n",
    "\n",
    "  Args:\n",
    "      df (pandas.DataFrame): The DataFrame to impute\n",
    "      method_numerical (str, optional): Method to impute numerical columns. Defaults to 'mean'. Valid options are 'mean', 'median', 'zero', or 'mode'.\n",
    "      value_categorical (str, optional): Value to use for imputing missing values in categorical columns. Defaults to 'Non-existent'.\n",
    "      fill_categorical_with_mode (bool, optional): If True, fills missing values in categorical columns with the mode. Defaults to False.\n",
    "\n",
    "  Returns:\n",
    "      pandas.DataFrame: The DataFrame with imputed missing values\n",
    "      list: A list of columns containing missing values\n",
    "\n",
    "  Raises:\n",
    "      ValueError: If an invalid method_numerical is provided.\n",
    "  \"\"\"\n",
    "  columns_with_nan = []\n",
    "  for col in df.columns:\n",
    "    if df[col].isnull().sum() > 0 and df[col].dtype.kind in ['f', 'i']:  # Check for float or integer\n",
    "      if method_numerical == 'mean':\n",
    "        df[col] = df[col].fillna(value=df[col].mean())\n",
    "      elif method_numerical == 'median':\n",
    "        df[col] = df[col].fillna(value=df[col].median())\n",
    "      elif method_numerical == 'zero':\n",
    "        df[col] = df[col].fillna(value=0)\n",
    "      elif method_numerical == 'mode':\n",
    "        df[col] = df[col].fillna(value=df[col].mode()[0])\n",
    "      else:\n",
    "        raise ValueError(f\"Invalid method_numerical: {method_numerical}. Valid options are 'mean', 'median', 'zero', or 'mode'.\")\n",
    "      columns_with_nan.append(col)\n",
    "    elif df[col].isnull().sum() > 0 and fill_categorical_with_mode and pd.api.types.is_categorical_dtype(df[col]):\n",
    "      df[col] = df[col].fillna(value=df[col].mode()[0])  # Fill with mode for categorical\n",
    "      columns_with_nan.append(col)\n",
    "    elif df[col].isnull().sum() > 0:\n",
    "      df[col] = df[col].fillna(value=value_categorical)\n",
    "      columns_with_nan.append(col)\n",
    "  return columns_with_nan\n",
    "\n",
    "#################################################################################################\n",
    "\n",
    "def replace_less_frequent(df: pd.DataFrame, list_col: list[str], threshold: float = 0.02, new_value='other') -> pd.DataFrame:\n",
    "  \"\"\"Replaces less frequent values in specified columns of a DataFrame with a new value.\n",
    "\n",
    "  This function identifies values that appear less frequently than a certain threshold\n",
    "  within specified columns of a DataFrame and replaces them with a new user-defined value.\n",
    "  It also prints value counts to confirm the changes.\n",
    "\n",
    "  Args:\n",
    "      df: The pandas DataFrame to process.\n",
    "      list_col: A list of column names to be processed.\n",
    "      threshold: The minimum frequency (between 0 and 1) a value must have to be considered\n",
    "          frequent. Values with frequency less than the threshold will be replaced.\n",
    "      new_value: The value to use for replacing less frequent values.\n",
    "\n",
    "  Returns:\n",
    "      The modified DataFrame with less frequent values replaced.\n",
    "\n",
    "  Prints:\n",
    "      Value counts for each modified column after the replacement.\n",
    "  \"\"\"\n",
    "\n",
    "  vals_to_change = []\n",
    "\n",
    "  # Iterate over each column in the list\n",
    "  for col in list_col:\n",
    "    # Get values with frequency less than the threshold\n",
    "    filtered_values = df[col].value_counts(normalize=True)\n",
    "    filtered_values = filtered_values[filtered_values < threshold].index.tolist()\n",
    "    vals_to_change.extend(filtered_values)  # Extend to avoid nested lists\n",
    "\n",
    "  # Replace less frequent values with new_value\n",
    "  for col in list_col:\n",
    "    df[col] = np.where(df[col].isin(vals_to_change), new_value, df[col])\n",
    "\n",
    "  # Print value counts for each modified column\n",
    "  for col in list_col:\n",
    "    print(f\"\\nValue Counts for {col} after replacement:\")\n",
    "    print(df[col].value_counts(normalize=True, dropna=False))\n",
    "    print(f\"\\n** NEW {col} created correctly**\")\n",
    "\n",
    "\n",
    "#######################################################################################################\n",
    "\n",
    "def get_categorical(df):\n",
    "  \"\"\"\n",
    "  Identifies categorical columns in a DataFrame\n",
    "\n",
    "  Args:\n",
    "      df (pandas.DataFrame): The DataFrame to identify categorical columns in\n",
    "\n",
    "  Returns:\n",
    "      list: A list containing the names of categorical columns\n",
    "  \"\"\"\n",
    "  l_cat = []\n",
    "  for col in df.columns:\n",
    "    if df[col].dtype.kind == 'O':  # Check for object dtype (categorical)\n",
    "      l_cat.append(col)\n",
    "  return l_cat\n",
    "\n",
    "#######################################################################################################\n",
    "\n",
    "def get_numeric(df):\n",
    "  \"\"\"\n",
    "  Identifies categorical columns in a DataFrame\n",
    "\n",
    "  Args:\n",
    "      df (pandas.DataFrame): The DataFrame to identify categorical columns in\n",
    "\n",
    "  Returns:\n",
    "      list: A list containing the names of categorical columns\n",
    "  \"\"\"\n",
    "  l_num = []\n",
    "  for col in df.columns:\n",
    "    if df[col].dtype.kind == 'f' or df[col].dtype.kind == 'i':  # Check for object dtype (categorical)\n",
    "      l_num.append(col)\n",
    "  return l_num\n",
    "\n",
    "#######################################################################################################\n",
    "\n",
    "def get_posible_bool(df):\n",
    "  \"\"\"\n",
    "  Identifies categorical columns in a DataFrame\n",
    "\n",
    "  Args:\n",
    "      df (pandas.DataFrame): The DataFrame to identify categorical columns in\n",
    "\n",
    "  Returns:\n",
    "      list: A list containing the names of categorical columns\n",
    "  \"\"\"\n",
    "  l_bool = []\n",
    "  for col in df.columns:\n",
    "    if len(df[col].unique()) == 2:  # Check for object dtype (categorical)\n",
    "      l_bool.append(col)\n",
    "  return l_bool"
   ]
  },
  {
   "cell_type": "markdown",
   "id": "05b8d4ad",
   "metadata": {
    "_cell_guid": "ab83cbb8-8fa4-4f9d-88cb-f656e1a30ed4",
    "_uuid": "af13430f-5afc-4554-aaba-0405a852488d",
    "papermill": {
     "duration": 0.020271,
     "end_time": "2024-05-15T22:55:16.230906",
     "exception": false,
     "start_time": "2024-05-15T22:55:16.210635",
     "status": "completed"
    },
    "tags": []
   },
   "source": [
    "## Cleaning dataset"
   ]
  },
  {
   "cell_type": "code",
   "execution_count": 5,
   "id": "70c0847e",
   "metadata": {
    "_cell_guid": "6de4d87d-0da8-487a-8d39-a4b500c3a701",
    "_uuid": "4c943afd-9760-4517-a080-c6704415805f",
    "collapsed": false,
    "execution": {
     "iopub.execute_input": "2024-05-15T22:55:16.275398Z",
     "iopub.status.busy": "2024-05-15T22:55:16.275001Z",
     "iopub.status.idle": "2024-05-15T22:55:16.279909Z",
     "shell.execute_reply": "2024-05-15T22:55:16.278692Z"
    },
    "jupyter": {
     "outputs_hidden": false
    },
    "papermill": {
     "duration": 0.029991,
     "end_time": "2024-05-15T22:55:16.282708",
     "exception": false,
     "start_time": "2024-05-15T22:55:16.252717",
     "status": "completed"
    },
    "tags": []
   },
   "outputs": [],
   "source": [
    "import pandas as pd\n",
    "import numpy as np"
   ]
  },
  {
   "cell_type": "code",
   "execution_count": 6,
   "id": "e2e5768b",
   "metadata": {
    "_cell_guid": "7f010651-c983-44c7-9374-87bf477552a0",
    "_uuid": "f5680982-2dad-4af2-86a3-32830b971aa2",
    "collapsed": false,
    "execution": {
     "iopub.execute_input": "2024-05-15T22:55:16.324209Z",
     "iopub.status.busy": "2024-05-15T22:55:16.323783Z",
     "iopub.status.idle": "2024-05-15T22:55:16.329596Z",
     "shell.execute_reply": "2024-05-15T22:55:16.328154Z"
    },
    "jupyter": {
     "outputs_hidden": false
    },
    "papermill": {
     "duration": 0.030568,
     "end_time": "2024-05-15T22:55:16.332920",
     "exception": false,
     "start_time": "2024-05-15T22:55:16.302352",
     "status": "completed"
    },
    "tags": []
   },
   "outputs": [],
   "source": [
    "pd.set_option('display.max_rows', None)"
   ]
  },
  {
   "cell_type": "code",
   "execution_count": 7,
   "id": "581d6771",
   "metadata": {
    "_cell_guid": "8f402e09-8dd3-4f6b-8286-a0207c78c05c",
    "_uuid": "ca771101-f3e2-44f5-a37e-135b976c85c0",
    "collapsed": false,
    "execution": {
     "iopub.execute_input": "2024-05-15T22:55:16.384998Z",
     "iopub.status.busy": "2024-05-15T22:55:16.384412Z",
     "iopub.status.idle": "2024-05-15T22:55:16.405087Z",
     "shell.execute_reply": "2024-05-15T22:55:16.403803Z"
    },
    "jupyter": {
     "outputs_hidden": false
    },
    "papermill": {
     "duration": 0.050203,
     "end_time": "2024-05-15T22:55:16.409033",
     "exception": false,
     "start_time": "2024-05-15T22:55:16.358830",
     "status": "completed"
    },
    "scrolled": true,
    "tags": []
   },
   "outputs": [],
   "source": [
    "home_data2 = home_data.copy()\n",
    "home_data2.set_index('Id', inplace=True)"
   ]
  },
  {
   "cell_type": "code",
   "execution_count": 8,
   "id": "ee22a267",
   "metadata": {
    "execution": {
     "iopub.execute_input": "2024-05-15T22:55:16.454713Z",
     "iopub.status.busy": "2024-05-15T22:55:16.454314Z",
     "iopub.status.idle": "2024-05-15T22:55:16.476840Z",
     "shell.execute_reply": "2024-05-15T22:55:16.475597Z"
    },
    "papermill": {
     "duration": 0.047386,
     "end_time": "2024-05-15T22:55:16.479617",
     "exception": false,
     "start_time": "2024-05-15T22:55:16.432231",
     "status": "completed"
    },
    "tags": []
   },
   "outputs": [
    {
     "data": {
      "text/plain": [
       "MSSubClass          0\n",
       "MSZoning            0\n",
       "LotFrontage       259\n",
       "LotArea             0\n",
       "Street              0\n",
       "Alley            1369\n",
       "LotShape            0\n",
       "LandContour         0\n",
       "Utilities           0\n",
       "LotConfig           0\n",
       "LandSlope           0\n",
       "Neighborhood        0\n",
       "Condition1          0\n",
       "Condition2          0\n",
       "BldgType            0\n",
       "HouseStyle          0\n",
       "OverallQual         0\n",
       "OverallCond         0\n",
       "YearBuilt           0\n",
       "YearRemodAdd        0\n",
       "RoofStyle           0\n",
       "RoofMatl            0\n",
       "Exterior1st         0\n",
       "Exterior2nd         0\n",
       "MasVnrType        872\n",
       "MasVnrArea          8\n",
       "ExterQual           0\n",
       "ExterCond           0\n",
       "Foundation          0\n",
       "BsmtQual           37\n",
       "BsmtCond           37\n",
       "BsmtExposure       38\n",
       "BsmtFinType1       37\n",
       "BsmtFinSF1          0\n",
       "BsmtFinType2       38\n",
       "BsmtFinSF2          0\n",
       "BsmtUnfSF           0\n",
       "TotalBsmtSF         0\n",
       "Heating             0\n",
       "HeatingQC           0\n",
       "CentralAir          0\n",
       "Electrical          1\n",
       "1stFlrSF            0\n",
       "2ndFlrSF            0\n",
       "LowQualFinSF        0\n",
       "GrLivArea           0\n",
       "BsmtFullBath        0\n",
       "BsmtHalfBath        0\n",
       "FullBath            0\n",
       "HalfBath            0\n",
       "BedroomAbvGr        0\n",
       "KitchenAbvGr        0\n",
       "KitchenQual         0\n",
       "TotRmsAbvGrd        0\n",
       "Functional          0\n",
       "Fireplaces          0\n",
       "FireplaceQu       690\n",
       "GarageType         81\n",
       "GarageYrBlt        81\n",
       "GarageFinish       81\n",
       "GarageCars          0\n",
       "GarageArea          0\n",
       "GarageQual         81\n",
       "GarageCond         81\n",
       "PavedDrive          0\n",
       "WoodDeckSF          0\n",
       "OpenPorchSF         0\n",
       "EnclosedPorch       0\n",
       "3SsnPorch           0\n",
       "ScreenPorch         0\n",
       "PoolArea            0\n",
       "PoolQC           1453\n",
       "Fence            1179\n",
       "MiscFeature      1406\n",
       "MiscVal             0\n",
       "MoSold              0\n",
       "YrSold              0\n",
       "SaleType            0\n",
       "SaleCondition       0\n",
       "SalePrice           0\n",
       "dtype: int64"
      ]
     },
     "execution_count": 8,
     "metadata": {},
     "output_type": "execute_result"
    }
   ],
   "source": [
    "home_data2.isnull().sum()"
   ]
  },
  {
   "cell_type": "code",
   "execution_count": 9,
   "id": "aeda8ff6",
   "metadata": {
    "_cell_guid": "ee1709ff-5e37-49b7-b0fb-5a1d3e0c9a6c",
    "_uuid": "b2b1fe9c-c315-48e5-83ce-f7d5853a3ac2",
    "collapsed": false,
    "execution": {
     "iopub.execute_input": "2024-05-15T22:55:16.521362Z",
     "iopub.status.busy": "2024-05-15T22:55:16.520978Z",
     "iopub.status.idle": "2024-05-15T22:55:16.557085Z",
     "shell.execute_reply": "2024-05-15T22:55:16.555506Z"
    },
    "jupyter": {
     "outputs_hidden": false
    },
    "papermill": {
     "duration": 0.06065,
     "end_time": "2024-05-15T22:55:16.560402",
     "exception": false,
     "start_time": "2024-05-15T22:55:16.499752",
     "status": "completed"
    },
    "tags": []
   },
   "outputs": [],
   "source": [
    "# Drop columns with more than 200 NaNs\n",
    "drop_columns_nan(home_data2, threshold=300)"
   ]
  },
  {
   "cell_type": "code",
   "execution_count": 10,
   "id": "bcd659a9",
   "metadata": {
    "_cell_guid": "f93eff87-b76c-45bb-8db4-fecb5b462187",
    "_uuid": "17334aea-a330-4014-82b4-dfb8ebde13a3",
    "collapsed": false,
    "execution": {
     "iopub.execute_input": "2024-05-15T22:55:16.625053Z",
     "iopub.status.busy": "2024-05-15T22:55:16.624183Z",
     "iopub.status.idle": "2024-05-15T22:55:16.717119Z",
     "shell.execute_reply": "2024-05-15T22:55:16.715853Z"
    },
    "jupyter": {
     "outputs_hidden": false
    },
    "papermill": {
     "duration": 0.129123,
     "end_time": "2024-05-15T22:55:16.719854",
     "exception": false,
     "start_time": "2024-05-15T22:55:16.590731",
     "status": "completed"
    },
    "tags": []
   },
   "outputs": [
    {
     "data": {
      "text/html": [
       "<div>\n",
       "<style scoped>\n",
       "    .dataframe tbody tr th:only-of-type {\n",
       "        vertical-align: middle;\n",
       "    }\n",
       "\n",
       "    .dataframe tbody tr th {\n",
       "        vertical-align: top;\n",
       "    }\n",
       "\n",
       "    .dataframe thead th {\n",
       "        text-align: right;\n",
       "    }\n",
       "</style>\n",
       "<table border=\"1\" class=\"dataframe\">\n",
       "  <thead>\n",
       "    <tr style=\"text-align: right;\">\n",
       "      <th></th>\n",
       "      <th>LotFrontage</th>\n",
       "      <th>MasVnrArea</th>\n",
       "      <th>BsmtQual</th>\n",
       "      <th>BsmtCond</th>\n",
       "      <th>BsmtExposure</th>\n",
       "      <th>BsmtFinType1</th>\n",
       "      <th>BsmtFinType2</th>\n",
       "      <th>Electrical</th>\n",
       "      <th>GarageType</th>\n",
       "      <th>GarageYrBlt</th>\n",
       "      <th>GarageFinish</th>\n",
       "      <th>GarageQual</th>\n",
       "      <th>GarageCond</th>\n",
       "    </tr>\n",
       "    <tr>\n",
       "      <th>Id</th>\n",
       "      <th></th>\n",
       "      <th></th>\n",
       "      <th></th>\n",
       "      <th></th>\n",
       "      <th></th>\n",
       "      <th></th>\n",
       "      <th></th>\n",
       "      <th></th>\n",
       "      <th></th>\n",
       "      <th></th>\n",
       "      <th></th>\n",
       "      <th></th>\n",
       "      <th></th>\n",
       "    </tr>\n",
       "  </thead>\n",
       "  <tbody>\n",
       "    <tr>\n",
       "      <th>1</th>\n",
       "      <td>65.0</td>\n",
       "      <td>196.0</td>\n",
       "      <td>Gd</td>\n",
       "      <td>TA</td>\n",
       "      <td>No</td>\n",
       "      <td>GLQ</td>\n",
       "      <td>Unf</td>\n",
       "      <td>SBrkr</td>\n",
       "      <td>Attchd</td>\n",
       "      <td>2003.0</td>\n",
       "      <td>RFn</td>\n",
       "      <td>TA</td>\n",
       "      <td>TA</td>\n",
       "    </tr>\n",
       "    <tr>\n",
       "      <th>2</th>\n",
       "      <td>80.0</td>\n",
       "      <td>0.0</td>\n",
       "      <td>Gd</td>\n",
       "      <td>TA</td>\n",
       "      <td>Gd</td>\n",
       "      <td>ALQ</td>\n",
       "      <td>Unf</td>\n",
       "      <td>SBrkr</td>\n",
       "      <td>Attchd</td>\n",
       "      <td>1976.0</td>\n",
       "      <td>RFn</td>\n",
       "      <td>TA</td>\n",
       "      <td>TA</td>\n",
       "    </tr>\n",
       "    <tr>\n",
       "      <th>3</th>\n",
       "      <td>68.0</td>\n",
       "      <td>162.0</td>\n",
       "      <td>Gd</td>\n",
       "      <td>TA</td>\n",
       "      <td>Mn</td>\n",
       "      <td>GLQ</td>\n",
       "      <td>Unf</td>\n",
       "      <td>SBrkr</td>\n",
       "      <td>Attchd</td>\n",
       "      <td>2001.0</td>\n",
       "      <td>RFn</td>\n",
       "      <td>TA</td>\n",
       "      <td>TA</td>\n",
       "    </tr>\n",
       "    <tr>\n",
       "      <th>4</th>\n",
       "      <td>60.0</td>\n",
       "      <td>0.0</td>\n",
       "      <td>TA</td>\n",
       "      <td>Gd</td>\n",
       "      <td>No</td>\n",
       "      <td>ALQ</td>\n",
       "      <td>Unf</td>\n",
       "      <td>SBrkr</td>\n",
       "      <td>Detchd</td>\n",
       "      <td>1998.0</td>\n",
       "      <td>Unf</td>\n",
       "      <td>TA</td>\n",
       "      <td>TA</td>\n",
       "    </tr>\n",
       "    <tr>\n",
       "      <th>5</th>\n",
       "      <td>84.0</td>\n",
       "      <td>350.0</td>\n",
       "      <td>Gd</td>\n",
       "      <td>TA</td>\n",
       "      <td>Av</td>\n",
       "      <td>GLQ</td>\n",
       "      <td>Unf</td>\n",
       "      <td>SBrkr</td>\n",
       "      <td>Attchd</td>\n",
       "      <td>2000.0</td>\n",
       "      <td>RFn</td>\n",
       "      <td>TA</td>\n",
       "      <td>TA</td>\n",
       "    </tr>\n",
       "    <tr>\n",
       "      <th>6</th>\n",
       "      <td>85.0</td>\n",
       "      <td>0.0</td>\n",
       "      <td>Gd</td>\n",
       "      <td>TA</td>\n",
       "      <td>No</td>\n",
       "      <td>GLQ</td>\n",
       "      <td>Unf</td>\n",
       "      <td>SBrkr</td>\n",
       "      <td>Attchd</td>\n",
       "      <td>1993.0</td>\n",
       "      <td>Unf</td>\n",
       "      <td>TA</td>\n",
       "      <td>TA</td>\n",
       "    </tr>\n",
       "    <tr>\n",
       "      <th>7</th>\n",
       "      <td>75.0</td>\n",
       "      <td>186.0</td>\n",
       "      <td>Ex</td>\n",
       "      <td>TA</td>\n",
       "      <td>Av</td>\n",
       "      <td>GLQ</td>\n",
       "      <td>Unf</td>\n",
       "      <td>SBrkr</td>\n",
       "      <td>Attchd</td>\n",
       "      <td>2004.0</td>\n",
       "      <td>RFn</td>\n",
       "      <td>TA</td>\n",
       "      <td>TA</td>\n",
       "    </tr>\n",
       "    <tr>\n",
       "      <th>8</th>\n",
       "      <td>NaN</td>\n",
       "      <td>240.0</td>\n",
       "      <td>Gd</td>\n",
       "      <td>TA</td>\n",
       "      <td>Mn</td>\n",
       "      <td>ALQ</td>\n",
       "      <td>BLQ</td>\n",
       "      <td>SBrkr</td>\n",
       "      <td>Attchd</td>\n",
       "      <td>1973.0</td>\n",
       "      <td>RFn</td>\n",
       "      <td>TA</td>\n",
       "      <td>TA</td>\n",
       "    </tr>\n",
       "    <tr>\n",
       "      <th>9</th>\n",
       "      <td>51.0</td>\n",
       "      <td>0.0</td>\n",
       "      <td>TA</td>\n",
       "      <td>TA</td>\n",
       "      <td>No</td>\n",
       "      <td>Unf</td>\n",
       "      <td>Unf</td>\n",
       "      <td>FuseF</td>\n",
       "      <td>Detchd</td>\n",
       "      <td>1931.0</td>\n",
       "      <td>Unf</td>\n",
       "      <td>Fa</td>\n",
       "      <td>TA</td>\n",
       "    </tr>\n",
       "    <tr>\n",
       "      <th>10</th>\n",
       "      <td>50.0</td>\n",
       "      <td>0.0</td>\n",
       "      <td>TA</td>\n",
       "      <td>TA</td>\n",
       "      <td>No</td>\n",
       "      <td>GLQ</td>\n",
       "      <td>Unf</td>\n",
       "      <td>SBrkr</td>\n",
       "      <td>Attchd</td>\n",
       "      <td>1939.0</td>\n",
       "      <td>RFn</td>\n",
       "      <td>Gd</td>\n",
       "      <td>TA</td>\n",
       "    </tr>\n",
       "    <tr>\n",
       "      <th>11</th>\n",
       "      <td>70.0</td>\n",
       "      <td>0.0</td>\n",
       "      <td>TA</td>\n",
       "      <td>TA</td>\n",
       "      <td>No</td>\n",
       "      <td>Rec</td>\n",
       "      <td>Unf</td>\n",
       "      <td>SBrkr</td>\n",
       "      <td>Detchd</td>\n",
       "      <td>1965.0</td>\n",
       "      <td>Unf</td>\n",
       "      <td>TA</td>\n",
       "      <td>TA</td>\n",
       "    </tr>\n",
       "    <tr>\n",
       "      <th>12</th>\n",
       "      <td>85.0</td>\n",
       "      <td>286.0</td>\n",
       "      <td>Ex</td>\n",
       "      <td>TA</td>\n",
       "      <td>No</td>\n",
       "      <td>GLQ</td>\n",
       "      <td>Unf</td>\n",
       "      <td>SBrkr</td>\n",
       "      <td>BuiltIn</td>\n",
       "      <td>2005.0</td>\n",
       "      <td>Fin</td>\n",
       "      <td>TA</td>\n",
       "      <td>TA</td>\n",
       "    </tr>\n",
       "    <tr>\n",
       "      <th>13</th>\n",
       "      <td>NaN</td>\n",
       "      <td>0.0</td>\n",
       "      <td>TA</td>\n",
       "      <td>TA</td>\n",
       "      <td>No</td>\n",
       "      <td>ALQ</td>\n",
       "      <td>Unf</td>\n",
       "      <td>SBrkr</td>\n",
       "      <td>Detchd</td>\n",
       "      <td>1962.0</td>\n",
       "      <td>Unf</td>\n",
       "      <td>TA</td>\n",
       "      <td>TA</td>\n",
       "    </tr>\n",
       "    <tr>\n",
       "      <th>14</th>\n",
       "      <td>91.0</td>\n",
       "      <td>306.0</td>\n",
       "      <td>Gd</td>\n",
       "      <td>TA</td>\n",
       "      <td>Av</td>\n",
       "      <td>Unf</td>\n",
       "      <td>Unf</td>\n",
       "      <td>SBrkr</td>\n",
       "      <td>Attchd</td>\n",
       "      <td>2006.0</td>\n",
       "      <td>RFn</td>\n",
       "      <td>TA</td>\n",
       "      <td>TA</td>\n",
       "    </tr>\n",
       "    <tr>\n",
       "      <th>15</th>\n",
       "      <td>NaN</td>\n",
       "      <td>212.0</td>\n",
       "      <td>TA</td>\n",
       "      <td>TA</td>\n",
       "      <td>No</td>\n",
       "      <td>BLQ</td>\n",
       "      <td>Unf</td>\n",
       "      <td>SBrkr</td>\n",
       "      <td>Attchd</td>\n",
       "      <td>1960.0</td>\n",
       "      <td>RFn</td>\n",
       "      <td>TA</td>\n",
       "      <td>TA</td>\n",
       "    </tr>\n",
       "    <tr>\n",
       "      <th>16</th>\n",
       "      <td>51.0</td>\n",
       "      <td>0.0</td>\n",
       "      <td>TA</td>\n",
       "      <td>TA</td>\n",
       "      <td>No</td>\n",
       "      <td>Unf</td>\n",
       "      <td>Unf</td>\n",
       "      <td>FuseA</td>\n",
       "      <td>Detchd</td>\n",
       "      <td>1991.0</td>\n",
       "      <td>Unf</td>\n",
       "      <td>TA</td>\n",
       "      <td>TA</td>\n",
       "    </tr>\n",
       "    <tr>\n",
       "      <th>17</th>\n",
       "      <td>NaN</td>\n",
       "      <td>180.0</td>\n",
       "      <td>TA</td>\n",
       "      <td>TA</td>\n",
       "      <td>No</td>\n",
       "      <td>ALQ</td>\n",
       "      <td>Unf</td>\n",
       "      <td>SBrkr</td>\n",
       "      <td>Attchd</td>\n",
       "      <td>1970.0</td>\n",
       "      <td>Fin</td>\n",
       "      <td>TA</td>\n",
       "      <td>TA</td>\n",
       "    </tr>\n",
       "    <tr>\n",
       "      <th>18</th>\n",
       "      <td>72.0</td>\n",
       "      <td>0.0</td>\n",
       "      <td>NaN</td>\n",
       "      <td>NaN</td>\n",
       "      <td>NaN</td>\n",
       "      <td>NaN</td>\n",
       "      <td>NaN</td>\n",
       "      <td>SBrkr</td>\n",
       "      <td>CarPort</td>\n",
       "      <td>1967.0</td>\n",
       "      <td>Unf</td>\n",
       "      <td>TA</td>\n",
       "      <td>TA</td>\n",
       "    </tr>\n",
       "    <tr>\n",
       "      <th>19</th>\n",
       "      <td>66.0</td>\n",
       "      <td>0.0</td>\n",
       "      <td>TA</td>\n",
       "      <td>TA</td>\n",
       "      <td>No</td>\n",
       "      <td>GLQ</td>\n",
       "      <td>Unf</td>\n",
       "      <td>SBrkr</td>\n",
       "      <td>Detchd</td>\n",
       "      <td>2004.0</td>\n",
       "      <td>Unf</td>\n",
       "      <td>TA</td>\n",
       "      <td>TA</td>\n",
       "    </tr>\n",
       "    <tr>\n",
       "      <th>20</th>\n",
       "      <td>70.0</td>\n",
       "      <td>0.0</td>\n",
       "      <td>TA</td>\n",
       "      <td>TA</td>\n",
       "      <td>No</td>\n",
       "      <td>LwQ</td>\n",
       "      <td>Unf</td>\n",
       "      <td>SBrkr</td>\n",
       "      <td>Attchd</td>\n",
       "      <td>1958.0</td>\n",
       "      <td>Unf</td>\n",
       "      <td>TA</td>\n",
       "      <td>TA</td>\n",
       "    </tr>\n",
       "  </tbody>\n",
       "</table>\n",
       "</div>"
      ],
      "text/plain": [
       "    LotFrontage  MasVnrArea BsmtQual BsmtCond BsmtExposure BsmtFinType1  \\\n",
       "Id                                                                        \n",
       "1          65.0       196.0       Gd       TA           No          GLQ   \n",
       "2          80.0         0.0       Gd       TA           Gd          ALQ   \n",
       "3          68.0       162.0       Gd       TA           Mn          GLQ   \n",
       "4          60.0         0.0       TA       Gd           No          ALQ   \n",
       "5          84.0       350.0       Gd       TA           Av          GLQ   \n",
       "6          85.0         0.0       Gd       TA           No          GLQ   \n",
       "7          75.0       186.0       Ex       TA           Av          GLQ   \n",
       "8           NaN       240.0       Gd       TA           Mn          ALQ   \n",
       "9          51.0         0.0       TA       TA           No          Unf   \n",
       "10         50.0         0.0       TA       TA           No          GLQ   \n",
       "11         70.0         0.0       TA       TA           No          Rec   \n",
       "12         85.0       286.0       Ex       TA           No          GLQ   \n",
       "13          NaN         0.0       TA       TA           No          ALQ   \n",
       "14         91.0       306.0       Gd       TA           Av          Unf   \n",
       "15          NaN       212.0       TA       TA           No          BLQ   \n",
       "16         51.0         0.0       TA       TA           No          Unf   \n",
       "17          NaN       180.0       TA       TA           No          ALQ   \n",
       "18         72.0         0.0      NaN      NaN          NaN          NaN   \n",
       "19         66.0         0.0       TA       TA           No          GLQ   \n",
       "20         70.0         0.0       TA       TA           No          LwQ   \n",
       "\n",
       "   BsmtFinType2 Electrical GarageType  GarageYrBlt GarageFinish GarageQual  \\\n",
       "Id                                                                           \n",
       "1           Unf      SBrkr     Attchd       2003.0          RFn         TA   \n",
       "2           Unf      SBrkr     Attchd       1976.0          RFn         TA   \n",
       "3           Unf      SBrkr     Attchd       2001.0          RFn         TA   \n",
       "4           Unf      SBrkr     Detchd       1998.0          Unf         TA   \n",
       "5           Unf      SBrkr     Attchd       2000.0          RFn         TA   \n",
       "6           Unf      SBrkr     Attchd       1993.0          Unf         TA   \n",
       "7           Unf      SBrkr     Attchd       2004.0          RFn         TA   \n",
       "8           BLQ      SBrkr     Attchd       1973.0          RFn         TA   \n",
       "9           Unf      FuseF     Detchd       1931.0          Unf         Fa   \n",
       "10          Unf      SBrkr     Attchd       1939.0          RFn         Gd   \n",
       "11          Unf      SBrkr     Detchd       1965.0          Unf         TA   \n",
       "12          Unf      SBrkr    BuiltIn       2005.0          Fin         TA   \n",
       "13          Unf      SBrkr     Detchd       1962.0          Unf         TA   \n",
       "14          Unf      SBrkr     Attchd       2006.0          RFn         TA   \n",
       "15          Unf      SBrkr     Attchd       1960.0          RFn         TA   \n",
       "16          Unf      FuseA     Detchd       1991.0          Unf         TA   \n",
       "17          Unf      SBrkr     Attchd       1970.0          Fin         TA   \n",
       "18          NaN      SBrkr    CarPort       1967.0          Unf         TA   \n",
       "19          Unf      SBrkr     Detchd       2004.0          Unf         TA   \n",
       "20          Unf      SBrkr     Attchd       1958.0          Unf         TA   \n",
       "\n",
       "   GarageCond  \n",
       "Id             \n",
       "1          TA  \n",
       "2          TA  \n",
       "3          TA  \n",
       "4          TA  \n",
       "5          TA  \n",
       "6          TA  \n",
       "7          TA  \n",
       "8          TA  \n",
       "9          TA  \n",
       "10         TA  \n",
       "11         TA  \n",
       "12         TA  \n",
       "13         TA  \n",
       "14         TA  \n",
       "15         TA  \n",
       "16         TA  \n",
       "17         TA  \n",
       "18         TA  \n",
       "19         TA  \n",
       "20         TA  "
      ]
     },
     "execution_count": 10,
     "metadata": {},
     "output_type": "execute_result"
    }
   ],
   "source": [
    "#Inspect remaining columns with NaNs\n",
    "columns_with_nan = []\n",
    "\n",
    "for col in home_data2.columns:\n",
    "    if home_data2[col].isnull().sum() > 0:\n",
    "        columns_with_nan.append(col)\n",
    "\n",
    "home_data2[columns_with_nan].head(20)"
   ]
  },
  {
   "cell_type": "code",
   "execution_count": 11,
   "id": "7cdca444",
   "metadata": {
    "execution": {
     "iopub.execute_input": "2024-05-15T22:55:16.765297Z",
     "iopub.status.busy": "2024-05-15T22:55:16.764904Z",
     "iopub.status.idle": "2024-05-15T22:55:16.773394Z",
     "shell.execute_reply": "2024-05-15T22:55:16.772223Z"
    },
    "papermill": {
     "duration": 0.034391,
     "end_time": "2024-05-15T22:55:16.776173",
     "exception": false,
     "start_time": "2024-05-15T22:55:16.741782",
     "status": "completed"
    },
    "tags": []
   },
   "outputs": [],
   "source": [
    "# fill NaNs in MasVnrArea (to 0), GarageYrBlt (to YearBuilt), LotFrontage to mean\n",
    "\n",
    "home_data2['MasVnrArea'] = home_data2['MasVnrArea'].fillna(0)\n",
    "home_data2['GarageYrBlt'] = home_data2['GarageYrBlt'].fillna(home_data2['YearBuilt'])\n",
    "home_data2['LotFrontage'] = home_data2['LotFrontage'].fillna(home_data2['LotFrontage'].mean())"
   ]
  },
  {
   "cell_type": "code",
   "execution_count": 12,
   "id": "deabe7df",
   "metadata": {
    "execution": {
     "iopub.execute_input": "2024-05-15T22:55:16.828928Z",
     "iopub.status.busy": "2024-05-15T22:55:16.828041Z",
     "iopub.status.idle": "2024-05-15T22:55:16.833784Z",
     "shell.execute_reply": "2024-05-15T22:55:16.831871Z"
    },
    "papermill": {
     "duration": 0.037126,
     "end_time": "2024-05-15T22:55:16.836608",
     "exception": false,
     "start_time": "2024-05-15T22:55:16.799482",
     "status": "completed"
    },
    "tags": []
   },
   "outputs": [],
   "source": [
    "#import matplotlib.pyplot as plt\n",
    "#plt.scatter(x = home_data2['YearBuilt'], y = home_data2['GarageYrBlt'])"
   ]
  },
  {
   "cell_type": "code",
   "execution_count": 13,
   "id": "75a1b407",
   "metadata": {
    "execution": {
     "iopub.execute_input": "2024-05-15T22:55:16.884981Z",
     "iopub.status.busy": "2024-05-15T22:55:16.884526Z",
     "iopub.status.idle": "2024-05-15T22:55:16.937124Z",
     "shell.execute_reply": "2024-05-15T22:55:16.935226Z"
    },
    "papermill": {
     "duration": 0.081134,
     "end_time": "2024-05-15T22:55:16.940428",
     "exception": false,
     "start_time": "2024-05-15T22:55:16.859294",
     "status": "completed"
    },
    "tags": []
   },
   "outputs": [
    {
     "name": "stdout",
     "output_type": "stream",
     "text": [
      "BsmtQual\n",
      "TA     0.444521\n",
      "Gd     0.423288\n",
      "Ex     0.082877\n",
      "NaN    0.025342\n",
      "Fa     0.023973\n",
      "Name: proportion, dtype: float64\n",
      "BsmtCond\n",
      "TA     0.897945\n",
      "Gd     0.044521\n",
      "Fa     0.030822\n",
      "NaN    0.025342\n",
      "Po     0.001370\n",
      "Name: proportion, dtype: float64\n",
      "BsmtExposure\n",
      "No     0.652740\n",
      "Av     0.151370\n",
      "Gd     0.091781\n",
      "Mn     0.078082\n",
      "NaN    0.026027\n",
      "Name: proportion, dtype: float64\n",
      "BsmtFinType1\n",
      "Unf    0.294521\n",
      "GLQ    0.286301\n",
      "ALQ    0.150685\n",
      "BLQ    0.101370\n",
      "Rec    0.091096\n",
      "LwQ    0.050685\n",
      "NaN    0.025342\n",
      "Name: proportion, dtype: float64\n",
      "BsmtFinType2\n",
      "Unf    0.860274\n",
      "Rec    0.036986\n",
      "LwQ    0.031507\n",
      "NaN    0.026027\n",
      "BLQ    0.022603\n",
      "ALQ    0.013014\n",
      "GLQ    0.009589\n",
      "Name: proportion, dtype: float64\n",
      "Electrical\n",
      "SBrkr    0.913699\n",
      "FuseA    0.064384\n",
      "FuseF    0.018493\n",
      "FuseP    0.002055\n",
      "Mix      0.000685\n",
      "NaN      0.000685\n",
      "Name: proportion, dtype: float64\n",
      "GarageType\n",
      "Attchd     0.595890\n",
      "Detchd     0.265068\n",
      "BuiltIn    0.060274\n",
      "NaN        0.055479\n",
      "Basment    0.013014\n",
      "CarPort    0.006164\n",
      "2Types     0.004110\n",
      "Name: proportion, dtype: float64\n",
      "GarageFinish\n",
      "Unf    0.414384\n",
      "RFn    0.289041\n",
      "Fin    0.241096\n",
      "NaN    0.055479\n",
      "Name: proportion, dtype: float64\n",
      "GarageQual\n",
      "TA     0.897945\n",
      "NaN    0.055479\n",
      "Fa     0.032877\n",
      "Gd     0.009589\n",
      "Ex     0.002055\n",
      "Po     0.002055\n",
      "Name: proportion, dtype: float64\n",
      "GarageCond\n",
      "TA     0.908219\n",
      "NaN    0.055479\n",
      "Fa     0.023973\n",
      "Gd     0.006164\n",
      "Po     0.004795\n",
      "Ex     0.001370\n",
      "Name: proportion, dtype: float64\n"
     ]
    }
   ],
   "source": [
    "home_data3 = home_data2.copy()\n",
    "\n",
    "for col in home_data3.columns:\n",
    "    if home_data3[col].isnull().sum() > 0:\n",
    "        print(home_data3[col].value_counts(normalize=True, dropna=False))"
   ]
  },
  {
   "cell_type": "code",
   "execution_count": 14,
   "id": "b4a909a8",
   "metadata": {
    "execution": {
     "iopub.execute_input": "2024-05-15T22:55:16.986240Z",
     "iopub.status.busy": "2024-05-15T22:55:16.985806Z",
     "iopub.status.idle": "2024-05-15T22:55:16.995602Z",
     "shell.execute_reply": "2024-05-15T22:55:16.994317Z"
    },
    "papermill": {
     "duration": 0.036552,
     "end_time": "2024-05-15T22:55:16.998725",
     "exception": false,
     "start_time": "2024-05-15T22:55:16.962173",
     "status": "completed"
    },
    "tags": []
   },
   "outputs": [],
   "source": [
    "# if GarageType = NaN, no garage\n",
    "# drop BsmtExposure and BsmtFinType2 cause they dont match other basements\n",
    "\n",
    "home_data3['GarageType'] = home_data3['GarageType'].fillna('non-existent')\n",
    "del(home_data3['BsmtExposure'])\n",
    "del(home_data3['BsmtFinType2'])"
   ]
  },
  {
   "cell_type": "code",
   "execution_count": 15,
   "id": "f61ac80b",
   "metadata": {
    "execution": {
     "iopub.execute_input": "2024-05-15T22:55:17.109154Z",
     "iopub.status.busy": "2024-05-15T22:55:17.108714Z",
     "iopub.status.idle": "2024-05-15T22:55:17.172114Z",
     "shell.execute_reply": "2024-05-15T22:55:17.170414Z"
    },
    "papermill": {
     "duration": 0.088643,
     "end_time": "2024-05-15T22:55:17.174924",
     "exception": false,
     "start_time": "2024-05-15T22:55:17.086281",
     "status": "completed"
    },
    "tags": []
   },
   "outputs": [
    {
     "name": "stderr",
     "output_type": "stream",
     "text": [
      "/tmp/ipykernel_18/605756754.py:64: DeprecationWarning: is_categorical_dtype is deprecated and will be removed in a future version. Use isinstance(dtype, pd.CategoricalDtype) instead\n",
      "  elif df[col].isnull().sum() > 0 and fill_categorical_with_mode and pd.api.types.is_categorical_dtype(df[col]):\n"
     ]
    },
    {
     "data": {
      "text/plain": [
       "['BsmtQual',\n",
       " 'BsmtCond',\n",
       " 'BsmtFinType1',\n",
       " 'Electrical',\n",
       " 'GarageFinish',\n",
       " 'GarageQual',\n",
       " 'GarageCond']"
      ]
     },
     "execution_count": 15,
     "metadata": {},
     "output_type": "execute_result"
    }
   ],
   "source": [
    "# Impute remaining NaNs\n",
    "impute_nan_custom(home_data3, method_numerical='mean', value_categorical='non-existent', fill_categorical_with_mode=True)"
   ]
  },
  {
   "cell_type": "code",
   "execution_count": 16,
   "id": "72761832",
   "metadata": {
    "_cell_guid": "3cf9d31b-fc2d-407d-a2c2-e2cc21651f87",
    "_uuid": "009121ca-1aba-4c62-b2f6-8dbeff40e081",
    "execution": {
     "iopub.execute_input": "2024-05-15T22:55:17.221185Z",
     "iopub.status.busy": "2024-05-15T22:55:17.220787Z",
     "iopub.status.idle": "2024-05-15T22:55:17.239992Z",
     "shell.execute_reply": "2024-05-15T22:55:17.238757Z"
    },
    "papermill": {
     "duration": 0.044764,
     "end_time": "2024-05-15T22:55:17.242478",
     "exception": false,
     "start_time": "2024-05-15T22:55:17.197714",
     "status": "completed"
    },
    "tags": []
   },
   "outputs": [
    {
     "data": {
      "text/plain": [
       "MSSubClass       0\n",
       "MSZoning         0\n",
       "LotFrontage      0\n",
       "LotArea          0\n",
       "Street           0\n",
       "LotShape         0\n",
       "LandContour      0\n",
       "Utilities        0\n",
       "LotConfig        0\n",
       "LandSlope        0\n",
       "Neighborhood     0\n",
       "Condition1       0\n",
       "Condition2       0\n",
       "BldgType         0\n",
       "HouseStyle       0\n",
       "OverallQual      0\n",
       "OverallCond      0\n",
       "YearBuilt        0\n",
       "YearRemodAdd     0\n",
       "RoofStyle        0\n",
       "RoofMatl         0\n",
       "Exterior1st      0\n",
       "Exterior2nd      0\n",
       "MasVnrArea       0\n",
       "ExterQual        0\n",
       "ExterCond        0\n",
       "Foundation       0\n",
       "BsmtQual         0\n",
       "BsmtCond         0\n",
       "BsmtFinType1     0\n",
       "BsmtFinSF1       0\n",
       "BsmtFinSF2       0\n",
       "BsmtUnfSF        0\n",
       "TotalBsmtSF      0\n",
       "Heating          0\n",
       "HeatingQC        0\n",
       "CentralAir       0\n",
       "Electrical       0\n",
       "1stFlrSF         0\n",
       "2ndFlrSF         0\n",
       "LowQualFinSF     0\n",
       "GrLivArea        0\n",
       "BsmtFullBath     0\n",
       "BsmtHalfBath     0\n",
       "FullBath         0\n",
       "HalfBath         0\n",
       "BedroomAbvGr     0\n",
       "KitchenAbvGr     0\n",
       "KitchenQual      0\n",
       "TotRmsAbvGrd     0\n",
       "Functional       0\n",
       "Fireplaces       0\n",
       "GarageType       0\n",
       "GarageYrBlt      0\n",
       "GarageFinish     0\n",
       "GarageCars       0\n",
       "GarageArea       0\n",
       "GarageQual       0\n",
       "GarageCond       0\n",
       "PavedDrive       0\n",
       "WoodDeckSF       0\n",
       "OpenPorchSF      0\n",
       "EnclosedPorch    0\n",
       "3SsnPorch        0\n",
       "ScreenPorch      0\n",
       "PoolArea         0\n",
       "MiscVal          0\n",
       "MoSold           0\n",
       "YrSold           0\n",
       "SaleType         0\n",
       "SaleCondition    0\n",
       "SalePrice        0\n",
       "dtype: int64"
      ]
     },
     "execution_count": 16,
     "metadata": {},
     "output_type": "execute_result"
    }
   ],
   "source": [
    "home_data3.isnull().sum()"
   ]
  },
  {
   "cell_type": "markdown",
   "id": "675f997a",
   "metadata": {
    "_cell_guid": "cf185615-1951-44c2-abce-ed13961cba7c",
    "_uuid": "8ba0bef9-87dc-4462-bab7-9c8f905b4dce",
    "papermill": {
     "duration": 0.021452,
     "end_time": "2024-05-15T22:55:17.285503",
     "exception": false,
     "start_time": "2024-05-15T22:55:17.264051",
     "status": "completed"
    },
    "tags": []
   },
   "source": [
    "# drop not informative and group low frequent categories into 'other' category"
   ]
  },
  {
   "cell_type": "code",
   "execution_count": 17,
   "id": "a4f7a37e",
   "metadata": {
    "execution": {
     "iopub.execute_input": "2024-05-15T22:55:17.331083Z",
     "iopub.status.busy": "2024-05-15T22:55:17.329850Z",
     "iopub.status.idle": "2024-05-15T22:55:17.388136Z",
     "shell.execute_reply": "2024-05-15T22:55:17.387018Z"
    },
    "papermill": {
     "duration": 0.083611,
     "end_time": "2024-05-15T22:55:17.390827",
     "exception": false,
     "start_time": "2024-05-15T22:55:17.307216",
     "status": "completed"
    },
    "tags": []
   },
   "outputs": [],
   "source": [
    "home_data4 = home_data3.copy()\n",
    "#remove low informative\n",
    "drop_notinformative(home_data4, threshold=0.9)"
   ]
  },
  {
   "cell_type": "code",
   "execution_count": 18,
   "id": "9b0b6fa0",
   "metadata": {
    "execution": {
     "iopub.execute_input": "2024-05-15T22:55:17.438791Z",
     "iopub.status.busy": "2024-05-15T22:55:17.438339Z",
     "iopub.status.idle": "2024-05-15T22:55:17.517708Z",
     "shell.execute_reply": "2024-05-15T22:55:17.516487Z"
    },
    "papermill": {
     "duration": 0.106473,
     "end_time": "2024-05-15T22:55:17.520952",
     "exception": false,
     "start_time": "2024-05-15T22:55:17.414479",
     "status": "completed"
    },
    "tags": []
   },
   "outputs": [
    {
     "name": "stdout",
     "output_type": "stream",
     "text": [
      "\n",
      "Value Counts for MSZoning after replacement:\n",
      "MSZoning\n",
      "RL       0.788356\n",
      "RM       0.149315\n",
      "FV       0.044521\n",
      "other    0.017808\n",
      "Name: proportion, dtype: float64\n",
      "\n",
      "** NEW MSZoning created correctly**\n",
      "\n",
      "Value Counts for LotShape after replacement:\n",
      "LotShape\n",
      "Reg      0.633562\n",
      "IR1      0.331507\n",
      "other    0.034932\n",
      "Name: proportion, dtype: float64\n",
      "\n",
      "** NEW LotShape created correctly**\n",
      "\n",
      "Value Counts for LandContour after replacement:\n",
      "LandContour\n",
      "Lvl      0.897945\n",
      "Bnk      0.043151\n",
      "HLS      0.034247\n",
      "other    0.024658\n",
      "Name: proportion, dtype: float64\n",
      "\n",
      "** NEW LandContour created correctly**\n",
      "\n",
      "Value Counts for LotConfig after replacement:\n",
      "LotConfig\n",
      "Inside     0.720548\n",
      "Corner     0.180137\n",
      "CulDSac    0.064384\n",
      "FR2        0.032192\n",
      "other      0.002740\n",
      "Name: proportion, dtype: float64\n",
      "\n",
      "** NEW LotConfig created correctly**\n",
      "\n",
      "Value Counts for Neighborhood after replacement:\n",
      "Neighborhood\n",
      "other      0.182192\n",
      "NAmes      0.154110\n",
      "CollgCr    0.102740\n",
      "OldTown    0.077397\n",
      "Edwards    0.068493\n",
      "Somerst    0.058904\n",
      "Gilbert    0.054110\n",
      "NridgHt    0.052740\n",
      "Sawyer     0.050685\n",
      "NWAmes     0.050000\n",
      "SawyerW    0.040411\n",
      "BrkSide    0.039726\n",
      "Crawfor    0.034932\n",
      "Mitchel    0.033562\n",
      "Name: proportion, dtype: float64\n",
      "\n",
      "** NEW Neighborhood created correctly**\n",
      "\n",
      "Value Counts for Condition1 after replacement:\n",
      "Condition1\n",
      "Norm      0.863014\n",
      "Feedr     0.055479\n",
      "other     0.048630\n",
      "Artery    0.032877\n",
      "Name: proportion, dtype: float64\n",
      "\n",
      "** NEW Condition1 created correctly**\n",
      "\n",
      "Value Counts for BldgType after replacement:\n",
      "BldgType\n",
      "1Fam      0.835616\n",
      "TwnhsE    0.078082\n",
      "other     0.050685\n",
      "Duplex    0.035616\n",
      "Name: proportion, dtype: float64\n",
      "\n",
      "** NEW BldgType created correctly**\n",
      "\n",
      "Value Counts for HouseStyle after replacement:\n",
      "HouseStyle\n",
      "1Story    0.497260\n",
      "2Story    0.304795\n",
      "1.5Fin    0.105479\n",
      "other     0.047945\n",
      "SLvl      0.044521\n",
      "Name: proportion, dtype: float64\n",
      "\n",
      "** NEW HouseStyle created correctly**\n",
      "\n",
      "Value Counts for RoofStyle after replacement:\n",
      "RoofStyle\n",
      "Gable    0.781507\n",
      "Hip      0.195890\n",
      "other    0.022603\n",
      "Name: proportion, dtype: float64\n",
      "\n",
      "** NEW RoofStyle created correctly**\n",
      "\n",
      "Value Counts for Exterior1st after replacement:\n",
      "Exterior1st\n",
      "VinylSd    0.352740\n",
      "HdBoard    0.152055\n",
      "MetalSd    0.150685\n",
      "Wd Sdng    0.141096\n",
      "other      0.087671\n",
      "Plywood    0.073973\n",
      "CemntBd    0.041781\n",
      "Name: proportion, dtype: float64\n",
      "\n",
      "** NEW Exterior1st created correctly**\n",
      "\n",
      "Value Counts for Exterior2nd after replacement:\n",
      "Exterior2nd\n",
      "VinylSd    0.345205\n",
      "MetalSd    0.146575\n",
      "HdBoard    0.141781\n",
      "Wd Sdng    0.134932\n",
      "Plywood    0.097260\n",
      "other      0.093151\n",
      "CmentBd    0.041096\n",
      "Name: proportion, dtype: float64\n",
      "\n",
      "** NEW Exterior2nd created correctly**\n",
      "\n",
      "Value Counts for ExterQual after replacement:\n",
      "ExterQual\n",
      "TA       0.620548\n",
      "other    0.379452\n",
      "Name: proportion, dtype: float64\n",
      "\n",
      "** NEW ExterQual created correctly**\n",
      "\n",
      "Value Counts for ExterCond after replacement:\n",
      "ExterCond\n",
      "TA       0.878082\n",
      "other    0.121918\n",
      "Name: proportion, dtype: float64\n",
      "\n",
      "** NEW ExterCond created correctly**\n",
      "\n",
      "Value Counts for Foundation after replacement:\n",
      "Foundation\n",
      "other     0.456849\n",
      "PConc     0.443151\n",
      "BrkTil    0.100000\n",
      "Name: proportion, dtype: float64\n",
      "\n",
      "** NEW Foundation created correctly**\n",
      "\n",
      "Value Counts for BsmtQual after replacement:\n",
      "BsmtQual\n",
      "other    0.555479\n",
      "TA       0.444521\n",
      "Name: proportion, dtype: float64\n",
      "\n",
      "** NEW BsmtQual created correctly**\n",
      "\n",
      "Value Counts for BsmtCond after replacement:\n",
      "BsmtCond\n",
      "TA       0.897945\n",
      "other    0.102055\n",
      "Name: proportion, dtype: float64\n",
      "\n",
      "** NEW BsmtCond created correctly**\n",
      "\n",
      "Value Counts for BsmtFinType1 after replacement:\n",
      "BsmtFinType1\n",
      "Unf      0.294521\n",
      "GLQ      0.286301\n",
      "ALQ      0.150685\n",
      "BLQ      0.101370\n",
      "Rec      0.091096\n",
      "LwQ      0.050685\n",
      "other    0.025342\n",
      "Name: proportion, dtype: float64\n",
      "\n",
      "** NEW BsmtFinType1 created correctly**\n",
      "\n",
      "Value Counts for HeatingQC after replacement:\n",
      "HeatingQC\n",
      "other    0.706849\n",
      "TA       0.293151\n",
      "Name: proportion, dtype: float64\n",
      "\n",
      "** NEW HeatingQC created correctly**\n",
      "\n",
      "Value Counts for KitchenQual after replacement:\n",
      "KitchenQual\n",
      "TA       0.503425\n",
      "other    0.496575\n",
      "Name: proportion, dtype: float64\n",
      "\n",
      "** NEW KitchenQual created correctly**\n",
      "\n",
      "Value Counts for GarageType after replacement:\n",
      "GarageType\n",
      "Attchd     0.595890\n",
      "Detchd     0.265068\n",
      "other      0.078767\n",
      "BuiltIn    0.060274\n",
      "Name: proportion, dtype: float64\n",
      "\n",
      "** NEW GarageType created correctly**\n",
      "\n",
      "Value Counts for GarageFinish after replacement:\n",
      "GarageFinish\n",
      "Unf      0.414384\n",
      "RFn      0.289041\n",
      "Fin      0.241096\n",
      "other    0.055479\n",
      "Name: proportion, dtype: float64\n",
      "\n",
      "** NEW GarageFinish created correctly**\n",
      "\n",
      "Value Counts for GarageQual after replacement:\n",
      "GarageQual\n",
      "TA       0.897945\n",
      "other    0.102055\n",
      "Name: proportion, dtype: float64\n",
      "\n",
      "** NEW GarageQual created correctly**\n",
      "\n",
      "Value Counts for SaleType after replacement:\n",
      "SaleType\n",
      "WD       0.867808\n",
      "New      0.083562\n",
      "other    0.048630\n",
      "Name: proportion, dtype: float64\n",
      "\n",
      "** NEW SaleType created correctly**\n",
      "\n",
      "Value Counts for SaleCondition after replacement:\n",
      "SaleCondition\n",
      "Normal     0.820548\n",
      "Partial    0.085616\n",
      "Abnorml    0.069178\n",
      "other      0.024658\n",
      "Name: proportion, dtype: float64\n",
      "\n",
      "** NEW SaleCondition created correctly**\n"
     ]
    }
   ],
   "source": [
    "#Replace less frequent\n",
    "replace_less_frequent(home_data4, list_col=get_categorical(home_data4), threshold=0.03, new_value='other')"
   ]
  },
  {
   "cell_type": "markdown",
   "id": "00a61898",
   "metadata": {
    "papermill": {
     "duration": 0.024682,
     "end_time": "2024-05-15T22:55:17.567614",
     "exception": false,
     "start_time": "2024-05-15T22:55:17.542932",
     "status": "completed"
    },
    "tags": []
   },
   "source": [
    "# can new variables be created or modified?"
   ]
  },
  {
   "cell_type": "code",
   "execution_count": 19,
   "id": "65caefd2",
   "metadata": {
    "execution": {
     "iopub.execute_input": "2024-05-15T22:55:17.613974Z",
     "iopub.status.busy": "2024-05-15T22:55:17.613365Z",
     "iopub.status.idle": "2024-05-15T22:55:17.621054Z",
     "shell.execute_reply": "2024-05-15T22:55:17.619570Z"
    },
    "papermill": {
     "duration": 0.033774,
     "end_time": "2024-05-15T22:55:17.623530",
     "exception": false,
     "start_time": "2024-05-15T22:55:17.589756",
     "status": "completed"
    },
    "tags": []
   },
   "outputs": [],
   "source": [
    "#MSSubClass to string\n",
    "home_data4['MSSubClass'] = home_data4['MSSubClass'].astype(str)"
   ]
  },
  {
   "cell_type": "code",
   "execution_count": 20,
   "id": "3792d925",
   "metadata": {
    "execution": {
     "iopub.execute_input": "2024-05-15T22:55:17.672200Z",
     "iopub.status.busy": "2024-05-15T22:55:17.671734Z",
     "iopub.status.idle": "2024-05-15T22:55:17.701241Z",
     "shell.execute_reply": "2024-05-15T22:55:17.699972Z"
    },
    "papermill": {
     "duration": 0.058518,
     "end_time": "2024-05-15T22:55:17.704175",
     "exception": false,
     "start_time": "2024-05-15T22:55:17.645657",
     "status": "completed"
    },
    "tags": []
   },
   "outputs": [
    {
     "name": "stdout",
     "output_type": "stream",
     "text": [
      "<class 'pandas.core.frame.DataFrame'>\n",
      "Index: 1460 entries, 1 to 1460\n",
      "Data columns (total 54 columns):\n",
      " #   Column         Non-Null Count  Dtype  \n",
      "---  ------         --------------  -----  \n",
      " 0   MSSubClass     1460 non-null   object \n",
      " 1   MSZoning       1460 non-null   object \n",
      " 2   LotFrontage    1460 non-null   float64\n",
      " 3   LotArea        1460 non-null   int64  \n",
      " 4   LotShape       1460 non-null   object \n",
      " 5   LandContour    1460 non-null   object \n",
      " 6   LotConfig      1460 non-null   object \n",
      " 7   Neighborhood   1460 non-null   object \n",
      " 8   Condition1     1460 non-null   object \n",
      " 9   BldgType       1460 non-null   object \n",
      " 10  HouseStyle     1460 non-null   object \n",
      " 11  OverallQual    1460 non-null   int64  \n",
      " 12  OverallCond    1460 non-null   int64  \n",
      " 13  YearBuilt      1460 non-null   int64  \n",
      " 14  YearRemodAdd   1460 non-null   int64  \n",
      " 15  RoofStyle      1460 non-null   object \n",
      " 16  Exterior1st    1460 non-null   object \n",
      " 17  Exterior2nd    1460 non-null   object \n",
      " 18  MasVnrArea     1460 non-null   float64\n",
      " 19  ExterQual      1460 non-null   object \n",
      " 20  ExterCond      1460 non-null   object \n",
      " 21  Foundation     1460 non-null   object \n",
      " 22  BsmtQual       1460 non-null   object \n",
      " 23  BsmtCond       1460 non-null   object \n",
      " 24  BsmtFinType1   1460 non-null   object \n",
      " 25  BsmtFinSF1     1460 non-null   int64  \n",
      " 26  BsmtFinSF2     1460 non-null   int64  \n",
      " 27  BsmtUnfSF      1460 non-null   int64  \n",
      " 28  TotalBsmtSF    1460 non-null   int64  \n",
      " 29  HeatingQC      1460 non-null   object \n",
      " 30  1stFlrSF       1460 non-null   int64  \n",
      " 31  2ndFlrSF       1460 non-null   int64  \n",
      " 32  GrLivArea      1460 non-null   int64  \n",
      " 33  BsmtFullBath   1460 non-null   int64  \n",
      " 34  FullBath       1460 non-null   int64  \n",
      " 35  HalfBath       1460 non-null   int64  \n",
      " 36  BedroomAbvGr   1460 non-null   int64  \n",
      " 37  KitchenQual    1460 non-null   object \n",
      " 38  TotRmsAbvGrd   1460 non-null   int64  \n",
      " 39  Fireplaces     1460 non-null   int64  \n",
      " 40  GarageType     1460 non-null   object \n",
      " 41  GarageYrBlt    1460 non-null   float64\n",
      " 42  GarageFinish   1460 non-null   object \n",
      " 43  GarageCars     1460 non-null   int64  \n",
      " 44  GarageArea     1460 non-null   int64  \n",
      " 45  GarageQual     1460 non-null   object \n",
      " 46  WoodDeckSF     1460 non-null   int64  \n",
      " 47  OpenPorchSF    1460 non-null   int64  \n",
      " 48  EnclosedPorch  1460 non-null   int64  \n",
      " 49  MoSold         1460 non-null   int64  \n",
      " 50  YrSold         1460 non-null   int64  \n",
      " 51  SaleType       1460 non-null   object \n",
      " 52  SaleCondition  1460 non-null   object \n",
      " 53  SalePrice      1460 non-null   int64  \n",
      "dtypes: float64(3), int64(26), object(25)\n",
      "memory usage: 627.3+ KB\n"
     ]
    }
   ],
   "source": [
    "home_data4.info()"
   ]
  },
  {
   "cell_type": "markdown",
   "id": "706cf8e4",
   "metadata": {
    "_cell_guid": "18ddf2f2-0e80-4383-bfdc-b8e23de5cdce",
    "_uuid": "91c0b401-bc2a-4432-9264-9c035444cf5c",
    "papermill": {
     "duration": 0.022873,
     "end_time": "2024-05-15T22:55:17.750364",
     "exception": false,
     "start_time": "2024-05-15T22:55:17.727491",
     "status": "completed"
    },
    "tags": []
   },
   "source": [
    "## Hot-code categorical features and scale numerical features"
   ]
  },
  {
   "cell_type": "code",
   "execution_count": 21,
   "id": "b4c48562",
   "metadata": {
    "_cell_guid": "a45ef979-4512-4431-b08e-2ade2c2efcfb",
    "_uuid": "2acd2739-3a1d-484d-b5ae-ae5939c0f1f0",
    "collapsed": false,
    "execution": {
     "iopub.execute_input": "2024-05-15T22:55:17.798088Z",
     "iopub.status.busy": "2024-05-15T22:55:17.797697Z",
     "iopub.status.idle": "2024-05-15T22:55:17.804820Z",
     "shell.execute_reply": "2024-05-15T22:55:17.803715Z"
    },
    "jupyter": {
     "outputs_hidden": false
    },
    "papermill": {
     "duration": 0.033778,
     "end_time": "2024-05-15T22:55:17.807395",
     "exception": false,
     "start_time": "2024-05-15T22:55:17.773617",
     "status": "completed"
    },
    "tags": []
   },
   "outputs": [
    {
     "data": {
      "text/plain": [
       "\"l_num = []\\nfor col in home_data4.columns:\\n    if 'Year' not in col and 'Yr' not in col:  # Exclude columns with 'Year' or 'Yr'\\n        if home_data4[col].dtype.kind in ['i', 'f']:  # Check if column is numeric (integer or float)\\n            if len(home_data4[col].unique()) > 10:  # Check if numeric column has 4 or fewer unique values\\n                if col != 'SalePrice':\\n                    l_num.append(col)\""
      ]
     },
     "execution_count": 21,
     "metadata": {},
     "output_type": "execute_result"
    }
   ],
   "source": [
    "\"\"\"l_num = []\n",
    "for col in home_data4.columns:\n",
    "    if 'Year' not in col and 'Yr' not in col:  # Exclude columns with 'Year' or 'Yr'\n",
    "        if home_data4[col].dtype.kind in ['i', 'f']:  # Check if column is numeric (integer or float)\n",
    "            if len(home_data4[col].unique()) > 10:  # Check if numeric column has 4 or fewer unique values\n",
    "                if col != 'SalePrice':\n",
    "                    l_num.append(col)\"\"\""
   ]
  },
  {
   "cell_type": "code",
   "execution_count": 22,
   "id": "1ae2286a",
   "metadata": {
    "_cell_guid": "dd2befc3-22d0-425d-b1d0-e8c8e226ab18",
    "_uuid": "ba989c4a-956b-49b9-a689-3034cfa94595",
    "collapsed": false,
    "execution": {
     "iopub.execute_input": "2024-05-15T22:55:17.854649Z",
     "iopub.status.busy": "2024-05-15T22:55:17.854250Z",
     "iopub.status.idle": "2024-05-15T22:55:17.861399Z",
     "shell.execute_reply": "2024-05-15T22:55:17.860193Z"
    },
    "jupyter": {
     "outputs_hidden": false
    },
    "papermill": {
     "duration": 0.034478,
     "end_time": "2024-05-15T22:55:17.864048",
     "exception": false,
     "start_time": "2024-05-15T22:55:17.829570",
     "status": "completed"
    },
    "tags": []
   },
   "outputs": [
    {
     "data": {
      "text/plain": [
       "'Minmax scale of numeric variables\\nfrom sklearn.preprocessing import MinMaxScaler\\nscaler = MinMaxScaler()\\n      \\n# scale numerical variables\\nhome_data4[l_num] = scaler.fit_transform(home_data4[l_num])'"
      ]
     },
     "execution_count": 22,
     "metadata": {},
     "output_type": "execute_result"
    }
   ],
   "source": [
    "\"\"\"Minmax scale of numeric variables\n",
    "from sklearn.preprocessing import MinMaxScaler\n",
    "scaler = MinMaxScaler()\n",
    "      \n",
    "# scale numerical variables\n",
    "home_data4[l_num] = scaler.fit_transform(home_data4[l_num])\"\"\""
   ]
  },
  {
   "cell_type": "markdown",
   "id": "475756cb",
   "metadata": {
    "_cell_guid": "f0f57550-e050-4fbc-b241-25e361b036bc",
    "_uuid": "144dbb25-5928-4f91-94dd-e29c002e6f69",
    "papermill": {
     "duration": 0.022881,
     "end_time": "2024-05-15T22:55:17.911219",
     "exception": false,
     "start_time": "2024-05-15T22:55:17.888338",
     "status": "completed"
    },
    "tags": []
   },
   "source": [
    "# Target encoding of categorical variables with more than 4 categories"
   ]
  },
  {
   "cell_type": "code",
   "execution_count": 23,
   "id": "211e9dec",
   "metadata": {
    "_cell_guid": "7efb329a-b487-4620-af83-0469fc7cf913",
    "_uuid": "1c9b0bdd-c67f-4822-80f8-39ece0b96e7b",
    "collapsed": false,
    "execution": {
     "iopub.execute_input": "2024-05-15T22:55:17.960333Z",
     "iopub.status.busy": "2024-05-15T22:55:17.959931Z",
     "iopub.status.idle": "2024-05-15T22:55:17.965135Z",
     "shell.execute_reply": "2024-05-15T22:55:17.963826Z"
    },
    "jupyter": {
     "outputs_hidden": false
    },
    "papermill": {
     "duration": 0.033246,
     "end_time": "2024-05-15T22:55:17.967833",
     "exception": false,
     "start_time": "2024-05-15T22:55:17.934587",
     "status": "completed"
    },
    "tags": []
   },
   "outputs": [],
   "source": [
    "#home_data5 = home_data4.copy()"
   ]
  },
  {
   "cell_type": "code",
   "execution_count": 24,
   "id": "c8dcf82a",
   "metadata": {
    "_cell_guid": "9e1fdfbd-a782-4df2-8b60-234c16ee2b10",
    "_uuid": "ef4a65b9-af96-4b91-86dc-eada4abfb870",
    "collapsed": false,
    "execution": {
     "iopub.execute_input": "2024-05-15T22:55:18.015445Z",
     "iopub.status.busy": "2024-05-15T22:55:18.015029Z",
     "iopub.status.idle": "2024-05-15T22:55:18.022959Z",
     "shell.execute_reply": "2024-05-15T22:55:18.021742Z"
    },
    "jupyter": {
     "outputs_hidden": false
    },
    "papermill": {
     "duration": 0.034759,
     "end_time": "2024-05-15T22:55:18.025546",
     "exception": false,
     "start_time": "2024-05-15T22:55:17.990787",
     "status": "completed"
    },
    "tags": []
   },
   "outputs": [
    {
     "data": {
      "text/plain": [
       "\" Drop the target variable from X\\nX = home_data5.drop('SalePrice', axis=1)\\ny = home_data5['SalePrice']\\n\\n# Initialize an empty dictionary to store encoders for later use\\nencoders = {}\\n\\n# Target encode categorical variables with more than 3 unique values\\nfor col in X.select_dtypes(include=['object']).columns:\\n    if len(X[col].unique()) > 3:\\n        # Initialize the encoder\\n        encoder = TargetEncoder()\\n        # Fit the encoder\\n        encoder.fit(X[col], y)\\n        # Store the trained encoder\\n        encoders[col] = encoder\""
      ]
     },
     "execution_count": 24,
     "metadata": {},
     "output_type": "execute_result"
    }
   ],
   "source": [
    "\"\"\" Drop the target variable from X\n",
    "X = home_data5.drop('SalePrice', axis=1)\n",
    "y = home_data5['SalePrice']\n",
    "\n",
    "# Initialize an empty dictionary to store encoders for later use\n",
    "encoders = {}\n",
    "\n",
    "# Target encode categorical variables with more than 3 unique values\n",
    "for col in X.select_dtypes(include=['object']).columns:\n",
    "    if len(X[col].unique()) > 3:\n",
    "        # Initialize the encoder\n",
    "        encoder = TargetEncoder()\n",
    "        # Fit the encoder\n",
    "        encoder.fit(X[col], y)\n",
    "        # Store the trained encoder\n",
    "        encoders[col] = encoder\"\"\""
   ]
  },
  {
   "cell_type": "code",
   "execution_count": 25,
   "id": "cf7668af",
   "metadata": {
    "_cell_guid": "76402280-1c55-4900-aaff-bf0fba6d67f1",
    "_uuid": "e3848181-c598-453a-b4cf-3c84fd0fbae5",
    "collapsed": false,
    "execution": {
     "iopub.execute_input": "2024-05-15T22:55:18.072703Z",
     "iopub.status.busy": "2024-05-15T22:55:18.072281Z",
     "iopub.status.idle": "2024-05-15T22:55:18.080716Z",
     "shell.execute_reply": "2024-05-15T22:55:18.079138Z"
    },
    "jupyter": {
     "outputs_hidden": false
    },
    "papermill": {
     "duration": 0.03553,
     "end_time": "2024-05-15T22:55:18.083566",
     "exception": false,
     "start_time": "2024-05-15T22:55:18.048036",
     "status": "completed"
    },
    "tags": []
   },
   "outputs": [
    {
     "data": {
      "text/plain": [
       "\" Apply the trained encoders from 'home_data5' to 'home_data5'\\nfor col, encoder in encoders.items():\\n    if col in home_data5.columns:\\n        home_data5[col] = encoder.transform(home_data5[col])\""
      ]
     },
     "execution_count": 25,
     "metadata": {},
     "output_type": "execute_result"
    }
   ],
   "source": [
    "\"\"\" Apply the trained encoders from 'home_data5' to 'home_data5'\n",
    "for col, encoder in encoders.items():\n",
    "    if col in home_data5.columns:\n",
    "        home_data5[col] = encoder.transform(home_data5[col])\"\"\""
   ]
  },
  {
   "cell_type": "markdown",
   "id": "d8a31b67",
   "metadata": {
    "papermill": {
     "duration": 0.022717,
     "end_time": "2024-05-15T22:55:18.129050",
     "exception": false,
     "start_time": "2024-05-15T22:55:18.106333",
     "status": "completed"
    },
    "tags": []
   },
   "source": [
    "# Dummies"
   ]
  },
  {
   "cell_type": "code",
   "execution_count": 26,
   "id": "efdc51db",
   "metadata": {
    "_cell_guid": "b85fecfb-2d5d-4e13-ae13-3bb9e33d034c",
    "_uuid": "df5c97b4-6781-4b62-ae73-3176bdf1ce68",
    "collapsed": false,
    "execution": {
     "iopub.execute_input": "2024-05-15T22:55:18.179398Z",
     "iopub.status.busy": "2024-05-15T22:55:18.178962Z",
     "iopub.status.idle": "2024-05-15T22:55:18.213913Z",
     "shell.execute_reply": "2024-05-15T22:55:18.212575Z"
    },
    "jupyter": {
     "outputs_hidden": false
    },
    "papermill": {
     "duration": 0.06254,
     "end_time": "2024-05-15T22:55:18.216950",
     "exception": false,
     "start_time": "2024-05-15T22:55:18.154410",
     "status": "completed"
    },
    "tags": []
   },
   "outputs": [],
   "source": [
    "# create dummy variables\n",
    "home_data_dummies = pd.get_dummies(home_data4, columns=get_categorical(home_data4), dtype='int32')"
   ]
  },
  {
   "cell_type": "markdown",
   "id": "6a87f7fe",
   "metadata": {
    "_cell_guid": "447d5480-8a56-4d6b-9986-9bf83e1cd30c",
    "_uuid": "e7ff4c2a-71ce-41f8-b825-d6f222402f23",
    "papermill": {
     "duration": 0.022552,
     "end_time": "2024-05-15T22:55:18.264388",
     "exception": false,
     "start_time": "2024-05-15T22:55:18.241836",
     "status": "completed"
    },
    "tags": []
   },
   "source": [
    "## Correlation and elimination of features"
   ]
  },
  {
   "cell_type": "code",
   "execution_count": 27,
   "id": "5d67e590",
   "metadata": {
    "_cell_guid": "eadceebc-89df-43c0-971f-0daee367bcbd",
    "_uuid": "51c2b24d-c7d9-4229-bee2-8cea079295d5",
    "collapsed": false,
    "execution": {
     "iopub.execute_input": "2024-05-15T22:55:18.313102Z",
     "iopub.status.busy": "2024-05-15T22:55:18.312691Z",
     "iopub.status.idle": "2024-05-15T22:55:18.491361Z",
     "shell.execute_reply": "2024-05-15T22:55:18.490058Z"
    },
    "jupyter": {
     "outputs_hidden": false
    },
    "papermill": {
     "duration": 0.205993,
     "end_time": "2024-05-15T22:55:18.494277",
     "exception": false,
     "start_time": "2024-05-15T22:55:18.288284",
     "status": "completed"
    },
    "tags": []
   },
   "outputs": [],
   "source": [
    "corr_matrix = home_data_dummies.corr()\n",
    "\n",
    "# Transform the upper-right triangle to zeros\n",
    "upper_triangle_mask = np.triu(np.ones(corr_matrix.shape), k=1).astype(bool)\n",
    "corr_matrix_upper_zero = corr_matrix.mask(upper_triangle_mask)\n",
    "\n",
    "# Print the pairs of correlated variables to SalePrice\n",
    "corr_result = corr_matrix_upper_zero.unstack().sort_values(ascending=False)\n",
    "corr_result_df = corr_result.reset_index()"
   ]
  },
  {
   "cell_type": "code",
   "execution_count": 28,
   "id": "65ab1515",
   "metadata": {
    "_cell_guid": "996b561b-3da4-4153-84b5-36986917d704",
    "_uuid": "c3b97de5-968a-422e-9194-90b906df5cfb",
    "collapsed": false,
    "execution": {
     "iopub.execute_input": "2024-05-15T22:55:18.541875Z",
     "iopub.status.busy": "2024-05-15T22:55:18.541428Z",
     "iopub.status.idle": "2024-05-15T22:55:18.560306Z",
     "shell.execute_reply": "2024-05-15T22:55:18.558888Z"
    },
    "jupyter": {
     "outputs_hidden": false
    },
    "papermill": {
     "duration": 0.04639,
     "end_time": "2024-05-15T22:55:18.563497",
     "exception": false,
     "start_time": "2024-05-15T22:55:18.517107",
     "status": "completed"
    },
    "tags": []
   },
   "outputs": [
    {
     "name": "stdout",
     "output_type": "stream",
     "text": [
      "            level_0               level_1        0\n",
      "      MSSubClass_90       BldgType_Duplex 1.000000\n",
      "       SaleType_New SaleCondition_Partial 0.986819\n",
      "Exterior1st_VinylSd   Exterior2nd_VinylSd 0.977525\n",
      "Exterior1st_CemntBd   Exterior2nd_CmentBd 0.974171\n",
      "Exterior1st_MetalSd   Exterior2nd_MetalSd 0.973065\n",
      "      MSSubClass_80       HouseStyle_SLvl 0.942259\n",
      "      MSSubClass_50     HouseStyle_1.5Fin 0.940871\n",
      "Exterior1st_HdBoard   Exterior2nd_HdBoard 0.883271\n",
      "         GarageCars            GarageArea 0.882475\n",
      "        MSZoning_FV  Neighborhood_Somerst 0.862807\n",
      "Exterior1st_Wd Sdng   Exterior2nd_Wd Sdng 0.859244\n",
      "          YearBuilt           GarageYrBlt 0.845141\n",
      "   GarageType_other    GarageFinish_other 0.828844\n",
      "          GrLivArea          TotRmsAbvGrd 0.825489\n",
      "        TotalBsmtSF              1stFlrSF 0.819530\n",
      "           2ndFlrSF     HouseStyle_2Story 0.809150\n",
      "        OverallQual             SalePrice 0.790982\n",
      "     MSSubClass_120       BldgType_TwnhsE 0.778684\n",
      "      MSSubClass_60     HouseStyle_2Story 0.762743\n",
      "      MSSubClass_20     HouseStyle_1Story 0.760135\n",
      "Exterior1st_Plywood   Exterior2nd_Plywood 0.755085\n",
      " GarageFinish_other      GarageQual_other 0.718900\n",
      "          GrLivArea             SalePrice 0.708624\n",
      "  Exterior1st_other     Exterior2nd_other 0.692248\n",
      "           2ndFlrSF             GrLivArea 0.687501\n",
      "           2ndFlrSF         MSSubClass_60 0.687063\n",
      "       BedroomAbvGr          TotRmsAbvGrd 0.676620\n",
      "    ExterQual_other     KitchenQual_other 0.671600\n",
      "       ExterQual_TA        KitchenQual_TA 0.671600\n",
      "          YearBuilt      Foundation_PConc 0.651199\n",
      "         BsmtFinSF1          BsmtFullBath 0.649212\n",
      "        OverallQual       ExterQual_other 0.646247\n",
      "         GarageCars             SalePrice 0.640409\n",
      "        GarageYrBlt      Foundation_PConc 0.637745\n",
      "        SaleType_WD  SaleCondition_Normal 0.634322\n",
      "          YearBuilt        BsmtQual_other 0.631734\n",
      "          GrLivArea              FullBath 0.630012\n",
      "     MSSubClass_190        BldgType_other 0.626842\n",
      "   GarageType_other      GarageQual_other 0.623771\n",
      "         GarageArea             SalePrice 0.623431\n",
      "           HalfBath     HouseStyle_2Story 0.623399\n",
      "    ExterQual_other      Foundation_PConc 0.620836\n",
      "        GarageYrBlt            GarageCars 0.619897\n",
      "           2ndFlrSF          TotRmsAbvGrd 0.616423\n",
      "        TotalBsmtSF             SalePrice 0.613581\n",
      "  GarageType_Detchd      GarageFinish_Unf 0.609983\n",
      "           2ndFlrSF              HalfBath 0.609707\n",
      "           HalfBath         MSSubClass_60 0.606095\n",
      "           1stFlrSF             SalePrice 0.605852\n",
      "       YearRemodAdd           GarageYrBlt 0.604353\n"
     ]
    }
   ],
   "source": [
    "print(corr_result_df[corr_result_df['level_0'] != corr_result_df['level_1']].head(50).to_string(index=False))"
   ]
  },
  {
   "cell_type": "code",
   "execution_count": 29,
   "id": "8c3d86b5",
   "metadata": {
    "_cell_guid": "385cb235-b137-4ca0-9b8d-bb34bbac46dc",
    "_uuid": "e6c54d1f-90a0-4d86-a4d3-cfa95cd605e5",
    "collapsed": false,
    "execution": {
     "iopub.execute_input": "2024-05-15T22:55:18.612644Z",
     "iopub.status.busy": "2024-05-15T22:55:18.612221Z",
     "iopub.status.idle": "2024-05-15T22:55:18.628253Z",
     "shell.execute_reply": "2024-05-15T22:55:18.626636Z"
    },
    "jupyter": {
     "outputs_hidden": false
    },
    "papermill": {
     "duration": 0.04386,
     "end_time": "2024-05-15T22:55:18.630844",
     "exception": false,
     "start_time": "2024-05-15T22:55:18.586984",
     "status": "completed"
    },
    "tags": []
   },
   "outputs": [
    {
     "data": {
      "text/html": [
       "<div>\n",
       "<style scoped>\n",
       "    .dataframe tbody tr th:only-of-type {\n",
       "        vertical-align: middle;\n",
       "    }\n",
       "\n",
       "    .dataframe tbody tr th {\n",
       "        vertical-align: top;\n",
       "    }\n",
       "\n",
       "    .dataframe thead th {\n",
       "        text-align: right;\n",
       "    }\n",
       "</style>\n",
       "<table border=\"1\" class=\"dataframe\">\n",
       "  <thead>\n",
       "    <tr style=\"text-align: right;\">\n",
       "      <th></th>\n",
       "      <th>level_0</th>\n",
       "      <th>level_1</th>\n",
       "      <th>0</th>\n",
       "    </tr>\n",
       "  </thead>\n",
       "  <tbody>\n",
       "    <tr>\n",
       "      <th>4703</th>\n",
       "      <td>MSSubClass_85</td>\n",
       "      <td>Neighborhood_NWAmes</td>\n",
       "      <td>-2.805299e-18</td>\n",
       "    </tr>\n",
       "    <tr>\n",
       "      <th>4704</th>\n",
       "      <td>Neighborhood_Mitchel</td>\n",
       "      <td>BsmtCond_other</td>\n",
       "      <td>-8.604863e-06</td>\n",
       "    </tr>\n",
       "    <tr>\n",
       "      <th>4705</th>\n",
       "      <td>Neighborhood_Mitchel</td>\n",
       "      <td>GarageQual_other</td>\n",
       "      <td>-8.604863e-06</td>\n",
       "    </tr>\n",
       "    <tr>\n",
       "      <th>4706</th>\n",
       "      <td>HalfBath</td>\n",
       "      <td>Condition1_Feedr</td>\n",
       "      <td>-7.745614e-05</td>\n",
       "    </tr>\n",
       "    <tr>\n",
       "      <th>4707</th>\n",
       "      <td>Neighborhood_Gilbert</td>\n",
       "      <td>Exterior1st_HdBoard</td>\n",
       "      <td>-1.039502e-04</td>\n",
       "    </tr>\n",
       "  </tbody>\n",
       "</table>\n",
       "</div>"
      ],
      "text/plain": [
       "                   level_0              level_1             0\n",
       "4703         MSSubClass_85  Neighborhood_NWAmes -2.805299e-18\n",
       "4704  Neighborhood_Mitchel       BsmtCond_other -8.604863e-06\n",
       "4705  Neighborhood_Mitchel     GarageQual_other -8.604863e-06\n",
       "4706              HalfBath     Condition1_Feedr -7.745614e-05\n",
       "4707  Neighborhood_Gilbert  Exterior1st_HdBoard -1.039502e-04"
      ]
     },
     "execution_count": 29,
     "metadata": {},
     "output_type": "execute_result"
    }
   ],
   "source": [
    "corr_result_df[corr_result_df[0] < 0].head()"
   ]
  },
  {
   "cell_type": "code",
   "execution_count": 30,
   "id": "374063e8",
   "metadata": {
    "_cell_guid": "5f427ad2-efba-49af-be11-63f8af3b8027",
    "_uuid": "9dcd88cd-30cb-426a-83fc-1ffdca908d60",
    "collapsed": false,
    "execution": {
     "iopub.execute_input": "2024-05-15T22:55:18.684576Z",
     "iopub.status.busy": "2024-05-15T22:55:18.684147Z",
     "iopub.status.idle": "2024-05-15T22:55:18.692934Z",
     "shell.execute_reply": "2024-05-15T22:55:18.691766Z"
    },
    "jupyter": {
     "outputs_hidden": false
    },
    "papermill": {
     "duration": 0.038729,
     "end_time": "2024-05-15T22:55:18.695448",
     "exception": false,
     "start_time": "2024-05-15T22:55:18.656719",
     "status": "completed"
    },
    "tags": []
   },
   "outputs": [],
   "source": [
    "# Get features with np.abs(corr to price) > 0.4\n",
    "\n",
    "corr_result_df.columns = ['feature_1', 'feature_2', 'corr']\n",
    "high_corr_features = corr_result_df[(np.abs(corr_result_df['corr']) > 0.2) & (np.abs(corr_result_df['corr']) < 0.8)]\n",
    "\n",
    "high_corr_features_unique = set(high_corr_features['feature_1'].tolist() + high_corr_features['feature_2'].tolist())"
   ]
  },
  {
   "cell_type": "code",
   "execution_count": 31,
   "id": "b909c21a",
   "metadata": {
    "_cell_guid": "5151e33c-da75-402d-8262-a3dc08080cc0",
    "_uuid": "060b4d46-a547-4f84-83d6-89fc54a5300d",
    "collapsed": false,
    "execution": {
     "iopub.execute_input": "2024-05-15T22:55:18.743937Z",
     "iopub.status.busy": "2024-05-15T22:55:18.743499Z",
     "iopub.status.idle": "2024-05-15T22:55:18.750356Z",
     "shell.execute_reply": "2024-05-15T22:55:18.749477Z"
    },
    "jupyter": {
     "outputs_hidden": false
    },
    "papermill": {
     "duration": 0.034226,
     "end_time": "2024-05-15T22:55:18.752978",
     "exception": false,
     "start_time": "2024-05-15T22:55:18.718752",
     "status": "completed"
    },
    "tags": []
   },
   "outputs": [
    {
     "data": {
      "text/plain": [
       "136"
      ]
     },
     "execution_count": 31,
     "metadata": {},
     "output_type": "execute_result"
    }
   ],
   "source": [
    "len(high_corr_features_unique)"
   ]
  },
  {
   "cell_type": "code",
   "execution_count": 32,
   "id": "200a0262",
   "metadata": {
    "_cell_guid": "6771400f-b195-4bb3-b6ef-c2d639bf56ed",
    "_uuid": "3fd86b04-7a0f-4953-80ba-0a1e00422eda",
    "collapsed": false,
    "execution": {
     "iopub.execute_input": "2024-05-15T22:55:18.803039Z",
     "iopub.status.busy": "2024-05-15T22:55:18.802635Z",
     "iopub.status.idle": "2024-05-15T22:55:18.807424Z",
     "shell.execute_reply": "2024-05-15T22:55:18.806198Z"
    },
    "jupyter": {
     "outputs_hidden": false
    },
    "papermill": {
     "duration": 0.032392,
     "end_time": "2024-05-15T22:55:18.809959",
     "exception": false,
     "start_time": "2024-05-15T22:55:18.777567",
     "status": "completed"
    },
    "tags": []
   },
   "outputs": [],
   "source": [
    "high_corr_features_unique.remove('SalePrice')"
   ]
  },
  {
   "cell_type": "markdown",
   "id": "57d61df2",
   "metadata": {
    "_cell_guid": "45ce7cf2-e9a2-4817-b4f3-2fedc43607ee",
    "_uuid": "c7279d54-5aac-4ec7-a9e9-a488f80ea952",
    "papermill": {
     "duration": 0.02429,
     "end_time": "2024-05-15T22:55:18.858521",
     "exception": false,
     "start_time": "2024-05-15T22:55:18.834231",
     "status": "completed"
    },
    "tags": []
   },
   "source": [
    "## Optimizing model"
   ]
  },
  {
   "cell_type": "markdown",
   "id": "7a43a023",
   "metadata": {
    "_cell_guid": "fa2ec5fb-89ca-44f6-859e-6d0bcf807dad",
    "_uuid": "08ce5dbd-bc91-4946-bb1d-351a6acb5851",
    "papermill": {
     "duration": 0.023445,
     "end_time": "2024-05-15T22:55:18.906785",
     "exception": false,
     "start_time": "2024-05-15T22:55:18.883340",
     "status": "completed"
    },
    "tags": []
   },
   "source": [
    "### Cleaning test data"
   ]
  },
  {
   "cell_type": "code",
   "execution_count": 33,
   "id": "e899a5b6",
   "metadata": {
    "_cell_guid": "37613c41-b9b8-4d17-aaec-879ca5769523",
    "_uuid": "fdbf9a83-b9fe-4c35-b3a0-edc543c84725",
    "collapsed": false,
    "execution": {
     "iopub.execute_input": "2024-05-15T22:55:18.957416Z",
     "iopub.status.busy": "2024-05-15T22:55:18.956963Z",
     "iopub.status.idle": "2024-05-15T22:55:18.994635Z",
     "shell.execute_reply": "2024-05-15T22:55:18.993353Z"
    },
    "jupyter": {
     "outputs_hidden": false
    },
    "papermill": {
     "duration": 0.066899,
     "end_time": "2024-05-15T22:55:18.997663",
     "exception": false,
     "start_time": "2024-05-15T22:55:18.930764",
     "status": "completed"
    },
    "tags": []
   },
   "outputs": [],
   "source": [
    "test_data = pd.read_csv(test_data_path)\n",
    "test_data.set_index('Id', inplace=True)"
   ]
  },
  {
   "cell_type": "code",
   "execution_count": 34,
   "id": "41a78383",
   "metadata": {
    "execution": {
     "iopub.execute_input": "2024-05-15T22:55:19.050708Z",
     "iopub.status.busy": "2024-05-15T22:55:19.050194Z",
     "iopub.status.idle": "2024-05-15T22:55:19.300734Z",
     "shell.execute_reply": "2024-05-15T22:55:19.299071Z"
    },
    "papermill": {
     "duration": 0.281138,
     "end_time": "2024-05-15T22:55:19.305142",
     "exception": false,
     "start_time": "2024-05-15T22:55:19.024004",
     "status": "completed"
    },
    "tags": []
   },
   "outputs": [
    {
     "name": "stderr",
     "output_type": "stream",
     "text": [
      "/tmp/ipykernel_18/605756754.py:64: DeprecationWarning: is_categorical_dtype is deprecated and will be removed in a future version. Use isinstance(dtype, pd.CategoricalDtype) instead\n",
      "  elif df[col].isnull().sum() > 0 and fill_categorical_with_mode and pd.api.types.is_categorical_dtype(df[col]):\n"
     ]
    },
    {
     "name": "stdout",
     "output_type": "stream",
     "text": [
      "\n",
      "Value Counts for MSZoning after replacement:\n",
      "MSZoning\n",
      "RL       0.763537\n",
      "RM       0.165867\n",
      "FV       0.050720\n",
      "other    0.019877\n",
      "Name: proportion, dtype: float64\n",
      "\n",
      "** NEW MSZoning created correctly**\n",
      "\n",
      "Value Counts for LotShape after replacement:\n",
      "LotShape\n",
      "Reg      0.640164\n",
      "IR1      0.331734\n",
      "other    0.028101\n",
      "Name: proportion, dtype: float64\n",
      "\n",
      "** NEW LotShape created correctly**\n",
      "\n",
      "Value Counts for LandContour after replacement:\n",
      "LandContour\n",
      "Lvl      0.898561\n",
      "HLS      0.047978\n",
      "Bnk      0.037012\n",
      "other    0.016450\n",
      "Name: proportion, dtype: float64\n",
      "\n",
      "** NEW LandContour created correctly**\n",
      "\n",
      "Value Counts for LotConfig after replacement:\n",
      "LotConfig\n",
      "Inside     0.740918\n",
      "Corner     0.169979\n",
      "CulDSac    0.056203\n",
      "other      0.032899\n",
      "Name: proportion, dtype: float64\n",
      "\n",
      "** NEW LotConfig created correctly**\n",
      "\n",
      "Value Counts for Neighborhood after replacement:\n",
      "Neighborhood\n",
      "NAmes      0.149417\n",
      "other      0.143249\n",
      "OldTown    0.086361\n",
      "CollgCr    0.080192\n",
      "Somerst    0.065798\n",
      "Edwards    0.064428\n",
      "NridgHt    0.061001\n",
      "Gilbert    0.058944\n",
      "Sawyer     0.052776\n",
      "SawyerW    0.045236\n",
      "Mitchel    0.044551\n",
      "NWAmes     0.039753\n",
      "IDOTRR     0.038382\n",
      "Crawfor    0.035641\n",
      "BrkSide    0.034270\n",
      "Name: proportion, dtype: float64\n",
      "\n",
      "** NEW Neighborhood created correctly**\n",
      "\n",
      "Value Counts for Condition1 after replacement:\n",
      "Condition1\n",
      "Norm      0.857437\n",
      "Feedr     0.056888\n",
      "other     0.055517\n",
      "Artery    0.030158\n",
      "Name: proportion, dtype: float64\n",
      "\n",
      "** NEW Condition1 created correctly**\n",
      "\n",
      "Value Counts for BldgType after replacement:\n",
      "BldgType\n",
      "1Fam      0.825908\n",
      "TwnhsE    0.077450\n",
      "Duplex    0.039068\n",
      "Twnhs     0.036326\n",
      "other     0.021247\n",
      "Name: proportion, dtype: float64\n",
      "\n",
      "** NEW BldgType created correctly**\n",
      "\n",
      "Value Counts for HouseStyle after replacement:\n",
      "HouseStyle\n",
      "1Story    0.510624\n",
      "2Story    0.292666\n",
      "1.5Fin    0.109664\n",
      "SLvl      0.043180\n",
      "SFoyer    0.031528\n",
      "other     0.012337\n",
      "Name: proportion, dtype: float64\n",
      "\n",
      "** NEW HouseStyle created correctly**\n",
      "\n",
      "Value Counts for RoofStyle after replacement:\n",
      "RoofStyle\n",
      "Gable    0.801234\n",
      "Hip      0.181631\n",
      "other    0.017135\n",
      "Name: proportion, dtype: float64\n",
      "\n",
      "** NEW RoofStyle created correctly**\n",
      "\n",
      "Value Counts for Exterior1st after replacement:\n",
      "Exterior1st\n",
      "VinylSd    0.349554\n",
      "MetalSd    0.157642\n",
      "HdBoard    0.150788\n",
      "Wd Sdng    0.140507\n",
      "other      0.079507\n",
      "Plywood    0.077450\n",
      "CemntBd    0.044551\n",
      "Name: proportion, dtype: float64\n",
      "\n",
      "** NEW Exterior1st created correctly**\n",
      "\n",
      "Value Counts for Exterior2nd after replacement:\n",
      "Exterior2nd\n",
      "VinylSd    0.349554\n",
      "MetalSd    0.159698\n",
      "HdBoard    0.136395\n",
      "Wd Sdng    0.132968\n",
      "other      0.088417\n",
      "Plywood    0.087731\n",
      "CmentBd    0.045236\n",
      "Name: proportion, dtype: float64\n",
      "\n",
      "** NEW Exterior2nd created correctly**\n",
      "\n",
      "Value Counts for ExterQual after replacement:\n",
      "ExterQual\n",
      "TA       0.611378\n",
      "other    0.388622\n",
      "Name: proportion, dtype: float64\n",
      "\n",
      "** NEW ExterQual created correctly**\n",
      "\n",
      "Value Counts for ExterCond after replacement:\n",
      "ExterCond\n",
      "TA       0.860864\n",
      "other    0.139136\n",
      "Name: proportion, dtype: float64\n",
      "\n",
      "** NEW ExterCond created correctly**\n",
      "\n",
      "Value Counts for Foundation after replacement:\n",
      "Foundation\n",
      "PConc     0.453050\n",
      "other     0.433859\n",
      "BrkTil    0.113091\n",
      "Name: proportion, dtype: float64\n",
      "\n",
      "** NEW Foundation created correctly**\n",
      "\n",
      "Value Counts for BsmtQual after replacement:\n",
      "BsmtQual\n",
      "other    0.565456\n",
      "TA       0.434544\n",
      "Name: proportion, dtype: float64\n",
      "\n",
      "** NEW BsmtQual created correctly**\n",
      "\n",
      "Value Counts for BsmtCond after replacement:\n",
      "BsmtCond\n",
      "TA       0.887594\n",
      "other    0.112406\n",
      "Name: proportion, dtype: float64\n",
      "\n",
      "** NEW BsmtCond created correctly**\n",
      "\n",
      "Value Counts for BsmtFinType1 after replacement:\n",
      "BsmtFinType1\n",
      "GLQ      0.295408\n",
      "Unf      0.288554\n",
      "ALQ      0.143249\n",
      "Rec      0.106237\n",
      "BLQ      0.082934\n",
      "LwQ      0.054832\n",
      "other    0.028787\n",
      "Name: proportion, dtype: float64\n",
      "\n",
      "** NEW BsmtFinType1 created correctly**\n",
      "\n",
      "Value Counts for HeatingQC after replacement:\n",
      "HeatingQC\n",
      "other    0.705963\n",
      "TA       0.294037\n",
      "Name: proportion, dtype: float64\n",
      "\n",
      "** NEW HeatingQC created correctly**\n",
      "\n",
      "Value Counts for KitchenQual after replacement:\n",
      "KitchenQual\n",
      "TA       0.518849\n",
      "other    0.481151\n",
      "Name: proportion, dtype: float64\n",
      "\n",
      "** NEW KitchenQual created correctly**\n",
      "\n",
      "Value Counts for GarageType after replacement:\n",
      "GarageType\n",
      "Attchd     0.584647\n",
      "Detchd     0.268677\n",
      "other      0.079507\n",
      "BuiltIn    0.067169\n",
      "Name: proportion, dtype: float64\n",
      "\n",
      "** NEW GarageType created correctly**\n",
      "\n",
      "Value Counts for GarageFinish after replacement:\n",
      "GarageFinish\n",
      "Unf      0.428376\n",
      "RFn      0.266621\n",
      "Fin      0.251542\n",
      "other    0.053461\n",
      "Name: proportion, dtype: float64\n",
      "\n",
      "** NEW GarageFinish created correctly**\n",
      "\n",
      "Value Counts for GarageQual after replacement:\n",
      "GarageQual\n",
      "TA       0.886223\n",
      "other    0.113777\n",
      "Name: proportion, dtype: float64\n",
      "\n",
      "** NEW GarageQual created correctly**\n",
      "\n",
      "Value Counts for PavedDrive after replacement:\n",
      "PavedDrive\n",
      "Y        0.891707\n",
      "N        0.086361\n",
      "other    0.021933\n",
      "Name: proportion, dtype: float64\n",
      "\n",
      "** NEW PavedDrive created correctly**\n",
      "\n",
      "Value Counts for SaleType after replacement:\n",
      "SaleType\n",
      "WD       0.862234\n",
      "New      0.080192\n",
      "COD      0.030158\n",
      "other    0.027416\n",
      "Name: proportion, dtype: float64\n",
      "\n",
      "** NEW SaleType created correctly**\n",
      "\n",
      "Value Counts for SaleCondition after replacement:\n",
      "SaleCondition\n",
      "Normal     0.825223\n",
      "Partial    0.082248\n",
      "Abnorml    0.061001\n",
      "other      0.031528\n",
      "Name: proportion, dtype: float64\n",
      "\n",
      "** NEW SaleCondition created correctly**\n"
     ]
    }
   ],
   "source": [
    "drop_columns_nan(test_data, threshold=300)\n",
    "\n",
    "test_data['MasVnrArea'] = test_data['MasVnrArea'].fillna(0)\n",
    "test_data['GarageYrBlt'] = test_data['GarageYrBlt'].fillna(test_data['YearBuilt'])\n",
    "#test_data['LotFrontage'] = test_data['LotFrontage'].fillna(test_data['LotFrontage'].mean())\n",
    "\n",
    "test_data['GarageType'] = test_data['GarageType'].fillna('non-existent')\n",
    "del(test_data['BsmtExposure'])\n",
    "del(test_data['BsmtFinType2'])\n",
    "\n",
    "impute_nan_custom(test_data, method_numerical='mean', value_categorical='non-existent', fill_categorical_with_mode=True)\n",
    "\n",
    "drop_notinformative(test_data, threshold=0.9)\n",
    "\n",
    "replace_less_frequent(test_data, list_col=get_categorical(test_data), threshold=0.03, new_value='other')\n",
    "\n",
    "test_data['MSSubClass'] = test_data['MSSubClass'].astype(str)\n",
    "\n",
    "test_data_dummies = pd.get_dummies(test_data, columns=get_categorical(test_data), dtype='int32')"
   ]
  },
  {
   "cell_type": "code",
   "execution_count": 35,
   "id": "d403ae49",
   "metadata": {
    "execution": {
     "iopub.execute_input": "2024-05-15T22:55:19.357597Z",
     "iopub.status.busy": "2024-05-15T22:55:19.357158Z",
     "iopub.status.idle": "2024-05-15T22:55:19.384831Z",
     "shell.execute_reply": "2024-05-15T22:55:19.383558Z"
    },
    "papermill": {
     "duration": 0.057031,
     "end_time": "2024-05-15T22:55:19.387573",
     "exception": false,
     "start_time": "2024-05-15T22:55:19.330542",
     "status": "completed"
    },
    "tags": []
   },
   "outputs": [
    {
     "data": {
      "text/html": [
       "<div>\n",
       "<style scoped>\n",
       "    .dataframe tbody tr th:only-of-type {\n",
       "        vertical-align: middle;\n",
       "    }\n",
       "\n",
       "    .dataframe tbody tr th {\n",
       "        vertical-align: top;\n",
       "    }\n",
       "\n",
       "    .dataframe thead th {\n",
       "        text-align: right;\n",
       "    }\n",
       "</style>\n",
       "<table border=\"1\" class=\"dataframe\">\n",
       "  <thead>\n",
       "    <tr style=\"text-align: right;\">\n",
       "      <th></th>\n",
       "      <th>LotFrontage</th>\n",
       "      <th>LotArea</th>\n",
       "      <th>OverallQual</th>\n",
       "      <th>OverallCond</th>\n",
       "      <th>YearBuilt</th>\n",
       "      <th>YearRemodAdd</th>\n",
       "      <th>MasVnrArea</th>\n",
       "      <th>BsmtFinSF1</th>\n",
       "      <th>BsmtFinSF2</th>\n",
       "      <th>BsmtUnfSF</th>\n",
       "      <th>...</th>\n",
       "      <th>PavedDrive_Y</th>\n",
       "      <th>PavedDrive_other</th>\n",
       "      <th>SaleType_COD</th>\n",
       "      <th>SaleType_New</th>\n",
       "      <th>SaleType_WD</th>\n",
       "      <th>SaleType_other</th>\n",
       "      <th>SaleCondition_Abnorml</th>\n",
       "      <th>SaleCondition_Normal</th>\n",
       "      <th>SaleCondition_Partial</th>\n",
       "      <th>SaleCondition_other</th>\n",
       "    </tr>\n",
       "    <tr>\n",
       "      <th>Id</th>\n",
       "      <th></th>\n",
       "      <th></th>\n",
       "      <th></th>\n",
       "      <th></th>\n",
       "      <th></th>\n",
       "      <th></th>\n",
       "      <th></th>\n",
       "      <th></th>\n",
       "      <th></th>\n",
       "      <th></th>\n",
       "      <th></th>\n",
       "      <th></th>\n",
       "      <th></th>\n",
       "      <th></th>\n",
       "      <th></th>\n",
       "      <th></th>\n",
       "      <th></th>\n",
       "      <th></th>\n",
       "      <th></th>\n",
       "      <th></th>\n",
       "      <th></th>\n",
       "    </tr>\n",
       "  </thead>\n",
       "  <tbody>\n",
       "    <tr>\n",
       "      <th>1461</th>\n",
       "      <td>80.0</td>\n",
       "      <td>11622</td>\n",
       "      <td>5</td>\n",
       "      <td>6</td>\n",
       "      <td>1961</td>\n",
       "      <td>1961</td>\n",
       "      <td>0.0</td>\n",
       "      <td>468.0</td>\n",
       "      <td>144.0</td>\n",
       "      <td>270.0</td>\n",
       "      <td>...</td>\n",
       "      <td>1</td>\n",
       "      <td>0</td>\n",
       "      <td>0</td>\n",
       "      <td>0</td>\n",
       "      <td>1</td>\n",
       "      <td>0</td>\n",
       "      <td>0</td>\n",
       "      <td>1</td>\n",
       "      <td>0</td>\n",
       "      <td>0</td>\n",
       "    </tr>\n",
       "    <tr>\n",
       "      <th>1462</th>\n",
       "      <td>81.0</td>\n",
       "      <td>14267</td>\n",
       "      <td>6</td>\n",
       "      <td>6</td>\n",
       "      <td>1958</td>\n",
       "      <td>1958</td>\n",
       "      <td>108.0</td>\n",
       "      <td>923.0</td>\n",
       "      <td>0.0</td>\n",
       "      <td>406.0</td>\n",
       "      <td>...</td>\n",
       "      <td>1</td>\n",
       "      <td>0</td>\n",
       "      <td>0</td>\n",
       "      <td>0</td>\n",
       "      <td>1</td>\n",
       "      <td>0</td>\n",
       "      <td>0</td>\n",
       "      <td>1</td>\n",
       "      <td>0</td>\n",
       "      <td>0</td>\n",
       "    </tr>\n",
       "    <tr>\n",
       "      <th>1463</th>\n",
       "      <td>74.0</td>\n",
       "      <td>13830</td>\n",
       "      <td>5</td>\n",
       "      <td>5</td>\n",
       "      <td>1997</td>\n",
       "      <td>1998</td>\n",
       "      <td>0.0</td>\n",
       "      <td>791.0</td>\n",
       "      <td>0.0</td>\n",
       "      <td>137.0</td>\n",
       "      <td>...</td>\n",
       "      <td>1</td>\n",
       "      <td>0</td>\n",
       "      <td>0</td>\n",
       "      <td>0</td>\n",
       "      <td>1</td>\n",
       "      <td>0</td>\n",
       "      <td>0</td>\n",
       "      <td>1</td>\n",
       "      <td>0</td>\n",
       "      <td>0</td>\n",
       "    </tr>\n",
       "    <tr>\n",
       "      <th>1464</th>\n",
       "      <td>78.0</td>\n",
       "      <td>9978</td>\n",
       "      <td>6</td>\n",
       "      <td>6</td>\n",
       "      <td>1998</td>\n",
       "      <td>1998</td>\n",
       "      <td>20.0</td>\n",
       "      <td>602.0</td>\n",
       "      <td>0.0</td>\n",
       "      <td>324.0</td>\n",
       "      <td>...</td>\n",
       "      <td>1</td>\n",
       "      <td>0</td>\n",
       "      <td>0</td>\n",
       "      <td>0</td>\n",
       "      <td>1</td>\n",
       "      <td>0</td>\n",
       "      <td>0</td>\n",
       "      <td>1</td>\n",
       "      <td>0</td>\n",
       "      <td>0</td>\n",
       "    </tr>\n",
       "    <tr>\n",
       "      <th>1465</th>\n",
       "      <td>43.0</td>\n",
       "      <td>5005</td>\n",
       "      <td>8</td>\n",
       "      <td>5</td>\n",
       "      <td>1992</td>\n",
       "      <td>1992</td>\n",
       "      <td>0.0</td>\n",
       "      <td>263.0</td>\n",
       "      <td>0.0</td>\n",
       "      <td>1017.0</td>\n",
       "      <td>...</td>\n",
       "      <td>1</td>\n",
       "      <td>0</td>\n",
       "      <td>0</td>\n",
       "      <td>0</td>\n",
       "      <td>1</td>\n",
       "      <td>0</td>\n",
       "      <td>0</td>\n",
       "      <td>1</td>\n",
       "      <td>0</td>\n",
       "      <td>0</td>\n",
       "    </tr>\n",
       "  </tbody>\n",
       "</table>\n",
       "<p>5 rows × 149 columns</p>\n",
       "</div>"
      ],
      "text/plain": [
       "      LotFrontage  LotArea  OverallQual  OverallCond  YearBuilt  YearRemodAdd  \\\n",
       "Id                                                                              \n",
       "1461         80.0    11622            5            6       1961          1961   \n",
       "1462         81.0    14267            6            6       1958          1958   \n",
       "1463         74.0    13830            5            5       1997          1998   \n",
       "1464         78.0     9978            6            6       1998          1998   \n",
       "1465         43.0     5005            8            5       1992          1992   \n",
       "\n",
       "      MasVnrArea  BsmtFinSF1  BsmtFinSF2  BsmtUnfSF  ...  PavedDrive_Y  \\\n",
       "Id                                                   ...                 \n",
       "1461         0.0       468.0       144.0      270.0  ...             1   \n",
       "1462       108.0       923.0         0.0      406.0  ...             1   \n",
       "1463         0.0       791.0         0.0      137.0  ...             1   \n",
       "1464        20.0       602.0         0.0      324.0  ...             1   \n",
       "1465         0.0       263.0         0.0     1017.0  ...             1   \n",
       "\n",
       "      PavedDrive_other  SaleType_COD  SaleType_New  SaleType_WD  \\\n",
       "Id                                                                \n",
       "1461                 0             0             0            1   \n",
       "1462                 0             0             0            1   \n",
       "1463                 0             0             0            1   \n",
       "1464                 0             0             0            1   \n",
       "1465                 0             0             0            1   \n",
       "\n",
       "      SaleType_other  SaleCondition_Abnorml  SaleCondition_Normal  \\\n",
       "Id                                                                  \n",
       "1461               0                      0                     1   \n",
       "1462               0                      0                     1   \n",
       "1463               0                      0                     1   \n",
       "1464               0                      0                     1   \n",
       "1465               0                      0                     1   \n",
       "\n",
       "      SaleCondition_Partial  SaleCondition_other  \n",
       "Id                                                \n",
       "1461                      0                    0  \n",
       "1462                      0                    0  \n",
       "1463                      0                    0  \n",
       "1464                      0                    0  \n",
       "1465                      0                    0  \n",
       "\n",
       "[5 rows x 149 columns]"
      ]
     },
     "execution_count": 35,
     "metadata": {},
     "output_type": "execute_result"
    }
   ],
   "source": [
    "test_data_dummies.head()"
   ]
  },
  {
   "cell_type": "markdown",
   "id": "89521988",
   "metadata": {
    "_cell_guid": "c6afe9f1-5974-44be-aed9-dc83e8594f06",
    "_uuid": "c3aeb73b-6adc-4dea-b52d-7b57c8625ca6",
    "papermill": {
     "duration": 0.024106,
     "end_time": "2024-05-15T22:55:19.438162",
     "exception": false,
     "start_time": "2024-05-15T22:55:19.414056",
     "status": "completed"
    },
    "tags": []
   },
   "source": [
    "# Train a new model"
   ]
  },
  {
   "cell_type": "code",
   "execution_count": 36,
   "id": "d193ce61",
   "metadata": {
    "execution": {
     "iopub.execute_input": "2024-05-15T22:55:19.489398Z",
     "iopub.status.busy": "2024-05-15T22:55:19.488978Z",
     "iopub.status.idle": "2024-05-15T22:55:19.494312Z",
     "shell.execute_reply": "2024-05-15T22:55:19.493118Z"
    },
    "papermill": {
     "duration": 0.034482,
     "end_time": "2024-05-15T22:55:19.496886",
     "exception": false,
     "start_time": "2024-05-15T22:55:19.462404",
     "status": "completed"
    },
    "tags": []
   },
   "outputs": [],
   "source": [
    "high_corr_features_unique_test = set(test_data_dummies.columns).intersection(high_corr_features_unique)"
   ]
  },
  {
   "cell_type": "code",
   "execution_count": 37,
   "id": "b3f440bc",
   "metadata": {
    "execution": {
     "iopub.execute_input": "2024-05-15T22:55:19.550357Z",
     "iopub.status.busy": "2024-05-15T22:55:19.549921Z",
     "iopub.status.idle": "2024-05-15T22:55:19.561227Z",
     "shell.execute_reply": "2024-05-15T22:55:19.559760Z"
    },
    "papermill": {
     "duration": 0.041267,
     "end_time": "2024-05-15T22:55:19.565174",
     "exception": false,
     "start_time": "2024-05-15T22:55:19.523907",
     "status": "completed"
    },
    "tags": []
   },
   "outputs": [],
   "source": [
    "common_columns = list(set(home_data_dummies[list(high_corr_features_unique)].columns).intersection(test_data_dummies[list(high_corr_features_unique_test)].columns))"
   ]
  },
  {
   "cell_type": "code",
   "execution_count": 38,
   "id": "fcc0ac97",
   "metadata": {
    "_cell_guid": "66ba2506-d79a-4429-85a6-88702809bd82",
    "_uuid": "3eb9f8dc-66b1-4353-90b0-61d18bd6d020",
    "collapsed": false,
    "execution": {
     "iopub.execute_input": "2024-05-15T22:55:19.616871Z",
     "iopub.status.busy": "2024-05-15T22:55:19.616414Z",
     "iopub.status.idle": "2024-05-15T22:55:19.621710Z",
     "shell.execute_reply": "2024-05-15T22:55:19.620761Z"
    },
    "jupyter": {
     "outputs_hidden": false
    },
    "papermill": {
     "duration": 0.03462,
     "end_time": "2024-05-15T22:55:19.624112",
     "exception": false,
     "start_time": "2024-05-15T22:55:19.589492",
     "status": "completed"
    },
    "tags": []
   },
   "outputs": [],
   "source": [
    "import random\n",
    "from sklearn.model_selection import train_test_split\n",
    "from sklearn.ensemble import RandomForestRegressor\n",
    "from sklearn.metrics import mean_absolute_error"
   ]
  },
  {
   "cell_type": "code",
   "execution_count": 39,
   "id": "1443274e",
   "metadata": {
    "_cell_guid": "a71c8dbc-cb80-4dae-aeaf-d4d95ce88608",
    "_uuid": "4caa3d99-d519-4dc5-9eb0-cbd857b80901",
    "execution": {
     "iopub.execute_input": "2024-05-15T22:55:19.677269Z",
     "iopub.status.busy": "2024-05-15T22:55:19.676800Z",
     "iopub.status.idle": "2024-05-15T22:55:19.684738Z",
     "shell.execute_reply": "2024-05-15T22:55:19.683799Z"
    },
    "papermill": {
     "duration": 0.037386,
     "end_time": "2024-05-15T22:55:19.687332",
     "exception": false,
     "start_time": "2024-05-15T22:55:19.649946",
     "status": "completed"
    },
    "tags": []
   },
   "outputs": [
    {
     "data": {
      "text/plain": [
       "'\\n#X = home_data_dummies.drop([\\'SalePrice\\'], axis=1)\\n#X = home_data_dummies[list(high_corr_features_unique)]\\nX = home_data_dummies[common_columns]\\ny = home_data_dummies[\\'SalePrice\\']\\n\\ntrain_X, val_X, train_y, val_y = train_test_split(X, y, random_state=1)\\n\\nfor max_leaf_nodes in range(10, 10000, 50):\\n    rf_model = RandomForestRegressor(random_state=1, max_leaf_nodes=max_leaf_nodes)\\n    rf_model.fit(train_X, train_y)\\n    rf_val_predictions = rf_model.predict(val_X)\\n    rf_val_mae = mean_absolute_error(rf_val_predictions, val_y)\\n    \\n    print(\"Max leaf nodes: %d \\t\\t Mean Absolute Error: %d\" %(max_leaf_nodes, rf_val_mae))\\n    \\n    if rf_val_mae < 15000:\\n        print(\"Stopping criteria reached.\")\\n        break'"
      ]
     },
     "execution_count": 39,
     "metadata": {},
     "output_type": "execute_result"
    }
   ],
   "source": [
    "\"\"\"\n",
    "#X = home_data_dummies.drop(['SalePrice'], axis=1)\n",
    "#X = home_data_dummies[list(high_corr_features_unique)]\n",
    "X = home_data_dummies[common_columns]\n",
    "y = home_data_dummies['SalePrice']\n",
    "\n",
    "train_X, val_X, train_y, val_y = train_test_split(X, y, random_state=1)\n",
    "\n",
    "for max_leaf_nodes in range(10, 10000, 50):\n",
    "    rf_model = RandomForestRegressor(random_state=1, max_leaf_nodes=max_leaf_nodes)\n",
    "    rf_model.fit(train_X, train_y)\n",
    "    rf_val_predictions = rf_model.predict(val_X)\n",
    "    rf_val_mae = mean_absolute_error(rf_val_predictions, val_y)\n",
    "    \n",
    "    print(\"Max leaf nodes: %d \\t\\t Mean Absolute Error: %d\" %(max_leaf_nodes, rf_val_mae))\n",
    "    \n",
    "    if rf_val_mae < 15000:\n",
    "        print(\"Stopping criteria reached.\")\n",
    "        break\"\"\""
   ]
  },
  {
   "cell_type": "code",
   "execution_count": 40,
   "id": "5a8fb32a",
   "metadata": {
    "_cell_guid": "1e15a570-ab34-4ed9-b0c4-f29a84a1e1f1",
    "_uuid": "7da34e9a-cfaa-4cb0-a7ec-61ef1494fa2a",
    "execution": {
     "iopub.execute_input": "2024-05-15T22:55:19.741206Z",
     "iopub.status.busy": "2024-05-15T22:55:19.740821Z",
     "iopub.status.idle": "2024-05-15T22:55:19.749769Z",
     "shell.execute_reply": "2024-05-15T22:55:19.748462Z"
    },
    "papermill": {
     "duration": 0.038715,
     "end_time": "2024-05-15T22:55:19.752409",
     "exception": false,
     "start_time": "2024-05-15T22:55:19.713694",
     "status": "completed"
    },
    "tags": []
   },
   "outputs": [
    {
     "data": {
      "text/plain": [
       "'\\nX = home_data_dummies[common_columns]\\n#X = home_data_dummies.drop([\\'SalePrice\\'], axis=1)\\ny = home_data_dummies.SalePrice\\n\\ntrain_X, val_X, train_y, val_y = train_test_split(X, y, random_state=1)\\n\\n# Define hyperparameters to explore\\nn_estimators_list = [50, 100, 150, 200]  # Add more values\\nmax_depth_list = [None, 10, 20, 30]  # Add more values\\nmin_samples_split_list = [2, 5, 10, 15]  # Add more values\\n\\nbest_mae = float(\\'inf\\')\\nbest_hyperparameters = {}\\n\\nfor n_estimators in n_estimators_list:\\n    for max_depth in max_depth_list:\\n        for min_samples_split in min_samples_split_list:\\n            rf_model = RandomForestRegressor(n_estimators=n_estimators, max_depth=max_depth, min_samples_split=min_samples_split, random_state=1, max_leaf_nodes=200)\\n            rf_model.fit(train_X, train_y)\\n            rf_val_predictions = rf_model.predict(val_X)\\n            rf_val_mae = mean_absolute_error(rf_val_predictions, val_y)\\n            \\n            print(\"n_estimators: {}, max_depth: {}, min_samples_split: {} \\t\\t Mean Absolute Error: {}\".format(n_estimators, max_depth, min_samples_split, rf_val_mae))\\n            \\n            if rf_val_mae < best_mae:\\n                best_mae = rf_val_mae\\n                best_hyperparameters = {\\'n_estimators\\': n_estimators, \\'max_depth\\': max_depth, \\'min_samples_split\\': min_samples_split}\\n\\nprint(\"\\nBest Hyperparameters:\")\\nprint(best_hyperparameters)\\nprint(\"Best Mean Absolute Error:\", best_mae)\\n'"
      ]
     },
     "execution_count": 40,
     "metadata": {},
     "output_type": "execute_result"
    }
   ],
   "source": [
    "\"\"\"\n",
    "X = home_data_dummies[common_columns]\n",
    "#X = home_data_dummies.drop(['SalePrice'], axis=1)\n",
    "y = home_data_dummies.SalePrice\n",
    "\n",
    "train_X, val_X, train_y, val_y = train_test_split(X, y, random_state=1)\n",
    "\n",
    "# Define hyperparameters to explore\n",
    "n_estimators_list = [50, 100, 150, 200]  # Add more values\n",
    "max_depth_list = [None, 10, 20, 30]  # Add more values\n",
    "min_samples_split_list = [2, 5, 10, 15]  # Add more values\n",
    "\n",
    "best_mae = float('inf')\n",
    "best_hyperparameters = {}\n",
    "\n",
    "for n_estimators in n_estimators_list:\n",
    "    for max_depth in max_depth_list:\n",
    "        for min_samples_split in min_samples_split_list:\n",
    "            rf_model = RandomForestRegressor(n_estimators=n_estimators, max_depth=max_depth, min_samples_split=min_samples_split, random_state=1, max_leaf_nodes=200)\n",
    "            rf_model.fit(train_X, train_y)\n",
    "            rf_val_predictions = rf_model.predict(val_X)\n",
    "            rf_val_mae = mean_absolute_error(rf_val_predictions, val_y)\n",
    "            \n",
    "            print(\"n_estimators: {}, max_depth: {}, min_samples_split: {} \\t\\t Mean Absolute Error: {}\".format(n_estimators, max_depth, min_samples_split, rf_val_mae))\n",
    "            \n",
    "            if rf_val_mae < best_mae:\n",
    "                best_mae = rf_val_mae\n",
    "                best_hyperparameters = {'n_estimators': n_estimators, 'max_depth': max_depth, 'min_samples_split': min_samples_split}\n",
    "\n",
    "print(\"\\nBest Hyperparameters:\")\n",
    "print(best_hyperparameters)\n",
    "print(\"Best Mean Absolute Error:\", best_mae)\n",
    "\"\"\""
   ]
  },
  {
   "cell_type": "markdown",
   "id": "428c4638",
   "metadata": {
    "_cell_guid": "e7ba8611-0403-4aa8-9620-9b4cc2c35f4c",
    "_uuid": "54177bc1-02bb-4da8-aa28-2e63199705b6",
    "papermill": {
     "duration": 0.024306,
     "end_time": "2024-05-15T22:55:19.802321",
     "exception": false,
     "start_time": "2024-05-15T22:55:19.778015",
     "status": "completed"
    },
    "tags": []
   },
   "source": [
    "# Train in all data with best hyperparameters"
   ]
  },
  {
   "cell_type": "code",
   "execution_count": 41,
   "id": "c66d0c66",
   "metadata": {
    "_cell_guid": "6c3086ad-3248-476b-be95-2566da15d4ae",
    "_uuid": "ef75a5c2-03e9-4702-b339-b43ec427eab5",
    "collapsed": false,
    "execution": {
     "iopub.execute_input": "2024-05-15T22:55:19.853306Z",
     "iopub.status.busy": "2024-05-15T22:55:19.852928Z",
     "iopub.status.idle": "2024-05-15T22:55:22.720948Z",
     "shell.execute_reply": "2024-05-15T22:55:22.719547Z"
    },
    "jupyter": {
     "outputs_hidden": false
    },
    "papermill": {
     "duration": 2.896847,
     "end_time": "2024-05-15T22:55:22.723703",
     "exception": false,
     "start_time": "2024-05-15T22:55:19.826856",
     "status": "completed"
    },
    "tags": []
   },
   "outputs": [
    {
     "data": {
      "text/html": [
       "<style>#sk-container-id-1 {color: black;background-color: white;}#sk-container-id-1 pre{padding: 0;}#sk-container-id-1 div.sk-toggleable {background-color: white;}#sk-container-id-1 label.sk-toggleable__label {cursor: pointer;display: block;width: 100%;margin-bottom: 0;padding: 0.3em;box-sizing: border-box;text-align: center;}#sk-container-id-1 label.sk-toggleable__label-arrow:before {content: \"▸\";float: left;margin-right: 0.25em;color: #696969;}#sk-container-id-1 label.sk-toggleable__label-arrow:hover:before {color: black;}#sk-container-id-1 div.sk-estimator:hover label.sk-toggleable__label-arrow:before {color: black;}#sk-container-id-1 div.sk-toggleable__content {max-height: 0;max-width: 0;overflow: hidden;text-align: left;background-color: #f0f8ff;}#sk-container-id-1 div.sk-toggleable__content pre {margin: 0.2em;color: black;border-radius: 0.25em;background-color: #f0f8ff;}#sk-container-id-1 input.sk-toggleable__control:checked~div.sk-toggleable__content {max-height: 200px;max-width: 100%;overflow: auto;}#sk-container-id-1 input.sk-toggleable__control:checked~label.sk-toggleable__label-arrow:before {content: \"▾\";}#sk-container-id-1 div.sk-estimator input.sk-toggleable__control:checked~label.sk-toggleable__label {background-color: #d4ebff;}#sk-container-id-1 div.sk-label input.sk-toggleable__control:checked~label.sk-toggleable__label {background-color: #d4ebff;}#sk-container-id-1 input.sk-hidden--visually {border: 0;clip: rect(1px 1px 1px 1px);clip: rect(1px, 1px, 1px, 1px);height: 1px;margin: -1px;overflow: hidden;padding: 0;position: absolute;width: 1px;}#sk-container-id-1 div.sk-estimator {font-family: monospace;background-color: #f0f8ff;border: 1px dotted black;border-radius: 0.25em;box-sizing: border-box;margin-bottom: 0.5em;}#sk-container-id-1 div.sk-estimator:hover {background-color: #d4ebff;}#sk-container-id-1 div.sk-parallel-item::after {content: \"\";width: 100%;border-bottom: 1px solid gray;flex-grow: 1;}#sk-container-id-1 div.sk-label:hover label.sk-toggleable__label {background-color: #d4ebff;}#sk-container-id-1 div.sk-serial::before {content: \"\";position: absolute;border-left: 1px solid gray;box-sizing: border-box;top: 0;bottom: 0;left: 50%;z-index: 0;}#sk-container-id-1 div.sk-serial {display: flex;flex-direction: column;align-items: center;background-color: white;padding-right: 0.2em;padding-left: 0.2em;position: relative;}#sk-container-id-1 div.sk-item {position: relative;z-index: 1;}#sk-container-id-1 div.sk-parallel {display: flex;align-items: stretch;justify-content: center;background-color: white;position: relative;}#sk-container-id-1 div.sk-item::before, #sk-container-id-1 div.sk-parallel-item::before {content: \"\";position: absolute;border-left: 1px solid gray;box-sizing: border-box;top: 0;bottom: 0;left: 50%;z-index: -1;}#sk-container-id-1 div.sk-parallel-item {display: flex;flex-direction: column;z-index: 1;position: relative;background-color: white;}#sk-container-id-1 div.sk-parallel-item:first-child::after {align-self: flex-end;width: 50%;}#sk-container-id-1 div.sk-parallel-item:last-child::after {align-self: flex-start;width: 50%;}#sk-container-id-1 div.sk-parallel-item:only-child::after {width: 0;}#sk-container-id-1 div.sk-dashed-wrapped {border: 1px dashed gray;margin: 0 0.4em 0.5em 0.4em;box-sizing: border-box;padding-bottom: 0.4em;background-color: white;}#sk-container-id-1 div.sk-label label {font-family: monospace;font-weight: bold;display: inline-block;line-height: 1.2em;}#sk-container-id-1 div.sk-label-container {text-align: center;}#sk-container-id-1 div.sk-container {/* jupyter's `normalize.less` sets `[hidden] { display: none; }` but bootstrap.min.css set `[hidden] { display: none !important; }` so we also need the `!important` here to be able to override the default hidden behavior on the sphinx rendered scikit-learn.org. See: https://github.com/scikit-learn/scikit-learn/issues/21755 */display: inline-block !important;position: relative;}#sk-container-id-1 div.sk-text-repr-fallback {display: none;}</style><div id=\"sk-container-id-1\" class=\"sk-top-container\"><div class=\"sk-text-repr-fallback\"><pre>RandomForestRegressor(random_state=1)</pre><b>In a Jupyter environment, please rerun this cell to show the HTML representation or trust the notebook. <br />On GitHub, the HTML representation is unable to render, please try loading this page with nbviewer.org.</b></div><div class=\"sk-container\" hidden><div class=\"sk-item\"><div class=\"sk-estimator sk-toggleable\"><input class=\"sk-toggleable__control sk-hidden--visually\" id=\"sk-estimator-id-1\" type=\"checkbox\" checked><label for=\"sk-estimator-id-1\" class=\"sk-toggleable__label sk-toggleable__label-arrow\">RandomForestRegressor</label><div class=\"sk-toggleable__content\"><pre>RandomForestRegressor(random_state=1)</pre></div></div></div></div></div>"
      ],
      "text/plain": [
       "RandomForestRegressor(random_state=1)"
      ]
     },
     "execution_count": 41,
     "metadata": {},
     "output_type": "execute_result"
    }
   ],
   "source": [
    "X = home_data_dummies[common_columns] #already without SalePrice\n",
    "y = home_data_dummies.SalePrice\n",
    "\n",
    "# To improve accuracy, train on all training data\n",
    "rf_model_on_full_data = RandomForestRegressor(random_state=1)#, max_leaf_nodes=600, n_estimators= 200, max_depth= None, min_samples_split= 2)\n",
    "rf_model_on_full_data.fit(X, y)"
   ]
  },
  {
   "cell_type": "code",
   "execution_count": 42,
   "id": "b8d749f2",
   "metadata": {
    "_cell_guid": "0da98196-9b12-4cb7-ae9b-98af8013e30e",
    "_uuid": "d852c908-00c9-47e9-9e99-c6c02f486b17",
    "collapsed": false,
    "execution": {
     "iopub.execute_input": "2024-05-15T22:55:22.777191Z",
     "iopub.status.busy": "2024-05-15T22:55:22.776466Z",
     "iopub.status.idle": "2024-05-15T22:55:22.827285Z",
     "shell.execute_reply": "2024-05-15T22:55:22.826140Z"
    },
    "jupyter": {
     "outputs_hidden": false
    },
    "papermill": {
     "duration": 0.080415,
     "end_time": "2024-05-15T22:55:22.829819",
     "exception": false,
     "start_time": "2024-05-15T22:55:22.749404",
     "status": "completed"
    },
    "tags": []
   },
   "outputs": [
    {
     "data": {
      "text/plain": [
       "[125735.0,\n",
       " 158440.0,\n",
       " 179803.0,\n",
       " 183950.0,\n",
       " 198525.0,\n",
       " 184239.0,\n",
       " 171233.0,\n",
       " 176869.0,\n",
       " 179442.0,\n",
       " 122916.0,\n",
       " 194883.0,\n",
       " 97429.0,\n",
       " 100709.0,\n",
       " 152507.0,\n",
       " 140339.0]"
      ]
     },
     "execution_count": 42,
     "metadata": {},
     "output_type": "execute_result"
    }
   ],
   "source": [
    "# make predictions which we will submit. \n",
    "test_preds_modelV2 = rf_model_on_full_data.predict(test_data_dummies[common_columns])\n",
    "\n",
    "test_preds_modelV2[0:15].round(0).tolist()"
   ]
  },
  {
   "cell_type": "markdown",
   "id": "7494b445",
   "metadata": {
    "_cell_guid": "20232602-0185-4789-ab04-7d3703ac304d",
    "_uuid": "aeeb6d99-440a-441b-8903-618708e3cb91",
    "papermill": {
     "duration": 0.024723,
     "end_time": "2024-05-15T22:55:22.879531",
     "exception": false,
     "start_time": "2024-05-15T22:55:22.854808",
     "status": "completed"
    },
    "tags": []
   },
   "source": [
    "# Generate a submission\n",
    "\n",
    "Run the code cell below to generate a CSV file with your predictions that you can use to submit to the competition."
   ]
  },
  {
   "cell_type": "code",
   "execution_count": 43,
   "id": "bfc2d152",
   "metadata": {
    "_cell_guid": "c851ba45-2b47-41e8-b779-d03bd8206cb1",
    "_uuid": "cb530938-86c9-4c3e-80e6-0313c6a14620",
    "collapsed": false,
    "execution": {
     "iopub.execute_input": "2024-05-15T22:55:22.932083Z",
     "iopub.status.busy": "2024-05-15T22:55:22.931382Z",
     "iopub.status.idle": "2024-05-15T22:55:22.944485Z",
     "shell.execute_reply": "2024-05-15T22:55:22.943567Z"
    },
    "jupyter": {
     "outputs_hidden": false
    },
    "papermill": {
     "duration": 0.042689,
     "end_time": "2024-05-15T22:55:22.947382",
     "exception": false,
     "start_time": "2024-05-15T22:55:22.904693",
     "status": "completed"
    },
    "tags": []
   },
   "outputs": [],
   "source": [
    "# Run the code to save predictions in the format used for competition scoring\n",
    "\n",
    "output = pd.DataFrame({'Id': test_data.index,\n",
    "                       'SalePrice': test_preds_modelV2})\n",
    "output.to_csv('submission_v8.csv', index=False)"
   ]
  },
  {
   "cell_type": "code",
   "execution_count": 44,
   "id": "5f2482b2",
   "metadata": {
    "execution": {
     "iopub.execute_input": "2024-05-15T22:55:23.002118Z",
     "iopub.status.busy": "2024-05-15T22:55:23.001403Z",
     "iopub.status.idle": "2024-05-15T22:55:23.370306Z",
     "shell.execute_reply": "2024-05-15T22:55:23.368749Z"
    },
    "papermill": {
     "duration": 0.398956,
     "end_time": "2024-05-15T22:55:23.372886",
     "exception": false,
     "start_time": "2024-05-15T22:55:22.973930",
     "status": "completed"
    },
    "tags": []
   },
   "outputs": [
    {
     "data": {
      "text/plain": [
       "<Axes: >"
      ]
     },
     "execution_count": 44,
     "metadata": {},
     "output_type": "execute_result"
    },
    {
     "data": {
      "image/png": "[encoded data removed]",
      "text/plain": [
       "<Figure size 640x480 with 1 Axes>"
      ]
     },
     "metadata": {},
     "output_type": "display_data"
    }
   ],
   "source": [
    "output.SalePrice.hist(bins=30)"
   ]
  },
  {
   "cell_type": "code",
   "execution_count": 45,
   "id": "8222ceed",
   "metadata": {
    "execution": {
     "iopub.execute_input": "2024-05-15T22:55:23.430605Z",
     "iopub.status.busy": "2024-05-15T22:55:23.430150Z",
     "iopub.status.idle": "2024-05-15T22:55:23.796187Z",
     "shell.execute_reply": "2024-05-15T22:55:23.794952Z"
    },
    "papermill": {
     "duration": 0.399447,
     "end_time": "2024-05-15T22:55:23.798776",
     "exception": false,
     "start_time": "2024-05-15T22:55:23.399329",
     "status": "completed"
    },
    "tags": []
   },
   "outputs": [
    {
     "data": {
      "text/plain": [
       "<Axes: >"
      ]
     },
     "execution_count": 45,
     "metadata": {},
     "output_type": "execute_result"
    },
    {
     "data": {
      "image/png": "[encoded data removed]",
      "text/plain": [
       "<Figure size 640x480 with 1 Axes>"
      ]
     },
     "metadata": {},
     "output_type": "display_data"
    }
   ],
   "source": [
    "home_data_dummies.SalePrice.hist(bins=30)"
   ]
  }
 ],
 "metadata": {
  "kaggle": {
   "accelerator": "none",
   "dataSources": [
    {
     "databundleVersionId": 111096,
     "sourceId": 10211,
     "sourceType": "competition"
    }
   ],
   "isGpuEnabled": false,
   "isInternetEnabled": false,
   "language": "python",
   "sourceType": "notebook"
  },
  "kernelspec": {
   "display_name": "Python 3",
   "language": "python",
   "name": "python3"
  },
  "language_info": {
   "codemirror_mode": {
    "name": "ipython",
    "version": 3
   },
   "file_extension": ".py",
   "mimetype": "text/x-python",
   "name": "python",
   "nbconvert_exporter": "python",
   "pygments_lexer": "ipython3",
   "version": "3.10.13"
  },
  "papermill": {
   "default_parameters": {},
   "duration": 16.186872,
   "end_time": "2024-05-15T22:55:24.546643",
   "environment_variables": {},
   "exception": null,
   "input_path": "__notebook__.ipynb",
   "output_path": "__notebook__.ipynb",
   "parameters": {},
   "start_time": "2024-05-15T22:55:08.359771",
   "version": "2.5.0"
  }
 },
 "nbformat": 4,
 "nbformat_minor": 5
}
