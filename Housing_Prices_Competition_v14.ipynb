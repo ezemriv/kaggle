{
 "cells": [
  {
   "cell_type": "markdown",
   "id": "5a81d621",
   "metadata": {
    "_cell_guid": "22ebb493-acc6-4117-aec1-74ca71bec69f",
    "_uuid": "cadf2fc8-47b5-4b8d-ab92-1deb117de505",
    "papermill": {
     "duration": 0.020527,
     "end_time": "2024-05-15T23:29:02.247403",
     "exception": false,
     "start_time": "2024-05-15T23:29:02.226876",
     "status": "completed"
    },
    "tags": []
   },
   "source": [
    "**This notebook is an exercise in the [Introduction to Machine Learning](https://www.kaggle.com/learn/intro-to-machine-learning) course.  You can reference the tutorial at [this link](https://www.kaggle.com/alexisbcook/machine-learning-competitions).**\n",
    "\n",
    "---"
   ]
  },
  {
   "cell_type": "markdown",
   "id": "0719a352",
   "metadata": {
    "_cell_guid": "d40fb9c2-6338-4257-858b-9943292effb6",
    "_uuid": "16becb83-0836-43e3-82b5-151c66e639c7",
    "papermill": {
     "duration": 0.01876,
     "end_time": "2024-05-15T23:29:02.286528",
     "exception": false,
     "start_time": "2024-05-15T23:29:02.267768",
     "status": "completed"
    },
    "tags": []
   },
   "source": [
    "# Introduction\n",
    "\n",
    "In this exercise, you will create and submit predictions for a Kaggle competition. You can then improve your model (e.g. by adding features) to apply what you've learned and move up the leaderboard.\n",
    "\n",
    "Begin by running the code cell below to set up code checking and the filepaths for the dataset."
   ]
  },
  {
   "cell_type": "code",
   "execution_count": 1,
   "id": "c93d5313",
   "metadata": {
    "_cell_guid": "1cf5249b-9598-4ea1-a133-7c4702ed6df7",
    "_uuid": "296527f4-f2be-4fe1-8ffb-49a866b48411",
    "collapsed": false,
    "execution": {
     "iopub.execute_input": "2024-05-15T23:29:02.329439Z",
     "iopub.status.busy": "2024-05-15T23:29:02.328990Z",
     "iopub.status.idle": "2024-05-15T23:29:03.549986Z",
     "shell.execute_reply": "2024-05-15T23:29:03.548465Z"
    },
    "jupyter": {
     "outputs_hidden": false
    },
    "papermill": {
     "duration": 1.248052,
     "end_time": "2024-05-15T23:29:03.553665",
     "exception": false,
     "start_time": "2024-05-15T23:29:02.305613",
     "status": "completed"
    },
    "tags": []
   },
   "outputs": [],
   "source": [
    "# Set up code checking\n",
    "from learntools.core import binder\n",
    "binder.bind(globals())\n",
    "from learntools.machine_learning.ex7 import *\n",
    "\n",
    "# Set up filepaths\n",
    "import os\n",
    "if not os.path.exists(\"../input/train.csv\"):\n",
    "    os.symlink(\"../input/home-data-for-ml-course/train.csv\", \"../input/train.csv\")  \n",
    "    os.symlink(\"../input/home-data-for-ml-course/test.csv\", \"../input/test.csv\")"
   ]
  },
  {
   "cell_type": "markdown",
   "id": "0c491b17",
   "metadata": {
    "_cell_guid": "b6700898-aca9-4e8e-99f0-39cd06805ffd",
    "_uuid": "bec5d89d-47d1-4632-bad0-e9a7c3343b49",
    "papermill": {
     "duration": 0.021409,
     "end_time": "2024-05-15T23:29:03.596780",
     "exception": false,
     "start_time": "2024-05-15T23:29:03.575371",
     "status": "completed"
    },
    "tags": []
   },
   "source": [
    "Here's some of the code you've written so far. Start by running it again."
   ]
  },
  {
   "cell_type": "code",
   "execution_count": 2,
   "id": "9aa8db00",
   "metadata": {
    "_cell_guid": "f76b4110-10fe-4065-a8b1-f323843eff5b",
    "_uuid": "c5148bdd-1096-4500-9c46-d65e5aa8af92",
    "collapsed": false,
    "execution": {
     "iopub.execute_input": "2024-05-15T23:29:03.640584Z",
     "iopub.status.busy": "2024-05-15T23:29:03.639379Z",
     "iopub.status.idle": "2024-05-15T23:29:06.489051Z",
     "shell.execute_reply": "2024-05-15T23:29:06.488065Z"
    },
    "jupyter": {
     "outputs_hidden": false
    },
    "papermill": {
     "duration": 2.875136,
     "end_time": "2024-05-15T23:29:06.492010",
     "exception": false,
     "start_time": "2024-05-15T23:29:03.616874",
     "status": "completed"
    },
    "tags": []
   },
   "outputs": [],
   "source": [
    "# Import helpful libraries\n",
    "import pandas as pd\n",
    "from sklearn.ensemble import RandomForestRegressor\n",
    "from sklearn.metrics import mean_absolute_error\n",
    "from sklearn.model_selection import train_test_split\n",
    "from category_encoders import TargetEncoder\n",
    "\n",
    "\n",
    "# Load the data, and separate the target\n",
    "iowa_file_path = '../input/train.csv'\n",
    "home_data = pd.read_csv(iowa_file_path)"
   ]
  },
  {
   "cell_type": "code",
   "execution_count": 3,
   "id": "32db7dc4",
   "metadata": {
    "_cell_guid": "ed6e6d14-a15a-4147-bdba-c794eb71850b",
    "_uuid": "7bbaa7ba-03f0-4f69-9ef5-812aa064a894",
    "collapsed": false,
    "execution": {
     "iopub.execute_input": "2024-05-15T23:29:06.536033Z",
     "iopub.status.busy": "2024-05-15T23:29:06.535284Z",
     "iopub.status.idle": "2024-05-15T23:29:06.573894Z",
     "shell.execute_reply": "2024-05-15T23:29:06.572690Z"
    },
    "jupyter": {
     "outputs_hidden": false
    },
    "papermill": {
     "duration": 0.06459,
     "end_time": "2024-05-15T23:29:06.576855",
     "exception": false,
     "start_time": "2024-05-15T23:29:06.512265",
     "status": "completed"
    },
    "tags": []
   },
   "outputs": [],
   "source": [
    "# path to file you will use for predictions\n",
    "test_data_path = '../input/test.csv'\n",
    "\n",
    "# read test data file using pandas\n",
    "test_data = pd.read_csv(test_data_path)"
   ]
  },
  {
   "cell_type": "markdown",
   "id": "f515a4cb",
   "metadata": {
    "_cell_guid": "3c51e183-7138-41a9-9c6d-9ec8aa35f5ca",
    "_uuid": "18b2bf95-f388-428e-a60b-23373409ddf7",
    "papermill": {
     "duration": 0.019536,
     "end_time": "2024-05-15T23:29:06.616970",
     "exception": false,
     "start_time": "2024-05-15T23:29:06.597434",
     "status": "completed"
    },
    "tags": []
   },
   "source": [
    "# Results default model\n",
    "\n",
    "First 15 predictions:\n",
    "\n",
    "[122657.0,\n",
    " 156789.0,\n",
    " 182959.0,\n",
    " 178102.0,\n",
    " 189049.0,\n",
    " 180979.0,\n",
    " 172797.0,\n",
    " 173717.0,\n",
    " 187535.0,\n",
    " 116172.0,\n",
    " 190798.0,\n",
    " 93823.0,\n",
    " 89249.0,\n",
    " 145111.0,\n",
    " 124696.0]\n",
    " \n",
    "Validation MAE for DEFAULT Random Forest Model: **21,857**"
   ]
  },
  {
   "cell_type": "markdown",
   "id": "7d153210",
   "metadata": {
    "_cell_guid": "e13d5a4c-f27b-4c98-a35d-950429741d8c",
    "_uuid": "beae68de-122e-4f67-b57e-e05d9fe2ab42",
    "papermill": {
     "duration": 0.019347,
     "end_time": "2024-05-15T23:29:06.656263",
     "exception": false,
     "start_time": "2024-05-15T23:29:06.636916",
     "status": "completed"
    },
    "tags": []
   },
   "source": [
    "# Model optimization\n",
    "\n",
    "· Will clean the dataset, hot-code categorical features, scale numerical features, and train a new model"
   ]
  },
  {
   "cell_type": "markdown",
   "id": "e68bc634",
   "metadata": {
    "_cell_guid": "88202f33-510a-4152-b52d-aadad7deff7c",
    "_uuid": "d64ebe66-0909-44e7-b81c-5ac57f12cad2",
    "papermill": {
     "duration": 0.018852,
     "end_time": "2024-05-15T23:29:06.694397",
     "exception": false,
     "start_time": "2024-05-15T23:29:06.675545",
     "status": "completed"
    },
    "tags": []
   },
   "source": [
    "## Defining functions"
   ]
  },
  {
   "cell_type": "code",
   "execution_count": 4,
   "id": "0c6a04ae",
   "metadata": {
    "_cell_guid": "3333cbdf-722f-4ee9-80db-74f6e63b9390",
    "_uuid": "27164fa3-cb70-4f7b-9698-0da446cbb21f",
    "collapsed": false,
    "execution": {
     "iopub.execute_input": "2024-05-15T23:29:06.734646Z",
     "iopub.status.busy": "2024-05-15T23:29:06.734239Z",
     "iopub.status.idle": "2024-05-15T23:29:06.765085Z",
     "shell.execute_reply": "2024-05-15T23:29:06.762181Z"
    },
    "jupyter": {
     "outputs_hidden": false
    },
    "papermill": {
     "duration": 0.054506,
     "end_time": "2024-05-15T23:29:06.768032",
     "exception": false,
     "start_time": "2024-05-15T23:29:06.713526",
     "status": "completed"
    },
    "tags": []
   },
   "outputs": [],
   "source": [
    "def drop_columns_nan(dataframe, threshold: int) -> pd.DataFrame:\n",
    "  \"\"\"Drops columns from a DataFrame that contain a certain amount of missing values (NaNs).\n",
    "\n",
    "  Args:\n",
    "      dataframe: The pandas DataFrame to process.\n",
    "      threshold: The minimum number of NaNs a column must have to be dropped.\n",
    "          A column will be dropped if the number of NaNs is greater than or equal to this threshold.\n",
    "\n",
    "  Returns:\n",
    "      The modified DataFrame with columns containing a high number of NaNs dropped.\n",
    "  \"\"\"\n",
    "  columns_to_drop = [col for col in dataframe.columns if dataframe[col].isnull().sum() >= threshold]\n",
    "  dataframe.drop(columns_to_drop, axis=1, inplace=True)\n",
    "\n",
    "####################################################################################################\n",
    "\n",
    "def drop_notinformative(df, threshold=0.95):\n",
    "    \"\"\"  drop columns with high percentage of ONE UNIQUE value\n",
    "    \"\"\"\n",
    "    \n",
    "    columns_to_drop = []\n",
    "    threshold = 0.9\n",
    "    for col in df.columns:\n",
    "        value_counts = df[col].value_counts(normalize=True)\n",
    "        if len(value_counts) == 1 or value_counts.iloc[0] > threshold:  # Check for single value or exceeding threshold\n",
    "            columns_to_drop.append(col)\n",
    "\n",
    "    df.drop(columns_to_drop, axis=1, inplace=True)\n",
    "  \n",
    "\n",
    "#################################################################################################\n",
    "\n",
    "def impute_nan_custom(df, method_numerical='mean', value_categorical='Non-existent', fill_categorical_with_mode=False):\n",
    "  \"\"\"\n",
    "  Imputes missing values in a DataFrame with user-defined options\n",
    "\n",
    "  Args:\n",
    "      df (pandas.DataFrame): The DataFrame to impute\n",
    "      method_numerical (str, optional): Method to impute numerical columns. Defaults to 'mean'. Valid options are 'mean', 'median', 'zero', or 'mode'.\n",
    "      value_categorical (str, optional): Value to use for imputing missing values in categorical columns. Defaults to 'Non-existent'.\n",
    "      fill_categorical_with_mode (bool, optional): If True, fills missing values in categorical columns with the mode. Defaults to False.\n",
    "\n",
    "  Returns:\n",
    "      pandas.DataFrame: The DataFrame with imputed missing values\n",
    "      list: A list of columns containing missing values\n",
    "\n",
    "  Raises:\n",
    "      ValueError: If an invalid method_numerical is provided.\n",
    "  \"\"\"\n",
    "  columns_with_nan = []\n",
    "  for col in df.columns:\n",
    "    if df[col].isnull().sum() > 0 and df[col].dtype.kind in ['f', 'i']:  # Check for float or integer\n",
    "      if method_numerical == 'mean':\n",
    "        df[col] = df[col].fillna(value=df[col].mean())\n",
    "      elif method_numerical == 'median':\n",
    "        df[col] = df[col].fillna(value=df[col].median())\n",
    "      elif method_numerical == 'zero':\n",
    "        df[col] = df[col].fillna(value=0)\n",
    "      elif method_numerical == 'mode':\n",
    "        df[col] = df[col].fillna(value=df[col].mode()[0])\n",
    "      else:\n",
    "        raise ValueError(f\"Invalid method_numerical: {method_numerical}. Valid options are 'mean', 'median', 'zero', or 'mode'.\")\n",
    "      columns_with_nan.append(col)\n",
    "    elif df[col].isnull().sum() > 0 and fill_categorical_with_mode and pd.api.types.is_categorical_dtype(df[col]):\n",
    "      df[col] = df[col].fillna(value=df[col].mode()[0])  # Fill with mode for categorical\n",
    "      columns_with_nan.append(col)\n",
    "    elif df[col].isnull().sum() > 0:\n",
    "      df[col] = df[col].fillna(value=value_categorical)\n",
    "      columns_with_nan.append(col)\n",
    "  return columns_with_nan\n",
    "\n",
    "#################################################################################################\n",
    "\n",
    "def replace_less_frequent(df: pd.DataFrame, list_col: list[str], threshold: float = 0.02, new_value='other') -> pd.DataFrame:\n",
    "  \"\"\"Replaces less frequent values in specified columns of a DataFrame with a new value.\n",
    "\n",
    "  This function identifies values that appear less frequently than a certain threshold\n",
    "  within specified columns of a DataFrame and replaces them with a new user-defined value.\n",
    "  It also prints value counts to confirm the changes.\n",
    "\n",
    "  Args:\n",
    "      df: The pandas DataFrame to process.\n",
    "      list_col: A list of column names to be processed.\n",
    "      threshold: The minimum frequency (between 0 and 1) a value must have to be considered\n",
    "          frequent. Values with frequency less than the threshold will be replaced.\n",
    "      new_value: The value to use for replacing less frequent values.\n",
    "\n",
    "  Returns:\n",
    "      The modified DataFrame with less frequent values replaced.\n",
    "\n",
    "  Prints:\n",
    "      Value counts for each modified column after the replacement.\n",
    "  \"\"\"\n",
    "\n",
    "  vals_to_change = []\n",
    "\n",
    "  # Iterate over each column in the list\n",
    "  for col in list_col:\n",
    "    # Get values with frequency less than the threshold\n",
    "    filtered_values = df[col].value_counts(normalize=True)\n",
    "    filtered_values = filtered_values[filtered_values < threshold].index.tolist()\n",
    "    vals_to_change.extend(filtered_values)  # Extend to avoid nested lists\n",
    "\n",
    "  # Replace less frequent values with new_value\n",
    "  for col in list_col:\n",
    "    df[col] = np.where(df[col].isin(vals_to_change), new_value, df[col])\n",
    "\n",
    "  # Print value counts for each modified column\n",
    "  for col in list_col:\n",
    "    print(f\"\\nValue Counts for {col} after replacement:\")\n",
    "    print(df[col].value_counts(normalize=True, dropna=False))\n",
    "    print(f\"\\n** NEW {col} created correctly**\")\n",
    "\n",
    "\n",
    "#######################################################################################################\n",
    "\n",
    "def get_categorical(df):\n",
    "  \"\"\"\n",
    "  Identifies categorical columns in a DataFrame\n",
    "\n",
    "  Args:\n",
    "      df (pandas.DataFrame): The DataFrame to identify categorical columns in\n",
    "\n",
    "  Returns:\n",
    "      list: A list containing the names of categorical columns\n",
    "  \"\"\"\n",
    "  l_cat = []\n",
    "  for col in df.columns:\n",
    "    if df[col].dtype.kind == 'O':  # Check for object dtype (categorical)\n",
    "      l_cat.append(col)\n",
    "  return l_cat\n",
    "\n",
    "#######################################################################################################\n",
    "\n",
    "def get_numeric(df):\n",
    "  \"\"\"\n",
    "  Identifies categorical columns in a DataFrame\n",
    "\n",
    "  Args:\n",
    "      df (pandas.DataFrame): The DataFrame to identify categorical columns in\n",
    "\n",
    "  Returns:\n",
    "      list: A list containing the names of categorical columns\n",
    "  \"\"\"\n",
    "  l_num = []\n",
    "  for col in df.columns:\n",
    "    if df[col].dtype.kind == 'f' or df[col].dtype.kind == 'i':  # Check for object dtype (categorical)\n",
    "      l_num.append(col)\n",
    "  return l_num\n",
    "\n",
    "#######################################################################################################\n",
    "\n",
    "def get_posible_bool(df):\n",
    "  \"\"\"\n",
    "  Identifies categorical columns in a DataFrame\n",
    "\n",
    "  Args:\n",
    "      df (pandas.DataFrame): The DataFrame to identify categorical columns in\n",
    "\n",
    "  Returns:\n",
    "      list: A list containing the names of categorical columns\n",
    "  \"\"\"\n",
    "  l_bool = []\n",
    "  for col in df.columns:\n",
    "    if len(df[col].unique()) == 2:  # Check for object dtype (categorical)\n",
    "      l_bool.append(col)\n",
    "  return l_bool"
   ]
  },
  {
   "cell_type": "markdown",
   "id": "e21993ae",
   "metadata": {
    "_cell_guid": "c643e542-d597-4408-9233-0f64cd2f12b2",
    "_uuid": "a18afce6-9e9f-4ff2-b2e7-53071ae99f7f",
    "papermill": {
     "duration": 0.018606,
     "end_time": "2024-05-15T23:29:06.805855",
     "exception": false,
     "start_time": "2024-05-15T23:29:06.787249",
     "status": "completed"
    },
    "tags": []
   },
   "source": [
    "## Cleaning dataset"
   ]
  },
  {
   "cell_type": "code",
   "execution_count": 5,
   "id": "e9efd1dc",
   "metadata": {
    "_cell_guid": "77da2c43-9c0a-4d0b-86ad-f0bf96b91116",
    "_uuid": "83c8fb90-fe6d-4f2d-8d95-99472be3e00e",
    "collapsed": false,
    "execution": {
     "iopub.execute_input": "2024-05-15T23:29:06.846212Z",
     "iopub.status.busy": "2024-05-15T23:29:06.845816Z",
     "iopub.status.idle": "2024-05-15T23:29:06.851073Z",
     "shell.execute_reply": "2024-05-15T23:29:06.849816Z"
    },
    "jupyter": {
     "outputs_hidden": false
    },
    "papermill": {
     "duration": 0.028951,
     "end_time": "2024-05-15T23:29:06.853663",
     "exception": false,
     "start_time": "2024-05-15T23:29:06.824712",
     "status": "completed"
    },
    "tags": []
   },
   "outputs": [],
   "source": [
    "import pandas as pd\n",
    "import numpy as np"
   ]
  },
  {
   "cell_type": "code",
   "execution_count": 6,
   "id": "8805d6d1",
   "metadata": {
    "_cell_guid": "04604ce0-a872-4365-a9e1-9f314c648238",
    "_uuid": "d876885d-1d0e-403b-829a-f6bdf75f70a7",
    "collapsed": false,
    "execution": {
     "iopub.execute_input": "2024-05-15T23:29:06.895504Z",
     "iopub.status.busy": "2024-05-15T23:29:06.895119Z",
     "iopub.status.idle": "2024-05-15T23:29:06.899806Z",
     "shell.execute_reply": "2024-05-15T23:29:06.898839Z"
    },
    "jupyter": {
     "outputs_hidden": false
    },
    "papermill": {
     "duration": 0.027781,
     "end_time": "2024-05-15T23:29:06.902163",
     "exception": false,
     "start_time": "2024-05-15T23:29:06.874382",
     "status": "completed"
    },
    "tags": []
   },
   "outputs": [],
   "source": [
    "pd.set_option('display.max_rows', None)"
   ]
  },
  {
   "cell_type": "code",
   "execution_count": 7,
   "id": "fe6fc95e",
   "metadata": {
    "_cell_guid": "2294060d-2462-4533-86d0-f05b55b8fc1d",
    "_uuid": "462301d9-ad0a-4d76-9fee-cb234d61e5db",
    "collapsed": false,
    "execution": {
     "iopub.execute_input": "2024-05-15T23:29:06.944418Z",
     "iopub.status.busy": "2024-05-15T23:29:06.943763Z",
     "iopub.status.idle": "2024-05-15T23:29:06.961553Z",
     "shell.execute_reply": "2024-05-15T23:29:06.960549Z"
    },
    "jupyter": {
     "outputs_hidden": false
    },
    "papermill": {
     "duration": 0.042155,
     "end_time": "2024-05-15T23:29:06.964212",
     "exception": false,
     "start_time": "2024-05-15T23:29:06.922057",
     "status": "completed"
    },
    "scrolled": true,
    "tags": []
   },
   "outputs": [],
   "source": [
    "home_data2 = home_data.copy()\n",
    "home_data2.set_index('Id', inplace=True)"
   ]
  },
  {
   "cell_type": "code",
   "execution_count": 8,
   "id": "4eafe3a5",
   "metadata": {
    "_cell_guid": "ec6afab1-5a2b-4efe-8f9d-f6a4f65e39c8",
    "_uuid": "c0d861ef-4688-4acf-b313-f4341085978b",
    "collapsed": false,
    "execution": {
     "iopub.execute_input": "2024-05-15T23:29:07.007315Z",
     "iopub.status.busy": "2024-05-15T23:29:07.006641Z",
     "iopub.status.idle": "2024-05-15T23:29:07.028328Z",
     "shell.execute_reply": "2024-05-15T23:29:07.027171Z"
    },
    "jupyter": {
     "outputs_hidden": false
    },
    "papermill": {
     "duration": 0.046417,
     "end_time": "2024-05-15T23:29:07.030867",
     "exception": false,
     "start_time": "2024-05-15T23:29:06.984450",
     "status": "completed"
    },
    "tags": []
   },
   "outputs": [
    {
     "data": {
      "text/plain": [
       "MSSubClass          0\n",
       "MSZoning            0\n",
       "LotFrontage       259\n",
       "LotArea             0\n",
       "Street              0\n",
       "Alley            1369\n",
       "LotShape            0\n",
       "LandContour         0\n",
       "Utilities           0\n",
       "LotConfig           0\n",
       "LandSlope           0\n",
       "Neighborhood        0\n",
       "Condition1          0\n",
       "Condition2          0\n",
       "BldgType            0\n",
       "HouseStyle          0\n",
       "OverallQual         0\n",
       "OverallCond         0\n",
       "YearBuilt           0\n",
       "YearRemodAdd        0\n",
       "RoofStyle           0\n",
       "RoofMatl            0\n",
       "Exterior1st         0\n",
       "Exterior2nd         0\n",
       "MasVnrType        872\n",
       "MasVnrArea          8\n",
       "ExterQual           0\n",
       "ExterCond           0\n",
       "Foundation          0\n",
       "BsmtQual           37\n",
       "BsmtCond           37\n",
       "BsmtExposure       38\n",
       "BsmtFinType1       37\n",
       "BsmtFinSF1          0\n",
       "BsmtFinType2       38\n",
       "BsmtFinSF2          0\n",
       "BsmtUnfSF           0\n",
       "TotalBsmtSF         0\n",
       "Heating             0\n",
       "HeatingQC           0\n",
       "CentralAir          0\n",
       "Electrical          1\n",
       "1stFlrSF            0\n",
       "2ndFlrSF            0\n",
       "LowQualFinSF        0\n",
       "GrLivArea           0\n",
       "BsmtFullBath        0\n",
       "BsmtHalfBath        0\n",
       "FullBath            0\n",
       "HalfBath            0\n",
       "BedroomAbvGr        0\n",
       "KitchenAbvGr        0\n",
       "KitchenQual         0\n",
       "TotRmsAbvGrd        0\n",
       "Functional          0\n",
       "Fireplaces          0\n",
       "FireplaceQu       690\n",
       "GarageType         81\n",
       "GarageYrBlt        81\n",
       "GarageFinish       81\n",
       "GarageCars          0\n",
       "GarageArea          0\n",
       "GarageQual         81\n",
       "GarageCond         81\n",
       "PavedDrive          0\n",
       "WoodDeckSF          0\n",
       "OpenPorchSF         0\n",
       "EnclosedPorch       0\n",
       "3SsnPorch           0\n",
       "ScreenPorch         0\n",
       "PoolArea            0\n",
       "PoolQC           1453\n",
       "Fence            1179\n",
       "MiscFeature      1406\n",
       "MiscVal             0\n",
       "MoSold              0\n",
       "YrSold              0\n",
       "SaleType            0\n",
       "SaleCondition       0\n",
       "SalePrice           0\n",
       "dtype: int64"
      ]
     },
     "execution_count": 8,
     "metadata": {},
     "output_type": "execute_result"
    }
   ],
   "source": [
    "home_data2.isnull().sum()"
   ]
  },
  {
   "cell_type": "code",
   "execution_count": 9,
   "id": "5fb04c84",
   "metadata": {
    "_cell_guid": "88d1c09f-18b2-49e5-b3fb-8c2cc4148527",
    "_uuid": "33989562-b714-4552-8f90-8bb51b65d9a3",
    "collapsed": false,
    "execution": {
     "iopub.execute_input": "2024-05-15T23:29:07.073668Z",
     "iopub.status.busy": "2024-05-15T23:29:07.072779Z",
     "iopub.status.idle": "2024-05-15T23:29:07.102347Z",
     "shell.execute_reply": "2024-05-15T23:29:07.101205Z"
    },
    "jupyter": {
     "outputs_hidden": false
    },
    "papermill": {
     "duration": 0.054736,
     "end_time": "2024-05-15T23:29:07.105017",
     "exception": false,
     "start_time": "2024-05-15T23:29:07.050281",
     "status": "completed"
    },
    "tags": []
   },
   "outputs": [],
   "source": [
    "# Drop columns with more than 200 NaNs\n",
    "drop_columns_nan(home_data2, threshold=300)"
   ]
  },
  {
   "cell_type": "code",
   "execution_count": 10,
   "id": "9e10c5ab",
   "metadata": {
    "_cell_guid": "336c2711-00cc-4fc5-b762-7738aea6d64d",
    "_uuid": "8fe86799-1293-4fae-b65e-cc2c4ef13a48",
    "collapsed": false,
    "execution": {
     "iopub.execute_input": "2024-05-15T23:29:07.146527Z",
     "iopub.status.busy": "2024-05-15T23:29:07.146073Z",
     "iopub.status.idle": "2024-05-15T23:29:07.208443Z",
     "shell.execute_reply": "2024-05-15T23:29:07.207489Z"
    },
    "jupyter": {
     "outputs_hidden": false
    },
    "papermill": {
     "duration": 0.086058,
     "end_time": "2024-05-15T23:29:07.211050",
     "exception": false,
     "start_time": "2024-05-15T23:29:07.124992",
     "status": "completed"
    },
    "tags": []
   },
   "outputs": [
    {
     "data": {
      "text/html": [
       "<div>\n",
       "<style scoped>\n",
       "    .dataframe tbody tr th:only-of-type {\n",
       "        vertical-align: middle;\n",
       "    }\n",
       "\n",
       "    .dataframe tbody tr th {\n",
       "        vertical-align: top;\n",
       "    }\n",
       "\n",
       "    .dataframe thead th {\n",
       "        text-align: right;\n",
       "    }\n",
       "</style>\n",
       "<table border=\"1\" class=\"dataframe\">\n",
       "  <thead>\n",
       "    <tr style=\"text-align: right;\">\n",
       "      <th></th>\n",
       "      <th>LotFrontage</th>\n",
       "      <th>MasVnrArea</th>\n",
       "      <th>BsmtQual</th>\n",
       "      <th>BsmtCond</th>\n",
       "      <th>BsmtExposure</th>\n",
       "      <th>BsmtFinType1</th>\n",
       "      <th>BsmtFinType2</th>\n",
       "      <th>Electrical</th>\n",
       "      <th>GarageType</th>\n",
       "      <th>GarageYrBlt</th>\n",
       "      <th>GarageFinish</th>\n",
       "      <th>GarageQual</th>\n",
       "      <th>GarageCond</th>\n",
       "    </tr>\n",
       "    <tr>\n",
       "      <th>Id</th>\n",
       "      <th></th>\n",
       "      <th></th>\n",
       "      <th></th>\n",
       "      <th></th>\n",
       "      <th></th>\n",
       "      <th></th>\n",
       "      <th></th>\n",
       "      <th></th>\n",
       "      <th></th>\n",
       "      <th></th>\n",
       "      <th></th>\n",
       "      <th></th>\n",
       "      <th></th>\n",
       "    </tr>\n",
       "  </thead>\n",
       "  <tbody>\n",
       "    <tr>\n",
       "      <th>1</th>\n",
       "      <td>65.0</td>\n",
       "      <td>196.0</td>\n",
       "      <td>Gd</td>\n",
       "      <td>TA</td>\n",
       "      <td>No</td>\n",
       "      <td>GLQ</td>\n",
       "      <td>Unf</td>\n",
       "      <td>SBrkr</td>\n",
       "      <td>Attchd</td>\n",
       "      <td>2003.0</td>\n",
       "      <td>RFn</td>\n",
       "      <td>TA</td>\n",
       "      <td>TA</td>\n",
       "    </tr>\n",
       "    <tr>\n",
       "      <th>2</th>\n",
       "      <td>80.0</td>\n",
       "      <td>0.0</td>\n",
       "      <td>Gd</td>\n",
       "      <td>TA</td>\n",
       "      <td>Gd</td>\n",
       "      <td>ALQ</td>\n",
       "      <td>Unf</td>\n",
       "      <td>SBrkr</td>\n",
       "      <td>Attchd</td>\n",
       "      <td>1976.0</td>\n",
       "      <td>RFn</td>\n",
       "      <td>TA</td>\n",
       "      <td>TA</td>\n",
       "    </tr>\n",
       "    <tr>\n",
       "      <th>3</th>\n",
       "      <td>68.0</td>\n",
       "      <td>162.0</td>\n",
       "      <td>Gd</td>\n",
       "      <td>TA</td>\n",
       "      <td>Mn</td>\n",
       "      <td>GLQ</td>\n",
       "      <td>Unf</td>\n",
       "      <td>SBrkr</td>\n",
       "      <td>Attchd</td>\n",
       "      <td>2001.0</td>\n",
       "      <td>RFn</td>\n",
       "      <td>TA</td>\n",
       "      <td>TA</td>\n",
       "    </tr>\n",
       "    <tr>\n",
       "      <th>4</th>\n",
       "      <td>60.0</td>\n",
       "      <td>0.0</td>\n",
       "      <td>TA</td>\n",
       "      <td>Gd</td>\n",
       "      <td>No</td>\n",
       "      <td>ALQ</td>\n",
       "      <td>Unf</td>\n",
       "      <td>SBrkr</td>\n",
       "      <td>Detchd</td>\n",
       "      <td>1998.0</td>\n",
       "      <td>Unf</td>\n",
       "      <td>TA</td>\n",
       "      <td>TA</td>\n",
       "    </tr>\n",
       "    <tr>\n",
       "      <th>5</th>\n",
       "      <td>84.0</td>\n",
       "      <td>350.0</td>\n",
       "      <td>Gd</td>\n",
       "      <td>TA</td>\n",
       "      <td>Av</td>\n",
       "      <td>GLQ</td>\n",
       "      <td>Unf</td>\n",
       "      <td>SBrkr</td>\n",
       "      <td>Attchd</td>\n",
       "      <td>2000.0</td>\n",
       "      <td>RFn</td>\n",
       "      <td>TA</td>\n",
       "      <td>TA</td>\n",
       "    </tr>\n",
       "    <tr>\n",
       "      <th>6</th>\n",
       "      <td>85.0</td>\n",
       "      <td>0.0</td>\n",
       "      <td>Gd</td>\n",
       "      <td>TA</td>\n",
       "      <td>No</td>\n",
       "      <td>GLQ</td>\n",
       "      <td>Unf</td>\n",
       "      <td>SBrkr</td>\n",
       "      <td>Attchd</td>\n",
       "      <td>1993.0</td>\n",
       "      <td>Unf</td>\n",
       "      <td>TA</td>\n",
       "      <td>TA</td>\n",
       "    </tr>\n",
       "    <tr>\n",
       "      <th>7</th>\n",
       "      <td>75.0</td>\n",
       "      <td>186.0</td>\n",
       "      <td>Ex</td>\n",
       "      <td>TA</td>\n",
       "      <td>Av</td>\n",
       "      <td>GLQ</td>\n",
       "      <td>Unf</td>\n",
       "      <td>SBrkr</td>\n",
       "      <td>Attchd</td>\n",
       "      <td>2004.0</td>\n",
       "      <td>RFn</td>\n",
       "      <td>TA</td>\n",
       "      <td>TA</td>\n",
       "    </tr>\n",
       "    <tr>\n",
       "      <th>8</th>\n",
       "      <td>NaN</td>\n",
       "      <td>240.0</td>\n",
       "      <td>Gd</td>\n",
       "      <td>TA</td>\n",
       "      <td>Mn</td>\n",
       "      <td>ALQ</td>\n",
       "      <td>BLQ</td>\n",
       "      <td>SBrkr</td>\n",
       "      <td>Attchd</td>\n",
       "      <td>1973.0</td>\n",
       "      <td>RFn</td>\n",
       "      <td>TA</td>\n",
       "      <td>TA</td>\n",
       "    </tr>\n",
       "    <tr>\n",
       "      <th>9</th>\n",
       "      <td>51.0</td>\n",
       "      <td>0.0</td>\n",
       "      <td>TA</td>\n",
       "      <td>TA</td>\n",
       "      <td>No</td>\n",
       "      <td>Unf</td>\n",
       "      <td>Unf</td>\n",
       "      <td>FuseF</td>\n",
       "      <td>Detchd</td>\n",
       "      <td>1931.0</td>\n",
       "      <td>Unf</td>\n",
       "      <td>Fa</td>\n",
       "      <td>TA</td>\n",
       "    </tr>\n",
       "    <tr>\n",
       "      <th>10</th>\n",
       "      <td>50.0</td>\n",
       "      <td>0.0</td>\n",
       "      <td>TA</td>\n",
       "      <td>TA</td>\n",
       "      <td>No</td>\n",
       "      <td>GLQ</td>\n",
       "      <td>Unf</td>\n",
       "      <td>SBrkr</td>\n",
       "      <td>Attchd</td>\n",
       "      <td>1939.0</td>\n",
       "      <td>RFn</td>\n",
       "      <td>Gd</td>\n",
       "      <td>TA</td>\n",
       "    </tr>\n",
       "    <tr>\n",
       "      <th>11</th>\n",
       "      <td>70.0</td>\n",
       "      <td>0.0</td>\n",
       "      <td>TA</td>\n",
       "      <td>TA</td>\n",
       "      <td>No</td>\n",
       "      <td>Rec</td>\n",
       "      <td>Unf</td>\n",
       "      <td>SBrkr</td>\n",
       "      <td>Detchd</td>\n",
       "      <td>1965.0</td>\n",
       "      <td>Unf</td>\n",
       "      <td>TA</td>\n",
       "      <td>TA</td>\n",
       "    </tr>\n",
       "    <tr>\n",
       "      <th>12</th>\n",
       "      <td>85.0</td>\n",
       "      <td>286.0</td>\n",
       "      <td>Ex</td>\n",
       "      <td>TA</td>\n",
       "      <td>No</td>\n",
       "      <td>GLQ</td>\n",
       "      <td>Unf</td>\n",
       "      <td>SBrkr</td>\n",
       "      <td>BuiltIn</td>\n",
       "      <td>2005.0</td>\n",
       "      <td>Fin</td>\n",
       "      <td>TA</td>\n",
       "      <td>TA</td>\n",
       "    </tr>\n",
       "    <tr>\n",
       "      <th>13</th>\n",
       "      <td>NaN</td>\n",
       "      <td>0.0</td>\n",
       "      <td>TA</td>\n",
       "      <td>TA</td>\n",
       "      <td>No</td>\n",
       "      <td>ALQ</td>\n",
       "      <td>Unf</td>\n",
       "      <td>SBrkr</td>\n",
       "      <td>Detchd</td>\n",
       "      <td>1962.0</td>\n",
       "      <td>Unf</td>\n",
       "      <td>TA</td>\n",
       "      <td>TA</td>\n",
       "    </tr>\n",
       "    <tr>\n",
       "      <th>14</th>\n",
       "      <td>91.0</td>\n",
       "      <td>306.0</td>\n",
       "      <td>Gd</td>\n",
       "      <td>TA</td>\n",
       "      <td>Av</td>\n",
       "      <td>Unf</td>\n",
       "      <td>Unf</td>\n",
       "      <td>SBrkr</td>\n",
       "      <td>Attchd</td>\n",
       "      <td>2006.0</td>\n",
       "      <td>RFn</td>\n",
       "      <td>TA</td>\n",
       "      <td>TA</td>\n",
       "    </tr>\n",
       "    <tr>\n",
       "      <th>15</th>\n",
       "      <td>NaN</td>\n",
       "      <td>212.0</td>\n",
       "      <td>TA</td>\n",
       "      <td>TA</td>\n",
       "      <td>No</td>\n",
       "      <td>BLQ</td>\n",
       "      <td>Unf</td>\n",
       "      <td>SBrkr</td>\n",
       "      <td>Attchd</td>\n",
       "      <td>1960.0</td>\n",
       "      <td>RFn</td>\n",
       "      <td>TA</td>\n",
       "      <td>TA</td>\n",
       "    </tr>\n",
       "    <tr>\n",
       "      <th>16</th>\n",
       "      <td>51.0</td>\n",
       "      <td>0.0</td>\n",
       "      <td>TA</td>\n",
       "      <td>TA</td>\n",
       "      <td>No</td>\n",
       "      <td>Unf</td>\n",
       "      <td>Unf</td>\n",
       "      <td>FuseA</td>\n",
       "      <td>Detchd</td>\n",
       "      <td>1991.0</td>\n",
       "      <td>Unf</td>\n",
       "      <td>TA</td>\n",
       "      <td>TA</td>\n",
       "    </tr>\n",
       "    <tr>\n",
       "      <th>17</th>\n",
       "      <td>NaN</td>\n",
       "      <td>180.0</td>\n",
       "      <td>TA</td>\n",
       "      <td>TA</td>\n",
       "      <td>No</td>\n",
       "      <td>ALQ</td>\n",
       "      <td>Unf</td>\n",
       "      <td>SBrkr</td>\n",
       "      <td>Attchd</td>\n",
       "      <td>1970.0</td>\n",
       "      <td>Fin</td>\n",
       "      <td>TA</td>\n",
       "      <td>TA</td>\n",
       "    </tr>\n",
       "    <tr>\n",
       "      <th>18</th>\n",
       "      <td>72.0</td>\n",
       "      <td>0.0</td>\n",
       "      <td>NaN</td>\n",
       "      <td>NaN</td>\n",
       "      <td>NaN</td>\n",
       "      <td>NaN</td>\n",
       "      <td>NaN</td>\n",
       "      <td>SBrkr</td>\n",
       "      <td>CarPort</td>\n",
       "      <td>1967.0</td>\n",
       "      <td>Unf</td>\n",
       "      <td>TA</td>\n",
       "      <td>TA</td>\n",
       "    </tr>\n",
       "    <tr>\n",
       "      <th>19</th>\n",
       "      <td>66.0</td>\n",
       "      <td>0.0</td>\n",
       "      <td>TA</td>\n",
       "      <td>TA</td>\n",
       "      <td>No</td>\n",
       "      <td>GLQ</td>\n",
       "      <td>Unf</td>\n",
       "      <td>SBrkr</td>\n",
       "      <td>Detchd</td>\n",
       "      <td>2004.0</td>\n",
       "      <td>Unf</td>\n",
       "      <td>TA</td>\n",
       "      <td>TA</td>\n",
       "    </tr>\n",
       "    <tr>\n",
       "      <th>20</th>\n",
       "      <td>70.0</td>\n",
       "      <td>0.0</td>\n",
       "      <td>TA</td>\n",
       "      <td>TA</td>\n",
       "      <td>No</td>\n",
       "      <td>LwQ</td>\n",
       "      <td>Unf</td>\n",
       "      <td>SBrkr</td>\n",
       "      <td>Attchd</td>\n",
       "      <td>1958.0</td>\n",
       "      <td>Unf</td>\n",
       "      <td>TA</td>\n",
       "      <td>TA</td>\n",
       "    </tr>\n",
       "  </tbody>\n",
       "</table>\n",
       "</div>"
      ],
      "text/plain": [
       "    LotFrontage  MasVnrArea BsmtQual BsmtCond BsmtExposure BsmtFinType1  \\\n",
       "Id                                                                        \n",
       "1          65.0       196.0       Gd       TA           No          GLQ   \n",
       "2          80.0         0.0       Gd       TA           Gd          ALQ   \n",
       "3          68.0       162.0       Gd       TA           Mn          GLQ   \n",
       "4          60.0         0.0       TA       Gd           No          ALQ   \n",
       "5          84.0       350.0       Gd       TA           Av          GLQ   \n",
       "6          85.0         0.0       Gd       TA           No          GLQ   \n",
       "7          75.0       186.0       Ex       TA           Av          GLQ   \n",
       "8           NaN       240.0       Gd       TA           Mn          ALQ   \n",
       "9          51.0         0.0       TA       TA           No          Unf   \n",
       "10         50.0         0.0       TA       TA           No          GLQ   \n",
       "11         70.0         0.0       TA       TA           No          Rec   \n",
       "12         85.0       286.0       Ex       TA           No          GLQ   \n",
       "13          NaN         0.0       TA       TA           No          ALQ   \n",
       "14         91.0       306.0       Gd       TA           Av          Unf   \n",
       "15          NaN       212.0       TA       TA           No          BLQ   \n",
       "16         51.0         0.0       TA       TA           No          Unf   \n",
       "17          NaN       180.0       TA       TA           No          ALQ   \n",
       "18         72.0         0.0      NaN      NaN          NaN          NaN   \n",
       "19         66.0         0.0       TA       TA           No          GLQ   \n",
       "20         70.0         0.0       TA       TA           No          LwQ   \n",
       "\n",
       "   BsmtFinType2 Electrical GarageType  GarageYrBlt GarageFinish GarageQual  \\\n",
       "Id                                                                           \n",
       "1           Unf      SBrkr     Attchd       2003.0          RFn         TA   \n",
       "2           Unf      SBrkr     Attchd       1976.0          RFn         TA   \n",
       "3           Unf      SBrkr     Attchd       2001.0          RFn         TA   \n",
       "4           Unf      SBrkr     Detchd       1998.0          Unf         TA   \n",
       "5           Unf      SBrkr     Attchd       2000.0          RFn         TA   \n",
       "6           Unf      SBrkr     Attchd       1993.0          Unf         TA   \n",
       "7           Unf      SBrkr     Attchd       2004.0          RFn         TA   \n",
       "8           BLQ      SBrkr     Attchd       1973.0          RFn         TA   \n",
       "9           Unf      FuseF     Detchd       1931.0          Unf         Fa   \n",
       "10          Unf      SBrkr     Attchd       1939.0          RFn         Gd   \n",
       "11          Unf      SBrkr     Detchd       1965.0          Unf         TA   \n",
       "12          Unf      SBrkr    BuiltIn       2005.0          Fin         TA   \n",
       "13          Unf      SBrkr     Detchd       1962.0          Unf         TA   \n",
       "14          Unf      SBrkr     Attchd       2006.0          RFn         TA   \n",
       "15          Unf      SBrkr     Attchd       1960.0          RFn         TA   \n",
       "16          Unf      FuseA     Detchd       1991.0          Unf         TA   \n",
       "17          Unf      SBrkr     Attchd       1970.0          Fin         TA   \n",
       "18          NaN      SBrkr    CarPort       1967.0          Unf         TA   \n",
       "19          Unf      SBrkr     Detchd       2004.0          Unf         TA   \n",
       "20          Unf      SBrkr     Attchd       1958.0          Unf         TA   \n",
       "\n",
       "   GarageCond  \n",
       "Id             \n",
       "1          TA  \n",
       "2          TA  \n",
       "3          TA  \n",
       "4          TA  \n",
       "5          TA  \n",
       "6          TA  \n",
       "7          TA  \n",
       "8          TA  \n",
       "9          TA  \n",
       "10         TA  \n",
       "11         TA  \n",
       "12         TA  \n",
       "13         TA  \n",
       "14         TA  \n",
       "15         TA  \n",
       "16         TA  \n",
       "17         TA  \n",
       "18         TA  \n",
       "19         TA  \n",
       "20         TA  "
      ]
     },
     "execution_count": 10,
     "metadata": {},
     "output_type": "execute_result"
    }
   ],
   "source": [
    "#Inspect remaining columns with NaNs\n",
    "columns_with_nan = []\n",
    "\n",
    "for col in home_data2.columns:\n",
    "    if home_data2[col].isnull().sum() > 0:\n",
    "        columns_with_nan.append(col)\n",
    "\n",
    "home_data2[columns_with_nan].head(20)"
   ]
  },
  {
   "cell_type": "code",
   "execution_count": 11,
   "id": "b49f069d",
   "metadata": {
    "_cell_guid": "d6861cfb-ffaa-4507-8a75-7f3401d58ef8",
    "_uuid": "f85f1dc9-2611-4fc4-9b17-fd798adb942c",
    "collapsed": false,
    "execution": {
     "iopub.execute_input": "2024-05-15T23:29:07.254517Z",
     "iopub.status.busy": "2024-05-15T23:29:07.253475Z",
     "iopub.status.idle": "2024-05-15T23:29:07.261411Z",
     "shell.execute_reply": "2024-05-15T23:29:07.260276Z"
    },
    "jupyter": {
     "outputs_hidden": false
    },
    "papermill": {
     "duration": 0.032636,
     "end_time": "2024-05-15T23:29:07.264187",
     "exception": false,
     "start_time": "2024-05-15T23:29:07.231551",
     "status": "completed"
    },
    "tags": []
   },
   "outputs": [],
   "source": [
    "# fill NaNs in MasVnrArea (to 0), GarageYrBlt (to YearBuilt), LotFrontage to mean\n",
    "\n",
    "home_data2['MasVnrArea'] = home_data2['MasVnrArea'].fillna(0)\n",
    "home_data2['GarageYrBlt'] = home_data2['GarageYrBlt'].fillna(home_data2['YearBuilt'])\n",
    "home_data2['LotFrontage'] = home_data2['LotFrontage'].fillna(home_data2['LotFrontage'].mean())"
   ]
  },
  {
   "cell_type": "code",
   "execution_count": 12,
   "id": "906c9909",
   "metadata": {
    "_cell_guid": "75e968c5-e462-4cba-b689-f6af7fb6ad94",
    "_uuid": "9ae65942-0be4-4d4f-8273-16a227e98112",
    "collapsed": false,
    "execution": {
     "iopub.execute_input": "2024-05-15T23:29:07.308238Z",
     "iopub.status.busy": "2024-05-15T23:29:07.307761Z",
     "iopub.status.idle": "2024-05-15T23:29:07.313271Z",
     "shell.execute_reply": "2024-05-15T23:29:07.311968Z"
    },
    "jupyter": {
     "outputs_hidden": false
    },
    "papermill": {
     "duration": 0.030973,
     "end_time": "2024-05-15T23:29:07.315772",
     "exception": false,
     "start_time": "2024-05-15T23:29:07.284799",
     "status": "completed"
    },
    "tags": []
   },
   "outputs": [],
   "source": [
    "#import matplotlib.pyplot as plt\n",
    "#plt.scatter(x = home_data2['YearBuilt'], y = home_data2['GarageYrBlt'])"
   ]
  },
  {
   "cell_type": "code",
   "execution_count": 13,
   "id": "c279e43f",
   "metadata": {
    "_cell_guid": "a4220a62-1784-49ab-87e6-855b2f62fc8f",
    "_uuid": "4ecad020-7957-4303-8812-a408c4b7ab66",
    "collapsed": false,
    "execution": {
     "iopub.execute_input": "2024-05-15T23:29:07.359674Z",
     "iopub.status.busy": "2024-05-15T23:29:07.358458Z",
     "iopub.status.idle": "2024-05-15T23:29:07.405804Z",
     "shell.execute_reply": "2024-05-15T23:29:07.403989Z"
    },
    "jupyter": {
     "outputs_hidden": false
    },
    "papermill": {
     "duration": 0.07243,
     "end_time": "2024-05-15T23:29:07.408917",
     "exception": false,
     "start_time": "2024-05-15T23:29:07.336487",
     "status": "completed"
    },
    "tags": []
   },
   "outputs": [
    {
     "name": "stdout",
     "output_type": "stream",
     "text": [
      "BsmtQual\n",
      "TA     0.444521\n",
      "Gd     0.423288\n",
      "Ex     0.082877\n",
      "NaN    0.025342\n",
      "Fa     0.023973\n",
      "Name: proportion, dtype: float64\n",
      "BsmtCond\n",
      "TA     0.897945\n",
      "Gd     0.044521\n",
      "Fa     0.030822\n",
      "NaN    0.025342\n",
      "Po     0.001370\n",
      "Name: proportion, dtype: float64\n",
      "BsmtExposure\n",
      "No     0.652740\n",
      "Av     0.151370\n",
      "Gd     0.091781\n",
      "Mn     0.078082\n",
      "NaN    0.026027\n",
      "Name: proportion, dtype: float64\n",
      "BsmtFinType1\n",
      "Unf    0.294521\n",
      "GLQ    0.286301\n",
      "ALQ    0.150685\n",
      "BLQ    0.101370\n",
      "Rec    0.091096\n",
      "LwQ    0.050685\n",
      "NaN    0.025342\n",
      "Name: proportion, dtype: float64\n",
      "BsmtFinType2\n",
      "Unf    0.860274\n",
      "Rec    0.036986\n",
      "LwQ    0.031507\n",
      "NaN    0.026027\n",
      "BLQ    0.022603\n",
      "ALQ    0.013014\n",
      "GLQ    0.009589\n",
      "Name: proportion, dtype: float64\n",
      "Electrical\n",
      "SBrkr    0.913699\n",
      "FuseA    0.064384\n",
      "FuseF    0.018493\n",
      "FuseP    0.002055\n",
      "Mix      0.000685\n",
      "NaN      0.000685\n",
      "Name: proportion, dtype: float64\n",
      "GarageType\n",
      "Attchd     0.595890\n",
      "Detchd     0.265068\n",
      "BuiltIn    0.060274\n",
      "NaN        0.055479\n",
      "Basment    0.013014\n",
      "CarPort    0.006164\n",
      "2Types     0.004110\n",
      "Name: proportion, dtype: float64\n",
      "GarageFinish\n",
      "Unf    0.414384\n",
      "RFn    0.289041\n",
      "Fin    0.241096\n",
      "NaN    0.055479\n",
      "Name: proportion, dtype: float64\n",
      "GarageQual\n",
      "TA     0.897945\n",
      "NaN    0.055479\n",
      "Fa     0.032877\n",
      "Gd     0.009589\n",
      "Ex     0.002055\n",
      "Po     0.002055\n",
      "Name: proportion, dtype: float64\n",
      "GarageCond\n",
      "TA     0.908219\n",
      "NaN    0.055479\n",
      "Fa     0.023973\n",
      "Gd     0.006164\n",
      "Po     0.004795\n",
      "Ex     0.001370\n",
      "Name: proportion, dtype: float64\n"
     ]
    }
   ],
   "source": [
    "home_data3 = home_data2.copy()\n",
    "\n",
    "for col in home_data3.columns:\n",
    "    if home_data3[col].isnull().sum() > 0:\n",
    "        print(home_data3[col].value_counts(normalize=True, dropna=False))"
   ]
  },
  {
   "cell_type": "code",
   "execution_count": 14,
   "id": "5a93d5a9",
   "metadata": {
    "_cell_guid": "54a1dfd5-397d-4c20-8c5e-e4b357b984bd",
    "_uuid": "9fc338d4-d862-41e1-8ba8-292317b35613",
    "collapsed": false,
    "execution": {
     "iopub.execute_input": "2024-05-15T23:29:07.452494Z",
     "iopub.status.busy": "2024-05-15T23:29:07.452093Z",
     "iopub.status.idle": "2024-05-15T23:29:07.461896Z",
     "shell.execute_reply": "2024-05-15T23:29:07.460441Z"
    },
    "jupyter": {
     "outputs_hidden": false
    },
    "papermill": {
     "duration": 0.034548,
     "end_time": "2024-05-15T23:29:07.464685",
     "exception": false,
     "start_time": "2024-05-15T23:29:07.430137",
     "status": "completed"
    },
    "tags": []
   },
   "outputs": [],
   "source": [
    "# if GarageType = NaN, no garage\n",
    "# drop BsmtExposure and BsmtFinType2 cause they dont match other basements\n",
    "\n",
    "home_data3['GarageType'] = home_data3['GarageType'].fillna('non-existent')\n",
    "del(home_data3['BsmtExposure'])\n",
    "del(home_data3['BsmtFinType2'])"
   ]
  },
  {
   "cell_type": "code",
   "execution_count": 15,
   "id": "30a77575",
   "metadata": {
    "_cell_guid": "31319e99-cdeb-4f44-ac3b-20f7f92ff551",
    "_uuid": "edff4b8e-178e-4227-ba5e-5688cb70732d",
    "collapsed": false,
    "execution": {
     "iopub.execute_input": "2024-05-15T23:29:07.581396Z",
     "iopub.status.busy": "2024-05-15T23:29:07.580988Z",
     "iopub.status.idle": "2024-05-15T23:29:07.644941Z",
     "shell.execute_reply": "2024-05-15T23:29:07.643545Z"
    },
    "jupyter": {
     "outputs_hidden": false
    },
    "papermill": {
     "duration": 0.091406,
     "end_time": "2024-05-15T23:29:07.647760",
     "exception": false,
     "start_time": "2024-05-15T23:29:07.556354",
     "status": "completed"
    },
    "tags": []
   },
   "outputs": [
    {
     "name": "stderr",
     "output_type": "stream",
     "text": [
      "/tmp/ipykernel_19/605756754.py:64: DeprecationWarning: is_categorical_dtype is deprecated and will be removed in a future version. Use isinstance(dtype, pd.CategoricalDtype) instead\n",
      "  elif df[col].isnull().sum() > 0 and fill_categorical_with_mode and pd.api.types.is_categorical_dtype(df[col]):\n"
     ]
    },
    {
     "data": {
      "text/plain": [
       "['BsmtQual',\n",
       " 'BsmtCond',\n",
       " 'BsmtFinType1',\n",
       " 'Electrical',\n",
       " 'GarageFinish',\n",
       " 'GarageQual',\n",
       " 'GarageCond']"
      ]
     },
     "execution_count": 15,
     "metadata": {},
     "output_type": "execute_result"
    }
   ],
   "source": [
    "# Impute remaining NaNs\n",
    "impute_nan_custom(home_data3, method_numerical='mean', value_categorical='non-existent', fill_categorical_with_mode=True)"
   ]
  },
  {
   "cell_type": "code",
   "execution_count": 16,
   "id": "1590801c",
   "metadata": {
    "_cell_guid": "0dce2358-9ac5-4583-b7ee-fe29a375e159",
    "_uuid": "ac53bc64-9491-4172-a962-8a8ae5cba9f9",
    "collapsed": false,
    "execution": {
     "iopub.execute_input": "2024-05-15T23:29:07.695417Z",
     "iopub.status.busy": "2024-05-15T23:29:07.695032Z",
     "iopub.status.idle": "2024-05-15T23:29:07.715581Z",
     "shell.execute_reply": "2024-05-15T23:29:07.714193Z"
    },
    "jupyter": {
     "outputs_hidden": false
    },
    "papermill": {
     "duration": 0.048393,
     "end_time": "2024-05-15T23:29:07.718306",
     "exception": false,
     "start_time": "2024-05-15T23:29:07.669913",
     "status": "completed"
    },
    "tags": []
   },
   "outputs": [
    {
     "data": {
      "text/plain": [
       "MSSubClass       0\n",
       "MSZoning         0\n",
       "LotFrontage      0\n",
       "LotArea          0\n",
       "Street           0\n",
       "LotShape         0\n",
       "LandContour      0\n",
       "Utilities        0\n",
       "LotConfig        0\n",
       "LandSlope        0\n",
       "Neighborhood     0\n",
       "Condition1       0\n",
       "Condition2       0\n",
       "BldgType         0\n",
       "HouseStyle       0\n",
       "OverallQual      0\n",
       "OverallCond      0\n",
       "YearBuilt        0\n",
       "YearRemodAdd     0\n",
       "RoofStyle        0\n",
       "RoofMatl         0\n",
       "Exterior1st      0\n",
       "Exterior2nd      0\n",
       "MasVnrArea       0\n",
       "ExterQual        0\n",
       "ExterCond        0\n",
       "Foundation       0\n",
       "BsmtQual         0\n",
       "BsmtCond         0\n",
       "BsmtFinType1     0\n",
       "BsmtFinSF1       0\n",
       "BsmtFinSF2       0\n",
       "BsmtUnfSF        0\n",
       "TotalBsmtSF      0\n",
       "Heating          0\n",
       "HeatingQC        0\n",
       "CentralAir       0\n",
       "Electrical       0\n",
       "1stFlrSF         0\n",
       "2ndFlrSF         0\n",
       "LowQualFinSF     0\n",
       "GrLivArea        0\n",
       "BsmtFullBath     0\n",
       "BsmtHalfBath     0\n",
       "FullBath         0\n",
       "HalfBath         0\n",
       "BedroomAbvGr     0\n",
       "KitchenAbvGr     0\n",
       "KitchenQual      0\n",
       "TotRmsAbvGrd     0\n",
       "Functional       0\n",
       "Fireplaces       0\n",
       "GarageType       0\n",
       "GarageYrBlt      0\n",
       "GarageFinish     0\n",
       "GarageCars       0\n",
       "GarageArea       0\n",
       "GarageQual       0\n",
       "GarageCond       0\n",
       "PavedDrive       0\n",
       "WoodDeckSF       0\n",
       "OpenPorchSF      0\n",
       "EnclosedPorch    0\n",
       "3SsnPorch        0\n",
       "ScreenPorch      0\n",
       "PoolArea         0\n",
       "MiscVal          0\n",
       "MoSold           0\n",
       "YrSold           0\n",
       "SaleType         0\n",
       "SaleCondition    0\n",
       "SalePrice        0\n",
       "dtype: int64"
      ]
     },
     "execution_count": 16,
     "metadata": {},
     "output_type": "execute_result"
    }
   ],
   "source": [
    "home_data3.isnull().sum()"
   ]
  },
  {
   "cell_type": "markdown",
   "id": "aee271b9",
   "metadata": {
    "_cell_guid": "b0d54c75-7edd-4067-9a48-0b161c71bb54",
    "_uuid": "11c2f804-3e5d-4d31-b69f-ba9cf57f7be5",
    "papermill": {
     "duration": 0.021051,
     "end_time": "2024-05-15T23:29:07.760764",
     "exception": false,
     "start_time": "2024-05-15T23:29:07.739713",
     "status": "completed"
    },
    "tags": []
   },
   "source": [
    "# drop not informative and group low frequent categories into 'other' category"
   ]
  },
  {
   "cell_type": "code",
   "execution_count": 17,
   "id": "419612c3",
   "metadata": {
    "_cell_guid": "4ac63976-5b59-44f6-9467-39c1447bae23",
    "_uuid": "a8e1627c-5484-46d9-8ef1-16e09dfa9691",
    "collapsed": false,
    "execution": {
     "iopub.execute_input": "2024-05-15T23:29:07.809670Z",
     "iopub.status.busy": "2024-05-15T23:29:07.808978Z",
     "iopub.status.idle": "2024-05-15T23:29:07.872592Z",
     "shell.execute_reply": "2024-05-15T23:29:07.871211Z"
    },
    "jupyter": {
     "outputs_hidden": false
    },
    "papermill": {
     "duration": 0.090505,
     "end_time": "2024-05-15T23:29:07.875764",
     "exception": false,
     "start_time": "2024-05-15T23:29:07.785259",
     "status": "completed"
    },
    "tags": []
   },
   "outputs": [],
   "source": [
    "home_data4 = home_data3.copy()\n",
    "#remove low informative\n",
    "drop_notinformative(home_data4, threshold=0.9)"
   ]
  },
  {
   "cell_type": "code",
   "execution_count": 18,
   "id": "dfc62d63",
   "metadata": {
    "_cell_guid": "a049fb27-51b8-425f-b267-3813246771ce",
    "_uuid": "63f3698b-ce9f-48c9-87ea-d0bbf3228f35",
    "collapsed": false,
    "execution": {
     "iopub.execute_input": "2024-05-15T23:29:07.922223Z",
     "iopub.status.busy": "2024-05-15T23:29:07.921778Z",
     "iopub.status.idle": "2024-05-15T23:29:08.001800Z",
     "shell.execute_reply": "2024-05-15T23:29:08.000581Z"
    },
    "jupyter": {
     "outputs_hidden": false
    },
    "papermill": {
     "duration": 0.109825,
     "end_time": "2024-05-15T23:29:08.007130",
     "exception": false,
     "start_time": "2024-05-15T23:29:07.897305",
     "status": "completed"
    },
    "tags": []
   },
   "outputs": [
    {
     "name": "stdout",
     "output_type": "stream",
     "text": [
      "\n",
      "Value Counts for MSZoning after replacement:\n",
      "MSZoning\n",
      "RL       0.788356\n",
      "RM       0.149315\n",
      "FV       0.044521\n",
      "other    0.017808\n",
      "Name: proportion, dtype: float64\n",
      "\n",
      "** NEW MSZoning created correctly**\n",
      "\n",
      "Value Counts for LotShape after replacement:\n",
      "LotShape\n",
      "Reg      0.633562\n",
      "IR1      0.331507\n",
      "other    0.034932\n",
      "Name: proportion, dtype: float64\n",
      "\n",
      "** NEW LotShape created correctly**\n",
      "\n",
      "Value Counts for LandContour after replacement:\n",
      "LandContour\n",
      "Lvl      0.897945\n",
      "Bnk      0.043151\n",
      "HLS      0.034247\n",
      "other    0.024658\n",
      "Name: proportion, dtype: float64\n",
      "\n",
      "** NEW LandContour created correctly**\n",
      "\n",
      "Value Counts for LotConfig after replacement:\n",
      "LotConfig\n",
      "Inside     0.720548\n",
      "Corner     0.180137\n",
      "CulDSac    0.064384\n",
      "FR2        0.032192\n",
      "other      0.002740\n",
      "Name: proportion, dtype: float64\n",
      "\n",
      "** NEW LotConfig created correctly**\n",
      "\n",
      "Value Counts for Neighborhood after replacement:\n",
      "Neighborhood\n",
      "other      0.182192\n",
      "NAmes      0.154110\n",
      "CollgCr    0.102740\n",
      "OldTown    0.077397\n",
      "Edwards    0.068493\n",
      "Somerst    0.058904\n",
      "Gilbert    0.054110\n",
      "NridgHt    0.052740\n",
      "Sawyer     0.050685\n",
      "NWAmes     0.050000\n",
      "SawyerW    0.040411\n",
      "BrkSide    0.039726\n",
      "Crawfor    0.034932\n",
      "Mitchel    0.033562\n",
      "Name: proportion, dtype: float64\n",
      "\n",
      "** NEW Neighborhood created correctly**\n",
      "\n",
      "Value Counts for Condition1 after replacement:\n",
      "Condition1\n",
      "Norm      0.863014\n",
      "Feedr     0.055479\n",
      "other     0.048630\n",
      "Artery    0.032877\n",
      "Name: proportion, dtype: float64\n",
      "\n",
      "** NEW Condition1 created correctly**\n",
      "\n",
      "Value Counts for BldgType after replacement:\n",
      "BldgType\n",
      "1Fam      0.835616\n",
      "TwnhsE    0.078082\n",
      "other     0.050685\n",
      "Duplex    0.035616\n",
      "Name: proportion, dtype: float64\n",
      "\n",
      "** NEW BldgType created correctly**\n",
      "\n",
      "Value Counts for HouseStyle after replacement:\n",
      "HouseStyle\n",
      "1Story    0.497260\n",
      "2Story    0.304795\n",
      "1.5Fin    0.105479\n",
      "other     0.047945\n",
      "SLvl      0.044521\n",
      "Name: proportion, dtype: float64\n",
      "\n",
      "** NEW HouseStyle created correctly**\n",
      "\n",
      "Value Counts for RoofStyle after replacement:\n",
      "RoofStyle\n",
      "Gable    0.781507\n",
      "Hip      0.195890\n",
      "other    0.022603\n",
      "Name: proportion, dtype: float64\n",
      "\n",
      "** NEW RoofStyle created correctly**\n",
      "\n",
      "Value Counts for Exterior1st after replacement:\n",
      "Exterior1st\n",
      "VinylSd    0.352740\n",
      "HdBoard    0.152055\n",
      "MetalSd    0.150685\n",
      "Wd Sdng    0.141096\n",
      "other      0.087671\n",
      "Plywood    0.073973\n",
      "CemntBd    0.041781\n",
      "Name: proportion, dtype: float64\n",
      "\n",
      "** NEW Exterior1st created correctly**\n",
      "\n",
      "Value Counts for Exterior2nd after replacement:\n",
      "Exterior2nd\n",
      "VinylSd    0.345205\n",
      "MetalSd    0.146575\n",
      "HdBoard    0.141781\n",
      "Wd Sdng    0.134932\n",
      "Plywood    0.097260\n",
      "other      0.093151\n",
      "CmentBd    0.041096\n",
      "Name: proportion, dtype: float64\n",
      "\n",
      "** NEW Exterior2nd created correctly**\n",
      "\n",
      "Value Counts for ExterQual after replacement:\n",
      "ExterQual\n",
      "TA       0.620548\n",
      "other    0.379452\n",
      "Name: proportion, dtype: float64\n",
      "\n",
      "** NEW ExterQual created correctly**\n",
      "\n",
      "Value Counts for ExterCond after replacement:\n",
      "ExterCond\n",
      "TA       0.878082\n",
      "other    0.121918\n",
      "Name: proportion, dtype: float64\n",
      "\n",
      "** NEW ExterCond created correctly**\n",
      "\n",
      "Value Counts for Foundation after replacement:\n",
      "Foundation\n",
      "other     0.456849\n",
      "PConc     0.443151\n",
      "BrkTil    0.100000\n",
      "Name: proportion, dtype: float64\n",
      "\n",
      "** NEW Foundation created correctly**\n",
      "\n",
      "Value Counts for BsmtQual after replacement:\n",
      "BsmtQual\n",
      "other    0.555479\n",
      "TA       0.444521\n",
      "Name: proportion, dtype: float64\n",
      "\n",
      "** NEW BsmtQual created correctly**\n",
      "\n",
      "Value Counts for BsmtCond after replacement:\n",
      "BsmtCond\n",
      "TA       0.897945\n",
      "other    0.102055\n",
      "Name: proportion, dtype: float64\n",
      "\n",
      "** NEW BsmtCond created correctly**\n",
      "\n",
      "Value Counts for BsmtFinType1 after replacement:\n",
      "BsmtFinType1\n",
      "Unf      0.294521\n",
      "GLQ      0.286301\n",
      "ALQ      0.150685\n",
      "BLQ      0.101370\n",
      "Rec      0.091096\n",
      "LwQ      0.050685\n",
      "other    0.025342\n",
      "Name: proportion, dtype: float64\n",
      "\n",
      "** NEW BsmtFinType1 created correctly**\n",
      "\n",
      "Value Counts for HeatingQC after replacement:\n",
      "HeatingQC\n",
      "other    0.706849\n",
      "TA       0.293151\n",
      "Name: proportion, dtype: float64\n",
      "\n",
      "** NEW HeatingQC created correctly**\n",
      "\n",
      "Value Counts for KitchenQual after replacement:\n",
      "KitchenQual\n",
      "TA       0.503425\n",
      "other    0.496575\n",
      "Name: proportion, dtype: float64\n",
      "\n",
      "** NEW KitchenQual created correctly**\n",
      "\n",
      "Value Counts for GarageType after replacement:\n",
      "GarageType\n",
      "Attchd     0.595890\n",
      "Detchd     0.265068\n",
      "other      0.078767\n",
      "BuiltIn    0.060274\n",
      "Name: proportion, dtype: float64\n",
      "\n",
      "** NEW GarageType created correctly**\n",
      "\n",
      "Value Counts for GarageFinish after replacement:\n",
      "GarageFinish\n",
      "Unf      0.414384\n",
      "RFn      0.289041\n",
      "Fin      0.241096\n",
      "other    0.055479\n",
      "Name: proportion, dtype: float64\n",
      "\n",
      "** NEW GarageFinish created correctly**\n",
      "\n",
      "Value Counts for GarageQual after replacement:\n",
      "GarageQual\n",
      "TA       0.897945\n",
      "other    0.102055\n",
      "Name: proportion, dtype: float64\n",
      "\n",
      "** NEW GarageQual created correctly**\n",
      "\n",
      "Value Counts for SaleType after replacement:\n",
      "SaleType\n",
      "WD       0.867808\n",
      "New      0.083562\n",
      "other    0.048630\n",
      "Name: proportion, dtype: float64\n",
      "\n",
      "** NEW SaleType created correctly**\n",
      "\n",
      "Value Counts for SaleCondition after replacement:\n",
      "SaleCondition\n",
      "Normal     0.820548\n",
      "Partial    0.085616\n",
      "Abnorml    0.069178\n",
      "other      0.024658\n",
      "Name: proportion, dtype: float64\n",
      "\n",
      "** NEW SaleCondition created correctly**\n"
     ]
    }
   ],
   "source": [
    "#Replace less frequent\n",
    "replace_less_frequent(home_data4, list_col=get_categorical(home_data4), threshold=0.03, new_value='other')"
   ]
  },
  {
   "cell_type": "markdown",
   "id": "ad570d29",
   "metadata": {
    "_cell_guid": "2a689bd3-d6d3-4bd4-920b-e26bf7f9d9cd",
    "_uuid": "aed6a740-e5f3-44c6-a989-c57c33c5297e",
    "papermill": {
     "duration": 0.021748,
     "end_time": "2024-05-15T23:29:08.051369",
     "exception": false,
     "start_time": "2024-05-15T23:29:08.029621",
     "status": "completed"
    },
    "tags": []
   },
   "source": [
    "# can new variables be created or modified?"
   ]
  },
  {
   "cell_type": "code",
   "execution_count": 19,
   "id": "cd3cb7a1",
   "metadata": {
    "_cell_guid": "52435fa6-07e0-47ff-bb82-12c379652075",
    "_uuid": "bc11414a-7d98-4bcd-a70a-6b625d26e187",
    "collapsed": false,
    "execution": {
     "iopub.execute_input": "2024-05-15T23:29:08.099850Z",
     "iopub.status.busy": "2024-05-15T23:29:08.099320Z",
     "iopub.status.idle": "2024-05-15T23:29:08.107309Z",
     "shell.execute_reply": "2024-05-15T23:29:08.106241Z"
    },
    "jupyter": {
     "outputs_hidden": false
    },
    "papermill": {
     "duration": 0.036041,
     "end_time": "2024-05-15T23:29:08.109921",
     "exception": false,
     "start_time": "2024-05-15T23:29:08.073880",
     "status": "completed"
    },
    "tags": []
   },
   "outputs": [],
   "source": [
    "#MSSubClass to string\n",
    "home_data4['MSSubClass'] = home_data4['MSSubClass'].astype(str)"
   ]
  },
  {
   "cell_type": "code",
   "execution_count": 20,
   "id": "84eceee2",
   "metadata": {
    "_cell_guid": "781f436a-5935-4e01-9716-e7459ad85479",
    "_uuid": "0aafa9f7-25d0-4218-ac68-364627d9b429",
    "collapsed": false,
    "execution": {
     "iopub.execute_input": "2024-05-15T23:29:08.156886Z",
     "iopub.status.busy": "2024-05-15T23:29:08.155833Z",
     "iopub.status.idle": "2024-05-15T23:29:08.188222Z",
     "shell.execute_reply": "2024-05-15T23:29:08.186339Z"
    },
    "jupyter": {
     "outputs_hidden": false
    },
    "papermill": {
     "duration": 0.05907,
     "end_time": "2024-05-15T23:29:08.190962",
     "exception": false,
     "start_time": "2024-05-15T23:29:08.131892",
     "status": "completed"
    },
    "tags": []
   },
   "outputs": [
    {
     "name": "stdout",
     "output_type": "stream",
     "text": [
      "<class 'pandas.core.frame.DataFrame'>\n",
      "Index: 1460 entries, 1 to 1460\n",
      "Data columns (total 54 columns):\n",
      " #   Column         Non-Null Count  Dtype  \n",
      "---  ------         --------------  -----  \n",
      " 0   MSSubClass     1460 non-null   object \n",
      " 1   MSZoning       1460 non-null   object \n",
      " 2   LotFrontage    1460 non-null   float64\n",
      " 3   LotArea        1460 non-null   int64  \n",
      " 4   LotShape       1460 non-null   object \n",
      " 5   LandContour    1460 non-null   object \n",
      " 6   LotConfig      1460 non-null   object \n",
      " 7   Neighborhood   1460 non-null   object \n",
      " 8   Condition1     1460 non-null   object \n",
      " 9   BldgType       1460 non-null   object \n",
      " 10  HouseStyle     1460 non-null   object \n",
      " 11  OverallQual    1460 non-null   int64  \n",
      " 12  OverallCond    1460 non-null   int64  \n",
      " 13  YearBuilt      1460 non-null   int64  \n",
      " 14  YearRemodAdd   1460 non-null   int64  \n",
      " 15  RoofStyle      1460 non-null   object \n",
      " 16  Exterior1st    1460 non-null   object \n",
      " 17  Exterior2nd    1460 non-null   object \n",
      " 18  MasVnrArea     1460 non-null   float64\n",
      " 19  ExterQual      1460 non-null   object \n",
      " 20  ExterCond      1460 non-null   object \n",
      " 21  Foundation     1460 non-null   object \n",
      " 22  BsmtQual       1460 non-null   object \n",
      " 23  BsmtCond       1460 non-null   object \n",
      " 24  BsmtFinType1   1460 non-null   object \n",
      " 25  BsmtFinSF1     1460 non-null   int64  \n",
      " 26  BsmtFinSF2     1460 non-null   int64  \n",
      " 27  BsmtUnfSF      1460 non-null   int64  \n",
      " 28  TotalBsmtSF    1460 non-null   int64  \n",
      " 29  HeatingQC      1460 non-null   object \n",
      " 30  1stFlrSF       1460 non-null   int64  \n",
      " 31  2ndFlrSF       1460 non-null   int64  \n",
      " 32  GrLivArea      1460 non-null   int64  \n",
      " 33  BsmtFullBath   1460 non-null   int64  \n",
      " 34  FullBath       1460 non-null   int64  \n",
      " 35  HalfBath       1460 non-null   int64  \n",
      " 36  BedroomAbvGr   1460 non-null   int64  \n",
      " 37  KitchenQual    1460 non-null   object \n",
      " 38  TotRmsAbvGrd   1460 non-null   int64  \n",
      " 39  Fireplaces     1460 non-null   int64  \n",
      " 40  GarageType     1460 non-null   object \n",
      " 41  GarageYrBlt    1460 non-null   float64\n",
      " 42  GarageFinish   1460 non-null   object \n",
      " 43  GarageCars     1460 non-null   int64  \n",
      " 44  GarageArea     1460 non-null   int64  \n",
      " 45  GarageQual     1460 non-null   object \n",
      " 46  WoodDeckSF     1460 non-null   int64  \n",
      " 47  OpenPorchSF    1460 non-null   int64  \n",
      " 48  EnclosedPorch  1460 non-null   int64  \n",
      " 49  MoSold         1460 non-null   int64  \n",
      " 50  YrSold         1460 non-null   int64  \n",
      " 51  SaleType       1460 non-null   object \n",
      " 52  SaleCondition  1460 non-null   object \n",
      " 53  SalePrice      1460 non-null   int64  \n",
      "dtypes: float64(3), int64(26), object(25)\n",
      "memory usage: 627.3+ KB\n"
     ]
    }
   ],
   "source": [
    "home_data4.info()"
   ]
  },
  {
   "cell_type": "markdown",
   "id": "e28a771f",
   "metadata": {
    "_cell_guid": "546bd320-6b8a-4e34-b835-0c66f7a4ba83",
    "_uuid": "0fa980dd-457b-4ebf-8413-3ff31707e5e3",
    "papermill": {
     "duration": 0.022282,
     "end_time": "2024-05-15T23:29:08.235609",
     "exception": false,
     "start_time": "2024-05-15T23:29:08.213327",
     "status": "completed"
    },
    "tags": []
   },
   "source": [
    "## Hot-code categorical features and scale numerical features"
   ]
  },
  {
   "cell_type": "code",
   "execution_count": 21,
   "id": "928bed72",
   "metadata": {
    "_cell_guid": "2a68ff81-c6c3-43e3-b35a-23ff09f6318d",
    "_uuid": "b009915a-a7b0-4c79-ac66-ff1a65a08400",
    "collapsed": false,
    "execution": {
     "iopub.execute_input": "2024-05-15T23:29:08.282202Z",
     "iopub.status.busy": "2024-05-15T23:29:08.281501Z",
     "iopub.status.idle": "2024-05-15T23:29:08.288780Z",
     "shell.execute_reply": "2024-05-15T23:29:08.287841Z"
    },
    "jupyter": {
     "outputs_hidden": false
    },
    "papermill": {
     "duration": 0.033542,
     "end_time": "2024-05-15T23:29:08.291191",
     "exception": false,
     "start_time": "2024-05-15T23:29:08.257649",
     "status": "completed"
    },
    "tags": []
   },
   "outputs": [
    {
     "data": {
      "text/plain": [
       "\"l_num = []\\nfor col in home_data4.columns:\\n    if 'Year' not in col and 'Yr' not in col:  # Exclude columns with 'Year' or 'Yr'\\n        if home_data4[col].dtype.kind in ['i', 'f']:  # Check if column is numeric (integer or float)\\n            if len(home_data4[col].unique()) > 10:  # Check if numeric column has 4 or fewer unique values\\n                if col != 'SalePrice':\\n                    l_num.append(col)\""
      ]
     },
     "execution_count": 21,
     "metadata": {},
     "output_type": "execute_result"
    }
   ],
   "source": [
    "\"\"\"l_num = []\n",
    "for col in home_data4.columns:\n",
    "    if 'Year' not in col and 'Yr' not in col:  # Exclude columns with 'Year' or 'Yr'\n",
    "        if home_data4[col].dtype.kind in ['i', 'f']:  # Check if column is numeric (integer or float)\n",
    "            if len(home_data4[col].unique()) > 10:  # Check if numeric column has 4 or fewer unique values\n",
    "                if col != 'SalePrice':\n",
    "                    l_num.append(col)\"\"\""
   ]
  },
  {
   "cell_type": "code",
   "execution_count": 22,
   "id": "893d56c2",
   "metadata": {
    "_cell_guid": "0f523083-3442-4eee-bbd8-c019f38cc431",
    "_uuid": "fc1489c4-1b7f-4001-b8ee-f11608cc2e73",
    "collapsed": false,
    "execution": {
     "iopub.execute_input": "2024-05-15T23:29:08.339752Z",
     "iopub.status.busy": "2024-05-15T23:29:08.338292Z",
     "iopub.status.idle": "2024-05-15T23:29:08.346398Z",
     "shell.execute_reply": "2024-05-15T23:29:08.345411Z"
    },
    "jupyter": {
     "outputs_hidden": false
    },
    "papermill": {
     "duration": 0.035823,
     "end_time": "2024-05-15T23:29:08.349138",
     "exception": false,
     "start_time": "2024-05-15T23:29:08.313315",
     "status": "completed"
    },
    "tags": []
   },
   "outputs": [
    {
     "data": {
      "text/plain": [
       "'Minmax scale of numeric variables\\nfrom sklearn.preprocessing import MinMaxScaler\\nscaler = MinMaxScaler()\\n      \\n# scale numerical variables\\nhome_data4[l_num] = scaler.fit_transform(home_data4[l_num])'"
      ]
     },
     "execution_count": 22,
     "metadata": {},
     "output_type": "execute_result"
    }
   ],
   "source": [
    "\"\"\"Minmax scale of numeric variables\n",
    "from sklearn.preprocessing import MinMaxScaler\n",
    "scaler = MinMaxScaler()\n",
    "      \n",
    "# scale numerical variables\n",
    "home_data4[l_num] = scaler.fit_transform(home_data4[l_num])\"\"\""
   ]
  },
  {
   "cell_type": "markdown",
   "id": "78b757a3",
   "metadata": {
    "_cell_guid": "0d7cf26a-8387-4cdd-9064-d9d419ecb34d",
    "_uuid": "d57a0db1-f025-4794-9486-8f6d70fdb64e",
    "papermill": {
     "duration": 0.022796,
     "end_time": "2024-05-15T23:29:08.395467",
     "exception": false,
     "start_time": "2024-05-15T23:29:08.372671",
     "status": "completed"
    },
    "tags": []
   },
   "source": [
    "# Target encoding of categorical variables with more than 4 categories"
   ]
  },
  {
   "cell_type": "code",
   "execution_count": 23,
   "id": "5e092e5a",
   "metadata": {
    "_cell_guid": "1ea9c44a-507a-4142-a3ad-133e59b5c0a5",
    "_uuid": "504d66c5-40e9-433c-b8f7-5d8c7b6da407",
    "collapsed": false,
    "execution": {
     "iopub.execute_input": "2024-05-15T23:29:08.446467Z",
     "iopub.status.busy": "2024-05-15T23:29:08.445254Z",
     "iopub.status.idle": "2024-05-15T23:29:08.450319Z",
     "shell.execute_reply": "2024-05-15T23:29:08.449062Z"
    },
    "jupyter": {
     "outputs_hidden": false
    },
    "papermill": {
     "duration": 0.032722,
     "end_time": "2024-05-15T23:29:08.453333",
     "exception": false,
     "start_time": "2024-05-15T23:29:08.420611",
     "status": "completed"
    },
    "tags": []
   },
   "outputs": [],
   "source": [
    "#home_data5 = home_data4.copy()"
   ]
  },
  {
   "cell_type": "code",
   "execution_count": 24,
   "id": "cc78d4e3",
   "metadata": {
    "_cell_guid": "3667c9dd-17e3-4d79-b073-9b03b158cd2d",
    "_uuid": "b0852bae-6245-4ff0-86d3-7b2bac075409",
    "collapsed": false,
    "execution": {
     "iopub.execute_input": "2024-05-15T23:29:08.500308Z",
     "iopub.status.busy": "2024-05-15T23:29:08.499864Z",
     "iopub.status.idle": "2024-05-15T23:29:08.507523Z",
     "shell.execute_reply": "2024-05-15T23:29:08.506177Z"
    },
    "jupyter": {
     "outputs_hidden": false
    },
    "papermill": {
     "duration": 0.034575,
     "end_time": "2024-05-15T23:29:08.510164",
     "exception": false,
     "start_time": "2024-05-15T23:29:08.475589",
     "status": "completed"
    },
    "tags": []
   },
   "outputs": [
    {
     "data": {
      "text/plain": [
       "\" Drop the target variable from X\\nX = home_data5.drop('SalePrice', axis=1)\\ny = home_data5['SalePrice']\\n\\n# Initialize an empty dictionary to store encoders for later use\\nencoders = {}\\n\\n# Target encode categorical variables with more than 3 unique values\\nfor col in X.select_dtypes(include=['object']).columns:\\n    if len(X[col].unique()) > 3:\\n        # Initialize the encoder\\n        encoder = TargetEncoder()\\n        # Fit the encoder\\n        encoder.fit(X[col], y)\\n        # Store the trained encoder\\n        encoders[col] = encoder\""
      ]
     },
     "execution_count": 24,
     "metadata": {},
     "output_type": "execute_result"
    }
   ],
   "source": [
    "\"\"\" Drop the target variable from X\n",
    "X = home_data5.drop('SalePrice', axis=1)\n",
    "y = home_data5['SalePrice']\n",
    "\n",
    "# Initialize an empty dictionary to store encoders for later use\n",
    "encoders = {}\n",
    "\n",
    "# Target encode categorical variables with more than 3 unique values\n",
    "for col in X.select_dtypes(include=['object']).columns:\n",
    "    if len(X[col].unique()) > 3:\n",
    "        # Initialize the encoder\n",
    "        encoder = TargetEncoder()\n",
    "        # Fit the encoder\n",
    "        encoder.fit(X[col], y)\n",
    "        # Store the trained encoder\n",
    "        encoders[col] = encoder\"\"\""
   ]
  },
  {
   "cell_type": "code",
   "execution_count": 25,
   "id": "1e42b838",
   "metadata": {
    "_cell_guid": "148545aa-da3f-48dd-9eef-1583e3350160",
    "_uuid": "c800139c-8da3-4b7f-ba3d-3c40616994e7",
    "collapsed": false,
    "execution": {
     "iopub.execute_input": "2024-05-15T23:29:08.560138Z",
     "iopub.status.busy": "2024-05-15T23:29:08.558835Z",
     "iopub.status.idle": "2024-05-15T23:29:08.567033Z",
     "shell.execute_reply": "2024-05-15T23:29:08.565781Z"
    },
    "jupyter": {
     "outputs_hidden": false
    },
    "papermill": {
     "duration": 0.036358,
     "end_time": "2024-05-15T23:29:08.569665",
     "exception": false,
     "start_time": "2024-05-15T23:29:08.533307",
     "status": "completed"
    },
    "tags": []
   },
   "outputs": [
    {
     "data": {
      "text/plain": [
       "\" Apply the trained encoders from 'home_data5' to 'home_data5'\\nfor col, encoder in encoders.items():\\n    if col in home_data5.columns:\\n        home_data5[col] = encoder.transform(home_data5[col])\""
      ]
     },
     "execution_count": 25,
     "metadata": {},
     "output_type": "execute_result"
    }
   ],
   "source": [
    "\"\"\" Apply the trained encoders from 'home_data5' to 'home_data5'\n",
    "for col, encoder in encoders.items():\n",
    "    if col in home_data5.columns:\n",
    "        home_data5[col] = encoder.transform(home_data5[col])\"\"\""
   ]
  },
  {
   "cell_type": "markdown",
   "id": "894c0e48",
   "metadata": {
    "_cell_guid": "1b6f7dfa-9af4-492c-b0c7-48604336dadb",
    "_uuid": "30ad568c-f1f7-4941-ba2d-f85ac307a3d4",
    "papermill": {
     "duration": 0.023814,
     "end_time": "2024-05-15T23:29:08.617231",
     "exception": false,
     "start_time": "2024-05-15T23:29:08.593417",
     "status": "completed"
    },
    "tags": []
   },
   "source": [
    "# Dummies"
   ]
  },
  {
   "cell_type": "code",
   "execution_count": 26,
   "id": "4d2f3895",
   "metadata": {
    "_cell_guid": "ee87263f-a0a0-49ed-b00a-e270b2557d00",
    "_uuid": "bbf9f6ca-7ee0-4fa2-9493-fdf231ee31ad",
    "collapsed": false,
    "execution": {
     "iopub.execute_input": "2024-05-15T23:29:08.668675Z",
     "iopub.status.busy": "2024-05-15T23:29:08.667494Z",
     "iopub.status.idle": "2024-05-15T23:29:08.701364Z",
     "shell.execute_reply": "2024-05-15T23:29:08.700013Z"
    },
    "jupyter": {
     "outputs_hidden": false
    },
    "papermill": {
     "duration": 0.064117,
     "end_time": "2024-05-15T23:29:08.705241",
     "exception": false,
     "start_time": "2024-05-15T23:29:08.641124",
     "status": "completed"
    },
    "tags": []
   },
   "outputs": [],
   "source": [
    "# create dummy variables\n",
    "home_data_dummies = pd.get_dummies(home_data4, columns=get_categorical(home_data4), dtype='int32')"
   ]
  },
  {
   "cell_type": "markdown",
   "id": "560a4c01",
   "metadata": {
    "_cell_guid": "89583a3d-f0c2-46f7-b7a1-766f9ac899f0",
    "_uuid": "773b382a-3fa4-4e15-ba45-019e89071795",
    "papermill": {
     "duration": 0.022459,
     "end_time": "2024-05-15T23:29:08.752150",
     "exception": false,
     "start_time": "2024-05-15T23:29:08.729691",
     "status": "completed"
    },
    "tags": []
   },
   "source": [
    "## Correlation and elimination of features"
   ]
  },
  {
   "cell_type": "code",
   "execution_count": 27,
   "id": "5d1e5cf4",
   "metadata": {
    "_cell_guid": "bceba16b-51b3-43d9-b41f-e9d6f7f483d0",
    "_uuid": "5799e80e-a175-4a03-9e61-81bab6fc89ce",
    "collapsed": false,
    "execution": {
     "iopub.execute_input": "2024-05-15T23:29:08.805094Z",
     "iopub.status.busy": "2024-05-15T23:29:08.804557Z",
     "iopub.status.idle": "2024-05-15T23:29:08.988706Z",
     "shell.execute_reply": "2024-05-15T23:29:08.987231Z"
    },
    "jupyter": {
     "outputs_hidden": false
    },
    "papermill": {
     "duration": 0.214614,
     "end_time": "2024-05-15T23:29:08.991880",
     "exception": false,
     "start_time": "2024-05-15T23:29:08.777266",
     "status": "completed"
    },
    "tags": []
   },
   "outputs": [],
   "source": [
    "corr_matrix = home_data_dummies.corr()\n",
    "\n",
    "# Transform the upper-right triangle to zeros\n",
    "upper_triangle_mask = np.triu(np.ones(corr_matrix.shape), k=1).astype(bool)\n",
    "corr_matrix_upper_zero = corr_matrix.mask(upper_triangle_mask)\n",
    "\n",
    "# Print the pairs of correlated variables to SalePrice\n",
    "corr_result = corr_matrix_upper_zero.unstack().sort_values(ascending=False)\n",
    "corr_result_df = corr_result.reset_index()"
   ]
  },
  {
   "cell_type": "code",
   "execution_count": 28,
   "id": "b365bce9",
   "metadata": {
    "_cell_guid": "136d6c38-f594-406d-8ec7-d761304ba822",
    "_uuid": "0bb2512f-6491-4468-9a08-03949b74e598",
    "collapsed": false,
    "execution": {
     "iopub.execute_input": "2024-05-15T23:29:09.046418Z",
     "iopub.status.busy": "2024-05-15T23:29:09.045918Z",
     "iopub.status.idle": "2024-05-15T23:29:09.066418Z",
     "shell.execute_reply": "2024-05-15T23:29:09.064598Z"
    },
    "jupyter": {
     "outputs_hidden": false
    },
    "papermill": {
     "duration": 0.050425,
     "end_time": "2024-05-15T23:29:09.069602",
     "exception": false,
     "start_time": "2024-05-15T23:29:09.019177",
     "status": "completed"
    },
    "tags": []
   },
   "outputs": [
    {
     "name": "stdout",
     "output_type": "stream",
     "text": [
      "            level_0               level_1        0\n",
      "      MSSubClass_90       BldgType_Duplex 1.000000\n",
      "       SaleType_New SaleCondition_Partial 0.986819\n",
      "Exterior1st_VinylSd   Exterior2nd_VinylSd 0.977525\n",
      "Exterior1st_CemntBd   Exterior2nd_CmentBd 0.974171\n",
      "Exterior1st_MetalSd   Exterior2nd_MetalSd 0.973065\n",
      "      MSSubClass_80       HouseStyle_SLvl 0.942259\n",
      "      MSSubClass_50     HouseStyle_1.5Fin 0.940871\n",
      "Exterior1st_HdBoard   Exterior2nd_HdBoard 0.883271\n",
      "         GarageCars            GarageArea 0.882475\n",
      "        MSZoning_FV  Neighborhood_Somerst 0.862807\n",
      "Exterior1st_Wd Sdng   Exterior2nd_Wd Sdng 0.859244\n",
      "          YearBuilt           GarageYrBlt 0.845141\n",
      "   GarageType_other    GarageFinish_other 0.828844\n",
      "          GrLivArea          TotRmsAbvGrd 0.825489\n",
      "        TotalBsmtSF              1stFlrSF 0.819530\n",
      "           2ndFlrSF     HouseStyle_2Story 0.809150\n",
      "        OverallQual             SalePrice 0.790982\n",
      "     MSSubClass_120       BldgType_TwnhsE 0.778684\n",
      "      MSSubClass_60     HouseStyle_2Story 0.762743\n",
      "      MSSubClass_20     HouseStyle_1Story 0.760135\n",
      "Exterior1st_Plywood   Exterior2nd_Plywood 0.755085\n",
      " GarageFinish_other      GarageQual_other 0.718900\n",
      "          GrLivArea             SalePrice 0.708624\n",
      "  Exterior1st_other     Exterior2nd_other 0.692248\n",
      "           2ndFlrSF             GrLivArea 0.687501\n",
      "           2ndFlrSF         MSSubClass_60 0.687063\n",
      "       BedroomAbvGr          TotRmsAbvGrd 0.676620\n",
      "    ExterQual_other     KitchenQual_other 0.671600\n",
      "       ExterQual_TA        KitchenQual_TA 0.671600\n",
      "          YearBuilt      Foundation_PConc 0.651199\n",
      "         BsmtFinSF1          BsmtFullBath 0.649212\n",
      "        OverallQual       ExterQual_other 0.646247\n",
      "         GarageCars             SalePrice 0.640409\n",
      "        GarageYrBlt      Foundation_PConc 0.637745\n",
      "        SaleType_WD  SaleCondition_Normal 0.634322\n",
      "          YearBuilt        BsmtQual_other 0.631734\n",
      "          GrLivArea              FullBath 0.630012\n",
      "     MSSubClass_190        BldgType_other 0.626842\n",
      "   GarageType_other      GarageQual_other 0.623771\n",
      "         GarageArea             SalePrice 0.623431\n",
      "           HalfBath     HouseStyle_2Story 0.623399\n",
      "    ExterQual_other      Foundation_PConc 0.620836\n",
      "        GarageYrBlt            GarageCars 0.619897\n",
      "           2ndFlrSF          TotRmsAbvGrd 0.616423\n",
      "        TotalBsmtSF             SalePrice 0.613581\n",
      "  GarageType_Detchd      GarageFinish_Unf 0.609983\n",
      "           2ndFlrSF              HalfBath 0.609707\n",
      "           HalfBath         MSSubClass_60 0.606095\n",
      "           1stFlrSF             SalePrice 0.605852\n",
      "       YearRemodAdd           GarageYrBlt 0.604353\n"
     ]
    }
   ],
   "source": [
    "print(corr_result_df[corr_result_df['level_0'] != corr_result_df['level_1']].head(50).to_string(index=False))"
   ]
  },
  {
   "cell_type": "code",
   "execution_count": 29,
   "id": "e76018a0",
   "metadata": {
    "_cell_guid": "71563cb0-eb2a-4a49-a65d-bbecdf417461",
    "_uuid": "a5a5c61b-e2b9-49e3-9e43-d8a9bbd644cb",
    "collapsed": false,
    "execution": {
     "iopub.execute_input": "2024-05-15T23:29:09.124350Z",
     "iopub.status.busy": "2024-05-15T23:29:09.123296Z",
     "iopub.status.idle": "2024-05-15T23:29:09.139994Z",
     "shell.execute_reply": "2024-05-15T23:29:09.138219Z"
    },
    "jupyter": {
     "outputs_hidden": false
    },
    "papermill": {
     "duration": 0.048128,
     "end_time": "2024-05-15T23:29:09.143949",
     "exception": false,
     "start_time": "2024-05-15T23:29:09.095821",
     "status": "completed"
    },
    "tags": []
   },
   "outputs": [
    {
     "data": {
      "text/html": [
       "<div>\n",
       "<style scoped>\n",
       "    .dataframe tbody tr th:only-of-type {\n",
       "        vertical-align: middle;\n",
       "    }\n",
       "\n",
       "    .dataframe tbody tr th {\n",
       "        vertical-align: top;\n",
       "    }\n",
       "\n",
       "    .dataframe thead th {\n",
       "        text-align: right;\n",
       "    }\n",
       "</style>\n",
       "<table border=\"1\" class=\"dataframe\">\n",
       "  <thead>\n",
       "    <tr style=\"text-align: right;\">\n",
       "      <th></th>\n",
       "      <th>level_0</th>\n",
       "      <th>level_1</th>\n",
       "      <th>0</th>\n",
       "    </tr>\n",
       "  </thead>\n",
       "  <tbody>\n",
       "    <tr>\n",
       "      <th>4703</th>\n",
       "      <td>MSSubClass_85</td>\n",
       "      <td>Neighborhood_NWAmes</td>\n",
       "      <td>-2.805299e-18</td>\n",
       "    </tr>\n",
       "    <tr>\n",
       "      <th>4704</th>\n",
       "      <td>Neighborhood_Mitchel</td>\n",
       "      <td>BsmtCond_other</td>\n",
       "      <td>-8.604863e-06</td>\n",
       "    </tr>\n",
       "    <tr>\n",
       "      <th>4705</th>\n",
       "      <td>Neighborhood_Mitchel</td>\n",
       "      <td>GarageQual_other</td>\n",
       "      <td>-8.604863e-06</td>\n",
       "    </tr>\n",
       "    <tr>\n",
       "      <th>4706</th>\n",
       "      <td>HalfBath</td>\n",
       "      <td>Condition1_Feedr</td>\n",
       "      <td>-7.745614e-05</td>\n",
       "    </tr>\n",
       "    <tr>\n",
       "      <th>4707</th>\n",
       "      <td>Neighborhood_Gilbert</td>\n",
       "      <td>Exterior1st_HdBoard</td>\n",
       "      <td>-1.039502e-04</td>\n",
       "    </tr>\n",
       "  </tbody>\n",
       "</table>\n",
       "</div>"
      ],
      "text/plain": [
       "                   level_0              level_1             0\n",
       "4703         MSSubClass_85  Neighborhood_NWAmes -2.805299e-18\n",
       "4704  Neighborhood_Mitchel       BsmtCond_other -8.604863e-06\n",
       "4705  Neighborhood_Mitchel     GarageQual_other -8.604863e-06\n",
       "4706              HalfBath     Condition1_Feedr -7.745614e-05\n",
       "4707  Neighborhood_Gilbert  Exterior1st_HdBoard -1.039502e-04"
      ]
     },
     "execution_count": 29,
     "metadata": {},
     "output_type": "execute_result"
    }
   ],
   "source": [
    "corr_result_df[corr_result_df[0] < 0].head()"
   ]
  },
  {
   "cell_type": "code",
   "execution_count": 30,
   "id": "52e4e961",
   "metadata": {
    "_cell_guid": "213025b0-91a2-4c76-858c-6e6e8847b631",
    "_uuid": "45550f2c-6688-4c5d-8037-4d8324c2bacc",
    "collapsed": false,
    "execution": {
     "iopub.execute_input": "2024-05-15T23:29:09.195990Z",
     "iopub.status.busy": "2024-05-15T23:29:09.195500Z",
     "iopub.status.idle": "2024-05-15T23:29:09.206675Z",
     "shell.execute_reply": "2024-05-15T23:29:09.204980Z"
    },
    "jupyter": {
     "outputs_hidden": false
    },
    "papermill": {
     "duration": 0.041685,
     "end_time": "2024-05-15T23:29:09.210099",
     "exception": false,
     "start_time": "2024-05-15T23:29:09.168414",
     "status": "completed"
    },
    "tags": []
   },
   "outputs": [],
   "source": [
    "# Get features with np.abs(corr to price) > 0.4\n",
    "\n",
    "corr_result_df.columns = ['feature_1', 'feature_2', 'corr']\n",
    "high_corr_features = corr_result_df[(np.abs(corr_result_df['corr']) > 0.2) & (np.abs(corr_result_df['corr']) < 0.8)]\n",
    "\n",
    "high_corr_features_unique = set(high_corr_features['feature_1'].tolist() + high_corr_features['feature_2'].tolist())"
   ]
  },
  {
   "cell_type": "code",
   "execution_count": 31,
   "id": "b12e8500",
   "metadata": {
    "_cell_guid": "cc3ea1e4-c76b-4b04-bd86-47b95e6ccae3",
    "_uuid": "57a7e929-c67d-42aa-a6ea-1454f6ea77a6",
    "collapsed": false,
    "execution": {
     "iopub.execute_input": "2024-05-15T23:29:09.260545Z",
     "iopub.status.busy": "2024-05-15T23:29:09.260032Z",
     "iopub.status.idle": "2024-05-15T23:29:09.270639Z",
     "shell.execute_reply": "2024-05-15T23:29:09.268655Z"
    },
    "jupyter": {
     "outputs_hidden": false
    },
    "papermill": {
     "duration": 0.04093,
     "end_time": "2024-05-15T23:29:09.274584",
     "exception": false,
     "start_time": "2024-05-15T23:29:09.233654",
     "status": "completed"
    },
    "tags": []
   },
   "outputs": [
    {
     "data": {
      "text/plain": [
       "136"
      ]
     },
     "execution_count": 31,
     "metadata": {},
     "output_type": "execute_result"
    }
   ],
   "source": [
    "len(high_corr_features_unique)"
   ]
  },
  {
   "cell_type": "code",
   "execution_count": 32,
   "id": "ad5da3db",
   "metadata": {
    "_cell_guid": "f7cba974-b9b9-464f-b35c-e4870016fc81",
    "_uuid": "e55c3e3d-c7a7-4808-8d18-1a455450ea62",
    "collapsed": false,
    "execution": {
     "iopub.execute_input": "2024-05-15T23:29:09.324353Z",
     "iopub.status.busy": "2024-05-15T23:29:09.323334Z",
     "iopub.status.idle": "2024-05-15T23:29:09.330465Z",
     "shell.execute_reply": "2024-05-15T23:29:09.329474Z"
    },
    "jupyter": {
     "outputs_hidden": false
    },
    "papermill": {
     "duration": 0.034854,
     "end_time": "2024-05-15T23:29:09.333503",
     "exception": false,
     "start_time": "2024-05-15T23:29:09.298649",
     "status": "completed"
    },
    "tags": []
   },
   "outputs": [],
   "source": [
    "high_corr_features_unique.remove('SalePrice')"
   ]
  },
  {
   "cell_type": "markdown",
   "id": "ffcd8e58",
   "metadata": {
    "_cell_guid": "3a18b1e4-5671-4517-ab6c-76c3dbbd0ada",
    "_uuid": "de3e3208-3e58-47bc-9bb5-ee4ef7864af0",
    "papermill": {
     "duration": 0.023333,
     "end_time": "2024-05-15T23:29:09.380541",
     "exception": false,
     "start_time": "2024-05-15T23:29:09.357208",
     "status": "completed"
    },
    "tags": []
   },
   "source": [
    "## Optimizing model"
   ]
  },
  {
   "cell_type": "markdown",
   "id": "f5696f50",
   "metadata": {
    "_cell_guid": "7545fec4-49d0-4799-a7e6-f9962053cca9",
    "_uuid": "f50c6f12-d862-467a-a302-9f56a73031a7",
    "papermill": {
     "duration": 0.023244,
     "end_time": "2024-05-15T23:29:09.427780",
     "exception": false,
     "start_time": "2024-05-15T23:29:09.404536",
     "status": "completed"
    },
    "tags": []
   },
   "source": [
    "### Cleaning test data"
   ]
  },
  {
   "cell_type": "code",
   "execution_count": 33,
   "id": "7c611a2b",
   "metadata": {
    "_cell_guid": "04849c98-7e2b-45ab-8b3c-872aee8a663a",
    "_uuid": "28fbca0a-4054-4d5b-9cfd-9257273a34e0",
    "collapsed": false,
    "execution": {
     "iopub.execute_input": "2024-05-15T23:29:09.478947Z",
     "iopub.status.busy": "2024-05-15T23:29:09.478150Z",
     "iopub.status.idle": "2024-05-15T23:29:09.514640Z",
     "shell.execute_reply": "2024-05-15T23:29:09.513691Z"
    },
    "jupyter": {
     "outputs_hidden": false
    },
    "papermill": {
     "duration": 0.065753,
     "end_time": "2024-05-15T23:29:09.517830",
     "exception": false,
     "start_time": "2024-05-15T23:29:09.452077",
     "status": "completed"
    },
    "tags": []
   },
   "outputs": [],
   "source": [
    "test_data = pd.read_csv(test_data_path)\n",
    "test_data.set_index('Id', inplace=True)"
   ]
  },
  {
   "cell_type": "code",
   "execution_count": 34,
   "id": "2548ae24",
   "metadata": {
    "_cell_guid": "9038c9cf-e757-4b21-b667-f34c26e6b902",
    "_uuid": "4863c1c0-80f3-4d4e-ac24-efe02a853203",
    "collapsed": false,
    "execution": {
     "iopub.execute_input": "2024-05-15T23:29:09.567323Z",
     "iopub.status.busy": "2024-05-15T23:29:09.566549Z",
     "iopub.status.idle": "2024-05-15T23:29:09.824392Z",
     "shell.execute_reply": "2024-05-15T23:29:09.822531Z"
    },
    "jupyter": {
     "outputs_hidden": false
    },
    "papermill": {
     "duration": 0.287092,
     "end_time": "2024-05-15T23:29:09.828501",
     "exception": false,
     "start_time": "2024-05-15T23:29:09.541409",
     "status": "completed"
    },
    "tags": []
   },
   "outputs": [
    {
     "name": "stderr",
     "output_type": "stream",
     "text": [
      "/tmp/ipykernel_19/605756754.py:64: DeprecationWarning: is_categorical_dtype is deprecated and will be removed in a future version. Use isinstance(dtype, pd.CategoricalDtype) instead\n",
      "  elif df[col].isnull().sum() > 0 and fill_categorical_with_mode and pd.api.types.is_categorical_dtype(df[col]):\n"
     ]
    },
    {
     "name": "stdout",
     "output_type": "stream",
     "text": [
      "\n",
      "Value Counts for MSZoning after replacement:\n",
      "MSZoning\n",
      "RL       0.763537\n",
      "RM       0.165867\n",
      "FV       0.050720\n",
      "other    0.019877\n",
      "Name: proportion, dtype: float64\n",
      "\n",
      "** NEW MSZoning created correctly**\n",
      "\n",
      "Value Counts for LotShape after replacement:\n",
      "LotShape\n",
      "Reg      0.640164\n",
      "IR1      0.331734\n",
      "other    0.028101\n",
      "Name: proportion, dtype: float64\n",
      "\n",
      "** NEW LotShape created correctly**\n",
      "\n",
      "Value Counts for LandContour after replacement:\n",
      "LandContour\n",
      "Lvl      0.898561\n",
      "HLS      0.047978\n",
      "Bnk      0.037012\n",
      "other    0.016450\n",
      "Name: proportion, dtype: float64\n",
      "\n",
      "** NEW LandContour created correctly**\n",
      "\n",
      "Value Counts for LotConfig after replacement:\n",
      "LotConfig\n",
      "Inside     0.740918\n",
      "Corner     0.169979\n",
      "CulDSac    0.056203\n",
      "other      0.032899\n",
      "Name: proportion, dtype: float64\n",
      "\n",
      "** NEW LotConfig created correctly**\n",
      "\n",
      "Value Counts for Neighborhood after replacement:\n",
      "Neighborhood\n",
      "NAmes      0.149417\n",
      "other      0.143249\n",
      "OldTown    0.086361\n",
      "CollgCr    0.080192\n",
      "Somerst    0.065798\n",
      "Edwards    0.064428\n",
      "NridgHt    0.061001\n",
      "Gilbert    0.058944\n",
      "Sawyer     0.052776\n",
      "SawyerW    0.045236\n",
      "Mitchel    0.044551\n",
      "NWAmes     0.039753\n",
      "IDOTRR     0.038382\n",
      "Crawfor    0.035641\n",
      "BrkSide    0.034270\n",
      "Name: proportion, dtype: float64\n",
      "\n",
      "** NEW Neighborhood created correctly**\n",
      "\n",
      "Value Counts for Condition1 after replacement:\n",
      "Condition1\n",
      "Norm      0.857437\n",
      "Feedr     0.056888\n",
      "other     0.055517\n",
      "Artery    0.030158\n",
      "Name: proportion, dtype: float64\n",
      "\n",
      "** NEW Condition1 created correctly**\n",
      "\n",
      "Value Counts for BldgType after replacement:\n",
      "BldgType\n",
      "1Fam      0.825908\n",
      "TwnhsE    0.077450\n",
      "Duplex    0.039068\n",
      "Twnhs     0.036326\n",
      "other     0.021247\n",
      "Name: proportion, dtype: float64\n",
      "\n",
      "** NEW BldgType created correctly**\n",
      "\n",
      "Value Counts for HouseStyle after replacement:\n",
      "HouseStyle\n",
      "1Story    0.510624\n",
      "2Story    0.292666\n",
      "1.5Fin    0.109664\n",
      "SLvl      0.043180\n",
      "SFoyer    0.031528\n",
      "other     0.012337\n",
      "Name: proportion, dtype: float64\n",
      "\n",
      "** NEW HouseStyle created correctly**\n",
      "\n",
      "Value Counts for RoofStyle after replacement:\n",
      "RoofStyle\n",
      "Gable    0.801234\n",
      "Hip      0.181631\n",
      "other    0.017135\n",
      "Name: proportion, dtype: float64\n",
      "\n",
      "** NEW RoofStyle created correctly**\n",
      "\n",
      "Value Counts for Exterior1st after replacement:\n",
      "Exterior1st\n",
      "VinylSd    0.349554\n",
      "MetalSd    0.157642\n",
      "HdBoard    0.150788\n",
      "Wd Sdng    0.140507\n",
      "other      0.079507\n",
      "Plywood    0.077450\n",
      "CemntBd    0.044551\n",
      "Name: proportion, dtype: float64\n",
      "\n",
      "** NEW Exterior1st created correctly**\n",
      "\n",
      "Value Counts for Exterior2nd after replacement:\n",
      "Exterior2nd\n",
      "VinylSd    0.349554\n",
      "MetalSd    0.159698\n",
      "HdBoard    0.136395\n",
      "Wd Sdng    0.132968\n",
      "other      0.088417\n",
      "Plywood    0.087731\n",
      "CmentBd    0.045236\n",
      "Name: proportion, dtype: float64\n",
      "\n",
      "** NEW Exterior2nd created correctly**\n",
      "\n",
      "Value Counts for ExterQual after replacement:\n",
      "ExterQual\n",
      "TA       0.611378\n",
      "other    0.388622\n",
      "Name: proportion, dtype: float64\n",
      "\n",
      "** NEW ExterQual created correctly**\n",
      "\n",
      "Value Counts for ExterCond after replacement:\n",
      "ExterCond\n",
      "TA       0.860864\n",
      "other    0.139136\n",
      "Name: proportion, dtype: float64\n",
      "\n",
      "** NEW ExterCond created correctly**\n",
      "\n",
      "Value Counts for Foundation after replacement:\n",
      "Foundation\n",
      "PConc     0.453050\n",
      "other     0.433859\n",
      "BrkTil    0.113091\n",
      "Name: proportion, dtype: float64\n",
      "\n",
      "** NEW Foundation created correctly**\n",
      "\n",
      "Value Counts for BsmtQual after replacement:\n",
      "BsmtQual\n",
      "other    0.565456\n",
      "TA       0.434544\n",
      "Name: proportion, dtype: float64\n",
      "\n",
      "** NEW BsmtQual created correctly**\n",
      "\n",
      "Value Counts for BsmtCond after replacement:\n",
      "BsmtCond\n",
      "TA       0.887594\n",
      "other    0.112406\n",
      "Name: proportion, dtype: float64\n",
      "\n",
      "** NEW BsmtCond created correctly**\n",
      "\n",
      "Value Counts for BsmtFinType1 after replacement:\n",
      "BsmtFinType1\n",
      "GLQ      0.295408\n",
      "Unf      0.288554\n",
      "ALQ      0.143249\n",
      "Rec      0.106237\n",
      "BLQ      0.082934\n",
      "LwQ      0.054832\n",
      "other    0.028787\n",
      "Name: proportion, dtype: float64\n",
      "\n",
      "** NEW BsmtFinType1 created correctly**\n",
      "\n",
      "Value Counts for HeatingQC after replacement:\n",
      "HeatingQC\n",
      "other    0.705963\n",
      "TA       0.294037\n",
      "Name: proportion, dtype: float64\n",
      "\n",
      "** NEW HeatingQC created correctly**\n",
      "\n",
      "Value Counts for KitchenQual after replacement:\n",
      "KitchenQual\n",
      "TA       0.518849\n",
      "other    0.481151\n",
      "Name: proportion, dtype: float64\n",
      "\n",
      "** NEW KitchenQual created correctly**\n",
      "\n",
      "Value Counts for GarageType after replacement:\n",
      "GarageType\n",
      "Attchd     0.584647\n",
      "Detchd     0.268677\n",
      "other      0.079507\n",
      "BuiltIn    0.067169\n",
      "Name: proportion, dtype: float64\n",
      "\n",
      "** NEW GarageType created correctly**\n",
      "\n",
      "Value Counts for GarageFinish after replacement:\n",
      "GarageFinish\n",
      "Unf      0.428376\n",
      "RFn      0.266621\n",
      "Fin      0.251542\n",
      "other    0.053461\n",
      "Name: proportion, dtype: float64\n",
      "\n",
      "** NEW GarageFinish created correctly**\n",
      "\n",
      "Value Counts for GarageQual after replacement:\n",
      "GarageQual\n",
      "TA       0.886223\n",
      "other    0.113777\n",
      "Name: proportion, dtype: float64\n",
      "\n",
      "** NEW GarageQual created correctly**\n",
      "\n",
      "Value Counts for PavedDrive after replacement:\n",
      "PavedDrive\n",
      "Y        0.891707\n",
      "N        0.086361\n",
      "other    0.021933\n",
      "Name: proportion, dtype: float64\n",
      "\n",
      "** NEW PavedDrive created correctly**\n",
      "\n",
      "Value Counts for SaleType after replacement:\n",
      "SaleType\n",
      "WD       0.862234\n",
      "New      0.080192\n",
      "COD      0.030158\n",
      "other    0.027416\n",
      "Name: proportion, dtype: float64\n",
      "\n",
      "** NEW SaleType created correctly**\n",
      "\n",
      "Value Counts for SaleCondition after replacement:\n",
      "SaleCondition\n",
      "Normal     0.825223\n",
      "Partial    0.082248\n",
      "Abnorml    0.061001\n",
      "other      0.031528\n",
      "Name: proportion, dtype: float64\n",
      "\n",
      "** NEW SaleCondition created correctly**\n"
     ]
    }
   ],
   "source": [
    "drop_columns_nan(test_data, threshold=300)\n",
    "\n",
    "test_data['MasVnrArea'] = test_data['MasVnrArea'].fillna(0)\n",
    "test_data['GarageYrBlt'] = test_data['GarageYrBlt'].fillna(test_data['YearBuilt'])\n",
    "#test_data['LotFrontage'] = test_data['LotFrontage'].fillna(test_data['LotFrontage'].mean())\n",
    "\n",
    "test_data['GarageType'] = test_data['GarageType'].fillna('non-existent')\n",
    "del(test_data['BsmtExposure'])\n",
    "del(test_data['BsmtFinType2'])\n",
    "\n",
    "impute_nan_custom(test_data, method_numerical='mean', value_categorical='non-existent', fill_categorical_with_mode=True)\n",
    "\n",
    "drop_notinformative(test_data, threshold=0.9)\n",
    "\n",
    "replace_less_frequent(test_data, list_col=get_categorical(test_data), threshold=0.03, new_value='other')\n",
    "\n",
    "test_data['MSSubClass'] = test_data['MSSubClass'].astype(str)\n",
    "\n",
    "test_data_dummies = pd.get_dummies(test_data, columns=get_categorical(test_data), dtype='int32')"
   ]
  },
  {
   "cell_type": "code",
   "execution_count": 35,
   "id": "7fc0b548",
   "metadata": {
    "_cell_guid": "e770b486-7f88-449d-b972-4b0081deb27e",
    "_uuid": "4a0d54b9-d62e-4ce2-9600-bc1ace9306da",
    "collapsed": false,
    "execution": {
     "iopub.execute_input": "2024-05-15T23:29:09.881010Z",
     "iopub.status.busy": "2024-05-15T23:29:09.880507Z",
     "iopub.status.idle": "2024-05-15T23:29:09.913009Z",
     "shell.execute_reply": "2024-05-15T23:29:09.911465Z"
    },
    "jupyter": {
     "outputs_hidden": false
    },
    "papermill": {
     "duration": 0.061959,
     "end_time": "2024-05-15T23:29:09.915893",
     "exception": false,
     "start_time": "2024-05-15T23:29:09.853934",
     "status": "completed"
    },
    "tags": []
   },
   "outputs": [
    {
     "data": {
      "text/html": [
       "<div>\n",
       "<style scoped>\n",
       "    .dataframe tbody tr th:only-of-type {\n",
       "        vertical-align: middle;\n",
       "    }\n",
       "\n",
       "    .dataframe tbody tr th {\n",
       "        vertical-align: top;\n",
       "    }\n",
       "\n",
       "    .dataframe thead th {\n",
       "        text-align: right;\n",
       "    }\n",
       "</style>\n",
       "<table border=\"1\" class=\"dataframe\">\n",
       "  <thead>\n",
       "    <tr style=\"text-align: right;\">\n",
       "      <th></th>\n",
       "      <th>LotFrontage</th>\n",
       "      <th>LotArea</th>\n",
       "      <th>OverallQual</th>\n",
       "      <th>OverallCond</th>\n",
       "      <th>YearBuilt</th>\n",
       "      <th>YearRemodAdd</th>\n",
       "      <th>MasVnrArea</th>\n",
       "      <th>BsmtFinSF1</th>\n",
       "      <th>BsmtFinSF2</th>\n",
       "      <th>BsmtUnfSF</th>\n",
       "      <th>...</th>\n",
       "      <th>PavedDrive_Y</th>\n",
       "      <th>PavedDrive_other</th>\n",
       "      <th>SaleType_COD</th>\n",
       "      <th>SaleType_New</th>\n",
       "      <th>SaleType_WD</th>\n",
       "      <th>SaleType_other</th>\n",
       "      <th>SaleCondition_Abnorml</th>\n",
       "      <th>SaleCondition_Normal</th>\n",
       "      <th>SaleCondition_Partial</th>\n",
       "      <th>SaleCondition_other</th>\n",
       "    </tr>\n",
       "    <tr>\n",
       "      <th>Id</th>\n",
       "      <th></th>\n",
       "      <th></th>\n",
       "      <th></th>\n",
       "      <th></th>\n",
       "      <th></th>\n",
       "      <th></th>\n",
       "      <th></th>\n",
       "      <th></th>\n",
       "      <th></th>\n",
       "      <th></th>\n",
       "      <th></th>\n",
       "      <th></th>\n",
       "      <th></th>\n",
       "      <th></th>\n",
       "      <th></th>\n",
       "      <th></th>\n",
       "      <th></th>\n",
       "      <th></th>\n",
       "      <th></th>\n",
       "      <th></th>\n",
       "      <th></th>\n",
       "    </tr>\n",
       "  </thead>\n",
       "  <tbody>\n",
       "    <tr>\n",
       "      <th>1461</th>\n",
       "      <td>80.0</td>\n",
       "      <td>11622</td>\n",
       "      <td>5</td>\n",
       "      <td>6</td>\n",
       "      <td>1961</td>\n",
       "      <td>1961</td>\n",
       "      <td>0.0</td>\n",
       "      <td>468.0</td>\n",
       "      <td>144.0</td>\n",
       "      <td>270.0</td>\n",
       "      <td>...</td>\n",
       "      <td>1</td>\n",
       "      <td>0</td>\n",
       "      <td>0</td>\n",
       "      <td>0</td>\n",
       "      <td>1</td>\n",
       "      <td>0</td>\n",
       "      <td>0</td>\n",
       "      <td>1</td>\n",
       "      <td>0</td>\n",
       "      <td>0</td>\n",
       "    </tr>\n",
       "    <tr>\n",
       "      <th>1462</th>\n",
       "      <td>81.0</td>\n",
       "      <td>14267</td>\n",
       "      <td>6</td>\n",
       "      <td>6</td>\n",
       "      <td>1958</td>\n",
       "      <td>1958</td>\n",
       "      <td>108.0</td>\n",
       "      <td>923.0</td>\n",
       "      <td>0.0</td>\n",
       "      <td>406.0</td>\n",
       "      <td>...</td>\n",
       "      <td>1</td>\n",
       "      <td>0</td>\n",
       "      <td>0</td>\n",
       "      <td>0</td>\n",
       "      <td>1</td>\n",
       "      <td>0</td>\n",
       "      <td>0</td>\n",
       "      <td>1</td>\n",
       "      <td>0</td>\n",
       "      <td>0</td>\n",
       "    </tr>\n",
       "    <tr>\n",
       "      <th>1463</th>\n",
       "      <td>74.0</td>\n",
       "      <td>13830</td>\n",
       "      <td>5</td>\n",
       "      <td>5</td>\n",
       "      <td>1997</td>\n",
       "      <td>1998</td>\n",
       "      <td>0.0</td>\n",
       "      <td>791.0</td>\n",
       "      <td>0.0</td>\n",
       "      <td>137.0</td>\n",
       "      <td>...</td>\n",
       "      <td>1</td>\n",
       "      <td>0</td>\n",
       "      <td>0</td>\n",
       "      <td>0</td>\n",
       "      <td>1</td>\n",
       "      <td>0</td>\n",
       "      <td>0</td>\n",
       "      <td>1</td>\n",
       "      <td>0</td>\n",
       "      <td>0</td>\n",
       "    </tr>\n",
       "    <tr>\n",
       "      <th>1464</th>\n",
       "      <td>78.0</td>\n",
       "      <td>9978</td>\n",
       "      <td>6</td>\n",
       "      <td>6</td>\n",
       "      <td>1998</td>\n",
       "      <td>1998</td>\n",
       "      <td>20.0</td>\n",
       "      <td>602.0</td>\n",
       "      <td>0.0</td>\n",
       "      <td>324.0</td>\n",
       "      <td>...</td>\n",
       "      <td>1</td>\n",
       "      <td>0</td>\n",
       "      <td>0</td>\n",
       "      <td>0</td>\n",
       "      <td>1</td>\n",
       "      <td>0</td>\n",
       "      <td>0</td>\n",
       "      <td>1</td>\n",
       "      <td>0</td>\n",
       "      <td>0</td>\n",
       "    </tr>\n",
       "    <tr>\n",
       "      <th>1465</th>\n",
       "      <td>43.0</td>\n",
       "      <td>5005</td>\n",
       "      <td>8</td>\n",
       "      <td>5</td>\n",
       "      <td>1992</td>\n",
       "      <td>1992</td>\n",
       "      <td>0.0</td>\n",
       "      <td>263.0</td>\n",
       "      <td>0.0</td>\n",
       "      <td>1017.0</td>\n",
       "      <td>...</td>\n",
       "      <td>1</td>\n",
       "      <td>0</td>\n",
       "      <td>0</td>\n",
       "      <td>0</td>\n",
       "      <td>1</td>\n",
       "      <td>0</td>\n",
       "      <td>0</td>\n",
       "      <td>1</td>\n",
       "      <td>0</td>\n",
       "      <td>0</td>\n",
       "    </tr>\n",
       "  </tbody>\n",
       "</table>\n",
       "<p>5 rows × 149 columns</p>\n",
       "</div>"
      ],
      "text/plain": [
       "      LotFrontage  LotArea  OverallQual  OverallCond  YearBuilt  YearRemodAdd  \\\n",
       "Id                                                                              \n",
       "1461         80.0    11622            5            6       1961          1961   \n",
       "1462         81.0    14267            6            6       1958          1958   \n",
       "1463         74.0    13830            5            5       1997          1998   \n",
       "1464         78.0     9978            6            6       1998          1998   \n",
       "1465         43.0     5005            8            5       1992          1992   \n",
       "\n",
       "      MasVnrArea  BsmtFinSF1  BsmtFinSF2  BsmtUnfSF  ...  PavedDrive_Y  \\\n",
       "Id                                                   ...                 \n",
       "1461         0.0       468.0       144.0      270.0  ...             1   \n",
       "1462       108.0       923.0         0.0      406.0  ...             1   \n",
       "1463         0.0       791.0         0.0      137.0  ...             1   \n",
       "1464        20.0       602.0         0.0      324.0  ...             1   \n",
       "1465         0.0       263.0         0.0     1017.0  ...             1   \n",
       "\n",
       "      PavedDrive_other  SaleType_COD  SaleType_New  SaleType_WD  \\\n",
       "Id                                                                \n",
       "1461                 0             0             0            1   \n",
       "1462                 0             0             0            1   \n",
       "1463                 0             0             0            1   \n",
       "1464                 0             0             0            1   \n",
       "1465                 0             0             0            1   \n",
       "\n",
       "      SaleType_other  SaleCondition_Abnorml  SaleCondition_Normal  \\\n",
       "Id                                                                  \n",
       "1461               0                      0                     1   \n",
       "1462               0                      0                     1   \n",
       "1463               0                      0                     1   \n",
       "1464               0                      0                     1   \n",
       "1465               0                      0                     1   \n",
       "\n",
       "      SaleCondition_Partial  SaleCondition_other  \n",
       "Id                                                \n",
       "1461                      0                    0  \n",
       "1462                      0                    0  \n",
       "1463                      0                    0  \n",
       "1464                      0                    0  \n",
       "1465                      0                    0  \n",
       "\n",
       "[5 rows x 149 columns]"
      ]
     },
     "execution_count": 35,
     "metadata": {},
     "output_type": "execute_result"
    }
   ],
   "source": [
    "test_data_dummies.head()"
   ]
  },
  {
   "cell_type": "markdown",
   "id": "89363c0d",
   "metadata": {
    "_cell_guid": "499b570a-44a8-4bcb-a464-0f90087a1c9c",
    "_uuid": "4de6fc48-0747-4400-92f8-efd8d0fddebe",
    "papermill": {
     "duration": 0.027709,
     "end_time": "2024-05-15T23:29:09.968497",
     "exception": false,
     "start_time": "2024-05-15T23:29:09.940788",
     "status": "completed"
    },
    "tags": []
   },
   "source": [
    "# Test xboost"
   ]
  },
  {
   "cell_type": "code",
   "execution_count": 36,
   "id": "7943f1bb",
   "metadata": {
    "_cell_guid": "7963e7be-f9e0-491c-96b9-165025d1969c",
    "_uuid": "085a168e-232b-4648-aad9-52bf5f3d7816",
    "collapsed": false,
    "execution": {
     "iopub.execute_input": "2024-05-15T23:29:10.024835Z",
     "iopub.status.busy": "2024-05-15T23:29:10.024369Z",
     "iopub.status.idle": "2024-05-15T23:29:10.030986Z",
     "shell.execute_reply": "2024-05-15T23:29:10.029065Z"
    },
    "jupyter": {
     "outputs_hidden": false
    },
    "papermill": {
     "duration": 0.037197,
     "end_time": "2024-05-15T23:29:10.033646",
     "exception": false,
     "start_time": "2024-05-15T23:29:09.996449",
     "status": "completed"
    },
    "tags": []
   },
   "outputs": [],
   "source": [
    "common_columns = list(set(home_data_dummies.columns).intersection(test_data_dummies.columns))"
   ]
  },
  {
   "cell_type": "code",
   "execution_count": 37,
   "id": "354c667b",
   "metadata": {
    "_cell_guid": "8f638249-ee6a-4a7a-9384-1bca489bb1b9",
    "_uuid": "58e9957f-2e32-42f2-9c06-4a8e517256e4",
    "collapsed": false,
    "execution": {
     "iopub.execute_input": "2024-05-15T23:29:10.085488Z",
     "iopub.status.busy": "2024-05-15T23:29:10.085069Z",
     "iopub.status.idle": "2024-05-15T23:29:10.339240Z",
     "shell.execute_reply": "2024-05-15T23:29:10.337561Z"
    },
    "jupyter": {
     "outputs_hidden": false
    },
    "papermill": {
     "duration": 0.282304,
     "end_time": "2024-05-15T23:29:10.341792",
     "exception": false,
     "start_time": "2024-05-15T23:29:10.059488",
     "status": "completed"
    },
    "tags": []
   },
   "outputs": [
    {
     "data": {
      "text/plain": [
       "'\\n# Split data into training and testing sets (adjust test_size as needed)\\nX_train, X_test, y_train, y_test = train_test_split(X, y, test_size=0.2, random_state=1)\\n\\n# Define XGBoost model parameters for hyperparameter tuning\\nxgb_model = XGBRegressor(random_state=1)\\nparam_grid = {\\n    \\'eta\\': [0.1, 0.05, 0.01],\\n    \\'max_depth\\': [3, 5, 8],\\n    \\'n_estimators\\': [100, 200, 300],\\n    \\'subsample\\': [0.8, 1.0],\\n    \\'colsample_bytree\\': [0.6, 0.8, 1.0],\\n    \\'reg_alpha\\': [0.1, 1.0, 10.0],\\n    \\'reg_lambda\\': [1.0, 10.0, 100.0]\\n}\\n\\n# Use RandomizedSearchCV for hyperparameter tuning (adjust n_iter)\\nrandom_search = RandomizedSearchCV(estimator=xgb_model, param_distributions=param_grid, n_iter=100, cv=5, scoring=\\'neg_mean_squared_error\\', random_state=1)\\nrandom_search.fit(X_train, y_train)\\n\\n# Get the best model and its parameters\\nbest_model = random_search.best_estimator_\\nbest_params = random_search.best_params_\\n\\nprint(\"Best XGBoost Hyperparameters:\", best_params)\\n\\n# Make predictions on the testing set\\ny_pred = best_model.predict(X_test)\\n\\n# Evaluate model performance (e.g., using mean squared error)\\nfrom sklearn.metrics import mean_squared_error\\nrmse = mean_squared_error(y_test, y_pred, squared=False)  # Root Mean Squared Error\\nprint(\"Root Mean Squared Error (RMSE):\", rmse)\\nmae = mean_absolute_error(y_test, y_pred)  # Root Mean Squared Error\\nprint(\"Mean Absolute Error (MAE):\", mae)\\n'"
      ]
     },
     "execution_count": 37,
     "metadata": {},
     "output_type": "execute_result"
    }
   ],
   "source": [
    "from sklearn.model_selection import train_test_split, StratifiedKFold, cross_val_score, RandomizedSearchCV\n",
    "from xgboost import XGBRegressor\n",
    "\n",
    "# Assuming home_data_dummies is your prepared DataFrame\n",
    "\n",
    "# Split data into features (X) and target (y)\n",
    "X = home_data_dummies[common_columns]  # Assuming common_columns excludes SalePrice\n",
    "y = home_data_dummies.SalePrice\n",
    "\n",
    "\"\"\"\n",
    "# Split data into training and testing sets (adjust test_size as needed)\n",
    "X_train, X_test, y_train, y_test = train_test_split(X, y, test_size=0.2, random_state=1)\n",
    "\n",
    "# Define XGBoost model parameters for hyperparameter tuning\n",
    "xgb_model = XGBRegressor(random_state=1)\n",
    "param_grid = {\n",
    "    'eta': [0.1, 0.05, 0.01],\n",
    "    'max_depth': [3, 5, 8],\n",
    "    'n_estimators': [100, 200, 300],\n",
    "    'subsample': [0.8, 1.0],\n",
    "    'colsample_bytree': [0.6, 0.8, 1.0],\n",
    "    'reg_alpha': [0.1, 1.0, 10.0],\n",
    "    'reg_lambda': [1.0, 10.0, 100.0]\n",
    "}\n",
    "\n",
    "# Use RandomizedSearchCV for hyperparameter tuning (adjust n_iter)\n",
    "random_search = RandomizedSearchCV(estimator=xgb_model, param_distributions=param_grid, n_iter=100, cv=5, scoring='neg_mean_squared_error', random_state=1)\n",
    "random_search.fit(X_train, y_train)\n",
    "\n",
    "# Get the best model and its parameters\n",
    "best_model = random_search.best_estimator_\n",
    "best_params = random_search.best_params_\n",
    "\n",
    "print(\"Best XGBoost Hyperparameters:\", best_params)\n",
    "\n",
    "# Make predictions on the testing set\n",
    "y_pred = best_model.predict(X_test)\n",
    "\n",
    "# Evaluate model performance (e.g., using mean squared error)\n",
    "from sklearn.metrics import mean_squared_error\n",
    "rmse = mean_squared_error(y_test, y_pred, squared=False)  # Root Mean Squared Error\n",
    "print(\"Root Mean Squared Error (RMSE):\", rmse)\n",
    "mae = mean_absolute_error(y_test, y_pred)  # Root Mean Squared Error\n",
    "print(\"Mean Absolute Error (MAE):\", mae)\n",
    "\"\"\""
   ]
  },
  {
   "cell_type": "code",
   "execution_count": 38,
   "id": "2279e23c",
   "metadata": {
    "execution": {
     "iopub.execute_input": "2024-05-15T23:29:10.392083Z",
     "iopub.status.busy": "2024-05-15T23:29:10.391639Z",
     "iopub.status.idle": "2024-05-15T23:29:10.397830Z",
     "shell.execute_reply": "2024-05-15T23:29:10.396384Z"
    },
    "papermill": {
     "duration": 0.035248,
     "end_time": "2024-05-15T23:29:10.400902",
     "exception": false,
     "start_time": "2024-05-15T23:29:10.365654",
     "status": "completed"
    },
    "tags": []
   },
   "outputs": [],
   "source": [
    "best_params = {'colsample_bytree': 0.6, 'eta': 0.05, 'max_depth': 5, 'n_estimators': 300, 'reg_alpha': 10.0, 'reg_lambda': 1.0, 'subsample': 0.8}"
   ]
  },
  {
   "cell_type": "code",
   "execution_count": 39,
   "id": "7d605f36",
   "metadata": {
    "_cell_guid": "87f8d730-03dd-4f32-8109-6403dc6aaf32",
    "_uuid": "309cd72f-cd2d-49e0-abf8-e81fb667464b",
    "collapsed": false,
    "execution": {
     "iopub.execute_input": "2024-05-15T23:29:10.450776Z",
     "iopub.status.busy": "2024-05-15T23:29:10.450353Z",
     "iopub.status.idle": "2024-05-15T23:29:11.430209Z",
     "shell.execute_reply": "2024-05-15T23:29:11.428717Z"
    },
    "jupyter": {
     "outputs_hidden": false
    },
    "papermill": {
     "duration": 1.008878,
     "end_time": "2024-05-15T23:29:11.433715",
     "exception": false,
     "start_time": "2024-05-15T23:29:10.424837",
     "status": "completed"
    },
    "tags": []
   },
   "outputs": [
    {
     "data": {
      "text/html": [
       "<style>#sk-container-id-1 {color: black;background-color: white;}#sk-container-id-1 pre{padding: 0;}#sk-container-id-1 div.sk-toggleable {background-color: white;}#sk-container-id-1 label.sk-toggleable__label {cursor: pointer;display: block;width: 100%;margin-bottom: 0;padding: 0.3em;box-sizing: border-box;text-align: center;}#sk-container-id-1 label.sk-toggleable__label-arrow:before {content: \"▸\";float: left;margin-right: 0.25em;color: #696969;}#sk-container-id-1 label.sk-toggleable__label-arrow:hover:before {color: black;}#sk-container-id-1 div.sk-estimator:hover label.sk-toggleable__label-arrow:before {color: black;}#sk-container-id-1 div.sk-toggleable__content {max-height: 0;max-width: 0;overflow: hidden;text-align: left;background-color: #f0f8ff;}#sk-container-id-1 div.sk-toggleable__content pre {margin: 0.2em;color: black;border-radius: 0.25em;background-color: #f0f8ff;}#sk-container-id-1 input.sk-toggleable__control:checked~div.sk-toggleable__content {max-height: 200px;max-width: 100%;overflow: auto;}#sk-container-id-1 input.sk-toggleable__control:checked~label.sk-toggleable__label-arrow:before {content: \"▾\";}#sk-container-id-1 div.sk-estimator input.sk-toggleable__control:checked~label.sk-toggleable__label {background-color: #d4ebff;}#sk-container-id-1 div.sk-label input.sk-toggleable__control:checked~label.sk-toggleable__label {background-color: #d4ebff;}#sk-container-id-1 input.sk-hidden--visually {border: 0;clip: rect(1px 1px 1px 1px);clip: rect(1px, 1px, 1px, 1px);height: 1px;margin: -1px;overflow: hidden;padding: 0;position: absolute;width: 1px;}#sk-container-id-1 div.sk-estimator {font-family: monospace;background-color: #f0f8ff;border: 1px dotted black;border-radius: 0.25em;box-sizing: border-box;margin-bottom: 0.5em;}#sk-container-id-1 div.sk-estimator:hover {background-color: #d4ebff;}#sk-container-id-1 div.sk-parallel-item::after {content: \"\";width: 100%;border-bottom: 1px solid gray;flex-grow: 1;}#sk-container-id-1 div.sk-label:hover label.sk-toggleable__label {background-color: #d4ebff;}#sk-container-id-1 div.sk-serial::before {content: \"\";position: absolute;border-left: 1px solid gray;box-sizing: border-box;top: 0;bottom: 0;left: 50%;z-index: 0;}#sk-container-id-1 div.sk-serial {display: flex;flex-direction: column;align-items: center;background-color: white;padding-right: 0.2em;padding-left: 0.2em;position: relative;}#sk-container-id-1 div.sk-item {position: relative;z-index: 1;}#sk-container-id-1 div.sk-parallel {display: flex;align-items: stretch;justify-content: center;background-color: white;position: relative;}#sk-container-id-1 div.sk-item::before, #sk-container-id-1 div.sk-parallel-item::before {content: \"\";position: absolute;border-left: 1px solid gray;box-sizing: border-box;top: 0;bottom: 0;left: 50%;z-index: -1;}#sk-container-id-1 div.sk-parallel-item {display: flex;flex-direction: column;z-index: 1;position: relative;background-color: white;}#sk-container-id-1 div.sk-parallel-item:first-child::after {align-self: flex-end;width: 50%;}#sk-container-id-1 div.sk-parallel-item:last-child::after {align-self: flex-start;width: 50%;}#sk-container-id-1 div.sk-parallel-item:only-child::after {width: 0;}#sk-container-id-1 div.sk-dashed-wrapped {border: 1px dashed gray;margin: 0 0.4em 0.5em 0.4em;box-sizing: border-box;padding-bottom: 0.4em;background-color: white;}#sk-container-id-1 div.sk-label label {font-family: monospace;font-weight: bold;display: inline-block;line-height: 1.2em;}#sk-container-id-1 div.sk-label-container {text-align: center;}#sk-container-id-1 div.sk-container {/* jupyter's `normalize.less` sets `[hidden] { display: none; }` but bootstrap.min.css set `[hidden] { display: none !important; }` so we also need the `!important` here to be able to override the default hidden behavior on the sphinx rendered scikit-learn.org. See: https://github.com/scikit-learn/scikit-learn/issues/21755 */display: inline-block !important;position: relative;}#sk-container-id-1 div.sk-text-repr-fallback {display: none;}</style><div id=\"sk-container-id-1\" class=\"sk-top-container\"><div class=\"sk-text-repr-fallback\"><pre>XGBRegressor(base_score=None, booster=None, callbacks=None,\n",
       "             colsample_bylevel=None, colsample_bynode=None,\n",
       "             colsample_bytree=0.6, device=None, early_stopping_rounds=None,\n",
       "             enable_categorical=False, eta=0.05, eval_metric=None,\n",
       "             feature_types=None, gamma=None, grow_policy=None,\n",
       "             importance_type=None, interaction_constraints=None,\n",
       "             learning_rate=None, max_bin=None, max_cat_threshold=None,\n",
       "             max_cat_to_onehot=None, max_delta_step=None, max_depth=5,\n",
       "             max_leaves=None, min_child_weight=None, missing=nan,\n",
       "             monotone_constraints=None, multi_strategy=None, n_estimators=300,\n",
       "             n_jobs=None, num_parallel_tree=None, ...)</pre><b>In a Jupyter environment, please rerun this cell to show the HTML representation or trust the notebook. <br />On GitHub, the HTML representation is unable to render, please try loading this page with nbviewer.org.</b></div><div class=\"sk-container\" hidden><div class=\"sk-item\"><div class=\"sk-estimator sk-toggleable\"><input class=\"sk-toggleable__control sk-hidden--visually\" id=\"sk-estimator-id-1\" type=\"checkbox\" checked><label for=\"sk-estimator-id-1\" class=\"sk-toggleable__label sk-toggleable__label-arrow\">XGBRegressor</label><div class=\"sk-toggleable__content\"><pre>XGBRegressor(base_score=None, booster=None, callbacks=None,\n",
       "             colsample_bylevel=None, colsample_bynode=None,\n",
       "             colsample_bytree=0.6, device=None, early_stopping_rounds=None,\n",
       "             enable_categorical=False, eta=0.05, eval_metric=None,\n",
       "             feature_types=None, gamma=None, grow_policy=None,\n",
       "             importance_type=None, interaction_constraints=None,\n",
       "             learning_rate=None, max_bin=None, max_cat_threshold=None,\n",
       "             max_cat_to_onehot=None, max_delta_step=None, max_depth=5,\n",
       "             max_leaves=None, min_child_weight=None, missing=nan,\n",
       "             monotone_constraints=None, multi_strategy=None, n_estimators=300,\n",
       "             n_jobs=None, num_parallel_tree=None, ...)</pre></div></div></div></div></div>"
      ],
      "text/plain": [
       "XGBRegressor(base_score=None, booster=None, callbacks=None,\n",
       "             colsample_bylevel=None, colsample_bynode=None,\n",
       "             colsample_bytree=0.6, device=None, early_stopping_rounds=None,\n",
       "             enable_categorical=False, eta=0.05, eval_metric=None,\n",
       "             feature_types=None, gamma=None, grow_policy=None,\n",
       "             importance_type=None, interaction_constraints=None,\n",
       "             learning_rate=None, max_bin=None, max_cat_threshold=None,\n",
       "             max_cat_to_onehot=None, max_delta_step=None, max_depth=5,\n",
       "             max_leaves=None, min_child_weight=None, missing=nan,\n",
       "             monotone_constraints=None, multi_strategy=None, n_estimators=300,\n",
       "             n_jobs=None, num_parallel_tree=None, ...)"
      ]
     },
     "execution_count": 39,
     "metadata": {},
     "output_type": "execute_result"
    }
   ],
   "source": [
    "#Train on full train data\n",
    "\n",
    "xgb_model = XGBRegressor(random_state=1, **best_params)\n",
    "xgb_model.fit(X, y)"
   ]
  },
  {
   "cell_type": "code",
   "execution_count": 40,
   "id": "945d688e",
   "metadata": {
    "_cell_guid": "44508601-7042-44ac-92c4-f10c799c4f68",
    "_uuid": "f16e247a-38c9-4caa-ab04-1c1677b5b59f",
    "collapsed": false,
    "execution": {
     "iopub.execute_input": "2024-05-15T23:29:11.486090Z",
     "iopub.status.busy": "2024-05-15T23:29:11.485250Z",
     "iopub.status.idle": "2024-05-15T23:29:11.536566Z",
     "shell.execute_reply": "2024-05-15T23:29:11.535635Z"
    },
    "jupyter": {
     "outputs_hidden": false
    },
    "papermill": {
     "duration": 0.080995,
     "end_time": "2024-05-15T23:29:11.539488",
     "exception": false,
     "start_time": "2024-05-15T23:29:11.458493",
     "status": "completed"
    },
    "tags": []
   },
   "outputs": [
    {
     "name": "stdout",
     "output_type": "stream",
     "text": [
      "[122356.0, 160084.0, 182784.0, 188199.0, 181155.0, 179744.0, 172326.0, 168731.0, 180964.0, 128031.0, 203118.0, 95354.0, 98967.0, 154728.0, 130714.0]\n"
     ]
    }
   ],
   "source": [
    "#Predict \n",
    "\n",
    "test_preds_model_boost = xgb_model.predict(test_data_dummies[common_columns])\n",
    "\n",
    "print(test_preds_model_boost[0:15].round(0).tolist())\n",
    "\n",
    "# Run the code to save predictions in the format used for competition scoring\n",
    "\n",
    "output = pd.DataFrame({'Id': test_data.index,\n",
    "                       'SalePrice': test_preds_model_boost})\n",
    "output.to_csv('submission_v14.csv', index=False)"
   ]
  },
  {
   "cell_type": "markdown",
   "id": "4f688ef9",
   "metadata": {
    "papermill": {
     "duration": 0.024473,
     "end_time": "2024-05-15T23:29:11.589870",
     "exception": false,
     "start_time": "2024-05-15T23:29:11.565397",
     "status": "completed"
    },
    "tags": []
   },
   "source": [
    "# %% [markdown]\n",
    "# # Train a new model\n",
    "\n",
    "# %% [code] {\"execution\":{\"iopub.status.busy\":\"2024-05-15T22:54:33.884700Z\",\"iopub.execute_input\":\"2024-05-15T22:54:33.885423Z\",\"iopub.status.idle\":\"2024-05-15T22:54:33.890331Z\",\"shell.execute_reply.started\":\"2024-05-15T22:54:33.885391Z\",\"shell.execute_reply\":\"2024-05-15T22:54:33.889099Z\"}}\n",
    "high_corr_features_unique_test = set(test_data_dummies.columns).intersection(high_corr_features_unique)\n",
    "\n",
    "# %% [code] {\"execution\":{\"iopub.status.busy\":\"2024-05-15T22:54:33.892083Z\",\"iopub.execute_input\":\"2024-05-15T22:54:33.892398Z\",\"iopub.status.idle\":\"2024-05-15T22:54:33.903364Z\",\"shell.execute_reply.started\":\"2024-05-15T22:54:33.892362Z\",\"shell.execute_reply\":\"2024-05-15T22:54:33.902418Z\"}}\n",
    "common_columns = list(set(home_data_dummies[list(high_corr_features_unique)].columns).intersection(test_data_dummies[list(high_corr_features_unique_test)].columns))\n",
    "\n",
    "# %% [code] {\"jupyter\":{\"outputs_hidden\":false},\"execution\":{\"iopub.status.busy\":\"2024-05-15T22:54:33.904447Z\",\"iopub.execute_input\":\"2024-05-15T22:54:33.904733Z\",\"iopub.status.idle\":\"2024-05-15T22:54:33.910276Z\",\"shell.execute_reply.started\":\"2024-05-15T22:54:33.904710Z\",\"shell.execute_reply\":\"2024-05-15T22:54:33.909058Z\"}}\n",
    "import random\n",
    "from sklearn.model_selection import train_test_split\n",
    "from sklearn.ensemble import RandomForestRegressor\n",
    "from sklearn.metrics import mean_absolute_error\n",
    "\n",
    "# %% [code] {\"execution\":{\"iopub.status.busy\":\"2024-05-15T22:54:33.911856Z\",\"iopub.execute_input\":\"2024-05-15T22:54:33.912660Z\",\"iopub.status.idle\":\"2024-05-15T22:54:33.922805Z\",\"shell.execute_reply.started\":\"2024-05-15T22:54:33.912621Z\",\"shell.execute_reply\":\"2024-05-15T22:54:33.921806Z\"}}\n",
    "\"\"\"\n",
    "#X = home_data_dummies.drop(['SalePrice'], axis=1)\n",
    "#X = home_data_dummies[list(high_corr_features_unique)]\n",
    "X = home_data_dummies[common_columns]\n",
    "y = home_data_dummies['SalePrice']\n",
    "\n",
    "train_X, val_X, train_y, val_y = train_test_split(X, y, random_state=1)\n",
    "\n",
    "for max_leaf_nodes in range(10, 10000, 50):\n",
    "    rf_model = RandomForestRegressor(random_state=1, max_leaf_nodes=max_leaf_nodes)\n",
    "    rf_model.fit(train_X, train_y)\n",
    "    rf_val_predictions = rf_model.predict(val_X)\n",
    "    rf_val_mae = mean_absolute_error(rf_val_predictions, val_y)\n",
    "    \n",
    "    print(\"Max leaf nodes: %d \\t\\t Mean Absolute Error: %d\" %(max_leaf_nodes, rf_val_mae))\n",
    "    \n",
    "    if rf_val_mae < 15000:\n",
    "        print(\"Stopping criteria reached.\")\n",
    "        break\"\"\"\n",
    "\n",
    "# %% [code] {\"execution\":{\"iopub.status.busy\":\"2024-05-15T22:54:33.969333Z\",\"iopub.execute_input\":\"2024-05-15T22:54:33.969685Z\",\"iopub.status.idle\":\"2024-05-15T22:54:33.977405Z\",\"shell.execute_reply.started\":\"2024-05-15T22:54:33.969659Z\",\"shell.execute_reply\":\"2024-05-15T22:54:33.976193Z\"}}\n",
    "\"\"\"\n",
    "X = home_data_dummies[common_columns]\n",
    "#X = home_data_dummies.drop(['SalePrice'], axis=1)\n",
    "y = home_data_dummies.SalePrice\n",
    "\n",
    "train_X, val_X, train_y, val_y = train_test_split(X, y, random_state=1)\n",
    "\n",
    "# Define hyperparameters to explore\n",
    "n_estimators_list = [50, 100, 150, 200]  # Add more values\n",
    "max_depth_list = [None, 10, 20, 30]  # Add more values\n",
    "min_samples_split_list = [2, 5, 10, 15]  # Add more values\n",
    "\n",
    "best_mae = float('inf')\n",
    "best_hyperparameters = {}\n",
    "\n",
    "for n_estimators in n_estimators_list:\n",
    "    for max_depth in max_depth_list:\n",
    "        for min_samples_split in min_samples_split_list:\n",
    "            rf_model = RandomForestRegressor(n_estimators=n_estimators, max_depth=max_depth, min_samples_split=min_samples_split, random_state=1, max_leaf_nodes=200)\n",
    "            rf_model.fit(train_X, train_y)\n",
    "            rf_val_predictions = rf_model.predict(val_X)\n",
    "            rf_val_mae = mean_absolute_error(rf_val_predictions, val_y)\n",
    "            \n",
    "            print(\"n_estimators: {}, max_depth: {}, min_samples_split: {} \\t\\t Mean Absolute Error: {}\".format(n_estimators, max_depth, min_samples_split, rf_val_mae))\n",
    "            \n",
    "            if rf_val_mae < best_mae:\n",
    "                best_mae = rf_val_mae\n",
    "                best_hyperparameters = {'n_estimators': n_estimators, 'max_depth': max_depth, 'min_samples_split': min_samples_split}\n",
    "\n",
    "print(\"\\nBest Hyperparameters:\")\n",
    "print(best_hyperparameters)\n",
    "print(\"Best Mean Absolute Error:\", best_mae)\n",
    "\"\"\"\n",
    "\n",
    "# %% [markdown]\n",
    "# # Train in all data with best hyperparameters\n",
    "\n",
    "# %% [code] {\"jupyter\":{\"outputs_hidden\":false},\"execution\":{\"iopub.status.busy\":\"2024-05-15T22:54:34.083205Z\",\"iopub.execute_input\":\"2024-05-15T22:54:34.083556Z\",\"iopub.status.idle\":\"2024-05-15T22:54:36.811874Z\",\"shell.execute_reply.started\":\"2024-05-15T22:54:34.083531Z\",\"shell.execute_reply\":\"2024-05-15T22:54:36.810840Z\"}}\n",
    "X = home_data_dummies[common_columns] #already without SalePrice\n",
    "y = home_data_dummies.SalePrice\n",
    "\n",
    "# To improve accuracy, train on all training data\n",
    "rf_model_on_full_data = RandomForestRegressor(random_state=1)#, max_leaf_nodes=600, n_estimators= 200, max_depth= None, min_samples_split= 2)\n",
    "rf_model_on_full_data.fit(X, y)\n",
    "\n",
    "# %% [code] {\"jupyter\":{\"outputs_hidden\":false},\"execution\":{\"iopub.status.busy\":\"2024-05-15T22:54:36.813507Z\",\"iopub.execute_input\":\"2024-05-15T22:54:36.813821Z\",\"iopub.status.idle\":\"2024-05-15T22:54:36.859815Z\",\"shell.execute_reply.started\":\"2024-05-15T22:54:36.813796Z\",\"shell.execute_reply\":\"2024-05-15T22:54:36.858857Z\"}}\n",
    "# make predictions which we will submit. \n",
    "test_preds_modelV2 = rf_model_on_full_data.predict(test_data_dummies[common_columns])\n",
    "\n",
    "test_preds_modelV2[0:15].round(0).tolist()\n",
    "\n",
    "# %% [markdown]\n",
    "# # Generate a submission\n",
    "# \n",
    "# Run the code cell below to generate a CSV file with your predictions that you can use to submit to the competition.\n",
    "\n",
    "# %% [code] {\"jupyter\":{\"outputs_hidden\":false},\"execution\":{\"iopub.status.busy\":\"2024-05-15T22:54:36.860836Z\",\"iopub.execute_input\":\"2024-05-15T22:54:36.861101Z\",\"iopub.status.idle\":\"2024-05-15T22:54:36.871623Z\",\"shell.execute_reply.started\":\"2024-05-15T22:54:36.861078Z\",\"shell.execute_reply\":\"2024-05-15T22:54:36.870675Z\"}}\n",
    "# Run the code to save predictions in the format used for competition scoring\n",
    "\n",
    "output = pd.DataFrame({'Id': test_data.index,\n",
    "                       'SalePrice': test_preds_modelV2})\n",
    "output.to_csv('submission_v8.csv', index=False)"
   ]
  }
 ],
 "metadata": {
  "kaggle": {
   "accelerator": "none",
   "dataSources": [
    {
     "databundleVersionId": 111096,
     "sourceId": 10211,
     "sourceType": "competition"
    }
   ],
   "isGpuEnabled": false,
   "isInternetEnabled": false,
   "language": "python",
   "sourceType": "notebook"
  },
  "kernelspec": {
   "display_name": "Python 3",
   "language": "python",
   "name": "python3"
  },
  "language_info": {
   "codemirror_mode": {
    "name": "ipython",
    "version": 3
   },
   "file_extension": ".py",
   "mimetype": "text/x-python",
   "name": "python",
   "nbconvert_exporter": "python",
   "pygments_lexer": "ipython3",
   "version": "3.10.13"
  },
  "papermill": {
   "default_parameters": {},
   "duration": 14.161704,
   "end_time": "2024-05-15T23:29:12.338416",
   "environment_variables": {},
   "exception": null,
   "input_path": "__notebook__.ipynb",
   "output_path": "__notebook__.ipynb",
   "parameters": {},
   "start_time": "2024-05-15T23:28:58.176712",
   "version": "2.5.0"
  }
 },
 "nbformat": 4,
 "nbformat_minor": 5
}
